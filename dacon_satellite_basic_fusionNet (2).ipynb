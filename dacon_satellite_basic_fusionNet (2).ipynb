{
 "cells": [
  {
   "cell_type": "code",
   "execution_count": 1,
   "metadata": {
    "colab": {
     "base_uri": "https://localhost:8080/",
     "height": 319
    },
    "colab_type": "code",
    "executionInfo": {
     "elapsed": 2028,
     "status": "ok",
     "timestamp": 1589294311908,
     "user": {
      "displayName": "유영재",
      "photoUrl": "",
      "userId": "15071020987067673937"
     },
     "user_tz": -540
    },
    "id": "g-EJqxNgQOAN",
    "outputId": "ab9c78ac-8aef-4ead-cc19-36b6f3f89583"
   },
   "outputs": [
    {
     "name": "stdout",
     "output_type": "stream",
     "text": [
      "Wed May 13 21:37:31 2020       \n",
      "+-----------------------------------------------------------------------------+\n",
      "| NVIDIA-SMI 432.00       Driver Version: 432.00       CUDA Version: 10.1     |\n",
      "|-------------------------------+----------------------+----------------------+\n",
      "| GPU  Name            TCC/WDDM | Bus-Id        Disp.A | Volatile Uncorr. ECC |\n",
      "| Fan  Temp  Perf  Pwr:Usage/Cap|         Memory-Usage | GPU-Util  Compute M. |\n",
      "|===============================+======================+======================|\n",
      "|   0  TITAN X (Pascal)   WDDM  | 00000000:01:00.0  On |                  N/A |\n",
      "| 23%   35C    P8    18W / 250W |    865MiB / 12288MiB |      0%      Default |\n",
      "+-------------------------------+----------------------+----------------------+\n",
      "                                                                               \n",
      "+-----------------------------------------------------------------------------+\n",
      "| Processes:                                                       GPU Memory |\n",
      "|  GPU       PID   Type   Process name                             Usage      |\n",
      "|=============================================================================|\n",
      "|    0      1128    C+G   Insufficient Permissions                   N/A      |\n",
      "|    0      3752    C+G   ...dows.Cortana_cw5n1h2txyewy\\SearchUI.exe N/A      |\n",
      "|    0      3928    C+G   C:\\Windows\\explorer.exe                    N/A      |\n",
      "|    0      5096    C+G   ...x64__8wekyb3d8bbwe\\Microsoft.Photos.exe N/A      |\n",
      "|    0      7144    C+G   ...t_cw5n1h2txyewy\\ShellExperienceHost.exe N/A      |\n",
      "|    0      7412    C+G   C:\\ProgramData\\Anaconda3\\pythonw.exe       N/A      |\n",
      "|    0      8296    C+G   ...6)\\Google\\Chrome\\Application\\chrome.exe N/A      |\n",
      "|    0     11036    C+G   ...Local\\Microsoft\\Teams\\current\\Teams.exe N/A      |\n",
      "|    0     11692    C+G   ...hell.Experiences.TextInput.InputApp.exe N/A      |\n",
      "|    0     12416    C+G   ...Local\\Microsoft\\Teams\\current\\Teams.exe N/A      |\n",
      "+-----------------------------------------------------------------------------+\n"
     ]
    }
   ],
   "source": [
    "!nvidia-smi"
   ]
  },
  {
   "cell_type": "code",
   "execution_count": 2,
   "metadata": {
    "colab": {
     "base_uri": "https://localhost:8080/",
     "height": 72
    },
    "colab_type": "code",
    "executionInfo": {
     "elapsed": 2449,
     "status": "ok",
     "timestamp": 1589294367057,
     "user": {
      "displayName": "유영재",
      "photoUrl": "",
      "userId": "15071020987067673937"
     },
     "user_tz": -540
    },
    "id": "JoH_3CiLQvQg",
    "outputId": "dd2205c8-4829-4656-fcff-5d10fcf79666"
   },
   "outputs": [
    {
     "name": "stderr",
     "output_type": "stream",
     "text": [
      "C:\\ProgramData\\Anaconda3\\lib\\site-packages\\statsmodels\\tools\\_testing.py:19: FutureWarning: pandas.util.testing is deprecated. Use the functions in the public API at pandas.testing instead.\n",
      "  import pandas.util.testing as tm\n"
     ]
    }
   ],
   "source": [
    "import glob\n",
    "import pandas as pd\n",
    "import numpy as np\n",
    "import matplotlib.pylab as plt\n",
    "import seaborn as sns\n",
    "from tqdm import tqdm\n",
    "import tensorflow as tf\n",
    "import os\n",
    "from os.path import join\n",
    "import random\n",
    "import lightgbm as lgb\n",
    "import time\n",
    "from tensorflow.python.framework import ops\n",
    "from tensorflow.python.ops import math_ops\n",
    "import tensorflow.keras.backend as K\n",
    "from tensorflow.keras.layers import Dense, Conv2D, Dropout, Conv2DTranspose, MaxPooling2D, BatchNormalization\n",
    "from tensorflow.keras.layers import Activation, concatenate, Input, GlobalAveragePooling2D, AveragePooling2D\n",
    "from tensorflow.keras import Model\n",
    "from tensorflow.keras.callbacks import TensorBoard, ModelCheckpoint, ReduceLROnPlateau, EarlyStopping\n",
    "# from tensorflow.nn import seperable_conv2d\n",
    "import warnings\n",
    " \n",
    "warnings.filterwarnings(\"ignore\")"
   ]
  },
  {
   "cell_type": "code",
   "execution_count": 3,
   "metadata": {
    "colab": {
     "base_uri": "https://localhost:8080/",
     "height": 390
    },
    "colab_type": "code",
    "executionInfo": {
     "elapsed": 9978,
     "status": "ok",
     "timestamp": 1589294381171,
     "user": {
      "displayName": "유영재",
      "photoUrl": "",
      "userId": "15071020987067673937"
     },
     "user_tz": -540
    },
    "id": "0yvE8_Y8mORb",
    "outputId": "e615f4ee-a23a-4f47-a325-ca806ed6f276"
   },
   "outputs": [
    {
     "name": "stdout",
     "output_type": "stream",
     "text": [
      "input_layer shape: (None, 40, 40, 17)\n",
      "img_layer shape: (None, 40, 40, 9)\n",
      "ext_layer shape: (None, 40, 40, 8)\n",
      "img_layer shape: (None, 40, 40, 9)\n",
      "conv1 shape: (None, 40, 40, 32)\n",
      "maxpool 1 shape: (None, 20, 20, 32)\n",
      "conv2 shape: (None, 20, 20, 64)\n",
      "maxpool 2 shape: (None, 10, 10, 64)\n",
      "atrous conv3 shape: (None, 10, 10, 128)\n",
      "pool shape: (None, 5, 5, 64)\n",
      "interpolate shape: (None, 10, 10, 128)\n",
      "atrous concat: (None, 10, 10, 512)\n",
      "final atrous shape: (None, 10, 10, 128)\n",
      "convm shape: (None, 10, 10, 128)\n",
      "concat 2: (None, 20, 20, 128)\n",
      "upconv2 shape: (None, 20, 20, 64)\n",
      "upconv1 shape: (None, 40, 40, 32)\n",
      "ext 1 shape: (None, 40, 40, 32)\n",
      "ext 2 shape: (None, 40, 40, 32)\n",
      "final concat shape: (None, 40, 40, 64)\n",
      "output shape: (None, 40, 40, 1)\n"
     ]
    }
   ],
   "source": [
    "# model_v3 / external feature / atrous conv / spatial pyramid pooling\n",
    "\n",
    "def atrous_conv(img_layer, start_neurons):\n",
    "    conv1 = Conv2D(start_neurons, (3, 3), activation=\"relu\", padding=\"same\")(img_layer)\n",
    "    conv1 = BatchNormalization()(conv1)\n",
    "    conv2 = Conv2D(start_neurons, (3, 3), activation=\"relu\", padding=\"same\", dilation_rate=2)(img_layer)\n",
    "    conv2 = BatchNormalization()(conv2)\n",
    "    conv3 = Conv2D(start_neurons, (3, 3), activation=\"relu\", padding=\"same\", dilation_rate=3)(img_layer)\n",
    "    conv3 = BatchNormalization()(conv3)\n",
    "    print('atrous conv3 shape:', conv3.shape)\n",
    "    pool = AveragePooling2D((2,2))(img_layer)\n",
    "    print('pool shape:', pool.shape)\n",
    "    conv4 = Conv2DTranspose(start_neurons, (3, 3), strides=(2, 2), padding=\"same\")(pool)\n",
    "    print('interpolate shape:', conv4.shape)\n",
    "\n",
    "    total = concatenate([conv1, conv2, conv3, conv4])\n",
    "    print('atrous concat:', total.shape)\n",
    "    total = Conv2D(start_neurons, (1,1), activation='relu', padding='valid')(total)\n",
    "    print('final atrous shape:', total.shape)\n",
    "    total = Dropout(0.5)(total)\n",
    "\n",
    "    return total\n",
    "\n",
    "def conv_block_2(img_layer, start_neurons):\n",
    "    conv1 = Conv2D(start_neurons, (3, 3), activation=\"relu\", padding=\"same\")(img_layer)\n",
    "    conv1 = BatchNormalization()(conv1)\n",
    "    conv2 = Conv2D(start_neurons, (3, 3), activation=\"relu\", padding=\"same\")(conv1)\n",
    "    conv2 = BatchNormalization()(conv2)\n",
    "\n",
    "    return conv2\n",
    "\n",
    "def conv_residual(img_layer, start_neurons):\n",
    "    conv1 = Conv2D(start_neurons, (3, 3), activation=\"relu\", padding=\"same\")(img_layer)\n",
    "    conv1 = BatchNormalization()(conv1)\n",
    "    conv2 = conv_block_2(conv1, start_neurons)\n",
    "    conv2 = BatchNormalization()(conv2)\n",
    "    conv3 = Conv2D(start_neurons, (3, 3), activation=\"relu\", padding=\"same\")(conv1 + conv2)\n",
    "    conv3 = BatchNormalization()(conv3)\n",
    "\n",
    "    return conv3\n",
    "\n",
    "def model_v3(input_layer, start_neurons, ext_neurons):\n",
    "    # divide raw feature to image feature and external feature\n",
    "    img_layer = input_layer[:,:,:,:9]\n",
    "    ext_layer = input_layer[:,:,:,9:]\n",
    "    print('input_layer shape:', input_layer.shape)\n",
    "    print('img_layer shape:', img_layer.shape)\n",
    "    print('ext_layer shape:', ext_layer.shape)\n",
    "\n",
    "    # 40 x 40 -> 20 x 20\n",
    "    print('img_layer shape:', img_layer.shape)\n",
    "    conv1 = conv_residual(img_layer, start_neurons * 1)\n",
    "    print('conv1 shape:', conv1.shape)\n",
    "    pool1 = MaxPooling2D((2, 2))(conv1)\n",
    "    print('maxpool 1 shape:', pool1.shape)\n",
    "    pool1 = Dropout(0.5)(pool1)\n",
    "\n",
    "    # 20 x 20 -> 10 x 10\n",
    "    conv2 = conv_residual(pool1, start_neurons * 2)\n",
    "    print('conv2 shape:', conv2.shape)\n",
    "    pool2 = MaxPooling2D((2, 2))(conv2)\n",
    "    print('maxpool 2 shape:', pool2.shape)\n",
    "    pool2 = Dropout(0.5)(pool2)\n",
    "\n",
    "    # 10 x 10 \n",
    "    convm = atrous_conv(pool2, start_neurons * 4)\n",
    "    print('convm shape:', convm.shape)\n",
    "\n",
    "    # 10 x 10 -> 20 x 20\n",
    "    deconv2 = Conv2DTranspose(start_neurons * 2, (3, 3), strides=(2, 2), padding=\"same\")(convm)\n",
    "    uconv2 = concatenate([deconv2, conv2])\n",
    "    print('concat 2:', uconv2.shape)\n",
    "    uconv2 = conv_residual(uconv2, start_neurons * 2)\n",
    "    print('upconv2 shape:', uconv2.shape)\n",
    "    uconv2 = Dropout(0.5)(uconv2)\n",
    "\n",
    "    # 20 x 20 -> 40 x 40\n",
    "    deconv1 = Conv2DTranspose(start_neurons * 1, (3, 3), strides=(2, 2), padding=\"same\")(uconv2)\n",
    "    uconv1 = concatenate([deconv1, conv1])\n",
    "    uconv1 = conv_residual(uconv1, start_neurons * 1)\n",
    "    print('upconv1 shape:', uconv1.shape)\n",
    "    uconv1 = Dropout(0.5)(uconv1)\n",
    "    \n",
    "    # process the external feature\n",
    "    ext_output = Conv2D(ext_neurons, (1,1), padding=\"valid\", activation='relu')(ext_layer)\n",
    "    ext_output = BatchNormalization()(ext_output)\n",
    "    print('ext 1 shape:', ext_output.shape)\n",
    "    ext_output = Conv2D(ext_neurons, (1,1), padding=\"valid\", activation='relu')(ext_layer)\n",
    "    ext_output = BatchNormalization()(ext_output)\n",
    "    print('ext 2 shape:', ext_output.shape)\n",
    "    ext_output = Dropout(0.5)(ext_output)\n",
    "\n",
    "    output_layer = concatenate([uconv1, ext_output])\n",
    "    print('final concat shape:', output_layer.shape)\n",
    "\n",
    "    output_layer = Conv2D(1, (1,1), padding=\"valid\", activation='relu')(output_layer)\n",
    "    print('output shape:', output_layer.shape)\n",
    "    \n",
    "    return output_layer\n",
    "\n",
    "input_layer = Input((40, 40, 17))\n",
    "output_layer = model_v3(input_layer, 32, 32)\n",
    "model = Model(input_layer, output_layer)"
   ]
  },
  {
   "cell_type": "code",
   "execution_count": 4,
   "metadata": {
    "colab": {},
    "colab_type": "code",
    "id": "Ko4QW3K3oUWn"
   },
   "outputs": [],
   "source": [
    "# training_set.ftr 파일에 맞는 input 생성 코드\n",
    "def input_generator_ftr_train():\n",
    "    # train feather 파일 로드 및 orbit, subset 조합 생성\n",
    "    TRAIN_FILE = './training_set.ftr'\n",
    "    train = pd.read_feather(TRAIN_FILE)\n",
    "    file_cnt = 0\n",
    "    temp_info = train[['orbit', 'subset']].drop_duplicates()\n",
    "    orbit = temp_info['orbit'].tolist()\n",
    "    subset = temp_info['subset'].tolist()\n",
    "    del temp_info\n",
    "    size = len(orbit)\n",
    "  \n",
    "  # 하나의 이미지 데이터에 해당하는 것만 3차원 변환 및 피처/라벨 생성\n",
    "    for i in range(size):\n",
    "        one_img = train.loc[(train['orbit'] == orbit[i]) & (train['subset'] == subset[i])].sort_values('pixel')\n",
    "        one_img['type1'] = one_img.loc[one_img['type'] == 0, 'type'] + 1\n",
    "        one_img['type2'] = one_img.loc[(one_img['type'] >= 100) & (one_img['type'] < 200), 'type'] - 100\n",
    "        one_img['type3'] = one_img.loc[(one_img['type'] >= 200) & (one_img['type'] < 300), 'type'] - 200\n",
    "        one_img['type4'] = one_img.loc[one_img['type'] >= 300, 'type'] - 300\n",
    "        one_img.fillna(0, inplace=True)\n",
    "        one_img['label'] = one_img['precipitation']\n",
    "        one_img = np.array(one_img.drop(['type', 'orbit', 'subset', 'pixel', 'precipitation'], axis=1)).reshape([40,40,18])\n",
    "        target = one_img[:,:,-1].reshape(40,40,1)\n",
    "        cutoff_labels = np.where(target < 0,0, target)\n",
    "        feature = one_img[:,:,:-1]\n",
    "        # if (cutoff_labels > 0).sum() < 50: continue\n",
    "        yield(feature, cutoff_labels)\n",
    "        file_cnt += 1\n",
    "\n",
    "train_dataset = tf.data.Dataset.from_generator(input_generator_ftr_train, (tf.float32, tf.float32),\n",
    "                                               (tf.TensorShape([40,40,17]),tf.TensorShape([40,40,1])))\n",
    "train_dataset = train_dataset.batch(128).prefetch(1)"
   ]
  },
  {
   "cell_type": "code",
   "execution_count": 5,
   "metadata": {
    "colab": {},
    "colab_type": "code",
    "id": "vzpTEpcgTm5H"
   },
   "outputs": [],
   "source": [
    "# custom loss fuction (maeOverFscore)\n",
    "def recall_m(y_true, y_pred):\n",
    "    true_positives = tf.dtypes.cast(K.sum(K.round(K.clip(y_true * y_pred, 0, 1))), dtype=tf.float32)\n",
    "    possible_positives = tf.dtypes.cast(K.sum(K.round(K.clip(y_true, 0, 1))), dtype=tf.float32)\n",
    "    recall = true_positives / (possible_positives + K.epsilon())\n",
    "    return recall\n",
    "\n",
    "def precision_m(y_true, y_pred):\n",
    "    true_positives = tf.dtypes.cast(K.sum(K.round(K.clip(y_true * y_pred, 0, 1))), dtype=tf.float32)\n",
    "    predicted_positives = tf.dtypes.cast(K.sum(K.round(K.clip(y_pred, 0, 1))), dtype=tf.float32)\n",
    "    precision = true_positives / (predicted_positives + K.epsilon())\n",
    "    return precision\n",
    "\n",
    "def f1_m(y_true, y_pred):\n",
    "    idx_one_true = tf.greater_equal(y_true, 0.1)\n",
    "    y_true = tf.where(idx_one_true == True, 1, 0)\n",
    "    idx_one_pred = tf.greater_equal(y_pred, 0.1)\n",
    "    y_pred = tf.where(idx_one_pred == True, 1, 0)\n",
    "    precision = precision_m(y_true, y_pred)\n",
    "    recall = recall_m(y_true, y_pred)\n",
    "    return 2*((precision*recall)/(precision+recall+K.epsilon()))\n",
    "\n",
    "def mae(y_true, y_pred):\n",
    "    over_threshold = tf.greater_equal(y_true, 0.1)\n",
    "    return K.mean(math_ops.abs(y_pred - y_true), axis=-1)\n",
    "\n",
    "def maeOverFscore(y_true, y_pred):\n",
    "    y_true = tf.reshape(y_true, [-1])\n",
    "    y_pred = tf.reshape(y_pred, [-1])\n",
    "    return mae(y_true, y_pred) / f1_m(y_true, y_pred)"
   ]
  },
  {
   "cell_type": "code",
   "execution_count": 6,
   "metadata": {
    "colab": {
     "base_uri": "https://localhost:8080/",
     "height": 35
    },
    "colab_type": "code",
    "executionInfo": {
     "elapsed": 1005,
     "status": "ok",
     "timestamp": 1589294395112,
     "user": {
      "displayName": "유영재",
      "photoUrl": "",
      "userId": "15071020987067673937"
     },
     "user_tz": -540
    },
    "id": "4Bngn0xdD5jo",
    "outputId": "76b38739-473d-4bb4-e6e6-c2b7d34fe569"
   },
   "outputs": [
    {
     "name": "stdout",
     "output_type": "stream",
     "text": [
      "WARNING:tensorflow:`period` argument is deprecated. Please use `save_freq` to specify the frequency in number of samples seen.\n"
     ]
    }
   ],
   "source": [
    "WEIGHT_DIR = './checkpoint/ver_yyj/'\n",
    "LOG_DIR = './log/'\n",
    "logging = TensorBoard(log_dir=LOG_DIR)\n",
    "checkpoint = ModelCheckpoint(WEIGHT_DIR + 'v03_ep{epoch:02d}-loss{loss:.5f}.ckpt', mode='min',\n",
    "                             monitor='loss', save_weights_only=True, period=1, verbose=1)\n",
    "reduce_lr = ReduceLROnPlateau(monitor='loss', factor=0.1, patience=1, verbose=1)\n",
    "early_stopping = EarlyStopping(monitor='loss', min_delta=0, patience=2, verbose=1)\n",
    "callbacks = [logging, checkpoint, reduce_lr, early_stopping]\n",
    "adam = tf.keras.optimizers.Adam(learning_rate=1.0e-05)\n",
    "model.compile(loss=maeOverFscore, optimizer=adam, metrics=[mae, f1_m])"
   ]
  },
  {
   "cell_type": "code",
   "execution_count": 7,
   "metadata": {
    "colab": {
     "base_uri": "https://localhost:8080/",
     "height": 52
    },
    "colab_type": "code",
    "executionInfo": {
     "elapsed": 14596,
     "status": "ok",
     "timestamp": 1589294413486,
     "user": {
      "displayName": "유영재",
      "photoUrl": "",
      "userId": "15071020987067673937"
     },
     "user_tz": -540
    },
    "id": "FY4e8ssgppAx",
    "outputId": "9c1182cb-b013-4ebf-c6c5-701420163cd1"
   },
   "outputs": [
    {
     "name": "stdout",
     "output_type": "stream",
     "text": [
      "./checkpoint/ver_yyj/v03_ep01-loss2.20656.ckpt\n"
     ]
    },
    {
     "data": {
      "text/plain": [
       "<tensorflow.python.training.tracking.util.CheckpointLoadStatus at 0x1636dcf3438>"
      ]
     },
     "execution_count": 7,
     "metadata": {},
     "output_type": "execute_result"
    }
   ],
   "source": [
    "# 이전에 훈련한 weight를 이어서 훈련할 경우 실행\n",
    "latest = tf.train.latest_checkpoint(WEIGHT_DIR)\n",
    "print(latest)\n",
    "model.load_weights(latest)"
   ]
  },
  {
   "cell_type": "code",
   "execution_count": null,
   "metadata": {
    "colab": {
     "base_uri": "https://localhost:8080/",
     "height": 124
    },
    "colab_type": "code",
    "executionInfo": {
     "elapsed": 35977057,
     "status": "error",
     "timestamp": 1588796316391,
     "user": {
      "displayName": "유영재",
      "photoUrl": "",
      "userId": "15071020987067673937"
     },
     "user_tz": -540
    },
    "id": "UD3FM3FpWzM2",
    "outputId": "73e3868a-5207-4d42-b4ad-4d720d49e35d"
   },
   "outputs": [
    {
     "name": "stdout",
     "output_type": "stream",
     "text": [
      "Epoch 1/5\n"
     ]
    },
    {
     "name": "stdout",
     "output_type": "stream",
     "text": [
      "    139/Unknown - 90s 90s/step - loss: 2.8740 - mae: 0.3011 - f1_m: 0.10 - 146s 73s/step - loss: 2.6775 - mae: 0.3129 - f1_m: 0.117 - 204s 68s/step - loss: 2.6120 - mae: 0.3027 - f1_m: 0.116 - 263s 66s/step - loss: 2.9070 - mae: 0.2970 - f1_m: 0.105 - 322s 64s/step - loss: 3.0231 - mae: 0.2939 - f1_m: 0.100 - 382s 64s/step - loss: 2.8913 - mae: 0.2924 - f1_m: 0.105 - 441s 63s/step - loss: 2.8128 - mae: 0.2895 - f1_m: 0.106 - 501s 63s/step - loss: 2.7539 - mae: 0.2897 - f1_m: 0.109 - 559s 62s/step - loss: 2.7156 - mae: 0.2904 - f1_m: 0.110 - 614s 61s/step - loss: 2.6587 - mae: 0.2901 - f1_m: 0.112 - 668s 61s/step - loss: 2.6141 - mae: 0.2890 - f1_m: 0.114 - 722s 60s/step - loss: 2.5497 - mae: 0.2876 - f1_m: 0.117 - 776s 60s/step - loss: 2.5711 - mae: 0.2901 - f1_m: 0.116 - 830s 59s/step - loss: 2.5908 - mae: 0.2919 - f1_m: 0.116 - 884s 59s/step - loss: 2.6093 - mae: 0.2905 - f1_m: 0.114 - 937s 59s/step - loss: 2.6122 - mae: 0.2902 - f1_m: 0.114 - 991s 58s/step - loss: 2.6245 - mae: 0.2892 - f1_m: 0.113 - 1045s 58s/step - loss: 2.6203 - mae: 0.2888 - f1_m: 0.11 - 1099s 58s/step - loss: 2.5772 - mae: 0.2914 - f1_m: 0.11 - 1153s 58s/step - loss: 2.5737 - mae: 0.2902 - f1_m: 0.11 - 1207s 57s/step - loss: 2.5350 - mae: 0.2896 - f1_m: 0.11 - 1260s 57s/step - loss: 2.5176 - mae: 0.2897 - f1_m: 0.11 - 1314s 57s/step - loss: 2.4980 - mae: 0.2893 - f1_m: 0.12 - 1368s 57s/step - loss: 2.4553 - mae: 0.2886 - f1_m: 0.12 - 1422s 57s/step - loss: 2.4502 - mae: 0.2879 - f1_m: 0.12 - 1477s 57s/step - loss: 2.5203 - mae: 0.2869 - f1_m: 0.12 - 1530s 57s/step - loss: 2.5104 - mae: 0.2862 - f1_m: 0.12 - 1584s 57s/step - loss: 2.5225 - mae: 0.2856 - f1_m: 0.11 - 1638s 56s/step - loss: 2.5466 - mae: 0.2853 - f1_m: 0.11 - 1692s 56s/step - loss: 2.5570 - mae: 0.2848 - f1_m: 0.11 - 1745s 56s/step - loss: 2.5281 - mae: 0.2843 - f1_m: 0.11 - 1799s 56s/step - loss: 2.5767 - mae: 0.2836 - f1_m: 0.11 - 1853s 56s/step - loss: 2.5530 - mae: 0.2838 - f1_m: 0.11 - 1908s 56s/step - loss: 2.5205 - mae: 0.2832 - f1_m: 0.12 - 1961s 56s/step - loss: 2.5163 - mae: 0.2830 - f1_m: 0.12 - 2015s 56s/step - loss: 2.5121 - mae: 0.2827 - f1_m: 0.12 - 2069s 56s/step - loss: 2.5251 - mae: 0.2821 - f1_m: 0.11 - 2122s 56s/step - loss: 2.4920 - mae: 0.2824 - f1_m: 0.12 - 2175s 56s/step - loss: 2.5010 - mae: 0.2818 - f1_m: 0.12 - 2229s 56s/step - loss: 2.4821 - mae: 0.2820 - f1_m: 0.12 - 2283s 56s/step - loss: 2.4938 - mae: 0.2814 - f1_m: 0.12 - 2336s 56s/step - loss: 2.4886 - mae: 0.2809 - f1_m: 0.12 - 2390s 56s/step - loss: 2.4766 - mae: 0.2809 - f1_m: 0.12 - 2443s 56s/step - loss: 2.4812 - mae: 0.2802 - f1_m: 0.12 - 2497s 55s/step - loss: 2.4899 - mae: 0.2796 - f1_m: 0.12 - 2551s 55s/step - loss: 2.5044 - mae: 0.2793 - f1_m: 0.11 - 2604s 55s/step - loss: 2.4980 - mae: 0.2792 - f1_m: 0.11 - 2658s 55s/step - loss: 2.4803 - mae: 0.2792 - f1_m: 0.12 - 2712s 55s/step - loss: 2.4783 - mae: 0.2792 - f1_m: 0.12 - 2766s 55s/step - loss: 2.4703 - mae: 0.2791 - f1_m: 0.12 - 2831s 56s/step - loss: 2.4535 - mae: 0.2797 - f1_m: 0.12 - 2886s 55s/step - loss: 2.4501 - mae: 0.2802 - f1_m: 0.12 - 2939s 55s/step - loss: 2.4419 - mae: 0.2806 - f1_m: 0.12 - 2993s 55s/step - loss: 2.4318 - mae: 0.2810 - f1_m: 0.12 - 3047s 55s/step - loss: 2.4270 - mae: 0.2818 - f1_m: 0.12 - 3100s 55s/step - loss: 2.4272 - mae: 0.2818 - f1_m: 0.12 - 3154s 55s/step - loss: 2.4168 - mae: 0.2822 - f1_m: 0.12 - 3208s 55s/step - loss: 2.4107 - mae: 0.2826 - f1_m: 0.12 - 3261s 55s/step - loss: 2.4159 - mae: 0.2826 - f1_m: 0.12 - 3315s 55s/step - loss: 2.4046 - mae: 0.2830 - f1_m: 0.12 - 3369s 55s/step - loss: 2.3921 - mae: 0.2829 - f1_m: 0.12 - 3422s 55s/step - loss: 2.3967 - mae: 0.2828 - f1_m: 0.12 - 3476s 55s/step - loss: 2.3904 - mae: 0.2832 - f1_m: 0.12 - 3530s 55s/step - loss: 2.3786 - mae: 0.2840 - f1_m: 0.12 - 3583s 55s/step - loss: 2.3669 - mae: 0.2840 - f1_m: 0.12 - 3637s 55s/step - loss: 2.3549 - mae: 0.2845 - f1_m: 0.12 - 3691s 55s/step - loss: 2.3422 - mae: 0.2846 - f1_m: 0.13 - 3747s 55s/step - loss: 2.3340 - mae: 0.2848 - f1_m: 0.13 - 3802s 55s/step - loss: 2.3237 - mae: 0.2849 - f1_m: 0.13 - 3855s 55s/step - loss: 2.3232 - mae: 0.2849 - f1_m: 0.13 - 3909s 55s/step - loss: 2.3126 - mae: 0.2854 - f1_m: 0.13 - 3963s 55s/step - loss: 2.3020 - mae: 0.2859 - f1_m: 0.13 - 4017s 55s/step - loss: 2.2877 - mae: 0.2864 - f1_m: 0.13 - 4071s 55s/step - loss: 2.2822 - mae: 0.2866 - f1_m: 0.13 - 4124s 55s/step - loss: 2.2753 - mae: 0.2871 - f1_m: 0.13 - 4178s 55s/step - loss: 2.2672 - mae: 0.2873 - f1_m: 0.13 - 4231s 55s/step - loss: 2.2616 - mae: 0.2884 - f1_m: 0.13 - 4285s 55s/step - loss: 2.2510 - mae: 0.2891 - f1_m: 0.13 - 4339s 55s/step - loss: 2.2411 - mae: 0.2896 - f1_m: 0.14 - 4392s 55s/step - loss: 2.2368 - mae: 0.2900 - f1_m: 0.14 - 4446s 55s/step - loss: 2.2282 - mae: 0.2905 - f1_m: 0.14 - 4500s 55s/step - loss: 2.2171 - mae: 0.2912 - f1_m: 0.14 - 4554s 55s/step - loss: 2.2125 - mae: 0.2917 - f1_m: 0.14 - 4608s 55s/step - loss: 2.2101 - mae: 0.2918 - f1_m: 0.14 - 4661s 55s/step - loss: 2.2043 - mae: 0.2921 - f1_m: 0.14 - 4715s 55s/step - loss: 2.1995 - mae: 0.2923 - f1_m: 0.14 - 4769s 55s/step - loss: 2.1936 - mae: 0.2928 - f1_m: 0.14 - 4822s 55s/step - loss: 2.1869 - mae: 0.2940 - f1_m: 0.14 - 4876s 55s/step - loss: 2.1784 - mae: 0.2942 - f1_m: 0.14 - 4931s 55s/step - loss: 2.1704 - mae: 0.2946 - f1_m: 0.14 - 4985s 55s/step - loss: 2.1649 - mae: 0.2949 - f1_m: 0.14 - 5038s 55s/step - loss: 2.1653 - mae: 0.2957 - f1_m: 0.14 - 5092s 55s/step - loss: 2.1583 - mae: 0.2959 - f1_m: 0.14 - 5146s 55s/step - loss: 2.1513 - mae: 0.2967 - f1_m: 0.15 - 5200s 55s/step - loss: 2.1475 - mae: 0.2965 - f1_m: 0.15 - 5253s 55s/step - loss: 2.1410 - mae: 0.2981 - f1_m: 0.15 - 5307s 55s/step - loss: 2.1340 - mae: 0.2988 - f1_m: 0.15 - 5361s 55s/step - loss: 2.1263 - mae: 0.2992 - f1_m: 0.15 - 5414s 55s/step - loss: 2.1203 - mae: 0.2994 - f1_m: 0.15 - 5468s 55s/step - loss: 2.1143 - mae: 0.2995 - f1_m: 0.15 - 5522s 55s/step - loss: 2.1093 - mae: 0.2995 - f1_m: 0.15 - 5575s 55s/step - loss: 2.1078 - mae: 0.2995 - f1_m: 0.15 - 5629s 55s/step - loss: 2.1029 - mae: 0.2998 - f1_m: 0.15 - 5683s 55s/step - loss: 2.0992 - mae: 0.3001 - f1_m: 0.15 - 5736s 55s/step - loss: 2.0945 - mae: 0.3008 - f1_m: 0.15 - 5790s 55s/step - loss: 2.0885 - mae: 0.3012 - f1_m: 0.15 - 5843s 55s/step - loss: 2.0839 - mae: 0.3013 - f1_m: 0.15 - 5897s 55s/step - loss: 2.0790 - mae: 0.3020 - f1_m: 0.15 - 5950s 55s/step - loss: 2.0731 - mae: 0.3027 - f1_m: 0.15 - 6004s 55s/step - loss: 2.0675 - mae: 0.3035 - f1_m: 0.16 - 6058s 55s/step - loss: 2.0601 - mae: 0.3039 - f1_m: 0.16 - 6112s 55s/step - loss: 2.0537 - mae: 0.3046 - f1_m: 0.16 - 6165s 55s/step - loss: 2.0488 - mae: 0.3054 - f1_m: 0.16 - 6219s 55s/step - loss: 2.0428 - mae: 0.3062 - f1_m: 0.16 - 6273s 55s/step - loss: 2.0372 - mae: 0.3071 - f1_m: 0.16 - 6326s 55s/step - loss: 2.0330 - mae: 0.3076 - f1_m: 0.16 - 6380s 55s/step - loss: 2.0292 - mae: 0.3090 - f1_m: 0.16 - 6434s 55s/step - loss: 2.0254 - mae: 0.3095 - f1_m: 0.16 - 6488s 55s/step - loss: 2.0201 - mae: 0.3100 - f1_m: 0.16 - 6542s 55s/step - loss: 2.0145 - mae: 0.3102 - f1_m: 0.16 - 6595s 55s/step - loss: 2.0139 - mae: 0.3105 - f1_m: 0.16 - 6649s 54s/step - loss: 2.0096 - mae: 0.3107 - f1_m: 0.17 - 6703s 54s/step - loss: 2.0078 - mae: 0.3110 - f1_m: 0.17 - 6756s 54s/step - loss: 2.0048 - mae: 0.3115 - f1_m: 0.17 - 6810s 54s/step - loss: 1.9996 - mae: 0.3120 - f1_m: 0.17 - 6864s 54s/step - loss: 1.9948 - mae: 0.3125 - f1_m: 0.17 - 6918s 54s/step - loss: 1.9896 - mae: 0.3128 - f1_m: 0.17 - 6972s 54s/step - loss: 1.9869 - mae: 0.3132 - f1_m: 0.17 - 7025s 54s/step - loss: 1.9840 - mae: 0.3134 - f1_m: 0.17 - 7079s 54s/step - loss: 1.9847 - mae: 0.3139 - f1_m: 0.17 - 7133s 54s/step - loss: 1.9847 - mae: 0.3141 - f1_m: 0.17 - 7186s 54s/step - loss: 1.9814 - mae: 0.3140 - f1_m: 0.17 - 7240s 54s/step - loss: 1.9767 - mae: 0.3144 - f1_m: 0.17 - 7294s 54s/step - loss: 1.9721 - mae: 0.3146 - f1_m: 0.17 - 7347s 54s/step - loss: 1.9686 - mae: 0.3156 - f1_m: 0.17 - 7401s 54s/step - loss: 1.9652 - mae: 0.3157 - f1_m: 0.17 - 7455s 54s/step - loss: 1.9616 - mae: 0.3158 - f1_m: 0.17 - 7508s 54s/step - loss: 1.9586 - mae: 0.3166 - f1_m: 0.17 - 7562s 54s/step - loss: 1.9568 - mae: 0.3173 - f1_m: 0.1779\b\b\b\b\b\b\b\b\b\b\b\b\b\b\b\b\b\b\b\b\b\b\b\b\b\b\b\b\b\b\b\b\b\b\b\b\b\b\b\b\b\b\b\b\b\b\b\b\b\b\b\b\b\b\b\b\b\b\b\b\b\b\b\b\b\b\b\b\b\b\b\b\b\b\b\b"
     ]
    },
    {
     "name": "stdout",
     "output_type": "stream",
     "text": [
      "    275/Unknown - 7616s 54s/step - loss: 1.9521 - mae: 0.3177 - f1_m: 0.17 - 7669s 54s/step - loss: 1.9484 - mae: 0.3179 - f1_m: 0.17 - 7723s 54s/step - loss: 1.9439 - mae: 0.3178 - f1_m: 0.17 - 7777s 54s/step - loss: 1.9413 - mae: 0.3182 - f1_m: 0.17 - 7831s 54s/step - loss: 1.9373 - mae: 0.3185 - f1_m: 0.18 - 7884s 54s/step - loss: 1.9342 - mae: 0.3186 - f1_m: 0.18 - 7937s 54s/step - loss: 1.9320 - mae: 0.3191 - f1_m: 0.18 - 7991s 54s/step - loss: 1.9317 - mae: 0.3190 - f1_m: 0.18 - 8044s 54s/step - loss: 1.9309 - mae: 0.3192 - f1_m: 0.18 - 8098s 54s/step - loss: 1.9322 - mae: 0.3191 - f1_m: 0.18 - 8152s 54s/step - loss: 1.9302 - mae: 0.3192 - f1_m: 0.18 - 8206s 54s/step - loss: 1.9279 - mae: 0.3192 - f1_m: 0.18 - 8259s 54s/step - loss: 1.9251 - mae: 0.3195 - f1_m: 0.18 - 8313s 54s/step - loss: 1.9221 - mae: 0.3202 - f1_m: 0.18 - 8367s 54s/step - loss: 1.9186 - mae: 0.3203 - f1_m: 0.18 - 8421s 54s/step - loss: 1.9158 - mae: 0.3201 - f1_m: 0.18 - 8475s 54s/step - loss: 1.9150 - mae: 0.3200 - f1_m: 0.18 - 8529s 54s/step - loss: 1.9155 - mae: 0.3201 - f1_m: 0.18 - 8582s 54s/step - loss: 1.9149 - mae: 0.3201 - f1_m: 0.18 - 8636s 54s/step - loss: 1.9154 - mae: 0.3199 - f1_m: 0.18 - 8689s 54s/step - loss: 1.9169 - mae: 0.3198 - f1_m: 0.18 - 8743s 54s/step - loss: 1.9157 - mae: 0.3199 - f1_m: 0.18 - 8797s 54s/step - loss: 1.9148 - mae: 0.3198 - f1_m: 0.18 - 8851s 54s/step - loss: 1.9126 - mae: 0.3199 - f1_m: 0.18 - 8905s 54s/step - loss: 1.9156 - mae: 0.3196 - f1_m: 0.18 - 8959s 54s/step - loss: 1.9130 - mae: 0.3195 - f1_m: 0.18 - 9012s 54s/step - loss: 1.9136 - mae: 0.3192 - f1_m: 0.18 - 9066s 54s/step - loss: 1.9135 - mae: 0.3190 - f1_m: 0.18 - 9120s 54s/step - loss: 1.9186 - mae: 0.3187 - f1_m: 0.18 - 9173s 54s/step - loss: 1.9177 - mae: 0.3186 - f1_m: 0.18 - 9227s 54s/step - loss: 1.9157 - mae: 0.3185 - f1_m: 0.18 - 9281s 54s/step - loss: 1.9134 - mae: 0.3183 - f1_m: 0.18 - 9335s 54s/step - loss: 1.9129 - mae: 0.3181 - f1_m: 0.18 - 9388s 54s/step - loss: 1.9156 - mae: 0.3179 - f1_m: 0.18 - 9442s 54s/step - loss: 1.9155 - mae: 0.3179 - f1_m: 0.18 - 9496s 54s/step - loss: 1.9177 - mae: 0.3176 - f1_m: 0.18 - 9550s 54s/step - loss: 1.9199 - mae: 0.3174 - f1_m: 0.17 - 9604s 54s/step - loss: 1.9180 - mae: 0.3177 - f1_m: 0.18 - 9657s 54s/step - loss: 1.9164 - mae: 0.3177 - f1_m: 0.18 - 9711s 54s/step - loss: 1.9163 - mae: 0.3176 - f1_m: 0.18 - 9764s 54s/step - loss: 1.9135 - mae: 0.3177 - f1_m: 0.18 - 9818s 54s/step - loss: 1.9146 - mae: 0.3185 - f1_m: 0.18 - 9872s 54s/step - loss: 1.9186 - mae: 0.3182 - f1_m: 0.18 - 9925s 54s/step - loss: 1.9212 - mae: 0.3180 - f1_m: 0.17 - 9979s 54s/step - loss: 1.9224 - mae: 0.3178 - f1_m: 0.17 - 10032s 54s/step - loss: 1.9219 - mae: 0.3177 - f1_m: 0.179 - 10086s 54s/step - loss: 1.9226 - mae: 0.3176 - f1_m: 0.179 - 10140s 54s/step - loss: 1.9231 - mae: 0.3174 - f1_m: 0.179 - 10194s 54s/step - loss: 1.9258 - mae: 0.3172 - f1_m: 0.178 - 10248s 54s/step - loss: 1.9226 - mae: 0.3171 - f1_m: 0.178 - 10301s 54s/step - loss: 1.9218 - mae: 0.3171 - f1_m: 0.179 - 10355s 54s/step - loss: 1.9223 - mae: 0.3170 - f1_m: 0.178 - 10408s 54s/step - loss: 1.9210 - mae: 0.3169 - f1_m: 0.178 - 10462s 54s/step - loss: 1.9216 - mae: 0.3168 - f1_m: 0.178 - 10515s 54s/step - loss: 1.9207 - mae: 0.3165 - f1_m: 0.178 - 10569s 54s/step - loss: 1.9233 - mae: 0.3164 - f1_m: 0.178 - 10622s 54s/step - loss: 1.9214 - mae: 0.3163 - f1_m: 0.178 - 10676s 54s/step - loss: 1.9201 - mae: 0.3161 - f1_m: 0.178 - 10730s 54s/step - loss: 1.9201 - mae: 0.3159 - f1_m: 0.178 - 10783s 54s/step - loss: 1.9194 - mae: 0.3158 - f1_m: 0.177 - 10837s 54s/step - loss: 1.9182 - mae: 0.3156 - f1_m: 0.177 - 10891s 54s/step - loss: 1.9165 - mae: 0.3155 - f1_m: 0.177 - 10944s 54s/step - loss: 1.9155 - mae: 0.3154 - f1_m: 0.177 - 10998s 54s/step - loss: 1.9169 - mae: 0.3151 - f1_m: 0.177 - 11052s 54s/step - loss: 1.9225 - mae: 0.3149 - f1_m: 0.177 - 11106s 54s/step - loss: 1.9297 - mae: 0.3147 - f1_m: 0.176 - 11159s 54s/step - loss: 1.9321 - mae: 0.3145 - f1_m: 0.176 - 11213s 54s/step - loss: 1.9315 - mae: 0.3143 - f1_m: 0.176 - 11266s 54s/step - loss: 1.9319 - mae: 0.3140 - f1_m: 0.176 - 11320s 54s/step - loss: 1.9289 - mae: 0.3137 - f1_m: 0.176 - 11373s 54s/step - loss: 1.9276 - mae: 0.3135 - f1_m: 0.176 - 11427s 54s/step - loss: 1.9284 - mae: 0.3132 - f1_m: 0.175 - 11481s 54s/step - loss: 1.9287 - mae: 0.3129 - f1_m: 0.175 - 11534s 54s/step - loss: 1.9256 - mae: 0.3128 - f1_m: 0.175 - 11588s 54s/step - loss: 1.9267 - mae: 0.3126 - f1_m: 0.175 - 11642s 54s/step - loss: 1.9233 - mae: 0.3125 - f1_m: 0.175 - 11695s 54s/step - loss: 1.9216 - mae: 0.3124 - f1_m: 0.175 - 11749s 54s/step - loss: 1.9223 - mae: 0.3122 - f1_m: 0.175 - 11803s 54s/step - loss: 1.9191 - mae: 0.3121 - f1_m: 0.175 - 11856s 54s/step - loss: 1.9189 - mae: 0.3119 - f1_m: 0.175 - 11910s 54s/step - loss: 1.9203 - mae: 0.3117 - f1_m: 0.175 - 11963s 54s/step - loss: 1.9216 - mae: 0.3117 - f1_m: 0.175 - 12017s 54s/step - loss: 1.9241 - mae: 0.3115 - f1_m: 0.175 - 12071s 54s/step - loss: 1.9218 - mae: 0.3115 - f1_m: 0.175 - 12125s 54s/step - loss: 1.9239 - mae: 0.3113 - f1_m: 0.175 - 12179s 54s/step - loss: 1.9233 - mae: 0.3111 - f1_m: 0.174 - 12232s 54s/step - loss: 1.9251 - mae: 0.3108 - f1_m: 0.174 - 12286s 54s/step - loss: 1.9236 - mae: 0.3106 - f1_m: 0.174 - 12340s 54s/step - loss: 1.9224 - mae: 0.3104 - f1_m: 0.174 - 12393s 54s/step - loss: 1.9245 - mae: 0.3102 - f1_m: 0.174 - 12447s 54s/step - loss: 1.9249 - mae: 0.3100 - f1_m: 0.174 - 12501s 54s/step - loss: 1.9242 - mae: 0.3097 - f1_m: 0.173 - 12555s 54s/step - loss: 1.9232 - mae: 0.3095 - f1_m: 0.173 - 12608s 54s/step - loss: 1.9211 - mae: 0.3093 - f1_m: 0.173 - 12661s 54s/step - loss: 1.9218 - mae: 0.3091 - f1_m: 0.173 - 12715s 54s/step - loss: 1.9232 - mae: 0.3090 - f1_m: 0.173 - 12769s 54s/step - loss: 1.9202 - mae: 0.3088 - f1_m: 0.173 - 12823s 54s/step - loss: 1.9188 - mae: 0.3086 - f1_m: 0.173 - 12876s 54s/step - loss: 1.9167 - mae: 0.3085 - f1_m: 0.173 - 12932s 54s/step - loss: 1.9167 - mae: 0.3084 - f1_m: 0.173 - 12985s 54s/step - loss: 1.9172 - mae: 0.3084 - f1_m: 0.173 - 13039s 54s/step - loss: 1.9134 - mae: 0.3082 - f1_m: 0.173 - 13093s 54s/step - loss: 1.9147 - mae: 0.3082 - f1_m: 0.173 - 13147s 54s/step - loss: 1.9140 - mae: 0.3080 - f1_m: 0.173 - 13200s 54s/step - loss: 1.9126 - mae: 0.3080 - f1_m: 0.173 - 13254s 54s/step - loss: 1.9129 - mae: 0.3079 - f1_m: 0.173 - 13308s 54s/step - loss: 1.9095 - mae: 0.3077 - f1_m: 0.173 - 13361s 54s/step - loss: 1.9096 - mae: 0.3076 - f1_m: 0.173 - 13415s 54s/step - loss: 1.9104 - mae: 0.3075 - f1_m: 0.173 - 13469s 54s/step - loss: 1.9094 - mae: 0.3073 - f1_m: 0.173 - 13523s 54s/step - loss: 1.9085 - mae: 0.3074 - f1_m: 0.173 - 13576s 54s/step - loss: 1.9072 - mae: 0.3073 - f1_m: 0.173 - 13629s 54s/step - loss: 1.9086 - mae: 0.3072 - f1_m: 0.173 - 13683s 54s/step - loss: 1.9086 - mae: 0.3071 - f1_m: 0.173 - 13736s 54s/step - loss: 1.9067 - mae: 0.3075 - f1_m: 0.173 - 13790s 54s/step - loss: 1.9047 - mae: 0.3074 - f1_m: 0.174 - 13843s 54s/step - loss: 1.9027 - mae: 0.3074 - f1_m: 0.174 - 13897s 54s/step - loss: 1.9015 - mae: 0.3072 - f1_m: 0.174 - 13951s 54s/step - loss: 1.8997 - mae: 0.3073 - f1_m: 0.174 - 14005s 54s/step - loss: 1.8978 - mae: 0.3073 - f1_m: 0.174 - 14058s 54s/step - loss: 1.8956 - mae: 0.3074 - f1_m: 0.174 - 14112s 54s/step - loss: 1.8941 - mae: 0.3074 - f1_m: 0.174 - 14166s 54s/step - loss: 1.8944 - mae: 0.3075 - f1_m: 0.174 - 14219s 54s/step - loss: 1.8928 - mae: 0.3074 - f1_m: 0.174 - 14273s 54s/step - loss: 1.8913 - mae: 0.3073 - f1_m: 0.175 - 14327s 54s/step - loss: 1.8895 - mae: 0.3074 - f1_m: 0.175 - 14380s 54s/step - loss: 1.8877 - mae: 0.3075 - f1_m: 0.175 - 14434s 54s/step - loss: 1.8863 - mae: 0.3074 - f1_m: 0.175 - 14488s 54s/step - loss: 1.8844 - mae: 0.3075 - f1_m: 0.175 - 14541s 54s/step - loss: 1.8835 - mae: 0.3076 - f1_m: 0.175 - 14595s 54s/step - loss: 1.8822 - mae: 0.3076 - f1_m: 0.175 - 14649s 54s/step - loss: 1.8808 - mae: 0.3074 - f1_m: 0.175 - 14702s 54s/step - loss: 1.8805 - mae: 0.3074 - f1_m: 0.175 - 14756s 54s/step - loss: 1.8789 - mae: 0.3076 - f1_m: 0.176 - 14810s 54s/step - loss: 1.8770 - mae: 0.3078 - f1_m: 0.176 - 14864s 54s/step - loss: 1.8758 - mae: 0.3077 - f1_m: 0.1765"
     ]
    },
    {
     "name": "stdout",
     "output_type": "stream",
     "text": [
      "    410/Unknown - 14917s 54s/step - loss: 1.8740 - mae: 0.3077 - f1_m: 0.176 - 14971s 54s/step - loss: 1.8727 - mae: 0.3079 - f1_m: 0.176 - 15024s 54s/step - loss: 1.8712 - mae: 0.3078 - f1_m: 0.176 - 15078s 54s/step - loss: 1.8693 - mae: 0.3078 - f1_m: 0.177 - 15132s 54s/step - loss: 1.8677 - mae: 0.3079 - f1_m: 0.177 - 15185s 54s/step - loss: 1.8665 - mae: 0.3080 - f1_m: 0.177 - 15239s 54s/step - loss: 1.8644 - mae: 0.3082 - f1_m: 0.177 - 15292s 54s/step - loss: 1.8634 - mae: 0.3084 - f1_m: 0.178 - 15346s 54s/step - loss: 1.8618 - mae: 0.3085 - f1_m: 0.178 - 15399s 54s/step - loss: 1.8598 - mae: 0.3086 - f1_m: 0.178 - 15453s 54s/step - loss: 1.8581 - mae: 0.3087 - f1_m: 0.178 - 15506s 54s/step - loss: 1.8560 - mae: 0.3089 - f1_m: 0.179 - 15560s 54s/step - loss: 1.8550 - mae: 0.3089 - f1_m: 0.179 - 15614s 54s/step - loss: 1.8532 - mae: 0.3090 - f1_m: 0.179 - 15668s 54s/step - loss: 1.8528 - mae: 0.3091 - f1_m: 0.179 - 15722s 54s/step - loss: 1.8527 - mae: 0.3091 - f1_m: 0.179 - 15776s 54s/step - loss: 1.8520 - mae: 0.3090 - f1_m: 0.179 - 15829s 54s/step - loss: 1.8517 - mae: 0.3089 - f1_m: 0.179 - 15883s 54s/step - loss: 1.8514 - mae: 0.3089 - f1_m: 0.179 - 15936s 54s/step - loss: 1.8505 - mae: 0.3088 - f1_m: 0.179 - 15990s 54s/step - loss: 1.8492 - mae: 0.3089 - f1_m: 0.179 - 16044s 54s/step - loss: 1.8473 - mae: 0.3089 - f1_m: 0.179 - 16097s 54s/step - loss: 1.8456 - mae: 0.3090 - f1_m: 0.180 - 16151s 54s/step - loss: 1.8438 - mae: 0.3091 - f1_m: 0.180 - 16204s 54s/step - loss: 1.8417 - mae: 0.3093 - f1_m: 0.180 - 16258s 54s/step - loss: 1.8397 - mae: 0.3095 - f1_m: 0.181 - 16312s 54s/step - loss: 1.8379 - mae: 0.3098 - f1_m: 0.181 - 16365s 54s/step - loss: 1.8358 - mae: 0.3099 - f1_m: 0.181 - 16419s 54s/step - loss: 1.8345 - mae: 0.3100 - f1_m: 0.182 - 16473s 54s/step - loss: 1.8336 - mae: 0.3099 - f1_m: 0.182 - 16526s 54s/step - loss: 1.8331 - mae: 0.3098 - f1_m: 0.182 - 16579s 54s/step - loss: 1.8325 - mae: 0.3099 - f1_m: 0.182 - 16633s 54s/step - loss: 1.8317 - mae: 0.3100 - f1_m: 0.182 - 16687s 54s/step - loss: 1.8304 - mae: 0.3104 - f1_m: 0.182 - 16740s 54s/step - loss: 1.8292 - mae: 0.3104 - f1_m: 0.182 - 16794s 54s/step - loss: 1.8289 - mae: 0.3103 - f1_m: 0.182 - 16848s 54s/step - loss: 1.8277 - mae: 0.3102 - f1_m: 0.182 - 16901s 54s/step - loss: 1.8269 - mae: 0.3101 - f1_m: 0.182 - 16955s 54s/step - loss: 1.8261 - mae: 0.3101 - f1_m: 0.182 - 17008s 54s/step - loss: 1.8249 - mae: 0.3101 - f1_m: 0.182 - 17062s 54s/step - loss: 1.8231 - mae: 0.3100 - f1_m: 0.182 - 17116s 54s/step - loss: 1.8223 - mae: 0.3100 - f1_m: 0.182 - 17169s 54s/step - loss: 1.8211 - mae: 0.3100 - f1_m: 0.183 - 17223s 54s/step - loss: 1.8194 - mae: 0.3101 - f1_m: 0.183 - 17276s 54s/step - loss: 1.8178 - mae: 0.3101 - f1_m: 0.183 - 17330s 54s/step - loss: 1.8167 - mae: 0.3102 - f1_m: 0.183 - 17384s 54s/step - loss: 1.8148 - mae: 0.3104 - f1_m: 0.184 - 17437s 54s/step - loss: 1.8132 - mae: 0.3105 - f1_m: 0.184 - 17491s 54s/step - loss: 1.8121 - mae: 0.3106 - f1_m: 0.184 - 17544s 54s/step - loss: 1.8131 - mae: 0.3112 - f1_m: 0.184 - 17598s 54s/step - loss: 1.8112 - mae: 0.3112 - f1_m: 0.184 - 17652s 54s/step - loss: 1.8113 - mae: 0.3111 - f1_m: 0.184 - 17706s 54s/step - loss: 1.8115 - mae: 0.3110 - f1_m: 0.184 - 17760s 54s/step - loss: 1.8106 - mae: 0.3110 - f1_m: 0.184 - 17813s 54s/step - loss: 1.8103 - mae: 0.3109 - f1_m: 0.184 - 17867s 54s/step - loss: 1.8105 - mae: 0.3108 - f1_m: 0.184 - 17921s 54s/step - loss: 1.8094 - mae: 0.3109 - f1_m: 0.184 - 17974s 54s/step - loss: 1.8099 - mae: 0.3108 - f1_m: 0.184 - 18028s 54s/step - loss: 1.8085 - mae: 0.3108 - f1_m: 0.184 - 18082s 54s/step - loss: 1.8079 - mae: 0.3108 - f1_m: 0.184 - 18136s 54s/step - loss: 1.8067 - mae: 0.3108 - f1_m: 0.184 - 18189s 54s/step - loss: 1.8061 - mae: 0.3108 - f1_m: 0.184 - 18243s 54s/step - loss: 1.8049 - mae: 0.3108 - f1_m: 0.184 - 18297s 54s/step - loss: 1.8034 - mae: 0.3109 - f1_m: 0.185 - 18350s 54s/step - loss: 1.8030 - mae: 0.3109 - f1_m: 0.185 - 18404s 54s/step - loss: 1.8044 - mae: 0.3107 - f1_m: 0.184 - 18457s 54s/step - loss: 1.8038 - mae: 0.3106 - f1_m: 0.184 - 18511s 54s/step - loss: 1.8031 - mae: 0.3106 - f1_m: 0.184 - 18565s 54s/step - loss: 1.8032 - mae: 0.3104 - f1_m: 0.184 - 18618s 54s/step - loss: 1.8028 - mae: 0.3104 - f1_m: 0.184 - 18672s 54s/step - loss: 1.8033 - mae: 0.3102 - f1_m: 0.184 - 18726s 54s/step - loss: 1.8031 - mae: 0.3101 - f1_m: 0.184 - 18779s 54s/step - loss: 1.8023 - mae: 0.3101 - f1_m: 0.184 - 18833s 54s/step - loss: 1.8012 - mae: 0.3100 - f1_m: 0.184 - 18886s 54s/step - loss: 1.8003 - mae: 0.3101 - f1_m: 0.184 - 18940s 54s/step - loss: 1.7998 - mae: 0.3101 - f1_m: 0.184 - 18993s 54s/step - loss: 1.7994 - mae: 0.3101 - f1_m: 0.184 - 19047s 54s/step - loss: 1.7987 - mae: 0.3101 - f1_m: 0.184 - 19101s 54s/step - loss: 1.7984 - mae: 0.3100 - f1_m: 0.184 - 19154s 54s/step - loss: 1.7972 - mae: 0.3099 - f1_m: 0.184 - 19208s 54s/step - loss: 1.7977 - mae: 0.3098 - f1_m: 0.184 - 19261s 54s/step - loss: 1.7991 - mae: 0.3096 - f1_m: 0.184 - 19315s 54s/step - loss: 1.7983 - mae: 0.3095 - f1_m: 0.184 - 19370s 54s/step - loss: 1.7977 - mae: 0.3094 - f1_m: 0.184 - 19423s 54s/step - loss: 1.7982 - mae: 0.3093 - f1_m: 0.184 - 19477s 54s/step - loss: 1.7984 - mae: 0.3092 - f1_m: 0.184 - 19530s 54s/step - loss: 1.7980 - mae: 0.3091 - f1_m: 0.184 - 19584s 54s/step - loss: 1.7988 - mae: 0.3090 - f1_m: 0.183 - 19638s 54s/step - loss: 1.7979 - mae: 0.3090 - f1_m: 0.184 - 19691s 54s/step - loss: 1.7964 - mae: 0.3088 - f1_m: 0.184 - 19745s 54s/step - loss: 1.7953 - mae: 0.3088 - f1_m: 0.184 - 19798s 54s/step - loss: 1.7947 - mae: 0.3088 - f1_m: 0.184 - 19852s 54s/step - loss: 1.7947 - mae: 0.3087 - f1_m: 0.184 - 19905s 54s/step - loss: 1.7937 - mae: 0.3087 - f1_m: 0.184 - 19959s 54s/step - loss: 1.7960 - mae: 0.3085 - f1_m: 0.183 - 20012s 54s/step - loss: 1.7983 - mae: 0.3084 - f1_m: 0.183 - 20066s 54s/step - loss: 1.7976 - mae: 0.3083 - f1_m: 0.183 - 20120s 54s/step - loss: 1.7976 - mae: 0.3082 - f1_m: 0.183 - 20174s 54s/step - loss: 1.7989 - mae: 0.3081 - f1_m: 0.183 - 20227s 54s/step - loss: 1.7989 - mae: 0.3080 - f1_m: 0.183 - 20281s 54s/step - loss: 1.7985 - mae: 0.3079 - f1_m: 0.183 - 20335s 54s/step - loss: 1.7980 - mae: 0.3078 - f1_m: 0.183 - 20389s 54s/step - loss: 1.7975 - mae: 0.3078 - f1_m: 0.183 - 20442s 54s/step - loss: 1.7973 - mae: 0.3077 - f1_m: 0.183 - 20496s 54s/step - loss: 1.7976 - mae: 0.3076 - f1_m: 0.183 - 20550s 54s/step - loss: 1.7982 - mae: 0.3075 - f1_m: 0.182 - 20603s 54s/step - loss: 1.7964 - mae: 0.3074 - f1_m: 0.183 - 20657s 54s/step - loss: 1.7981 - mae: 0.3073 - f1_m: 0.182 - 20711s 54s/step - loss: 1.7987 - mae: 0.3071 - f1_m: 0.182 - 20764s 54s/step - loss: 1.7974 - mae: 0.3071 - f1_m: 0.182 - 20818s 54s/step - loss: 1.7985 - mae: 0.3069 - f1_m: 0.182 - 20872s 54s/step - loss: 1.7975 - mae: 0.3068 - f1_m: 0.182 - 20925s 54s/step - loss: 1.7977 - mae: 0.3067 - f1_m: 0.182 - 20979s 54s/step - loss: 1.7970 - mae: 0.3066 - f1_m: 0.182 - 21033s 54s/step - loss: 1.7982 - mae: 0.3064 - f1_m: 0.182 - 21086s 54s/step - loss: 1.7980 - mae: 0.3063 - f1_m: 0.182 - 21140s 54s/step - loss: 1.7979 - mae: 0.3063 - f1_m: 0.182 - 21193s 54s/step - loss: 1.7975 - mae: 0.3063 - f1_m: 0.182 - 21246s 54s/step - loss: 1.7976 - mae: 0.3062 - f1_m: 0.182 - 21300s 54s/step - loss: 1.8005 - mae: 0.3060 - f1_m: 0.181 - 21353s 54s/step - loss: 1.8030 - mae: 0.3059 - f1_m: 0.181 - 21407s 54s/step - loss: 1.8028 - mae: 0.3058 - f1_m: 0.181 - 21461s 54s/step - loss: 1.8026 - mae: 0.3057 - f1_m: 0.181 - 21514s 54s/step - loss: 1.8018 - mae: 0.3056 - f1_m: 0.181 - 21568s 54s/step - loss: 1.8008 - mae: 0.3055 - f1_m: 0.181 - 21622s 54s/step - loss: 1.8005 - mae: 0.3054 - f1_m: 0.181 - 21676s 54s/step - loss: 1.8025 - mae: 0.3052 - f1_m: 0.181 - 21730s 54s/step - loss: 1.8023 - mae: 0.3052 - f1_m: 0.181 - 21783s 54s/step - loss: 1.8018 - mae: 0.3051 - f1_m: 0.181 - 21836s 54s/step - loss: 1.8016 - mae: 0.3051 - f1_m: 0.181 - 21890s 54s/step - loss: 1.8011 - mae: 0.3049 - f1_m: 0.181 - 21944s 54s/step - loss: 1.8016 - mae: 0.3048 - f1_m: 0.180 - 21997s 54s/step - loss: 1.8015 - mae: 0.3046 - f1_m: 0.180 - 22050s 54s/step - loss: 1.8017 - mae: 0.3045 - f1_m: 0.180 - 22104s 54s/step - loss: 1.8020 - mae: 0.3044 - f1_m: 0.1806"
     ]
    },
    {
     "name": "stdout",
     "output_type": "stream",
     "text": [
      "    541/Unknown - 22157s 54s/step - loss: 1.8020 - mae: 0.3043 - f1_m: 0.180 - 22211s 54s/step - loss: 1.8014 - mae: 0.3042 - f1_m: 0.180 - 22264s 54s/step - loss: 1.8002 - mae: 0.3041 - f1_m: 0.180 - 22318s 54s/step - loss: 1.7989 - mae: 0.3040 - f1_m: 0.180 - 22372s 54s/step - loss: 1.7985 - mae: 0.3040 - f1_m: 0.180 - 22426s 54s/step - loss: 1.7982 - mae: 0.3039 - f1_m: 0.180 - 22479s 54s/step - loss: 1.7989 - mae: 0.3038 - f1_m: 0.180 - 22533s 54s/step - loss: 1.7979 - mae: 0.3037 - f1_m: 0.180 - 22587s 54s/step - loss: 1.7986 - mae: 0.3036 - f1_m: 0.180 - 22640s 54s/step - loss: 1.7984 - mae: 0.3036 - f1_m: 0.180 - 22694s 54s/step - loss: 1.7973 - mae: 0.3035 - f1_m: 0.180 - 22747s 54s/step - loss: 1.7959 - mae: 0.3035 - f1_m: 0.180 - 22801s 54s/step - loss: 1.7947 - mae: 0.3034 - f1_m: 0.180 - 22854s 54s/step - loss: 1.7930 - mae: 0.3034 - f1_m: 0.180 - 22908s 54s/step - loss: 1.7920 - mae: 0.3034 - f1_m: 0.180 - 22962s 54s/step - loss: 1.7907 - mae: 0.3032 - f1_m: 0.180 - 23016s 54s/step - loss: 1.7918 - mae: 0.3031 - f1_m: 0.180 - 23070s 54s/step - loss: 1.7914 - mae: 0.3031 - f1_m: 0.180 - 23123s 54s/step - loss: 1.7915 - mae: 0.3030 - f1_m: 0.180 - 23177s 54s/step - loss: 1.7909 - mae: 0.3029 - f1_m: 0.180 - 23231s 54s/step - loss: 1.7892 - mae: 0.3029 - f1_m: 0.180 - 23285s 54s/step - loss: 1.7900 - mae: 0.3028 - f1_m: 0.180 - 23338s 54s/step - loss: 1.7890 - mae: 0.3029 - f1_m: 0.180 - 23392s 54s/step - loss: 1.7881 - mae: 0.3029 - f1_m: 0.181 - 23446s 54s/step - loss: 1.7871 - mae: 0.3029 - f1_m: 0.181 - 23500s 54s/step - loss: 1.7855 - mae: 0.3029 - f1_m: 0.181 - 23554s 54s/step - loss: 1.7848 - mae: 0.3029 - f1_m: 0.181 - 23607s 54s/step - loss: 1.7840 - mae: 0.3030 - f1_m: 0.181 - 23661s 54s/step - loss: 1.7827 - mae: 0.3032 - f1_m: 0.181 - 23715s 54s/step - loss: 1.7814 - mae: 0.3034 - f1_m: 0.182 - 23768s 54s/step - loss: 1.7804 - mae: 0.3035 - f1_m: 0.182 - 23823s 54s/step - loss: 1.7796 - mae: 0.3036 - f1_m: 0.182 - 23876s 54s/step - loss: 1.7786 - mae: 0.3037 - f1_m: 0.182 - 23930s 54s/step - loss: 1.7780 - mae: 0.3037 - f1_m: 0.182 - 23984s 54s/step - loss: 1.7772 - mae: 0.3036 - f1_m: 0.182 - 24038s 54s/step - loss: 1.7764 - mae: 0.3037 - f1_m: 0.182 - 24091s 54s/step - loss: 1.7757 - mae: 0.3036 - f1_m: 0.182 - 24145s 54s/step - loss: 1.7747 - mae: 0.3036 - f1_m: 0.182 - 24199s 54s/step - loss: 1.7735 - mae: 0.3036 - f1_m: 0.183 - 24253s 54s/step - loss: 1.7731 - mae: 0.3036 - f1_m: 0.183 - 24306s 54s/step - loss: 1.7726 - mae: 0.3036 - f1_m: 0.183 - 24360s 54s/step - loss: 1.7721 - mae: 0.3037 - f1_m: 0.183 - 24414s 54s/step - loss: 1.7709 - mae: 0.3038 - f1_m: 0.183 - 24467s 54s/step - loss: 1.7697 - mae: 0.3040 - f1_m: 0.183 - 24521s 54s/step - loss: 1.7686 - mae: 0.3041 - f1_m: 0.184 - 24575s 54s/step - loss: 1.7674 - mae: 0.3042 - f1_m: 0.184 - 24629s 54s/step - loss: 1.7663 - mae: 0.3043 - f1_m: 0.184 - 24683s 54s/step - loss: 1.7651 - mae: 0.3046 - f1_m: 0.184 - 24749s 54s/step - loss: 1.7637 - mae: 0.3047 - f1_m: 0.185 - 24802s 54s/step - loss: 1.7625 - mae: 0.3048 - f1_m: 0.185 - 24856s 54s/step - loss: 1.7620 - mae: 0.3049 - f1_m: 0.185 - 24909s 54s/step - loss: 1.7610 - mae: 0.3050 - f1_m: 0.185 - 24963s 54s/step - loss: 1.7597 - mae: 0.3051 - f1_m: 0.185 - 25017s 54s/step - loss: 1.7588 - mae: 0.3052 - f1_m: 0.186 - 25071s 54s/step - loss: 1.7577 - mae: 0.3052 - f1_m: 0.186 - 25125s 54s/step - loss: 1.7569 - mae: 0.3053 - f1_m: 0.186 - 25178s 54s/step - loss: 1.7561 - mae: 0.3055 - f1_m: 0.186 - 25232s 54s/step - loss: 1.7550 - mae: 0.3055 - f1_m: 0.186 - 25286s 54s/step - loss: 1.7538 - mae: 0.3057 - f1_m: 0.186 - 25340s 54s/step - loss: 1.7525 - mae: 0.3058 - f1_m: 0.187 - 25393s 54s/step - loss: 1.7514 - mae: 0.3057 - f1_m: 0.187 - 25447s 54s/step - loss: 1.7503 - mae: 0.3058 - f1_m: 0.187 - 25501s 54s/step - loss: 1.7493 - mae: 0.3059 - f1_m: 0.187 - 25554s 54s/step - loss: 1.7482 - mae: 0.3061 - f1_m: 0.187 - 25608s 54s/step - loss: 1.7476 - mae: 0.3062 - f1_m: 0.188 - 25662s 54s/step - loss: 1.7474 - mae: 0.3063 - f1_m: 0.188 - 25715s 54s/step - loss: 1.7470 - mae: 0.3067 - f1_m: 0.188 - 25769s 54s/step - loss: 1.7464 - mae: 0.3069 - f1_m: 0.188 - 25823s 54s/step - loss: 1.7459 - mae: 0.3070 - f1_m: 0.188 - 25878s 54s/step - loss: 1.7449 - mae: 0.3071 - f1_m: 0.188 - 25932s 54s/step - loss: 1.7437 - mae: 0.3071 - f1_m: 0.188 - 25986s 54s/step - loss: 1.7433 - mae: 0.3071 - f1_m: 0.189 - 26039s 54s/step - loss: 1.7422 - mae: 0.3071 - f1_m: 0.189 - 26093s 54s/step - loss: 1.7415 - mae: 0.3071 - f1_m: 0.189 - 26146s 54s/step - loss: 1.7408 - mae: 0.3070 - f1_m: 0.189 - 26200s 54s/step - loss: 1.7399 - mae: 0.3071 - f1_m: 0.189 - 26254s 54s/step - loss: 1.7395 - mae: 0.3072 - f1_m: 0.189 - 26307s 54s/step - loss: 1.7388 - mae: 0.3073 - f1_m: 0.189 - 26361s 54s/step - loss: 1.7379 - mae: 0.3072 - f1_m: 0.189 - 26415s 54s/step - loss: 1.7367 - mae: 0.3072 - f1_m: 0.189 - 26468s 54s/step - loss: 1.7358 - mae: 0.3071 - f1_m: 0.189 - 26522s 54s/step - loss: 1.7360 - mae: 0.3070 - f1_m: 0.189 - 26576s 54s/step - loss: 1.7355 - mae: 0.3070 - f1_m: 0.189 - 26629s 54s/step - loss: 1.7347 - mae: 0.3071 - f1_m: 0.189 - 26683s 54s/step - loss: 1.7349 - mae: 0.3070 - f1_m: 0.189 - 26737s 54s/step - loss: 1.7350 - mae: 0.3069 - f1_m: 0.189 - 26790s 54s/step - loss: 1.7351 - mae: 0.3068 - f1_m: 0.189 - 26844s 54s/step - loss: 1.7345 - mae: 0.3067 - f1_m: 0.189 - 26898s 54s/step - loss: 1.7353 - mae: 0.3066 - f1_m: 0.189 - 26951s 54s/step - loss: 1.7348 - mae: 0.3065 - f1_m: 0.189 - 27005s 54s/step - loss: 1.7341 - mae: 0.3065 - f1_m: 0.189 - 27059s 54s/step - loss: 1.7343 - mae: 0.3064 - f1_m: 0.189 - 27113s 54s/step - loss: 1.7334 - mae: 0.3063 - f1_m: 0.189 - 27167s 54s/step - loss: 1.7324 - mae: 0.3063 - f1_m: 0.189 - 27221s 54s/step - loss: 1.7317 - mae: 0.3063 - f1_m: 0.189 - 27274s 54s/step - loss: 1.7318 - mae: 0.3062 - f1_m: 0.189 - 27328s 54s/step - loss: 1.7318 - mae: 0.3062 - f1_m: 0.189 - 27381s 54s/step - loss: 1.7311 - mae: 0.3062 - f1_m: 0.189 - 27435s 54s/step - loss: 1.7313 - mae: 0.3061 - f1_m: 0.189 - 27489s 54s/step - loss: 1.7321 - mae: 0.3060 - f1_m: 0.189 - 27542s 54s/step - loss: 1.7337 - mae: 0.3059 - f1_m: 0.189 - 27596s 54s/step - loss: 1.7360 - mae: 0.3058 - f1_m: 0.188 - 27650s 54s/step - loss: 1.7357 - mae: 0.3057 - f1_m: 0.188 - 27703s 54s/step - loss: 1.7356 - mae: 0.3056 - f1_m: 0.188 - 27756s 54s/step - loss: 1.7353 - mae: 0.3056 - f1_m: 0.188 - 27810s 54s/step - loss: 1.7347 - mae: 0.3055 - f1_m: 0.188 - 27864s 54s/step - loss: 1.7345 - mae: 0.3055 - f1_m: 0.188 - 27918s 54s/step - loss: 1.7344 - mae: 0.3055 - f1_m: 0.188 - 27971s 54s/step - loss: 1.7339 - mae: 0.3054 - f1_m: 0.188 - 28025s 54s/step - loss: 1.7333 - mae: 0.3054 - f1_m: 0.188 - 28079s 54s/step - loss: 1.7330 - mae: 0.3053 - f1_m: 0.188 - 28133s 54s/step - loss: 1.7332 - mae: 0.3053 - f1_m: 0.188 - 28187s 54s/step - loss: 1.7341 - mae: 0.3052 - f1_m: 0.188 - 28240s 54s/step - loss: 1.7345 - mae: 0.3050 - f1_m: 0.188 - 28294s 54s/step - loss: 1.7344 - mae: 0.3049 - f1_m: 0.188 - 28347s 54s/step - loss: 1.7355 - mae: 0.3048 - f1_m: 0.188 - 28401s 54s/step - loss: 1.7353 - mae: 0.3047 - f1_m: 0.188 - 28455s 54s/step - loss: 1.7353 - mae: 0.3047 - f1_m: 0.188 - 28508s 54s/step - loss: 1.7350 - mae: 0.3046 - f1_m: 0.188 - 28562s 54s/step - loss: 1.7344 - mae: 0.3045 - f1_m: 0.187 - 28616s 54s/step - loss: 1.7348 - mae: 0.3044 - f1_m: 0.187 - 28669s 54s/step - loss: 1.7346 - mae: 0.3043 - f1_m: 0.187 - 28723s 54s/step - loss: 1.7345 - mae: 0.3043 - f1_m: 0.187 - 28777s 54s/step - loss: 1.7335 - mae: 0.3042 - f1_m: 0.187 - 28831s 54s/step - loss: 1.7338 - mae: 0.3041 - f1_m: 0.187 - 28885s 54s/step - loss: 1.7337 - mae: 0.3041 - f1_m: 0.187 - 28938s 54s/step - loss: 1.7333 - mae: 0.3041 - f1_m: 0.187 - 28992s 54s/step - loss: 1.7335 - mae: 0.3040 - f1_m: 0.187 - 29046s 54s/step - loss: 1.7327 - mae: 0.3040 - f1_m: 0.187 - 29099s 54s/step - loss: 1.7325 - mae: 0.3040 - f1_m: 0.187 - 29148s 54s/step - loss: 1.7337 - mae: 0.3039 - f1_m: 0.1875\n",
      "Epoch 00001: saving model to ./checkpoint/ver_yyj/v03_ep01-loss1.73358.ckpt\n",
      "541/541 [==============================] - 29148s 54s/step - loss: 1.7337 - mae: 0.3039 - f1_m: 0.1875\n"
     ]
    },
    {
     "name": "stdout",
     "output_type": "stream",
     "text": [
      "Epoch 2/5\n"
     ]
    },
    {
     "name": "stdout",
     "output_type": "stream",
     "text": [
      "141/541 [======>.......................] - ETA: 9:24:38 - loss: 2.3032 - mae: 0.2626 - f1_m: 0.114 - ETA: 8:40:52 - loss: 2.1550 - mae: 0.2732 - f1_m: 0.127 - ETA: 8:27:10 - loss: 2.1008 - mae: 0.2630 - f1_m: 0.125 - ETA: 8:19:57 - loss: 2.3061 - mae: 0.2575 - f1_m: 0.114 - ETA: 8:15:29 - loss: 2.3916 - mae: 0.2550 - f1_m: 0.109 - ETA: 8:12:03 - loss: 2.2917 - mae: 0.2533 - f1_m: 0.114 - ETA: 8:09:03 - loss: 2.2289 - mae: 0.2506 - f1_m: 0.116 - ETA: 8:06:26 - loss: 2.1831 - mae: 0.2509 - f1_m: 0.118 - ETA: 8:04:42 - loss: 2.1529 - mae: 0.2516 - f1_m: 0.120 - ETA: 8:02:58 - loss: 2.1082 - mae: 0.2516 - f1_m: 0.123 - ETA: 8:01:26 - loss: 2.0719 - mae: 0.2502 - f1_m: 0.124 - ETA: 8:00:12 - loss: 2.0249 - mae: 0.2492 - f1_m: 0.127 - ETA: 7:58:48 - loss: 2.0447 - mae: 0.2514 - f1_m: 0.126 - ETA: 7:57:12 - loss: 2.0653 - mae: 0.2534 - f1_m: 0.126 - ETA: 7:55:57 - loss: 2.0792 - mae: 0.2521 - f1_m: 0.124 - ETA: 7:54:39 - loss: 2.0823 - mae: 0.2518 - f1_m: 0.124 - ETA: 7:53:29 - loss: 2.0853 - mae: 0.2509 - f1_m: 0.123 - ETA: 7:52:17 - loss: 2.0858 - mae: 0.2506 - f1_m: 0.123 - ETA: 7:51:10 - loss: 2.0511 - mae: 0.2528 - f1_m: 0.127 - ETA: 7:50:04 - loss: 2.0444 - mae: 0.2517 - f1_m: 0.127 - ETA: 7:48:59 - loss: 2.0128 - mae: 0.2513 - f1_m: 0.129 - ETA: 7:48:02 - loss: 2.0014 - mae: 0.2514 - f1_m: 0.130 - ETA: 7:47:05 - loss: 1.9871 - mae: 0.2511 - f1_m: 0.130 - ETA: 7:46:03 - loss: 1.9544 - mae: 0.2507 - f1_m: 0.133 - ETA: 7:44:59 - loss: 1.9505 - mae: 0.2500 - f1_m: 0.133 - ETA: 7:44:00 - loss: 2.0063 - mae: 0.2493 - f1_m: 0.130 - ETA: 7:42:53 - loss: 1.9975 - mae: 0.2486 - f1_m: 0.130 - ETA: 7:41:52 - loss: 2.0062 - mae: 0.2480 - f1_m: 0.129 - ETA: 7:40:54 - loss: 2.0274 - mae: 0.2479 - f1_m: 0.128 - ETA: 7:39:45 - loss: 2.0375 - mae: 0.2474 - f1_m: 0.127 - ETA: 7:38:43 - loss: 2.0168 - mae: 0.2470 - f1_m: 0.128 - ETA: 7:37:34 - loss: 2.0541 - mae: 0.2464 - f1_m: 0.127 - ETA: 7:36:30 - loss: 2.0368 - mae: 0.2467 - f1_m: 0.128 - ETA: 7:35:31 - loss: 2.0115 - mae: 0.2461 - f1_m: 0.130 - ETA: 7:34:32 - loss: 2.0091 - mae: 0.2459 - f1_m: 0.130 - ETA: 7:33:33 - loss: 2.0047 - mae: 0.2456 - f1_m: 0.130 - ETA: 7:32:33 - loss: 2.0179 - mae: 0.2451 - f1_m: 0.129 - ETA: 7:31:38 - loss: 1.9922 - mae: 0.2455 - f1_m: 0.132 - ETA: 7:30:39 - loss: 1.9995 - mae: 0.2450 - f1_m: 0.131 - ETA: 7:29:47 - loss: 1.9842 - mae: 0.2451 - f1_m: 0.132 - ETA: 7:28:51 - loss: 1.9921 - mae: 0.2445 - f1_m: 0.131 - ETA: 7:27:56 - loss: 1.9884 - mae: 0.2441 - f1_m: 0.131 - ETA: 7:27:02 - loss: 1.9803 - mae: 0.2442 - f1_m: 0.132 - ETA: 7:26:07 - loss: 1.9825 - mae: 0.2435 - f1_m: 0.131 - ETA: 7:25:13 - loss: 1.9903 - mae: 0.2431 - f1_m: 0.130 - ETA: 7:24:19 - loss: 2.0013 - mae: 0.2428 - f1_m: 0.129 - ETA: 7:23:24 - loss: 1.9971 - mae: 0.2428 - f1_m: 0.129 - ETA: 7:22:27 - loss: 1.9834 - mae: 0.2427 - f1_m: 0.130 - ETA: 7:21:27 - loss: 1.9826 - mae: 0.2428 - f1_m: 0.130 - ETA: 7:20:30 - loss: 1.9760 - mae: 0.2428 - f1_m: 0.131 - ETA: 7:19:35 - loss: 1.9639 - mae: 0.2434 - f1_m: 0.132 - ETA: 7:18:39 - loss: 1.9632 - mae: 0.2440 - f1_m: 0.132 - ETA: 7:17:41 - loss: 1.9572 - mae: 0.2444 - f1_m: 0.133 - ETA: 7:16:45 - loss: 1.9483 - mae: 0.2447 - f1_m: 0.134 - ETA: 7:15:46 - loss: 1.9454 - mae: 0.2454 - f1_m: 0.134 - ETA: 7:14:49 - loss: 1.9464 - mae: 0.2454 - f1_m: 0.134 - ETA: 7:13:54 - loss: 1.9386 - mae: 0.2459 - f1_m: 0.135 - ETA: 7:12:57 - loss: 1.9343 - mae: 0.2463 - f1_m: 0.135 - ETA: 7:12:01 - loss: 1.9383 - mae: 0.2463 - f1_m: 0.135 - ETA: 7:11:05 - loss: 1.9304 - mae: 0.2467 - f1_m: 0.135 - ETA: 7:10:08 - loss: 1.9205 - mae: 0.2466 - f1_m: 0.136 - ETA: 7:09:12 - loss: 1.9246 - mae: 0.2465 - f1_m: 0.136 - ETA: 7:08:17 - loss: 1.9192 - mae: 0.2468 - f1_m: 0.136 - ETA: 7:07:23 - loss: 1.9105 - mae: 0.2477 - f1_m: 0.138 - ETA: 7:06:26 - loss: 1.9023 - mae: 0.2477 - f1_m: 0.138 - ETA: 7:05:30 - loss: 1.8932 - mae: 0.2482 - f1_m: 0.139 - ETA: 7:04:32 - loss: 1.8835 - mae: 0.2483 - f1_m: 0.140 - ETA: 7:03:37 - loss: 1.8779 - mae: 0.2485 - f1_m: 0.141 - ETA: 7:02:43 - loss: 1.8704 - mae: 0.2487 - f1_m: 0.142 - ETA: 7:01:46 - loss: 1.8705 - mae: 0.2487 - f1_m: 0.142 - ETA: 7:00:52 - loss: 1.8628 - mae: 0.2491 - f1_m: 0.143 - ETA: 6:59:57 - loss: 1.8554 - mae: 0.2497 - f1_m: 0.144 - ETA: 6:59:02 - loss: 1.8439 - mae: 0.2501 - f1_m: 0.145 - ETA: 6:58:08 - loss: 1.8396 - mae: 0.2503 - f1_m: 0.146 - ETA: 6:57:14 - loss: 1.8348 - mae: 0.2508 - f1_m: 0.146 - ETA: 6:56:20 - loss: 1.8288 - mae: 0.2511 - f1_m: 0.147 - ETA: 6:55:27 - loss: 1.8247 - mae: 0.2522 - f1_m: 0.148 - ETA: 6:54:32 - loss: 1.8172 - mae: 0.2528 - f1_m: 0.149 - ETA: 6:53:38 - loss: 1.8100 - mae: 0.2534 - f1_m: 0.150 - ETA: 6:52:42 - loss: 1.8076 - mae: 0.2539 - f1_m: 0.151 - ETA: 6:51:54 - loss: 1.8019 - mae: 0.2544 - f1_m: 0.152 - ETA: 6:51:06 - loss: 1.7942 - mae: 0.2552 - f1_m: 0.153 - ETA: 6:50:17 - loss: 1.7908 - mae: 0.2556 - f1_m: 0.153 - ETA: 6:49:30 - loss: 1.7892 - mae: 0.2558 - f1_m: 0.154 - ETA: 6:48:46 - loss: 1.7852 - mae: 0.2561 - f1_m: 0.154 - ETA: 6:47:58 - loss: 1.7822 - mae: 0.2563 - f1_m: 0.154 - ETA: 6:47:09 - loss: 1.7785 - mae: 0.2569 - f1_m: 0.155 - ETA: 6:46:20 - loss: 1.7742 - mae: 0.2580 - f1_m: 0.156 - ETA: 6:45:30 - loss: 1.7681 - mae: 0.2583 - f1_m: 0.157 - ETA: 6:44:42 - loss: 1.7621 - mae: 0.2588 - f1_m: 0.158 - ETA: 6:43:51 - loss: 1.7583 - mae: 0.2591 - f1_m: 0.158 - ETA: 6:43:02 - loss: 1.7596 - mae: 0.2601 - f1_m: 0.159 - ETA: 6:42:12 - loss: 1.7547 - mae: 0.2604 - f1_m: 0.159 - ETA: 6:41:22 - loss: 1.7495 - mae: 0.2611 - f1_m: 0.160 - ETA: 6:40:30 - loss: 1.7471 - mae: 0.2610 - f1_m: 0.161 - ETA: 6:39:40 - loss: 1.7427 - mae: 0.2626 - f1_m: 0.162 - ETA: 6:38:50 - loss: 1.7375 - mae: 0.2632 - f1_m: 0.163 - ETA: 6:37:59 - loss: 1.7319 - mae: 0.2637 - f1_m: 0.164 - ETA: 6:37:10 - loss: 1.7271 - mae: 0.2639 - f1_m: 0.165 - ETA: 6:36:18 - loss: 1.7223 - mae: 0.2640 - f1_m: 0.165 - ETA: 6:35:28 - loss: 1.7189 - mae: 0.2641 - f1_m: 0.166 - ETA: 6:34:36 - loss: 1.7184 - mae: 0.2640 - f1_m: 0.165 - ETA: 6:33:45 - loss: 1.7149 - mae: 0.2645 - f1_m: 0.166 - ETA: 6:32:54 - loss: 1.7120 - mae: 0.2647 - f1_m: 0.166 - ETA: 6:32:03 - loss: 1.7083 - mae: 0.2654 - f1_m: 0.167 - ETA: 6:31:13 - loss: 1.7034 - mae: 0.2658 - f1_m: 0.168 - ETA: 6:30:22 - loss: 1.7002 - mae: 0.2659 - f1_m: 0.168 - ETA: 6:29:31 - loss: 1.6970 - mae: 0.2667 - f1_m: 0.169 - ETA: 6:28:40 - loss: 1.6929 - mae: 0.2674 - f1_m: 0.170 - ETA: 6:27:48 - loss: 1.6890 - mae: 0.2682 - f1_m: 0.171 - ETA: 6:26:57 - loss: 1.6833 - mae: 0.2686 - f1_m: 0.172 - ETA: 6:26:07 - loss: 1.6787 - mae: 0.2693 - f1_m: 0.173 - ETA: 6:25:16 - loss: 1.6752 - mae: 0.2701 - f1_m: 0.174 - ETA: 6:24:25 - loss: 1.6709 - mae: 0.2710 - f1_m: 0.176 - ETA: 6:23:35 - loss: 1.6668 - mae: 0.2718 - f1_m: 0.177 - ETA: 6:22:43 - loss: 1.6635 - mae: 0.2722 - f1_m: 0.177 - ETA: 6:21:52 - loss: 1.6611 - mae: 0.2736 - f1_m: 0.179 - ETA: 6:21:01 - loss: 1.6584 - mae: 0.2742 - f1_m: 0.179 - ETA: 6:20:10 - loss: 1.6543 - mae: 0.2747 - f1_m: 0.180 - ETA: 6:19:18 - loss: 1.6499 - mae: 0.2749 - f1_m: 0.181 - ETA: 6:18:27 - loss: 1.6495 - mae: 0.2752 - f1_m: 0.181 - ETA: 6:17:32 - loss: 1.6466 - mae: 0.2754 - f1_m: 0.181 - ETA: 6:16:37 - loss: 1.6453 - mae: 0.2757 - f1_m: 0.182 - ETA: 6:15:41 - loss: 1.6434 - mae: 0.2762 - f1_m: 0.182 - ETA: 6:14:45 - loss: 1.6397 - mae: 0.2768 - f1_m: 0.183 - ETA: 6:13:49 - loss: 1.6363 - mae: 0.2773 - f1_m: 0.184 - ETA: 6:12:54 - loss: 1.6323 - mae: 0.2776 - f1_m: 0.184 - ETA: 6:11:59 - loss: 1.6305 - mae: 0.2780 - f1_m: 0.185 - ETA: 6:11:02 - loss: 1.6284 - mae: 0.2783 - f1_m: 0.185 - ETA: 6:10:06 - loss: 1.6292 - mae: 0.2788 - f1_m: 0.185 - ETA: 6:09:10 - loss: 1.6291 - mae: 0.2790 - f1_m: 0.185 - ETA: 6:08:14 - loss: 1.6266 - mae: 0.2790 - f1_m: 0.186 - ETA: 6:07:17 - loss: 1.6231 - mae: 0.2794 - f1_m: 0.186 - ETA: 6:06:22 - loss: 1.6197 - mae: 0.2796 - f1_m: 0.187 - ETA: 6:05:26 - loss: 1.6171 - mae: 0.2806 - f1_m: 0.188 - ETA: 6:04:31 - loss: 1.6145 - mae: 0.2807 - f1_m: 0.188 - ETA: 6:03:37 - loss: 1.6115 - mae: 0.2808 - f1_m: 0.189 - ETA: 6:02:43 - loss: 1.6094 - mae: 0.2816 - f1_m: 0.189 - ETA: 6:01:48 - loss: 1.6083 - mae: 0.2823 - f1_m: 0.190 - ETA: 6:00:52 - loss: 1.6048 - mae: 0.2827 - f1_m: 0.191 - ETA: 5:59:57 - loss: 1.6021 - mae: 0.2829 - f1_m: 0.1916\b\b\b\b\b\b\b\b\b\b\b\b\b\b\b\b\b\b\b\b\b\b\b\b\b\b\b\b\b\b\b\b\b\b\b\b\b\b\b\b\b\b\b\b\b\b\b\b\b\b\b\b\b\b\b\b\b\b\b\b\b\b\b\b\b\b\b\b\b\b\b\b\b\b\b\b\b\b\b\b\b\b\b\b\b\b\b\b\b\b\b\b\b\b\b\b\b\b\b"
     ]
    },
    {
     "name": "stdout",
     "output_type": "stream",
     "text": [
      "282/541 [==============>...............] - ETA: 5:59:02 - loss: 1.5985 - mae: 0.2828 - f1_m: 0.192 - ETA: 5:58:09 - loss: 1.5968 - mae: 0.2833 - f1_m: 0.192 - ETA: 5:57:16 - loss: 1.5933 - mae: 0.2835 - f1_m: 0.193 - ETA: 5:56:32 - loss: 1.5908 - mae: 0.2837 - f1_m: 0.193 - ETA: 5:55:41 - loss: 1.5891 - mae: 0.2841 - f1_m: 0.193 - ETA: 5:54:51 - loss: 1.5888 - mae: 0.2840 - f1_m: 0.193 - ETA: 5:54:00 - loss: 1.5879 - mae: 0.2841 - f1_m: 0.193 - ETA: 5:53:10 - loss: 1.5894 - mae: 0.2842 - f1_m: 0.193 - ETA: 5:52:19 - loss: 1.5876 - mae: 0.2842 - f1_m: 0.193 - ETA: 5:51:28 - loss: 1.5858 - mae: 0.2843 - f1_m: 0.194 - ETA: 5:50:38 - loss: 1.5835 - mae: 0.2845 - f1_m: 0.194 - ETA: 5:49:47 - loss: 1.5812 - mae: 0.2852 - f1_m: 0.195 - ETA: 5:48:56 - loss: 1.5783 - mae: 0.2854 - f1_m: 0.195 - ETA: 5:48:04 - loss: 1.5759 - mae: 0.2852 - f1_m: 0.195 - ETA: 5:47:13 - loss: 1.5751 - mae: 0.2850 - f1_m: 0.195 - ETA: 5:46:20 - loss: 1.5756 - mae: 0.2852 - f1_m: 0.195 - ETA: 5:45:27 - loss: 1.5748 - mae: 0.2851 - f1_m: 0.195 - ETA: 5:44:34 - loss: 1.5753 - mae: 0.2850 - f1_m: 0.195 - ETA: 5:43:41 - loss: 1.5767 - mae: 0.2849 - f1_m: 0.195 - ETA: 5:42:47 - loss: 1.5757 - mae: 0.2849 - f1_m: 0.195 - ETA: 5:41:55 - loss: 1.5754 - mae: 0.2849 - f1_m: 0.195 - ETA: 5:41:01 - loss: 1.5738 - mae: 0.2851 - f1_m: 0.195 - ETA: 5:40:09 - loss: 1.5759 - mae: 0.2848 - f1_m: 0.195 - ETA: 5:39:16 - loss: 1.5739 - mae: 0.2847 - f1_m: 0.195 - ETA: 5:38:23 - loss: 1.5745 - mae: 0.2844 - f1_m: 0.194 - ETA: 5:37:30 - loss: 1.5741 - mae: 0.2842 - f1_m: 0.194 - ETA: 5:36:37 - loss: 1.5783 - mae: 0.2840 - f1_m: 0.194 - ETA: 5:35:45 - loss: 1.5776 - mae: 0.2838 - f1_m: 0.194 - ETA: 5:34:51 - loss: 1.5757 - mae: 0.2837 - f1_m: 0.194 - ETA: 5:33:58 - loss: 1.5737 - mae: 0.2836 - f1_m: 0.194 - ETA: 5:33:05 - loss: 1.5732 - mae: 0.2834 - f1_m: 0.194 - ETA: 5:32:11 - loss: 1.5753 - mae: 0.2832 - f1_m: 0.193 - ETA: 5:31:18 - loss: 1.5750 - mae: 0.2832 - f1_m: 0.193 - ETA: 5:30:25 - loss: 1.5769 - mae: 0.2829 - f1_m: 0.193 - ETA: 5:29:32 - loss: 1.5785 - mae: 0.2828 - f1_m: 0.192 - ETA: 5:28:39 - loss: 1.5772 - mae: 0.2830 - f1_m: 0.193 - ETA: 5:27:45 - loss: 1.5760 - mae: 0.2830 - f1_m: 0.193 - ETA: 5:26:52 - loss: 1.5758 - mae: 0.2830 - f1_m: 0.193 - ETA: 5:25:58 - loss: 1.5735 - mae: 0.2830 - f1_m: 0.193 - ETA: 5:25:05 - loss: 1.5744 - mae: 0.2838 - f1_m: 0.193 - ETA: 5:24:12 - loss: 1.5769 - mae: 0.2835 - f1_m: 0.193 - ETA: 5:23:18 - loss: 1.5786 - mae: 0.2833 - f1_m: 0.193 - ETA: 5:22:25 - loss: 1.5791 - mae: 0.2830 - f1_m: 0.192 - ETA: 5:21:32 - loss: 1.5788 - mae: 0.2830 - f1_m: 0.192 - ETA: 5:20:38 - loss: 1.5794 - mae: 0.2829 - f1_m: 0.192 - ETA: 5:19:45 - loss: 1.5798 - mae: 0.2827 - f1_m: 0.192 - ETA: 5:18:52 - loss: 1.5820 - mae: 0.2826 - f1_m: 0.192 - ETA: 5:17:59 - loss: 1.5794 - mae: 0.2825 - f1_m: 0.192 - ETA: 5:17:05 - loss: 1.5791 - mae: 0.2825 - f1_m: 0.192 - ETA: 5:16:11 - loss: 1.5795 - mae: 0.2824 - f1_m: 0.192 - ETA: 5:15:18 - loss: 1.5783 - mae: 0.2823 - f1_m: 0.192 - ETA: 5:14:24 - loss: 1.5788 - mae: 0.2822 - f1_m: 0.191 - ETA: 5:13:30 - loss: 1.5779 - mae: 0.2820 - f1_m: 0.191 - ETA: 5:12:37 - loss: 1.5800 - mae: 0.2818 - f1_m: 0.191 - ETA: 5:11:43 - loss: 1.5785 - mae: 0.2818 - f1_m: 0.191 - ETA: 5:10:49 - loss: 1.5772 - mae: 0.2815 - f1_m: 0.191 - ETA: 5:09:55 - loss: 1.5770 - mae: 0.2813 - f1_m: 0.191 - ETA: 5:09:02 - loss: 1.5764 - mae: 0.2812 - f1_m: 0.191 - ETA: 5:08:08 - loss: 1.5756 - mae: 0.2811 - f1_m: 0.191 - ETA: 5:07:14 - loss: 1.5740 - mae: 0.2810 - f1_m: 0.191 - ETA: 5:06:21 - loss: 1.5733 - mae: 0.2809 - f1_m: 0.191 - ETA: 5:05:27 - loss: 1.5745 - mae: 0.2806 - f1_m: 0.190 - ETA: 5:04:34 - loss: 1.5791 - mae: 0.2804 - f1_m: 0.190 - ETA: 5:03:40 - loss: 1.5851 - mae: 0.2802 - f1_m: 0.189 - ETA: 5:02:46 - loss: 1.5871 - mae: 0.2801 - f1_m: 0.189 - ETA: 5:01:53 - loss: 1.5868 - mae: 0.2799 - f1_m: 0.189 - ETA: 5:00:59 - loss: 1.5870 - mae: 0.2796 - f1_m: 0.189 - ETA: 5:00:05 - loss: 1.5844 - mae: 0.2794 - f1_m: 0.189 - ETA: 4:59:11 - loss: 1.5833 - mae: 0.2792 - f1_m: 0.189 - ETA: 4:58:18 - loss: 1.5838 - mae: 0.2789 - f1_m: 0.188 - ETA: 4:57:24 - loss: 1.5840 - mae: 0.2786 - f1_m: 0.188 - ETA: 4:56:31 - loss: 1.5815 - mae: 0.2785 - f1_m: 0.188 - ETA: 4:55:37 - loss: 1.5824 - mae: 0.2783 - f1_m: 0.188 - ETA: 4:54:44 - loss: 1.5798 - mae: 0.2783 - f1_m: 0.189 - ETA: 4:53:50 - loss: 1.5785 - mae: 0.2782 - f1_m: 0.189 - ETA: 4:52:57 - loss: 1.5788 - mae: 0.2780 - f1_m: 0.188 - ETA: 4:52:04 - loss: 1.5763 - mae: 0.2779 - f1_m: 0.189 - ETA: 4:51:10 - loss: 1.5761 - mae: 0.2777 - f1_m: 0.189 - ETA: 4:50:16 - loss: 1.5772 - mae: 0.2776 - f1_m: 0.188 - ETA: 4:49:23 - loss: 1.5787 - mae: 0.2776 - f1_m: 0.188 - ETA: 4:48:29 - loss: 1.5810 - mae: 0.2774 - f1_m: 0.188 - ETA: 4:47:36 - loss: 1.5792 - mae: 0.2775 - f1_m: 0.188 - ETA: 4:46:42 - loss: 1.5812 - mae: 0.2772 - f1_m: 0.188 - ETA: 4:45:49 - loss: 1.5807 - mae: 0.2771 - f1_m: 0.188 - ETA: 4:44:55 - loss: 1.5821 - mae: 0.2768 - f1_m: 0.187 - ETA: 4:44:01 - loss: 1.5809 - mae: 0.2767 - f1_m: 0.187 - ETA: 4:43:08 - loss: 1.5800 - mae: 0.2765 - f1_m: 0.187 - ETA: 4:42:14 - loss: 1.5816 - mae: 0.2763 - f1_m: 0.187 - ETA: 4:41:21 - loss: 1.5819 - mae: 0.2760 - f1_m: 0.187 - ETA: 4:40:27 - loss: 1.5812 - mae: 0.2758 - f1_m: 0.186 - ETA: 4:39:33 - loss: 1.5804 - mae: 0.2756 - f1_m: 0.186 - ETA: 4:38:40 - loss: 1.5786 - mae: 0.2754 - f1_m: 0.186 - ETA: 4:37:46 - loss: 1.5795 - mae: 0.2753 - f1_m: 0.186 - ETA: 4:36:52 - loss: 1.5808 - mae: 0.2751 - f1_m: 0.186 - ETA: 4:35:59 - loss: 1.5785 - mae: 0.2750 - f1_m: 0.186 - ETA: 4:35:05 - loss: 1.5775 - mae: 0.2749 - f1_m: 0.186 - ETA: 4:34:11 - loss: 1.5760 - mae: 0.2748 - f1_m: 0.186 - ETA: 4:33:17 - loss: 1.5764 - mae: 0.2746 - f1_m: 0.186 - ETA: 4:32:23 - loss: 1.5770 - mae: 0.2746 - f1_m: 0.186 - ETA: 4:31:29 - loss: 1.5740 - mae: 0.2745 - f1_m: 0.186 - ETA: 4:30:35 - loss: 1.5753 - mae: 0.2745 - f1_m: 0.186 - ETA: 4:29:41 - loss: 1.5748 - mae: 0.2744 - f1_m: 0.186 - ETA: 4:28:47 - loss: 1.5740 - mae: 0.2744 - f1_m: 0.186 - ETA: 4:27:53 - loss: 1.5746 - mae: 0.2743 - f1_m: 0.186 - ETA: 4:26:59 - loss: 1.5719 - mae: 0.2742 - f1_m: 0.186 - ETA: 4:26:05 - loss: 1.5719 - mae: 0.2740 - f1_m: 0.186 - ETA: 4:25:10 - loss: 1.5727 - mae: 0.2739 - f1_m: 0.186 - ETA: 4:24:17 - loss: 1.5716 - mae: 0.2738 - f1_m: 0.186 - ETA: 4:23:23 - loss: 1.5707 - mae: 0.2738 - f1_m: 0.186 - ETA: 4:22:29 - loss: 1.5697 - mae: 0.2737 - f1_m: 0.186 - ETA: 4:21:35 - loss: 1.5704 - mae: 0.2735 - f1_m: 0.186 - ETA: 4:20:41 - loss: 1.5704 - mae: 0.2735 - f1_m: 0.186 - ETA: 4:19:47 - loss: 1.5691 - mae: 0.2738 - f1_m: 0.186 - ETA: 4:18:53 - loss: 1.5676 - mae: 0.2738 - f1_m: 0.186 - ETA: 4:18:00 - loss: 1.5662 - mae: 0.2738 - f1_m: 0.186 - ETA: 4:17:08 - loss: 1.5653 - mae: 0.2736 - f1_m: 0.186 - ETA: 4:16:14 - loss: 1.5639 - mae: 0.2736 - f1_m: 0.187 - ETA: 4:15:20 - loss: 1.5626 - mae: 0.2737 - f1_m: 0.187 - ETA: 4:14:27 - loss: 1.5610 - mae: 0.2739 - f1_m: 0.187 - ETA: 4:13:33 - loss: 1.5599 - mae: 0.2738 - f1_m: 0.187 - ETA: 4:12:39 - loss: 1.5596 - mae: 0.2738 - f1_m: 0.187 - ETA: 4:11:45 - loss: 1.5582 - mae: 0.2737 - f1_m: 0.187 - ETA: 4:10:51 - loss: 1.5569 - mae: 0.2737 - f1_m: 0.187 - ETA: 4:09:57 - loss: 1.5556 - mae: 0.2738 - f1_m: 0.188 - ETA: 4:09:03 - loss: 1.5543 - mae: 0.2738 - f1_m: 0.188 - ETA: 4:08:09 - loss: 1.5532 - mae: 0.2738 - f1_m: 0.188 - ETA: 4:07:15 - loss: 1.5519 - mae: 0.2739 - f1_m: 0.188 - ETA: 4:06:22 - loss: 1.5514 - mae: 0.2741 - f1_m: 0.188 - ETA: 4:05:27 - loss: 1.5503 - mae: 0.2740 - f1_m: 0.188 - ETA: 4:04:33 - loss: 1.5492 - mae: 0.2739 - f1_m: 0.188 - ETA: 4:03:39 - loss: 1.5489 - mae: 0.2738 - f1_m: 0.188 - ETA: 4:02:45 - loss: 1.5477 - mae: 0.2740 - f1_m: 0.189 - ETA: 4:01:51 - loss: 1.5462 - mae: 0.2742 - f1_m: 0.189 - ETA: 4:00:57 - loss: 1.5452 - mae: 0.2742 - f1_m: 0.189 - ETA: 4:00:04 - loss: 1.5438 - mae: 0.2742 - f1_m: 0.189 - ETA: 3:59:10 - loss: 1.5430 - mae: 0.2744 - f1_m: 0.189 - ETA: 3:58:16 - loss: 1.5419 - mae: 0.2743 - f1_m: 0.189 - ETA: 3:57:22 - loss: 1.5405 - mae: 0.2743 - f1_m: 0.190 - ETA: 3:56:28 - loss: 1.5394 - mae: 0.2744 - f1_m: 0.190 - ETA: 3:55:34 - loss: 1.5385 - mae: 0.2746 - f1_m: 0.190 - ETA: 3:54:39 - loss: 1.5370 - mae: 0.2747 - f1_m: 0.1908"
     ]
    },
    {
     "name": "stdout",
     "output_type": "stream",
     "text": [
      "423/541 [======================>.......] - ETA: 3:53:45 - loss: 1.5364 - mae: 0.2749 - f1_m: 0.191 - ETA: 3:52:51 - loss: 1.5352 - mae: 0.2751 - f1_m: 0.191 - ETA: 3:51:57 - loss: 1.5338 - mae: 0.2752 - f1_m: 0.191 - ETA: 3:51:03 - loss: 1.5325 - mae: 0.2753 - f1_m: 0.191 - ETA: 3:50:08 - loss: 1.5309 - mae: 0.2755 - f1_m: 0.192 - ETA: 3:49:14 - loss: 1.5302 - mae: 0.2755 - f1_m: 0.192 - ETA: 3:48:20 - loss: 1.5289 - mae: 0.2756 - f1_m: 0.192 - ETA: 3:47:26 - loss: 1.5287 - mae: 0.2757 - f1_m: 0.192 - ETA: 3:46:32 - loss: 1.5285 - mae: 0.2757 - f1_m: 0.192 - ETA: 3:45:37 - loss: 1.5281 - mae: 0.2757 - f1_m: 0.192 - ETA: 3:44:43 - loss: 1.5279 - mae: 0.2756 - f1_m: 0.192 - ETA: 3:43:49 - loss: 1.5277 - mae: 0.2755 - f1_m: 0.192 - ETA: 3:42:55 - loss: 1.5271 - mae: 0.2755 - f1_m: 0.192 - ETA: 3:42:01 - loss: 1.5263 - mae: 0.2756 - f1_m: 0.192 - ETA: 3:41:07 - loss: 1.5249 - mae: 0.2757 - f1_m: 0.192 - ETA: 3:40:13 - loss: 1.5236 - mae: 0.2757 - f1_m: 0.193 - ETA: 3:39:19 - loss: 1.5222 - mae: 0.2759 - f1_m: 0.193 - ETA: 3:38:25 - loss: 1.5207 - mae: 0.2761 - f1_m: 0.193 - ETA: 3:37:30 - loss: 1.5193 - mae: 0.2763 - f1_m: 0.194 - ETA: 3:36:36 - loss: 1.5180 - mae: 0.2766 - f1_m: 0.194 - ETA: 3:35:42 - loss: 1.5164 - mae: 0.2767 - f1_m: 0.194 - ETA: 3:34:48 - loss: 1.5153 - mae: 0.2768 - f1_m: 0.195 - ETA: 3:33:53 - loss: 1.5146 - mae: 0.2767 - f1_m: 0.195 - ETA: 3:32:59 - loss: 1.5141 - mae: 0.2766 - f1_m: 0.195 - ETA: 3:32:05 - loss: 1.5137 - mae: 0.2767 - f1_m: 0.195 - ETA: 3:31:11 - loss: 1.5131 - mae: 0.2768 - f1_m: 0.195 - ETA: 3:30:17 - loss: 1.5120 - mae: 0.2772 - f1_m: 0.195 - ETA: 3:29:23 - loss: 1.5111 - mae: 0.2772 - f1_m: 0.195 - ETA: 3:28:28 - loss: 1.5108 - mae: 0.2771 - f1_m: 0.195 - ETA: 3:27:34 - loss: 1.5098 - mae: 0.2770 - f1_m: 0.195 - ETA: 3:26:40 - loss: 1.5091 - mae: 0.2769 - f1_m: 0.195 - ETA: 3:25:46 - loss: 1.5085 - mae: 0.2770 - f1_m: 0.195 - ETA: 3:24:52 - loss: 1.5076 - mae: 0.2769 - f1_m: 0.195 - ETA: 3:23:57 - loss: 1.5062 - mae: 0.2769 - f1_m: 0.196 - ETA: 3:23:03 - loss: 1.5056 - mae: 0.2769 - f1_m: 0.196 - ETA: 3:22:09 - loss: 1.5048 - mae: 0.2769 - f1_m: 0.196 - ETA: 3:21:15 - loss: 1.5035 - mae: 0.2770 - f1_m: 0.196 - ETA: 3:20:20 - loss: 1.5024 - mae: 0.2770 - f1_m: 0.196 - ETA: 3:19:30 - loss: 1.5016 - mae: 0.2772 - f1_m: 0.196 - ETA: 3:18:40 - loss: 1.5002 - mae: 0.2774 - f1_m: 0.197 - ETA: 3:17:46 - loss: 1.4991 - mae: 0.2775 - f1_m: 0.197 - ETA: 3:16:52 - loss: 1.4983 - mae: 0.2776 - f1_m: 0.197 - ETA: 3:15:58 - loss: 1.4992 - mae: 0.2781 - f1_m: 0.197 - ETA: 3:15:03 - loss: 1.4977 - mae: 0.2781 - f1_m: 0.198 - ETA: 3:14:09 - loss: 1.4979 - mae: 0.2781 - f1_m: 0.198 - ETA: 3:13:15 - loss: 1.4981 - mae: 0.2780 - f1_m: 0.197 - ETA: 3:12:20 - loss: 1.4975 - mae: 0.2781 - f1_m: 0.198 - ETA: 3:11:26 - loss: 1.4972 - mae: 0.2780 - f1_m: 0.197 - ETA: 3:10:32 - loss: 1.4976 - mae: 0.2779 - f1_m: 0.197 - ETA: 3:09:37 - loss: 1.4966 - mae: 0.2780 - f1_m: 0.197 - ETA: 3:08:43 - loss: 1.4970 - mae: 0.2778 - f1_m: 0.197 - ETA: 3:07:49 - loss: 1.4959 - mae: 0.2779 - f1_m: 0.198 - ETA: 3:06:54 - loss: 1.4955 - mae: 0.2779 - f1_m: 0.198 - ETA: 3:06:00 - loss: 1.4946 - mae: 0.2780 - f1_m: 0.198 - ETA: 3:05:06 - loss: 1.4941 - mae: 0.2779 - f1_m: 0.198 - ETA: 3:04:12 - loss: 1.4932 - mae: 0.2779 - f1_m: 0.198 - ETA: 3:03:17 - loss: 1.4919 - mae: 0.2780 - f1_m: 0.198 - ETA: 3:02:23 - loss: 1.4917 - mae: 0.2780 - f1_m: 0.198 - ETA: 3:01:28 - loss: 1.4927 - mae: 0.2778 - f1_m: 0.198 - ETA: 3:00:34 - loss: 1.4923 - mae: 0.2778 - f1_m: 0.198 - ETA: 2:59:40 - loss: 1.4917 - mae: 0.2777 - f1_m: 0.198 - ETA: 2:58:46 - loss: 1.4918 - mae: 0.2776 - f1_m: 0.198 - ETA: 2:57:51 - loss: 1.4915 - mae: 0.2775 - f1_m: 0.198 - ETA: 2:56:57 - loss: 1.4920 - mae: 0.2774 - f1_m: 0.198 - ETA: 2:56:03 - loss: 1.4918 - mae: 0.2773 - f1_m: 0.197 - ETA: 2:55:08 - loss: 1.4912 - mae: 0.2773 - f1_m: 0.197 - ETA: 2:54:14 - loss: 1.4903 - mae: 0.2772 - f1_m: 0.198 - ETA: 2:53:20 - loss: 1.4895 - mae: 0.2773 - f1_m: 0.198 - ETA: 2:52:26 - loss: 1.4893 - mae: 0.2773 - f1_m: 0.198 - ETA: 2:51:31 - loss: 1.4889 - mae: 0.2773 - f1_m: 0.198 - ETA: 2:50:37 - loss: 1.4883 - mae: 0.2773 - f1_m: 0.198 - ETA: 2:49:43 - loss: 1.4880 - mae: 0.2772 - f1_m: 0.198 - ETA: 2:48:48 - loss: 1.4871 - mae: 0.2771 - f1_m: 0.198 - ETA: 2:47:54 - loss: 1.4876 - mae: 0.2771 - f1_m: 0.198 - ETA: 2:47:00 - loss: 1.4885 - mae: 0.2769 - f1_m: 0.197 - ETA: 2:46:05 - loss: 1.4877 - mae: 0.2768 - f1_m: 0.197 - ETA: 2:45:11 - loss: 1.4873 - mae: 0.2767 - f1_m: 0.197 - ETA: 2:44:16 - loss: 1.4878 - mae: 0.2766 - f1_m: 0.197 - ETA: 2:43:22 - loss: 1.4878 - mae: 0.2765 - f1_m: 0.197 - ETA: 2:42:28 - loss: 1.4876 - mae: 0.2764 - f1_m: 0.197 - ETA: 2:41:33 - loss: 1.4882 - mae: 0.2763 - f1_m: 0.197 - ETA: 2:40:39 - loss: 1.4875 - mae: 0.2763 - f1_m: 0.197 - ETA: 2:39:45 - loss: 1.4863 - mae: 0.2762 - f1_m: 0.197 - ETA: 2:38:50 - loss: 1.4853 - mae: 0.2761 - f1_m: 0.197 - ETA: 2:37:56 - loss: 1.4849 - mae: 0.2761 - f1_m: 0.197 - ETA: 2:37:01 - loss: 1.4850 - mae: 0.2760 - f1_m: 0.197 - ETA: 2:36:07 - loss: 1.4841 - mae: 0.2760 - f1_m: 0.197 - ETA: 2:35:13 - loss: 1.4859 - mae: 0.2759 - f1_m: 0.197 - ETA: 2:34:18 - loss: 1.4877 - mae: 0.2758 - f1_m: 0.197 - ETA: 2:33:24 - loss: 1.4871 - mae: 0.2757 - f1_m: 0.197 - ETA: 2:32:30 - loss: 1.4870 - mae: 0.2755 - f1_m: 0.196 - ETA: 2:31:35 - loss: 1.4880 - mae: 0.2754 - f1_m: 0.196 - ETA: 2:30:41 - loss: 1.4880 - mae: 0.2754 - f1_m: 0.196 - ETA: 2:29:46 - loss: 1.4878 - mae: 0.2753 - f1_m: 0.196 - ETA: 2:28:52 - loss: 1.4875 - mae: 0.2752 - f1_m: 0.196 - ETA: 2:27:58 - loss: 1.4870 - mae: 0.2752 - f1_m: 0.196 - ETA: 2:27:03 - loss: 1.4870 - mae: 0.2751 - f1_m: 0.196 - ETA: 2:26:09 - loss: 1.4873 - mae: 0.2750 - f1_m: 0.196 - ETA: 2:25:14 - loss: 1.4877 - mae: 0.2749 - f1_m: 0.196 - ETA: 2:24:20 - loss: 1.4861 - mae: 0.2748 - f1_m: 0.196 - ETA: 2:23:25 - loss: 1.4876 - mae: 0.2747 - f1_m: 0.196 - ETA: 2:22:31 - loss: 1.4881 - mae: 0.2746 - f1_m: 0.196 - ETA: 2:21:36 - loss: 1.4871 - mae: 0.2745 - f1_m: 0.196 - ETA: 2:20:42 - loss: 1.4880 - mae: 0.2744 - f1_m: 0.195 - ETA: 2:19:47 - loss: 1.4871 - mae: 0.2743 - f1_m: 0.195 - ETA: 2:18:53 - loss: 1.4874 - mae: 0.2742 - f1_m: 0.195 - ETA: 2:17:59 - loss: 1.4868 - mae: 0.2741 - f1_m: 0.195 - ETA: 2:17:05 - loss: 1.4876 - mae: 0.2739 - f1_m: 0.195 - ETA: 2:16:10 - loss: 1.4874 - mae: 0.2738 - f1_m: 0.195 - ETA: 2:15:16 - loss: 1.4874 - mae: 0.2739 - f1_m: 0.195 - ETA: 2:14:21 - loss: 1.4871 - mae: 0.2738 - f1_m: 0.195 - ETA: 2:13:27 - loss: 1.4873 - mae: 0.2737 - f1_m: 0.195 - ETA: 2:12:32 - loss: 1.4896 - mae: 0.2736 - f1_m: 0.195 - ETA: 2:11:38 - loss: 1.4918 - mae: 0.2734 - f1_m: 0.194 - ETA: 2:10:43 - loss: 1.4918 - mae: 0.2734 - f1_m: 0.194 - ETA: 2:09:49 - loss: 1.4916 - mae: 0.2733 - f1_m: 0.194 - ETA: 2:08:54 - loss: 1.4911 - mae: 0.2732 - f1_m: 0.194 - ETA: 2:08:00 - loss: 1.4903 - mae: 0.2732 - f1_m: 0.194 - ETA: 2:07:06 - loss: 1.4900 - mae: 0.2730 - f1_m: 0.194 - ETA: 2:06:11 - loss: 1.4916 - mae: 0.2729 - f1_m: 0.194 - ETA: 2:05:17 - loss: 1.4914 - mae: 0.2728 - f1_m: 0.194 - ETA: 2:04:22 - loss: 1.4911 - mae: 0.2728 - f1_m: 0.194 - ETA: 2:03:28 - loss: 1.4909 - mae: 0.2727 - f1_m: 0.194 - ETA: 2:02:34 - loss: 1.4905 - mae: 0.2726 - f1_m: 0.194 - ETA: 2:01:39 - loss: 1.4910 - mae: 0.2725 - f1_m: 0.194 - ETA: 2:00:45 - loss: 1.4910 - mae: 0.2724 - f1_m: 0.194 - ETA: 1:59:50 - loss: 1.4910 - mae: 0.2722 - f1_m: 0.193 - ETA: 1:58:56 - loss: 1.4912 - mae: 0.2721 - f1_m: 0.193 - ETA: 1:58:01 - loss: 1.4913 - mae: 0.2720 - f1_m: 0.193 - ETA: 1:57:07 - loss: 1.4909 - mae: 0.2720 - f1_m: 0.193 - ETA: 1:56:12 - loss: 1.4899 - mae: 0.2718 - f1_m: 0.193 - ETA: 1:55:18 - loss: 1.4889 - mae: 0.2718 - f1_m: 0.193 - ETA: 1:54:24 - loss: 1.4885 - mae: 0.2717 - f1_m: 0.193 - ETA: 1:53:29 - loss: 1.4882 - mae: 0.2717 - f1_m: 0.193 - ETA: 1:52:35 - loss: 1.4888 - mae: 0.2715 - f1_m: 0.193 - ETA: 1:51:41 - loss: 1.4879 - mae: 0.2715 - f1_m: 0.193 - ETA: 1:50:46 - loss: 1.4884 - mae: 0.2714 - f1_m: 0.193 - ETA: 1:49:52 - loss: 1.4882 - mae: 0.2713 - f1_m: 0.193 - ETA: 1:48:57 - loss: 1.4873 - mae: 0.2713 - f1_m: 0.193 - ETA: 1:48:03 - loss: 1.4862 - mae: 0.2712 - f1_m: 0.193 - ETA: 1:47:09 - loss: 1.4853 - mae: 0.2712 - f1_m: 0.1937"
     ]
    },
    {
     "name": "stdout",
     "output_type": "stream",
     "text": [
      "540/541 [============================>.] - ETA: 1:46:14 - loss: 1.4841 - mae: 0.2712 - f1_m: 0.194 - ETA: 1:45:20 - loss: 1.4833 - mae: 0.2712 - f1_m: 0.194 - ETA: 1:44:25 - loss: 1.4823 - mae: 0.2711 - f1_m: 0.194 - ETA: 1:43:31 - loss: 1.4830 - mae: 0.2709 - f1_m: 0.193 - ETA: 1:42:36 - loss: 1.4826 - mae: 0.2710 - f1_m: 0.193 - ETA: 1:41:42 - loss: 1.4827 - mae: 0.2708 - f1_m: 0.193 - ETA: 1:40:47 - loss: 1.4822 - mae: 0.2707 - f1_m: 0.193 - ETA: 1:39:53 - loss: 1.4809 - mae: 0.2707 - f1_m: 0.194 - ETA: 1:38:58 - loss: 1.4815 - mae: 0.2706 - f1_m: 0.193 - ETA: 1:38:04 - loss: 1.4807 - mae: 0.2707 - f1_m: 0.194 - ETA: 1:37:10 - loss: 1.4801 - mae: 0.2708 - f1_m: 0.194 - ETA: 1:36:15 - loss: 1.4794 - mae: 0.2708 - f1_m: 0.194 - ETA: 1:35:21 - loss: 1.4781 - mae: 0.2708 - f1_m: 0.194 - ETA: 1:34:26 - loss: 1.4776 - mae: 0.2708 - f1_m: 0.194 - ETA: 1:33:32 - loss: 1.4771 - mae: 0.2709 - f1_m: 0.194 - ETA: 1:32:37 - loss: 1.4761 - mae: 0.2711 - f1_m: 0.195 - ETA: 1:31:43 - loss: 1.4752 - mae: 0.2713 - f1_m: 0.195 - ETA: 1:30:48 - loss: 1.4745 - mae: 0.2715 - f1_m: 0.195 - ETA: 1:29:54 - loss: 1.4738 - mae: 0.2715 - f1_m: 0.195 - ETA: 1:28:59 - loss: 1.4731 - mae: 0.2717 - f1_m: 0.195 - ETA: 1:28:05 - loss: 1.4728 - mae: 0.2716 - f1_m: 0.195 - ETA: 1:27:11 - loss: 1.4721 - mae: 0.2716 - f1_m: 0.195 - ETA: 1:26:16 - loss: 1.4714 - mae: 0.2716 - f1_m: 0.196 - ETA: 1:25:22 - loss: 1.4710 - mae: 0.2716 - f1_m: 0.196 - ETA: 1:24:27 - loss: 1.4701 - mae: 0.2716 - f1_m: 0.196 - ETA: 1:23:33 - loss: 1.4692 - mae: 0.2716 - f1_m: 0.196 - ETA: 1:22:38 - loss: 1.4690 - mae: 0.2716 - f1_m: 0.196 - ETA: 1:21:44 - loss: 1.4686 - mae: 0.2716 - f1_m: 0.196 - ETA: 1:20:49 - loss: 1.4683 - mae: 0.2718 - f1_m: 0.196 - ETA: 1:19:55 - loss: 1.4673 - mae: 0.2718 - f1_m: 0.196 - ETA: 1:19:01 - loss: 1.4664 - mae: 0.2720 - f1_m: 0.197 - ETA: 1:18:06 - loss: 1.4656 - mae: 0.2722 - f1_m: 0.197 - ETA: 1:17:12 - loss: 1.4647 - mae: 0.2722 - f1_m: 0.197 - ETA: 1:16:17 - loss: 1.4640 - mae: 0.2724 - f1_m: 0.197 - ETA: 1:15:23 - loss: 1.4632 - mae: 0.2727 - f1_m: 0.198 - ETA: 1:14:28 - loss: 1.4622 - mae: 0.2729 - f1_m: 0.198 - ETA: 1:13:34 - loss: 1.4613 - mae: 0.2729 - f1_m: 0.198 - ETA: 1:12:39 - loss: 1.4609 - mae: 0.2731 - f1_m: 0.198 - ETA: 1:11:45 - loss: 1.4602 - mae: 0.2731 - f1_m: 0.198 - ETA: 1:10:50 - loss: 1.4592 - mae: 0.2732 - f1_m: 0.199 - ETA: 1:09:56 - loss: 1.4585 - mae: 0.2734 - f1_m: 0.199 - ETA: 1:09:01 - loss: 1.4577 - mae: 0.2734 - f1_m: 0.199 - ETA: 1:08:07 - loss: 1.4572 - mae: 0.2735 - f1_m: 0.199 - ETA: 1:07:12 - loss: 1.4565 - mae: 0.2737 - f1_m: 0.199 - ETA: 1:06:18 - loss: 1.4557 - mae: 0.2737 - f1_m: 0.200 - ETA: 1:05:23 - loss: 1.4548 - mae: 0.2739 - f1_m: 0.200 - ETA: 1:04:29 - loss: 1.4537 - mae: 0.2739 - f1_m: 0.200 - ETA: 1:03:34 - loss: 1.4528 - mae: 0.2739 - f1_m: 0.200 - ETA: 1:02:40 - loss: 1.4520 - mae: 0.2740 - f1_m: 0.200 - ETA: 1:01:45 - loss: 1.4513 - mae: 0.2742 - f1_m: 0.201 - ETA: 1:00:51 - loss: 1.4505 - mae: 0.2743 - f1_m: 0.201 - ETA: 59:56 - loss: 1.4501 - mae: 0.2744 - f1_m: 0.2015  - ETA: 59:02 - loss: 1.4499 - mae: 0.2745 - f1_m: 0.201 - ETA: 58:07 - loss: 1.4498 - mae: 0.2749 - f1_m: 0.201 - ETA: 57:13 - loss: 1.4494 - mae: 0.2751 - f1_m: 0.202 - ETA: 56:18 - loss: 1.4490 - mae: 0.2752 - f1_m: 0.202 - ETA: 55:24 - loss: 1.4483 - mae: 0.2753 - f1_m: 0.202 - ETA: 54:30 - loss: 1.4474 - mae: 0.2753 - f1_m: 0.202 - ETA: 53:35 - loss: 1.4470 - mae: 0.2754 - f1_m: 0.202 - ETA: 52:41 - loss: 1.4461 - mae: 0.2754 - f1_m: 0.202 - ETA: 51:46 - loss: 1.4456 - mae: 0.2753 - f1_m: 0.202 - ETA: 50:52 - loss: 1.4450 - mae: 0.2753 - f1_m: 0.202 - ETA: 49:57 - loss: 1.4444 - mae: 0.2754 - f1_m: 0.203 - ETA: 49:03 - loss: 1.4440 - mae: 0.2755 - f1_m: 0.203 - ETA: 48:08 - loss: 1.4435 - mae: 0.2755 - f1_m: 0.203 - ETA: 47:14 - loss: 1.4427 - mae: 0.2755 - f1_m: 0.203 - ETA: 46:19 - loss: 1.4417 - mae: 0.2755 - f1_m: 0.203 - ETA: 45:25 - loss: 1.4410 - mae: 0.2755 - f1_m: 0.203 - ETA: 44:30 - loss: 1.4412 - mae: 0.2754 - f1_m: 0.203 - ETA: 43:36 - loss: 1.4408 - mae: 0.2753 - f1_m: 0.203 - ETA: 42:41 - loss: 1.4403 - mae: 0.2754 - f1_m: 0.203 - ETA: 41:47 - loss: 1.4404 - mae: 0.2753 - f1_m: 0.203 - ETA: 40:52 - loss: 1.4404 - mae: 0.2753 - f1_m: 0.203 - ETA: 39:58 - loss: 1.4405 - mae: 0.2752 - f1_m: 0.203 - ETA: 39:03 - loss: 1.4401 - mae: 0.2751 - f1_m: 0.203 - ETA: 38:09 - loss: 1.4406 - mae: 0.2750 - f1_m: 0.203 - ETA: 37:14 - loss: 1.4402 - mae: 0.2749 - f1_m: 0.203 - ETA: 36:20 - loss: 1.4396 - mae: 0.2749 - f1_m: 0.203 - ETA: 35:25 - loss: 1.4397 - mae: 0.2748 - f1_m: 0.203 - ETA: 34:31 - loss: 1.4389 - mae: 0.2747 - f1_m: 0.203 - ETA: 33:36 - loss: 1.4382 - mae: 0.2747 - f1_m: 0.203 - ETA: 32:42 - loss: 1.4377 - mae: 0.2747 - f1_m: 0.203 - ETA: 31:47 - loss: 1.4379 - mae: 0.2746 - f1_m: 0.203 - ETA: 30:53 - loss: 1.4381 - mae: 0.2747 - f1_m: 0.203 - ETA: 29:58 - loss: 1.4375 - mae: 0.2747 - f1_m: 0.203 - ETA: 29:04 - loss: 1.4376 - mae: 0.2746 - f1_m: 0.203 - ETA: 28:09 - loss: 1.4384 - mae: 0.2745 - f1_m: 0.202 - ETA: 27:15 - loss: 1.4397 - mae: 0.2744 - f1_m: 0.202 - ETA: 26:20 - loss: 1.4413 - mae: 0.2742 - f1_m: 0.202 - ETA: 25:26 - loss: 1.4412 - mae: 0.2742 - f1_m: 0.202 - ETA: 24:31 - loss: 1.4411 - mae: 0.2741 - f1_m: 0.202 - ETA: 23:37 - loss: 1.4408 - mae: 0.2741 - f1_m: 0.202 - ETA: 22:42 - loss: 1.4404 - mae: 0.2740 - f1_m: 0.202 - ETA: 21:48 - loss: 1.4402 - mae: 0.2740 - f1_m: 0.202 - ETA: 20:54 - loss: 1.4402 - mae: 0.2740 - f1_m: 0.202 - ETA: 19:59 - loss: 1.4399 - mae: 0.2740 - f1_m: 0.202 - ETA: 19:04 - loss: 1.4395 - mae: 0.2739 - f1_m: 0.202 - ETA: 18:10 - loss: 1.4392 - mae: 0.2739 - f1_m: 0.202 - ETA: 17:15 - loss: 1.4394 - mae: 0.2738 - f1_m: 0.202 - ETA: 16:21 - loss: 1.4403 - mae: 0.2737 - f1_m: 0.202 - ETA: 15:26 - loss: 1.4407 - mae: 0.2736 - f1_m: 0.201 - ETA: 14:32 - loss: 1.4406 - mae: 0.2735 - f1_m: 0.201 - ETA: 13:37 - loss: 1.4416 - mae: 0.2734 - f1_m: 0.201 - ETA: 12:43 - loss: 1.4414 - mae: 0.2733 - f1_m: 0.201 - ETA: 11:48 - loss: 1.4415 - mae: 0.2733 - f1_m: 0.201 - ETA: 10:54 - loss: 1.4412 - mae: 0.2732 - f1_m: 0.201 - ETA: 9:59 - loss: 1.4408 - mae: 0.2731 - f1_m: 0.201 - ETA: 9:05 - loss: 1.4411 - mae: 0.2730 - f1_m: 0.20 - ETA: 8:10 - loss: 1.4410 - mae: 0.2730 - f1_m: 0.20 - ETA: 7:16 - loss: 1.4410 - mae: 0.2729 - f1_m: 0.20 - ETA: 6:21 - loss: 1.4402 - mae: 0.2728 - f1_m: 0.20 - ETA: 5:27 - loss: 1.4405 - mae: 0.2728 - f1_m: 0.20 - ETA: 4:32 - loss: 1.4405 - mae: 0.2728 - f1_m: 0.20 - ETA: 3:38 - loss: 1.4401 - mae: 0.2727 - f1_m: 0.20 - ETA: 2:43 - loss: 1.4403 - mae: 0.2727 - f1_m: 0.20 - ETA: 1:49 - loss: 1.4398 - mae: 0.2727 - f1_m: 0.20 - ETA: 54s - loss: 1.4397 - mae: 0.2727 - f1_m: 0.2011 \n",
      "Epoch 00002: saving model to ./checkpoint/ver_yyj/v03_ep02-loss1.44057.ckpt\n",
      "541/541 [==============================] - 29492s 55s/step - loss: 1.4397 - mae: 0.2726 - f1_m: 0.2010\n",
      "Epoch 3/5\n"
     ]
    },
    {
     "name": "stdout",
     "output_type": "stream",
     "text": [
      "141/541 [======>.......................] - ETA: 9:37:52 - loss: 1.8758 - mae: 0.2355 - f1_m: 0.125 - ETA: 8:53:54 - loss: 1.7895 - mae: 0.2459 - f1_m: 0.138 - ETA: 8:39:40 - loss: 1.7372 - mae: 0.2356 - f1_m: 0.135 - ETA: 8:32:13 - loss: 1.9009 - mae: 0.2301 - f1_m: 0.124 - ETA: 8:27:57 - loss: 1.9684 - mae: 0.2267 - f1_m: 0.118 - ETA: 8:23:38 - loss: 1.8913 - mae: 0.2254 - f1_m: 0.122 - ETA: 8:20:43 - loss: 1.8353 - mae: 0.2224 - f1_m: 0.124 - ETA: 8:18:04 - loss: 1.7966 - mae: 0.2223 - f1_m: 0.127 - ETA: 8:15:56 - loss: 1.7762 - mae: 0.2231 - f1_m: 0.129 - ETA: 8:14:13 - loss: 1.7390 - mae: 0.2232 - f1_m: 0.132 - ETA: 8:12:30 - loss: 1.7112 - mae: 0.2223 - f1_m: 0.133 - ETA: 8:11:02 - loss: 1.6735 - mae: 0.2211 - f1_m: 0.136 - ETA: 8:09:34 - loss: 1.6929 - mae: 0.2234 - f1_m: 0.135 - ETA: 8:08:14 - loss: 1.7149 - mae: 0.2255 - f1_m: 0.135 - ETA: 8:06:48 - loss: 1.7266 - mae: 0.2242 - f1_m: 0.133 - ETA: 8:05:24 - loss: 1.7284 - mae: 0.2239 - f1_m: 0.132 - ETA: 8:04:13 - loss: 1.7322 - mae: 0.2230 - f1_m: 0.131 - ETA: 8:03:02 - loss: 1.7307 - mae: 0.2227 - f1_m: 0.131 - ETA: 8:01:47 - loss: 1.7027 - mae: 0.2247 - f1_m: 0.136 - ETA: 8:00:38 - loss: 1.6953 - mae: 0.2236 - f1_m: 0.135 - ETA: 7:59:21 - loss: 1.6680 - mae: 0.2233 - f1_m: 0.138 - ETA: 7:58:04 - loss: 1.6600 - mae: 0.2234 - f1_m: 0.139 - ETA: 7:56:49 - loss: 1.6471 - mae: 0.2230 - f1_m: 0.140 - ETA: 7:55:42 - loss: 1.6192 - mae: 0.2228 - f1_m: 0.143 - ETA: 7:54:40 - loss: 1.6144 - mae: 0.2221 - f1_m: 0.143 - ETA: 7:53:39 - loss: 1.6596 - mae: 0.2212 - f1_m: 0.140 - ETA: 7:52:36 - loss: 1.6520 - mae: 0.2205 - f1_m: 0.140 - ETA: 7:51:39 - loss: 1.6576 - mae: 0.2200 - f1_m: 0.139 - ETA: 7:50:36 - loss: 1.6766 - mae: 0.2199 - f1_m: 0.138 - ETA: 7:49:34 - loss: 1.6847 - mae: 0.2195 - f1_m: 0.137 - ETA: 7:48:32 - loss: 1.6684 - mae: 0.2192 - f1_m: 0.138 - ETA: 7:47:32 - loss: 1.6971 - mae: 0.2186 - f1_m: 0.136 - ETA: 7:46:30 - loss: 1.6836 - mae: 0.2188 - f1_m: 0.137 - ETA: 7:45:27 - loss: 1.6633 - mae: 0.2184 - f1_m: 0.139 - ETA: 7:44:29 - loss: 1.6613 - mae: 0.2181 - f1_m: 0.139 - ETA: 7:43:27 - loss: 1.6579 - mae: 0.2178 - f1_m: 0.139 - ETA: 7:42:28 - loss: 1.6679 - mae: 0.2174 - f1_m: 0.138 - ETA: 7:41:27 - loss: 1.6469 - mae: 0.2177 - f1_m: 0.141 - ETA: 7:40:28 - loss: 1.6536 - mae: 0.2173 - f1_m: 0.140 - ETA: 7:39:30 - loss: 1.6413 - mae: 0.2176 - f1_m: 0.142 - ETA: 7:38:33 - loss: 1.6471 - mae: 0.2170 - f1_m: 0.141 - ETA: 7:37:34 - loss: 1.6452 - mae: 0.2166 - f1_m: 0.140 - ETA: 7:36:35 - loss: 1.6384 - mae: 0.2169 - f1_m: 0.141 - ETA: 7:35:38 - loss: 1.6403 - mae: 0.2163 - f1_m: 0.140 - ETA: 7:34:41 - loss: 1.6465 - mae: 0.2158 - f1_m: 0.139 - ETA: 7:33:43 - loss: 1.6580 - mae: 0.2156 - f1_m: 0.138 - ETA: 7:32:47 - loss: 1.6542 - mae: 0.2155 - f1_m: 0.139 - ETA: 7:31:50 - loss: 1.6429 - mae: 0.2155 - f1_m: 0.140 - ETA: 7:30:52 - loss: 1.6404 - mae: 0.2154 - f1_m: 0.140 - ETA: 7:29:53 - loss: 1.6366 - mae: 0.2155 - f1_m: 0.140 - ETA: 7:28:54 - loss: 1.6271 - mae: 0.2162 - f1_m: 0.141 - ETA: 7:27:54 - loss: 1.6266 - mae: 0.2167 - f1_m: 0.142 - ETA: 7:26:55 - loss: 1.6212 - mae: 0.2171 - f1_m: 0.142 - ETA: 7:25:57 - loss: 1.6131 - mae: 0.2173 - f1_m: 0.143 - ETA: 7:25:00 - loss: 1.6113 - mae: 0.2180 - f1_m: 0.144 - ETA: 7:24:04 - loss: 1.6140 - mae: 0.2182 - f1_m: 0.143 - ETA: 7:23:08 - loss: 1.6068 - mae: 0.2186 - f1_m: 0.144 - ETA: 7:22:09 - loss: 1.6040 - mae: 0.2189 - f1_m: 0.145 - ETA: 7:21:12 - loss: 1.6067 - mae: 0.2189 - f1_m: 0.144 - ETA: 7:20:16 - loss: 1.6002 - mae: 0.2193 - f1_m: 0.145 - ETA: 7:19:20 - loss: 1.5915 - mae: 0.2192 - f1_m: 0.146 - ETA: 7:18:23 - loss: 1.5951 - mae: 0.2192 - f1_m: 0.146 - ETA: 7:17:25 - loss: 1.5902 - mae: 0.2194 - f1_m: 0.146 - ETA: 7:16:26 - loss: 1.5837 - mae: 0.2203 - f1_m: 0.148 - ETA: 7:15:30 - loss: 1.5772 - mae: 0.2203 - f1_m: 0.148 - ETA: 7:14:34 - loss: 1.5696 - mae: 0.2208 - f1_m: 0.150 - ETA: 7:13:37 - loss: 1.5611 - mae: 0.2209 - f1_m: 0.151 - ETA: 7:12:42 - loss: 1.5569 - mae: 0.2212 - f1_m: 0.151 - ETA: 7:11:44 - loss: 1.5501 - mae: 0.2213 - f1_m: 0.152 - ETA: 7:10:47 - loss: 1.5505 - mae: 0.2213 - f1_m: 0.152 - ETA: 7:09:50 - loss: 1.5445 - mae: 0.2218 - f1_m: 0.153 - ETA: 7:08:53 - loss: 1.5386 - mae: 0.2224 - f1_m: 0.154 - ETA: 7:07:58 - loss: 1.5298 - mae: 0.2229 - f1_m: 0.156 - ETA: 7:07:03 - loss: 1.5263 - mae: 0.2230 - f1_m: 0.156 - ETA: 7:06:08 - loss: 1.5227 - mae: 0.2237 - f1_m: 0.157 - ETA: 7:05:12 - loss: 1.5177 - mae: 0.2239 - f1_m: 0.158 - ETA: 7:04:14 - loss: 1.5147 - mae: 0.2249 - f1_m: 0.159 - ETA: 7:03:17 - loss: 1.5087 - mae: 0.2256 - f1_m: 0.160 - ETA: 7:02:22 - loss: 1.5033 - mae: 0.2262 - f1_m: 0.161 - ETA: 7:01:27 - loss: 1.5014 - mae: 0.2267 - f1_m: 0.162 - ETA: 7:00:33 - loss: 1.4974 - mae: 0.2273 - f1_m: 0.163 - ETA: 6:59:41 - loss: 1.4907 - mae: 0.2280 - f1_m: 0.164 - ETA: 6:58:46 - loss: 1.4875 - mae: 0.2283 - f1_m: 0.165 - ETA: 6:57:49 - loss: 1.4861 - mae: 0.2285 - f1_m: 0.165 - ETA: 6:56:54 - loss: 1.4825 - mae: 0.2288 - f1_m: 0.166 - ETA: 6:55:57 - loss: 1.4830 - mae: 0.2294 - f1_m: 0.166 - ETA: 6:55:03 - loss: 1.4800 - mae: 0.2300 - f1_m: 0.167 - ETA: 6:54:08 - loss: 1.4765 - mae: 0.2311 - f1_m: 0.168 - ETA: 6:53:11 - loss: 1.4717 - mae: 0.2314 - f1_m: 0.169 - ETA: 6:52:14 - loss: 1.4671 - mae: 0.2319 - f1_m: 0.170 - ETA: 6:51:17 - loss: 1.4642 - mae: 0.2322 - f1_m: 0.170 - ETA: 6:50:21 - loss: 1.4652 - mae: 0.2331 - f1_m: 0.171 - ETA: 6:49:28 - loss: 1.4611 - mae: 0.2335 - f1_m: 0.171 - ETA: 6:48:32 - loss: 1.4570 - mae: 0.2342 - f1_m: 0.173 - ETA: 6:47:37 - loss: 1.4549 - mae: 0.2341 - f1_m: 0.173 - ETA: 6:46:43 - loss: 1.4518 - mae: 0.2357 - f1_m: 0.174 - ETA: 6:45:49 - loss: 1.4479 - mae: 0.2364 - f1_m: 0.175 - ETA: 6:44:55 - loss: 1.4436 - mae: 0.2368 - f1_m: 0.176 - ETA: 6:44:00 - loss: 1.4397 - mae: 0.2371 - f1_m: 0.177 - ETA: 6:43:05 - loss: 1.4360 - mae: 0.2372 - f1_m: 0.178 - ETA: 6:42:11 - loss: 1.4328 - mae: 0.2373 - f1_m: 0.178 - ETA: 6:41:21 - loss: 1.4325 - mae: 0.2373 - f1_m: 0.178 - ETA: 6:40:38 - loss: 1.4294 - mae: 0.2377 - f1_m: 0.179 - ETA: 6:40:00 - loss: 1.4270 - mae: 0.2379 - f1_m: 0.179 - ETA: 6:39:08 - loss: 1.4235 - mae: 0.2385 - f1_m: 0.180 - ETA: 6:38:12 - loss: 1.4199 - mae: 0.2390 - f1_m: 0.181 - ETA: 6:37:18 - loss: 1.4175 - mae: 0.2392 - f1_m: 0.181 - ETA: 6:36:40 - loss: 1.4152 - mae: 0.2399 - f1_m: 0.182 - ETA: 6:36:03 - loss: 1.4122 - mae: 0.2406 - f1_m: 0.183 - ETA: 6:35:24 - loss: 1.4094 - mae: 0.2415 - f1_m: 0.184 - ETA: 6:34:44 - loss: 1.4048 - mae: 0.2419 - f1_m: 0.186 - ETA: 6:34:01 - loss: 1.4011 - mae: 0.2425 - f1_m: 0.187 - ETA: 6:33:16 - loss: 1.3984 - mae: 0.2434 - f1_m: 0.188 - ETA: 6:32:23 - loss: 1.3954 - mae: 0.2442 - f1_m: 0.189 - ETA: 6:31:32 - loss: 1.3924 - mae: 0.2451 - f1_m: 0.190 - ETA: 6:30:52 - loss: 1.3898 - mae: 0.2455 - f1_m: 0.191 - ETA: 6:30:07 - loss: 1.3882 - mae: 0.2469 - f1_m: 0.192 - ETA: 6:29:26 - loss: 1.3861 - mae: 0.2475 - f1_m: 0.193 - ETA: 6:28:30 - loss: 1.3827 - mae: 0.2479 - f1_m: 0.194 - ETA: 6:27:30 - loss: 1.3790 - mae: 0.2481 - f1_m: 0.195 - ETA: 6:26:30 - loss: 1.3787 - mae: 0.2484 - f1_m: 0.195 - ETA: 6:25:30 - loss: 1.3763 - mae: 0.2487 - f1_m: 0.195 - ETA: 6:24:31 - loss: 1.3755 - mae: 0.2490 - f1_m: 0.195 - ETA: 6:23:35 - loss: 1.3741 - mae: 0.2495 - f1_m: 0.196 - ETA: 6:22:36 - loss: 1.3714 - mae: 0.2500 - f1_m: 0.197 - ETA: 6:21:38 - loss: 1.3687 - mae: 0.2505 - f1_m: 0.198 - ETA: 6:20:42 - loss: 1.3656 - mae: 0.2509 - f1_m: 0.198 - ETA: 6:19:45 - loss: 1.3640 - mae: 0.2513 - f1_m: 0.199 - ETA: 6:18:47 - loss: 1.3624 - mae: 0.2515 - f1_m: 0.199 - ETA: 6:17:49 - loss: 1.3630 - mae: 0.2520 - f1_m: 0.199 - ETA: 6:16:50 - loss: 1.3628 - mae: 0.2522 - f1_m: 0.200 - ETA: 6:15:51 - loss: 1.3610 - mae: 0.2522 - f1_m: 0.200 - ETA: 6:14:52 - loss: 1.3582 - mae: 0.2526 - f1_m: 0.201 - ETA: 6:13:55 - loss: 1.3555 - mae: 0.2528 - f1_m: 0.201 - ETA: 6:12:55 - loss: 1.3538 - mae: 0.2538 - f1_m: 0.202 - ETA: 6:11:55 - loss: 1.3519 - mae: 0.2540 - f1_m: 0.203 - ETA: 6:10:54 - loss: 1.3495 - mae: 0.2541 - f1_m: 0.203 - ETA: 6:09:53 - loss: 1.3480 - mae: 0.2549 - f1_m: 0.204 - ETA: 6:08:52 - loss: 1.3472 - mae: 0.2555 - f1_m: 0.204 - ETA: 6:07:52 - loss: 1.3446 - mae: 0.2559 - f1_m: 0.205 - ETA: 6:06:53 - loss: 1.3425 - mae: 0.2561 - f1_m: 0.2060"
     ]
    },
    {
     "name": "stdout",
     "output_type": "stream",
     "text": [
      "282/541 [==============>...............] - ETA: 6:05:52 - loss: 1.3395 - mae: 0.2560 - f1_m: 0.206 - ETA: 6:04:53 - loss: 1.3384 - mae: 0.2565 - f1_m: 0.206 - ETA: 6:03:53 - loss: 1.3359 - mae: 0.2568 - f1_m: 0.207 - ETA: 6:02:55 - loss: 1.3340 - mae: 0.2570 - f1_m: 0.208 - ETA: 6:01:56 - loss: 1.3328 - mae: 0.2574 - f1_m: 0.208 - ETA: 6:01:00 - loss: 1.3326 - mae: 0.2573 - f1_m: 0.208 - ETA: 6:00:02 - loss: 1.3320 - mae: 0.2575 - f1_m: 0.208 - ETA: 5:59:05 - loss: 1.3335 - mae: 0.2576 - f1_m: 0.208 - ETA: 5:58:07 - loss: 1.3321 - mae: 0.2576 - f1_m: 0.208 - ETA: 5:57:10 - loss: 1.3307 - mae: 0.2576 - f1_m: 0.208 - ETA: 5:56:12 - loss: 1.3291 - mae: 0.2579 - f1_m: 0.209 - ETA: 5:55:12 - loss: 1.3275 - mae: 0.2586 - f1_m: 0.209 - ETA: 5:54:14 - loss: 1.3251 - mae: 0.2588 - f1_m: 0.210 - ETA: 5:53:15 - loss: 1.3231 - mae: 0.2586 - f1_m: 0.210 - ETA: 5:52:16 - loss: 1.3226 - mae: 0.2585 - f1_m: 0.210 - ETA: 5:51:17 - loss: 1.3230 - mae: 0.2586 - f1_m: 0.210 - ETA: 5:50:18 - loss: 1.3225 - mae: 0.2586 - f1_m: 0.210 - ETA: 5:49:19 - loss: 1.3229 - mae: 0.2584 - f1_m: 0.210 - ETA: 5:48:21 - loss: 1.3242 - mae: 0.2584 - f1_m: 0.209 - ETA: 5:47:23 - loss: 1.3235 - mae: 0.2585 - f1_m: 0.209 - ETA: 5:46:24 - loss: 1.3234 - mae: 0.2585 - f1_m: 0.209 - ETA: 5:45:27 - loss: 1.3221 - mae: 0.2586 - f1_m: 0.210 - ETA: 5:44:30 - loss: 1.3240 - mae: 0.2583 - f1_m: 0.209 - ETA: 5:43:33 - loss: 1.3224 - mae: 0.2582 - f1_m: 0.209 - ETA: 5:42:36 - loss: 1.3228 - mae: 0.2580 - f1_m: 0.209 - ETA: 5:41:39 - loss: 1.3226 - mae: 0.2578 - f1_m: 0.209 - ETA: 5:40:42 - loss: 1.3258 - mae: 0.2576 - f1_m: 0.208 - ETA: 5:39:47 - loss: 1.3252 - mae: 0.2574 - f1_m: 0.208 - ETA: 5:38:50 - loss: 1.3235 - mae: 0.2573 - f1_m: 0.208 - ETA: 5:37:52 - loss: 1.3218 - mae: 0.2572 - f1_m: 0.208 - ETA: 5:36:54 - loss: 1.3211 - mae: 0.2570 - f1_m: 0.208 - ETA: 5:35:56 - loss: 1.3224 - mae: 0.2567 - f1_m: 0.208 - ETA: 5:34:57 - loss: 1.3222 - mae: 0.2567 - f1_m: 0.208 - ETA: 5:33:59 - loss: 1.3239 - mae: 0.2565 - f1_m: 0.207 - ETA: 5:33:02 - loss: 1.3254 - mae: 0.2563 - f1_m: 0.207 - ETA: 5:32:04 - loss: 1.3246 - mae: 0.2566 - f1_m: 0.207 - ETA: 5:31:06 - loss: 1.3238 - mae: 0.2566 - f1_m: 0.207 - ETA: 5:30:09 - loss: 1.3238 - mae: 0.2566 - f1_m: 0.207 - ETA: 5:29:15 - loss: 1.3220 - mae: 0.2566 - f1_m: 0.207 - ETA: 5:28:40 - loss: 1.3231 - mae: 0.2574 - f1_m: 0.208 - ETA: 5:27:44 - loss: 1.3254 - mae: 0.2571 - f1_m: 0.207 - ETA: 5:26:48 - loss: 1.3266 - mae: 0.2569 - f1_m: 0.207 - ETA: 5:25:52 - loss: 1.3271 - mae: 0.2567 - f1_m: 0.207 - ETA: 5:24:54 - loss: 1.3269 - mae: 0.2567 - f1_m: 0.207 - ETA: 5:23:56 - loss: 1.3276 - mae: 0.2566 - f1_m: 0.206 - ETA: 5:22:57 - loss: 1.3278 - mae: 0.2564 - f1_m: 0.206 - ETA: 5:22:00 - loss: 1.3299 - mae: 0.2563 - f1_m: 0.206 - ETA: 5:21:02 - loss: 1.3279 - mae: 0.2562 - f1_m: 0.206 - ETA: 5:20:05 - loss: 1.3278 - mae: 0.2562 - f1_m: 0.206 - ETA: 5:19:10 - loss: 1.3282 - mae: 0.2561 - f1_m: 0.206 - ETA: 5:18:13 - loss: 1.3272 - mae: 0.2560 - f1_m: 0.206 - ETA: 5:17:24 - loss: 1.3275 - mae: 0.2559 - f1_m: 0.206 - ETA: 5:16:33 - loss: 1.3266 - mae: 0.2557 - f1_m: 0.205 - ETA: 5:15:41 - loss: 1.3282 - mae: 0.2555 - f1_m: 0.205 - ETA: 5:14:48 - loss: 1.3270 - mae: 0.2554 - f1_m: 0.205 - ETA: 5:13:58 - loss: 1.3257 - mae: 0.2552 - f1_m: 0.205 - ETA: 5:13:05 - loss: 1.3255 - mae: 0.2550 - f1_m: 0.205 - ETA: 5:12:14 - loss: 1.3249 - mae: 0.2549 - f1_m: 0.205 - ETA: 5:11:25 - loss: 1.3243 - mae: 0.2548 - f1_m: 0.205 - ETA: 5:10:43 - loss: 1.3230 - mae: 0.2547 - f1_m: 0.205 - ETA: 5:09:56 - loss: 1.3226 - mae: 0.2546 - f1_m: 0.205 - ETA: 5:09:02 - loss: 1.3237 - mae: 0.2544 - f1_m: 0.204 - ETA: 5:08:06 - loss: 1.3275 - mae: 0.2541 - f1_m: 0.204 - ETA: 5:07:10 - loss: 1.3323 - mae: 0.2540 - f1_m: 0.203 - ETA: 5:06:14 - loss: 1.3339 - mae: 0.2538 - f1_m: 0.203 - ETA: 5:05:19 - loss: 1.3336 - mae: 0.2536 - f1_m: 0.203 - ETA: 5:04:23 - loss: 1.3338 - mae: 0.2533 - f1_m: 0.203 - ETA: 5:03:29 - loss: 1.3317 - mae: 0.2531 - f1_m: 0.203 - ETA: 5:02:33 - loss: 1.3306 - mae: 0.2529 - f1_m: 0.203 - ETA: 5:01:38 - loss: 1.3309 - mae: 0.2527 - f1_m: 0.202 - ETA: 5:00:43 - loss: 1.3310 - mae: 0.2524 - f1_m: 0.202 - ETA: 4:59:48 - loss: 1.3289 - mae: 0.2523 - f1_m: 0.202 - ETA: 4:58:53 - loss: 1.3296 - mae: 0.2521 - f1_m: 0.202 - ETA: 4:57:58 - loss: 1.3274 - mae: 0.2520 - f1_m: 0.202 - ETA: 4:57:01 - loss: 1.3263 - mae: 0.2520 - f1_m: 0.202 - ETA: 4:56:05 - loss: 1.3265 - mae: 0.2518 - f1_m: 0.202 - ETA: 4:55:08 - loss: 1.3245 - mae: 0.2517 - f1_m: 0.203 - ETA: 4:54:12 - loss: 1.3243 - mae: 0.2515 - f1_m: 0.202 - ETA: 4:53:16 - loss: 1.3253 - mae: 0.2514 - f1_m: 0.202 - ETA: 4:52:19 - loss: 1.3269 - mae: 0.2514 - f1_m: 0.202 - ETA: 4:51:23 - loss: 1.3294 - mae: 0.2513 - f1_m: 0.202 - ETA: 4:50:27 - loss: 1.3280 - mae: 0.2513 - f1_m: 0.202 - ETA: 4:49:31 - loss: 1.3296 - mae: 0.2511 - f1_m: 0.201 - ETA: 4:48:35 - loss: 1.3291 - mae: 0.2509 - f1_m: 0.201 - ETA: 4:47:39 - loss: 1.3305 - mae: 0.2507 - f1_m: 0.201 - ETA: 4:46:43 - loss: 1.3296 - mae: 0.2505 - f1_m: 0.201 - ETA: 4:45:47 - loss: 1.3288 - mae: 0.2504 - f1_m: 0.201 - ETA: 4:44:52 - loss: 1.3302 - mae: 0.2501 - f1_m: 0.200 - ETA: 4:43:56 - loss: 1.3304 - mae: 0.2499 - f1_m: 0.200 - ETA: 4:43:01 - loss: 1.3298 - mae: 0.2497 - f1_m: 0.200 - ETA: 4:42:06 - loss: 1.3293 - mae: 0.2495 - f1_m: 0.200 - ETA: 4:41:11 - loss: 1.3278 - mae: 0.2493 - f1_m: 0.200 - ETA: 4:40:14 - loss: 1.3285 - mae: 0.2492 - f1_m: 0.200 - ETA: 4:39:19 - loss: 1.3296 - mae: 0.2491 - f1_m: 0.199 - ETA: 4:38:22 - loss: 1.3276 - mae: 0.2489 - f1_m: 0.200 - ETA: 4:37:26 - loss: 1.3268 - mae: 0.2488 - f1_m: 0.200 - ETA: 4:36:30 - loss: 1.3255 - mae: 0.2487 - f1_m: 0.200 - ETA: 4:35:34 - loss: 1.3258 - mae: 0.2485 - f1_m: 0.199 - ETA: 4:34:38 - loss: 1.3265 - mae: 0.2485 - f1_m: 0.199 - ETA: 4:33:43 - loss: 1.3240 - mae: 0.2485 - f1_m: 0.200 - ETA: 4:32:46 - loss: 1.3251 - mae: 0.2484 - f1_m: 0.200 - ETA: 4:31:52 - loss: 1.3249 - mae: 0.2483 - f1_m: 0.200 - ETA: 4:30:56 - loss: 1.3243 - mae: 0.2484 - f1_m: 0.200 - ETA: 4:30:00 - loss: 1.3249 - mae: 0.2482 - f1_m: 0.199 - ETA: 4:29:04 - loss: 1.3226 - mae: 0.2481 - f1_m: 0.200 - ETA: 4:28:09 - loss: 1.3227 - mae: 0.2480 - f1_m: 0.200 - ETA: 4:27:15 - loss: 1.3235 - mae: 0.2479 - f1_m: 0.199 - ETA: 4:26:23 - loss: 1.3225 - mae: 0.2478 - f1_m: 0.199 - ETA: 4:25:28 - loss: 1.3216 - mae: 0.2478 - f1_m: 0.199 - ETA: 4:24:33 - loss: 1.3209 - mae: 0.2477 - f1_m: 0.199 - ETA: 4:23:36 - loss: 1.3215 - mae: 0.2476 - f1_m: 0.199 - ETA: 4:22:40 - loss: 1.3216 - mae: 0.2475 - f1_m: 0.199 - ETA: 4:21:44 - loss: 1.3206 - mae: 0.2478 - f1_m: 0.200 - ETA: 4:20:48 - loss: 1.3194 - mae: 0.2478 - f1_m: 0.200 - ETA: 4:19:52 - loss: 1.3183 - mae: 0.2478 - f1_m: 0.200 - ETA: 4:18:56 - loss: 1.3175 - mae: 0.2477 - f1_m: 0.200 - ETA: 4:17:59 - loss: 1.3164 - mae: 0.2477 - f1_m: 0.200 - ETA: 4:17:04 - loss: 1.3152 - mae: 0.2478 - f1_m: 0.200 - ETA: 4:16:08 - loss: 1.3139 - mae: 0.2479 - f1_m: 0.201 - ETA: 4:15:12 - loss: 1.3131 - mae: 0.2479 - f1_m: 0.201 - ETA: 4:14:16 - loss: 1.3126 - mae: 0.2479 - f1_m: 0.201 - ETA: 4:13:21 - loss: 1.3114 - mae: 0.2478 - f1_m: 0.201 - ETA: 4:12:25 - loss: 1.3105 - mae: 0.2478 - f1_m: 0.201 - ETA: 4:11:30 - loss: 1.3096 - mae: 0.2479 - f1_m: 0.201 - ETA: 4:10:34 - loss: 1.3084 - mae: 0.2479 - f1_m: 0.201 - ETA: 4:09:40 - loss: 1.3075 - mae: 0.2478 - f1_m: 0.201 - ETA: 4:08:45 - loss: 1.3065 - mae: 0.2480 - f1_m: 0.202 - ETA: 4:07:50 - loss: 1.3062 - mae: 0.2481 - f1_m: 0.202 - ETA: 4:06:54 - loss: 1.3053 - mae: 0.2481 - f1_m: 0.202 - ETA: 4:06:00 - loss: 1.3043 - mae: 0.2480 - f1_m: 0.202 - ETA: 4:05:05 - loss: 1.3041 - mae: 0.2479 - f1_m: 0.202 - ETA: 4:04:09 - loss: 1.3032 - mae: 0.2481 - f1_m: 0.202 - ETA: 4:03:13 - loss: 1.3021 - mae: 0.2483 - f1_m: 0.202 - ETA: 4:02:18 - loss: 1.3011 - mae: 0.2483 - f1_m: 0.203 - ETA: 4:01:22 - loss: 1.3000 - mae: 0.2483 - f1_m: 0.203 - ETA: 4:00:26 - loss: 1.2995 - mae: 0.2485 - f1_m: 0.203 - ETA: 3:59:31 - loss: 1.2986 - mae: 0.2485 - f1_m: 0.203 - ETA: 3:58:35 - loss: 1.2975 - mae: 0.2485 - f1_m: 0.203 - ETA: 3:57:40 - loss: 1.2967 - mae: 0.2486 - f1_m: 0.203 - ETA: 3:56:44 - loss: 1.2960 - mae: 0.2487 - f1_m: 0.204 - ETA: 3:55:49 - loss: 1.2948 - mae: 0.2489 - f1_m: 0.2045"
     ]
    },
    {
     "name": "stdout",
     "output_type": "stream",
     "text": [
      "423/541 [======================>.......] - ETA: 3:54:53 - loss: 1.2945 - mae: 0.2491 - f1_m: 0.204 - ETA: 3:53:58 - loss: 1.2935 - mae: 0.2493 - f1_m: 0.205 - ETA: 3:53:04 - loss: 1.2924 - mae: 0.2494 - f1_m: 0.205 - ETA: 3:52:08 - loss: 1.2913 - mae: 0.2495 - f1_m: 0.205 - ETA: 3:51:12 - loss: 1.2902 - mae: 0.2498 - f1_m: 0.206 - ETA: 3:50:16 - loss: 1.2896 - mae: 0.2498 - f1_m: 0.206 - ETA: 3:49:20 - loss: 1.2886 - mae: 0.2498 - f1_m: 0.206 - ETA: 3:48:25 - loss: 1.2889 - mae: 0.2500 - f1_m: 0.206 - ETA: 3:47:29 - loss: 1.2886 - mae: 0.2500 - f1_m: 0.206 - ETA: 3:46:34 - loss: 1.2883 - mae: 0.2500 - f1_m: 0.206 - ETA: 3:45:38 - loss: 1.2881 - mae: 0.2500 - f1_m: 0.206 - ETA: 3:44:42 - loss: 1.2879 - mae: 0.2499 - f1_m: 0.206 - ETA: 3:43:47 - loss: 1.2875 - mae: 0.2499 - f1_m: 0.206 - ETA: 3:42:52 - loss: 1.2868 - mae: 0.2499 - f1_m: 0.206 - ETA: 3:41:57 - loss: 1.2857 - mae: 0.2500 - f1_m: 0.206 - ETA: 3:41:02 - loss: 1.2846 - mae: 0.2501 - f1_m: 0.206 - ETA: 3:40:07 - loss: 1.2836 - mae: 0.2503 - f1_m: 0.207 - ETA: 3:39:11 - loss: 1.2824 - mae: 0.2505 - f1_m: 0.207 - ETA: 3:38:16 - loss: 1.2813 - mae: 0.2507 - f1_m: 0.208 - ETA: 3:37:21 - loss: 1.2804 - mae: 0.2510 - f1_m: 0.208 - ETA: 3:36:26 - loss: 1.2792 - mae: 0.2510 - f1_m: 0.208 - ETA: 3:35:31 - loss: 1.2783 - mae: 0.2512 - f1_m: 0.209 - ETA: 3:34:35 - loss: 1.2776 - mae: 0.2511 - f1_m: 0.209 - ETA: 3:33:39 - loss: 1.2772 - mae: 0.2510 - f1_m: 0.209 - ETA: 3:32:44 - loss: 1.2767 - mae: 0.2511 - f1_m: 0.209 - ETA: 3:31:48 - loss: 1.2763 - mae: 0.2512 - f1_m: 0.209 - ETA: 3:30:53 - loss: 1.2756 - mae: 0.2515 - f1_m: 0.209 - ETA: 3:29:57 - loss: 1.2748 - mae: 0.2515 - f1_m: 0.209 - ETA: 3:29:02 - loss: 1.2745 - mae: 0.2515 - f1_m: 0.209 - ETA: 3:28:07 - loss: 1.2737 - mae: 0.2514 - f1_m: 0.209 - ETA: 3:27:12 - loss: 1.2730 - mae: 0.2513 - f1_m: 0.209 - ETA: 3:26:16 - loss: 1.2724 - mae: 0.2514 - f1_m: 0.209 - ETA: 3:25:21 - loss: 1.2718 - mae: 0.2513 - f1_m: 0.209 - ETA: 3:24:26 - loss: 1.2706 - mae: 0.2513 - f1_m: 0.210 - ETA: 3:23:32 - loss: 1.2702 - mae: 0.2513 - f1_m: 0.210 - ETA: 3:22:37 - loss: 1.2695 - mae: 0.2513 - f1_m: 0.210 - ETA: 3:21:42 - loss: 1.2685 - mae: 0.2513 - f1_m: 0.210 - ETA: 3:20:48 - loss: 1.2676 - mae: 0.2514 - f1_m: 0.210 - ETA: 3:19:53 - loss: 1.2671 - mae: 0.2515 - f1_m: 0.210 - ETA: 3:18:57 - loss: 1.2662 - mae: 0.2518 - f1_m: 0.211 - ETA: 3:18:02 - loss: 1.2654 - mae: 0.2519 - f1_m: 0.211 - ETA: 3:17:07 - loss: 1.2647 - mae: 0.2520 - f1_m: 0.211 - ETA: 3:16:11 - loss: 1.2656 - mae: 0.2525 - f1_m: 0.211 - ETA: 3:15:16 - loss: 1.2644 - mae: 0.2525 - f1_m: 0.212 - ETA: 3:14:21 - loss: 1.2645 - mae: 0.2525 - f1_m: 0.212 - ETA: 3:13:26 - loss: 1.2648 - mae: 0.2524 - f1_m: 0.211 - ETA: 3:12:31 - loss: 1.2643 - mae: 0.2525 - f1_m: 0.212 - ETA: 3:11:36 - loss: 1.2639 - mae: 0.2524 - f1_m: 0.211 - ETA: 3:10:42 - loss: 1.2642 - mae: 0.2523 - f1_m: 0.211 - ETA: 3:09:50 - loss: 1.2636 - mae: 0.2524 - f1_m: 0.212 - ETA: 3:08:55 - loss: 1.2639 - mae: 0.2523 - f1_m: 0.211 - ETA: 3:08:00 - loss: 1.2630 - mae: 0.2523 - f1_m: 0.212 - ETA: 3:07:05 - loss: 1.2627 - mae: 0.2524 - f1_m: 0.212 - ETA: 3:06:10 - loss: 1.2620 - mae: 0.2524 - f1_m: 0.212 - ETA: 3:05:16 - loss: 1.2616 - mae: 0.2524 - f1_m: 0.212 - ETA: 3:04:21 - loss: 1.2610 - mae: 0.2524 - f1_m: 0.212 - ETA: 3:03:26 - loss: 1.2600 - mae: 0.2525 - f1_m: 0.212 - ETA: 3:02:31 - loss: 1.2599 - mae: 0.2525 - f1_m: 0.212 - ETA: 3:01:35 - loss: 1.2607 - mae: 0.2523 - f1_m: 0.212 - ETA: 3:00:40 - loss: 1.2604 - mae: 0.2522 - f1_m: 0.212 - ETA: 2:59:45 - loss: 1.2599 - mae: 0.2522 - f1_m: 0.212 - ETA: 2:58:50 - loss: 1.2599 - mae: 0.2521 - f1_m: 0.212 - ETA: 2:57:55 - loss: 1.2598 - mae: 0.2520 - f1_m: 0.212 - ETA: 2:57:00 - loss: 1.2603 - mae: 0.2519 - f1_m: 0.211 - ETA: 2:56:05 - loss: 1.2601 - mae: 0.2518 - f1_m: 0.211 - ETA: 2:55:10 - loss: 1.2596 - mae: 0.2518 - f1_m: 0.211 - ETA: 2:54:15 - loss: 1.2589 - mae: 0.2517 - f1_m: 0.211 - ETA: 2:53:20 - loss: 1.2583 - mae: 0.2518 - f1_m: 0.212 - ETA: 2:52:25 - loss: 1.2582 - mae: 0.2519 - f1_m: 0.212 - ETA: 2:51:30 - loss: 1.2580 - mae: 0.2519 - f1_m: 0.212 - ETA: 2:50:36 - loss: 1.2575 - mae: 0.2519 - f1_m: 0.212 - ETA: 2:49:41 - loss: 1.2573 - mae: 0.2517 - f1_m: 0.212 - ETA: 2:48:47 - loss: 1.2566 - mae: 0.2517 - f1_m: 0.212 - ETA: 2:47:52 - loss: 1.2569 - mae: 0.2516 - f1_m: 0.211 - ETA: 2:46:57 - loss: 1.2576 - mae: 0.2514 - f1_m: 0.211 - ETA: 2:46:02 - loss: 1.2569 - mae: 0.2513 - f1_m: 0.211 - ETA: 2:45:07 - loss: 1.2565 - mae: 0.2513 - f1_m: 0.211 - ETA: 2:44:12 - loss: 1.2569 - mae: 0.2511 - f1_m: 0.211 - ETA: 2:43:17 - loss: 1.2569 - mae: 0.2511 - f1_m: 0.211 - ETA: 2:42:22 - loss: 1.2567 - mae: 0.2510 - f1_m: 0.211 - ETA: 2:41:27 - loss: 1.2572 - mae: 0.2509 - f1_m: 0.211 - ETA: 2:40:33 - loss: 1.2566 - mae: 0.2508 - f1_m: 0.211 - ETA: 2:39:38 - loss: 1.2556 - mae: 0.2507 - f1_m: 0.211 - ETA: 2:38:43 - loss: 1.2549 - mae: 0.2507 - f1_m: 0.211 - ETA: 2:37:48 - loss: 1.2546 - mae: 0.2506 - f1_m: 0.211 - ETA: 2:36:53 - loss: 1.2547 - mae: 0.2506 - f1_m: 0.211 - ETA: 2:35:58 - loss: 1.2540 - mae: 0.2506 - f1_m: 0.211 - ETA: 2:35:04 - loss: 1.2554 - mae: 0.2505 - f1_m: 0.211 - ETA: 2:34:09 - loss: 1.2569 - mae: 0.2503 - f1_m: 0.210 - ETA: 2:33:15 - loss: 1.2565 - mae: 0.2502 - f1_m: 0.210 - ETA: 2:32:20 - loss: 1.2565 - mae: 0.2501 - f1_m: 0.210 - ETA: 2:31:25 - loss: 1.2573 - mae: 0.2500 - f1_m: 0.210 - ETA: 2:30:30 - loss: 1.2573 - mae: 0.2500 - f1_m: 0.210 - ETA: 2:29:35 - loss: 1.2572 - mae: 0.2499 - f1_m: 0.210 - ETA: 2:28:40 - loss: 1.2569 - mae: 0.2498 - f1_m: 0.210 - ETA: 2:27:45 - loss: 1.2566 - mae: 0.2498 - f1_m: 0.210 - ETA: 2:26:51 - loss: 1.2567 - mae: 0.2497 - f1_m: 0.210 - ETA: 2:25:56 - loss: 1.2570 - mae: 0.2496 - f1_m: 0.210 - ETA: 2:25:01 - loss: 1.2571 - mae: 0.2495 - f1_m: 0.209 - ETA: 2:24:06 - loss: 1.2559 - mae: 0.2494 - f1_m: 0.210 - ETA: 2:23:11 - loss: 1.2571 - mae: 0.2494 - f1_m: 0.209 - ETA: 2:22:17 - loss: 1.2575 - mae: 0.2492 - f1_m: 0.209 - ETA: 2:21:22 - loss: 1.2567 - mae: 0.2492 - f1_m: 0.209 - ETA: 2:20:27 - loss: 1.2573 - mae: 0.2490 - f1_m: 0.209 - ETA: 2:19:33 - loss: 1.2566 - mae: 0.2489 - f1_m: 0.209 - ETA: 2:18:38 - loss: 1.2570 - mae: 0.2488 - f1_m: 0.209 - ETA: 2:17:43 - loss: 1.2564 - mae: 0.2487 - f1_m: 0.209 - ETA: 2:16:49 - loss: 1.2570 - mae: 0.2486 - f1_m: 0.209 - ETA: 2:15:54 - loss: 1.2568 - mae: 0.2485 - f1_m: 0.209 - ETA: 2:14:59 - loss: 1.2569 - mae: 0.2485 - f1_m: 0.209 - ETA: 2:14:05 - loss: 1.2566 - mae: 0.2484 - f1_m: 0.209 - ETA: 2:13:10 - loss: 1.2568 - mae: 0.2484 - f1_m: 0.208 - ETA: 2:12:15 - loss: 1.2586 - mae: 0.2482 - f1_m: 0.208 - ETA: 2:11:20 - loss: 1.2604 - mae: 0.2481 - f1_m: 0.208 - ETA: 2:10:26 - loss: 1.2605 - mae: 0.2480 - f1_m: 0.208 - ETA: 2:09:31 - loss: 1.2605 - mae: 0.2479 - f1_m: 0.208 - ETA: 2:08:36 - loss: 1.2600 - mae: 0.2479 - f1_m: 0.208 - ETA: 2:07:42 - loss: 1.2593 - mae: 0.2478 - f1_m: 0.208 - ETA: 2:06:47 - loss: 1.2591 - mae: 0.2477 - f1_m: 0.208 - ETA: 2:05:53 - loss: 1.2603 - mae: 0.2476 - f1_m: 0.207 - ETA: 2:04:58 - loss: 1.2601 - mae: 0.2475 - f1_m: 0.207 - ETA: 2:04:04 - loss: 1.2599 - mae: 0.2475 - f1_m: 0.207 - ETA: 2:03:09 - loss: 1.2598 - mae: 0.2474 - f1_m: 0.207 - ETA: 2:02:15 - loss: 1.2594 - mae: 0.2473 - f1_m: 0.207 - ETA: 2:01:20 - loss: 1.2598 - mae: 0.2472 - f1_m: 0.207 - ETA: 2:00:26 - loss: 1.2598 - mae: 0.2470 - f1_m: 0.207 - ETA: 1:59:31 - loss: 1.2597 - mae: 0.2469 - f1_m: 0.207 - ETA: 1:58:37 - loss: 1.2597 - mae: 0.2468 - f1_m: 0.207 - ETA: 1:57:42 - loss: 1.2598 - mae: 0.2467 - f1_m: 0.207 - ETA: 1:56:47 - loss: 1.2594 - mae: 0.2467 - f1_m: 0.207 - ETA: 1:55:53 - loss: 1.2586 - mae: 0.2466 - f1_m: 0.207 - ETA: 1:54:58 - loss: 1.2577 - mae: 0.2465 - f1_m: 0.207 - ETA: 1:54:04 - loss: 1.2575 - mae: 0.2465 - f1_m: 0.207 - ETA: 1:53:09 - loss: 1.2572 - mae: 0.2464 - f1_m: 0.207 - ETA: 1:52:15 - loss: 1.2576 - mae: 0.2463 - f1_m: 0.207 - ETA: 1:51:20 - loss: 1.2569 - mae: 0.2462 - f1_m: 0.207 - ETA: 1:50:25 - loss: 1.2572 - mae: 0.2461 - f1_m: 0.206 - ETA: 1:49:31 - loss: 1.2570 - mae: 0.2461 - f1_m: 0.206 - ETA: 1:48:37 - loss: 1.2564 - mae: 0.2460 - f1_m: 0.206 - ETA: 1:47:42 - loss: 1.2556 - mae: 0.2460 - f1_m: 0.207 - ETA: 1:46:48 - loss: 1.2548 - mae: 0.2460 - f1_m: 0.2072"
     ]
    },
    {
     "name": "stdout",
     "output_type": "stream",
     "text": [
      "540/541 [============================>.] - ETA: 1:45:53 - loss: 1.2538 - mae: 0.2460 - f1_m: 0.207 - ETA: 1:44:59 - loss: 1.2532 - mae: 0.2460 - f1_m: 0.207 - ETA: 1:44:04 - loss: 1.2524 - mae: 0.2459 - f1_m: 0.207 - ETA: 1:43:10 - loss: 1.2528 - mae: 0.2457 - f1_m: 0.207 - ETA: 1:42:15 - loss: 1.2526 - mae: 0.2458 - f1_m: 0.207 - ETA: 1:41:21 - loss: 1.2526 - mae: 0.2457 - f1_m: 0.207 - ETA: 1:40:26 - loss: 1.2522 - mae: 0.2456 - f1_m: 0.207 - ETA: 1:39:32 - loss: 1.2512 - mae: 0.2456 - f1_m: 0.207 - ETA: 1:38:37 - loss: 1.2516 - mae: 0.2455 - f1_m: 0.207 - ETA: 1:37:43 - loss: 1.2510 - mae: 0.2456 - f1_m: 0.207 - ETA: 1:36:48 - loss: 1.2506 - mae: 0.2456 - f1_m: 0.207 - ETA: 1:35:54 - loss: 1.2500 - mae: 0.2457 - f1_m: 0.207 - ETA: 1:34:59 - loss: 1.2489 - mae: 0.2457 - f1_m: 0.208 - ETA: 1:34:05 - loss: 1.2485 - mae: 0.2457 - f1_m: 0.208 - ETA: 1:33:10 - loss: 1.2480 - mae: 0.2458 - f1_m: 0.208 - ETA: 1:32:16 - loss: 1.2472 - mae: 0.2459 - f1_m: 0.208 - ETA: 1:31:22 - loss: 1.2467 - mae: 0.2462 - f1_m: 0.208 - ETA: 1:30:27 - loss: 1.2462 - mae: 0.2463 - f1_m: 0.209 - ETA: 1:29:33 - loss: 1.2457 - mae: 0.2464 - f1_m: 0.209 - ETA: 1:28:39 - loss: 1.2451 - mae: 0.2465 - f1_m: 0.209 - ETA: 1:27:44 - loss: 1.2448 - mae: 0.2465 - f1_m: 0.209 - ETA: 1:26:50 - loss: 1.2442 - mae: 0.2465 - f1_m: 0.209 - ETA: 1:25:55 - loss: 1.2438 - mae: 0.2465 - f1_m: 0.209 - ETA: 1:25:01 - loss: 1.2434 - mae: 0.2465 - f1_m: 0.209 - ETA: 1:24:06 - loss: 1.2427 - mae: 0.2465 - f1_m: 0.209 - ETA: 1:23:12 - loss: 1.2420 - mae: 0.2465 - f1_m: 0.209 - ETA: 1:22:17 - loss: 1.2419 - mae: 0.2465 - f1_m: 0.209 - ETA: 1:21:23 - loss: 1.2416 - mae: 0.2465 - f1_m: 0.209 - ETA: 1:20:29 - loss: 1.2415 - mae: 0.2467 - f1_m: 0.210 - ETA: 1:19:34 - loss: 1.2406 - mae: 0.2467 - f1_m: 0.210 - ETA: 1:18:40 - loss: 1.2400 - mae: 0.2469 - f1_m: 0.210 - ETA: 1:17:45 - loss: 1.2393 - mae: 0.2471 - f1_m: 0.210 - ETA: 1:16:51 - loss: 1.2387 - mae: 0.2472 - f1_m: 0.211 - ETA: 1:15:57 - loss: 1.2383 - mae: 0.2474 - f1_m: 0.211 - ETA: 1:15:03 - loss: 1.2377 - mae: 0.2476 - f1_m: 0.211 - ETA: 1:14:08 - loss: 1.2370 - mae: 0.2478 - f1_m: 0.212 - ETA: 1:13:14 - loss: 1.2362 - mae: 0.2479 - f1_m: 0.212 - ETA: 1:12:20 - loss: 1.2358 - mae: 0.2480 - f1_m: 0.212 - ETA: 1:11:25 - loss: 1.2352 - mae: 0.2481 - f1_m: 0.212 - ETA: 1:10:31 - loss: 1.2344 - mae: 0.2482 - f1_m: 0.212 - ETA: 1:09:36 - loss: 1.2339 - mae: 0.2483 - f1_m: 0.213 - ETA: 1:08:42 - loss: 1.2333 - mae: 0.2484 - f1_m: 0.213 - ETA: 1:07:48 - loss: 1.2329 - mae: 0.2485 - f1_m: 0.213 - ETA: 1:06:53 - loss: 1.2325 - mae: 0.2487 - f1_m: 0.213 - ETA: 1:05:59 - loss: 1.2318 - mae: 0.2487 - f1_m: 0.213 - ETA: 1:05:04 - loss: 1.2312 - mae: 0.2489 - f1_m: 0.214 - ETA: 1:04:10 - loss: 1.2303 - mae: 0.2490 - f1_m: 0.214 - ETA: 1:03:16 - loss: 1.2296 - mae: 0.2490 - f1_m: 0.214 - ETA: 1:02:21 - loss: 1.2289 - mae: 0.2490 - f1_m: 0.214 - ETA: 1:01:27 - loss: 1.2284 - mae: 0.2492 - f1_m: 0.214 - ETA: 1:00:33 - loss: 1.2278 - mae: 0.2494 - f1_m: 0.215 - ETA: 59:39 - loss: 1.2275 - mae: 0.2495 - f1_m: 0.2153  - ETA: 58:44 - loss: 1.2274 - mae: 0.2496 - f1_m: 0.215 - ETA: 57:50 - loss: 1.2273 - mae: 0.2499 - f1_m: 0.215 - ETA: 56:56 - loss: 1.2271 - mae: 0.2501 - f1_m: 0.215 - ETA: 56:02 - loss: 1.2268 - mae: 0.2502 - f1_m: 0.216 - ETA: 55:07 - loss: 1.2263 - mae: 0.2503 - f1_m: 0.216 - ETA: 54:13 - loss: 1.2255 - mae: 0.2503 - f1_m: 0.216 - ETA: 53:19 - loss: 1.2252 - mae: 0.2504 - f1_m: 0.216 - ETA: 52:24 - loss: 1.2244 - mae: 0.2504 - f1_m: 0.216 - ETA: 51:30 - loss: 1.2240 - mae: 0.2504 - f1_m: 0.216 - ETA: 50:36 - loss: 1.2235 - mae: 0.2504 - f1_m: 0.216 - ETA: 49:41 - loss: 1.2230 - mae: 0.2505 - f1_m: 0.216 - ETA: 48:47 - loss: 1.2228 - mae: 0.2505 - f1_m: 0.217 - ETA: 47:53 - loss: 1.2224 - mae: 0.2506 - f1_m: 0.217 - ETA: 46:58 - loss: 1.2218 - mae: 0.2506 - f1_m: 0.217 - ETA: 46:04 - loss: 1.2210 - mae: 0.2506 - f1_m: 0.217 - ETA: 45:10 - loss: 1.2204 - mae: 0.2505 - f1_m: 0.217 - ETA: 44:16 - loss: 1.2205 - mae: 0.2504 - f1_m: 0.217 - ETA: 43:21 - loss: 1.2201 - mae: 0.2504 - f1_m: 0.217 - ETA: 42:27 - loss: 1.2198 - mae: 0.2505 - f1_m: 0.217 - ETA: 41:33 - loss: 1.2199 - mae: 0.2504 - f1_m: 0.217 - ETA: 40:39 - loss: 1.2198 - mae: 0.2503 - f1_m: 0.217 - ETA: 39:45 - loss: 1.2198 - mae: 0.2502 - f1_m: 0.217 - ETA: 38:51 - loss: 1.2194 - mae: 0.2502 - f1_m: 0.217 - ETA: 37:58 - loss: 1.2198 - mae: 0.2500 - f1_m: 0.217 - ETA: 37:04 - loss: 1.2195 - mae: 0.2500 - f1_m: 0.217 - ETA: 36:10 - loss: 1.2190 - mae: 0.2499 - f1_m: 0.217 - ETA: 35:15 - loss: 1.2191 - mae: 0.2499 - f1_m: 0.216 - ETA: 34:21 - loss: 1.2185 - mae: 0.2498 - f1_m: 0.216 - ETA: 33:27 - loss: 1.2180 - mae: 0.2498 - f1_m: 0.217 - ETA: 32:33 - loss: 1.2175 - mae: 0.2498 - f1_m: 0.217 - ETA: 31:39 - loss: 1.2177 - mae: 0.2497 - f1_m: 0.217 - ETA: 30:45 - loss: 1.2178 - mae: 0.2498 - f1_m: 0.217 - ETA: 29:50 - loss: 1.2174 - mae: 0.2498 - f1_m: 0.217 - ETA: 28:56 - loss: 1.2174 - mae: 0.2497 - f1_m: 0.216 - ETA: 28:02 - loss: 1.2181 - mae: 0.2496 - f1_m: 0.216 - ETA: 27:08 - loss: 1.2192 - mae: 0.2495 - f1_m: 0.216 - ETA: 26:13 - loss: 1.2207 - mae: 0.2494 - f1_m: 0.216 - ETA: 25:19 - loss: 1.2206 - mae: 0.2493 - f1_m: 0.216 - ETA: 24:25 - loss: 1.2205 - mae: 0.2493 - f1_m: 0.216 - ETA: 23:30 - loss: 1.2203 - mae: 0.2492 - f1_m: 0.216 - ETA: 22:36 - loss: 1.2200 - mae: 0.2492 - f1_m: 0.216 - ETA: 21:42 - loss: 1.2199 - mae: 0.2492 - f1_m: 0.216 - ETA: 20:47 - loss: 1.2200 - mae: 0.2491 - f1_m: 0.216 - ETA: 19:53 - loss: 1.2197 - mae: 0.2491 - f1_m: 0.216 - ETA: 18:59 - loss: 1.2194 - mae: 0.2491 - f1_m: 0.216 - ETA: 18:05 - loss: 1.2192 - mae: 0.2490 - f1_m: 0.216 - ETA: 17:10 - loss: 1.2194 - mae: 0.2490 - f1_m: 0.216 - ETA: 16:16 - loss: 1.2201 - mae: 0.2489 - f1_m: 0.215 - ETA: 15:22 - loss: 1.2205 - mae: 0.2488 - f1_m: 0.215 - ETA: 14:27 - loss: 1.2204 - mae: 0.2487 - f1_m: 0.215 - ETA: 13:33 - loss: 1.2213 - mae: 0.2486 - f1_m: 0.215 - ETA: 12:39 - loss: 1.2212 - mae: 0.2485 - f1_m: 0.215 - ETA: 11:45 - loss: 1.2213 - mae: 0.2484 - f1_m: 0.215 - ETA: 10:50 - loss: 1.2211 - mae: 0.2484 - f1_m: 0.215 - ETA: 9:56 - loss: 1.2208 - mae: 0.2483 - f1_m: 0.215 - ETA: 9:02 - loss: 1.2211 - mae: 0.2482 - f1_m: 0.21 - ETA: 8:08 - loss: 1.2210 - mae: 0.2481 - f1_m: 0.21 - ETA: 7:13 - loss: 1.2210 - mae: 0.2481 - f1_m: 0.21 - ETA: 6:19 - loss: 1.2203 - mae: 0.2480 - f1_m: 0.21 - ETA: 5:25 - loss: 1.2205 - mae: 0.2480 - f1_m: 0.21 - ETA: 4:31 - loss: 1.2206 - mae: 0.2480 - f1_m: 0.21 - ETA: 3:36 - loss: 1.2203 - mae: 0.2479 - f1_m: 0.21 - ETA: 2:42 - loss: 1.2205 - mae: 0.2479 - f1_m: 0.21 - ETA: 1:48 - loss: 1.2202 - mae: 0.2479 - f1_m: 0.21 - ETA: 54s - loss: 1.2202 - mae: 0.2479 - f1_m: 0.2148 \n",
      "Epoch 00003: saving model to ./checkpoint/ver_yyj/v03_ep03-loss1.22087.ckpt\n",
      "541/541 [==============================] - 29332s 54s/step - loss: 1.2202 - mae: 0.2478 - f1_m: 0.2146\n",
      "Epoch 4/5\n"
     ]
    },
    {
     "name": "stdout",
     "output_type": "stream",
     "text": [
      "111/541 [=====>........................] - ETA: 9:23:56 - loss: 1.5625 - mae: 0.2049 - f1_m: 0.131 - ETA: 8:40:08 - loss: 1.5204 - mae: 0.2183 - f1_m: 0.143 - ETA: 8:25:10 - loss: 1.4669 - mae: 0.2088 - f1_m: 0.142 - ETA: 8:17:26 - loss: 1.5987 - mae: 0.2031 - f1_m: 0.130 - ETA: 8:12:50 - loss: 1.6591 - mae: 0.2006 - f1_m: 0.124 - ETA: 8:09:15 - loss: 1.5951 - mae: 0.1994 - f1_m: 0.128 - ETA: 8:06:29 - loss: 1.5408 - mae: 0.1969 - f1_m: 0.131 - ETA: 8:04:40 - loss: 1.5126 - mae: 0.1973 - f1_m: 0.134 - ETA: 8:03:02 - loss: 1.4952 - mae: 0.1979 - f1_m: 0.136 - ETA: 8:01:36 - loss: 1.4631 - mae: 0.1980 - f1_m: 0.139 - ETA: 8:00:33 - loss: 1.4413 - mae: 0.1971 - f1_m: 0.140 - ETA: 7:59:24 - loss: 1.4107 - mae: 0.1961 - f1_m: 0.143 - ETA: 7:58:26 - loss: 1.4317 - mae: 0.1982 - f1_m: 0.142 - ETA: 7:57:33 - loss: 1.4520 - mae: 0.2002 - f1_m: 0.141 - ETA: 7:56:31 - loss: 1.4607 - mae: 0.1989 - f1_m: 0.139 - ETA: 7:55:03 - loss: 1.4696 - mae: 0.1986 - f1_m: 0.138 - ETA: 7:53:37 - loss: 1.4715 - mae: 0.1977 - f1_m: 0.137 - ETA: 7:52:16 - loss: 1.4706 - mae: 0.1973 - f1_m: 0.137 - ETA: 7:50:58 - loss: 1.4458 - mae: 0.1992 - f1_m: 0.142 - ETA: 7:49:42 - loss: 1.4380 - mae: 0.1982 - f1_m: 0.142 - ETA: 7:48:34 - loss: 1.4141 - mae: 0.1978 - f1_m: 0.145 - ETA: 7:47:24 - loss: 1.4099 - mae: 0.1981 - f1_m: 0.145 - ETA: 7:46:18 - loss: 1.3994 - mae: 0.1979 - f1_m: 0.146 - ETA: 7:45:20 - loss: 1.3743 - mae: 0.1975 - f1_m: 0.150 - ETA: 7:44:17 - loss: 1.3694 - mae: 0.1969 - f1_m: 0.150 - ETA: 7:43:22 - loss: 1.4051 - mae: 0.1960 - f1_m: 0.147 - ETA: 7:42:19 - loss: 1.3983 - mae: 0.1954 - f1_m: 0.147 - ETA: 7:41:26 - loss: 1.4015 - mae: 0.1949 - f1_m: 0.146 - ETA: 7:40:32 - loss: 1.4195 - mae: 0.1948 - f1_m: 0.144 - ETA: 7:39:39 - loss: 1.4249 - mae: 0.1943 - f1_m: 0.143 - ETA: 7:38:48 - loss: 1.4100 - mae: 0.1940 - f1_m: 0.145 - ETA: 7:38:01 - loss: 1.4332 - mae: 0.1934 - f1_m: 0.143 - ETA: 7:37:01 - loss: 1.4214 - mae: 0.1936 - f1_m: 0.144 - ETA: 7:35:59 - loss: 1.4046 - mae: 0.1933 - f1_m: 0.146 - ETA: 7:34:56 - loss: 1.4022 - mae: 0.1930 - f1_m: 0.146 - ETA: 7:33:53 - loss: 1.3981 - mae: 0.1926 - f1_m: 0.146 - ETA: 7:32:49 - loss: 1.4048 - mae: 0.1921 - f1_m: 0.145 - ETA: 7:31:50 - loss: 1.3872 - mae: 0.1925 - f1_m: 0.149 - ETA: 7:30:48 - loss: 1.3918 - mae: 0.1921 - f1_m: 0.148 - ETA: 7:29:51 - loss: 1.3810 - mae: 0.1924 - f1_m: 0.149 - ETA: 7:28:53 - loss: 1.3841 - mae: 0.1919 - f1_m: 0.148 - ETA: 7:27:58 - loss: 1.3823 - mae: 0.1916 - f1_m: 0.148 - ETA: 7:27:03 - loss: 1.3769 - mae: 0.1918 - f1_m: 0.149 - ETA: 7:26:08 - loss: 1.3772 - mae: 0.1913 - f1_m: 0.148 - ETA: 7:26:07 - loss: 1.3819 - mae: 0.1908 - f1_m: 0.147 - ETA: 7:26:48 - loss: 1.3913 - mae: 0.1906 - f1_m: 0.146 - ETA: 7:25:45 - loss: 1.3888 - mae: 0.1906 - f1_m: 0.146 - ETA: 7:24:40 - loss: 1.3796 - mae: 0.1907 - f1_m: 0.147 - ETA: 7:23:35 - loss: 1.3769 - mae: 0.1906 - f1_m: 0.147 - ETA: 7:22:31 - loss: 1.3729 - mae: 0.1905 - f1_m: 0.148 - ETA: 7:21:29 - loss: 1.3655 - mae: 0.1912 - f1_m: 0.149 - ETA: 7:20:29 - loss: 1.3651 - mae: 0.1917 - f1_m: 0.149 - ETA: 7:19:26 - loss: 1.3614 - mae: 0.1922 - f1_m: 0.150 - ETA: 7:18:25 - loss: 1.3543 - mae: 0.1923 - f1_m: 0.151 - ETA: 7:17:27 - loss: 1.3531 - mae: 0.1931 - f1_m: 0.152 - ETA: 7:16:29 - loss: 1.3534 - mae: 0.1931 - f1_m: 0.151 - ETA: 7:15:30 - loss: 1.3483 - mae: 0.1936 - f1_m: 0.152 - ETA: 7:14:38 - loss: 1.3461 - mae: 0.1940 - f1_m: 0.153 - ETA: 7:13:42 - loss: 1.3475 - mae: 0.1939 - f1_m: 0.152 - ETA: 7:12:45 - loss: 1.3416 - mae: 0.1943 - f1_m: 0.154 - ETA: 7:11:49 - loss: 1.3338 - mae: 0.1942 - f1_m: 0.155 - ETA: 7:10:58 - loss: 1.3368 - mae: 0.1941 - f1_m: 0.154 - ETA: 7:10:06 - loss: 1.3327 - mae: 0.1943 - f1_m: 0.155 - ETA: 7:09:16 - loss: 1.3276 - mae: 0.1952 - f1_m: 0.156 - ETA: 7:08:31 - loss: 1.3216 - mae: 0.1953 - f1_m: 0.157 - ETA: 7:07:40 - loss: 1.3152 - mae: 0.1958 - f1_m: 0.158 - ETA: 7:06:50 - loss: 1.3079 - mae: 0.1959 - f1_m: 0.160 - ETA: 7:06:00 - loss: 1.3043 - mae: 0.1961 - f1_m: 0.160 - ETA: 7:05:09 - loss: 1.2979 - mae: 0.1963 - f1_m: 0.161 - ETA: 7:04:22 - loss: 1.2983 - mae: 0.1963 - f1_m: 0.161 - ETA: 7:03:31 - loss: 1.2934 - mae: 0.1968 - f1_m: 0.162 - ETA: 7:02:42 - loss: 1.2886 - mae: 0.1974 - f1_m: 0.164 - ETA: 7:01:50 - loss: 1.2811 - mae: 0.1980 - f1_m: 0.166 - ETA: 7:01:01 - loss: 1.2781 - mae: 0.1981 - f1_m: 0.166 - ETA: 7:00:11 - loss: 1.2750 - mae: 0.1987 - f1_m: 0.167 - ETA: 6:59:20 - loss: 1.2708 - mae: 0.1990 - f1_m: 0.168 - ETA: 6:58:28 - loss: 1.2685 - mae: 0.2000 - f1_m: 0.169 - ETA: 6:57:38 - loss: 1.2635 - mae: 0.2006 - f1_m: 0.171 - ETA: 6:56:46 - loss: 1.2589 - mae: 0.2012 - f1_m: 0.172 - ETA: 6:55:55 - loss: 1.2577 - mae: 0.2017 - f1_m: 0.172 - ETA: 6:55:04 - loss: 1.2544 - mae: 0.2024 - f1_m: 0.173 - ETA: 6:54:11 - loss: 1.2491 - mae: 0.2030 - f1_m: 0.175 - ETA: 6:53:14 - loss: 1.2467 - mae: 0.2034 - f1_m: 0.176 - ETA: 6:52:18 - loss: 1.2450 - mae: 0.2036 - f1_m: 0.176 - ETA: 6:51:22 - loss: 1.2420 - mae: 0.2039 - f1_m: 0.176 - ETA: 6:50:25 - loss: 1.2428 - mae: 0.2045 - f1_m: 0.177 - ETA: 6:49:30 - loss: 1.2405 - mae: 0.2051 - f1_m: 0.178 - ETA: 6:48:35 - loss: 1.2390 - mae: 0.2064 - f1_m: 0.179 - ETA: 6:47:41 - loss: 1.2347 - mae: 0.2067 - f1_m: 0.180 - ETA: 6:46:48 - loss: 1.2311 - mae: 0.2073 - f1_m: 0.181 - ETA: 6:45:53 - loss: 1.2285 - mae: 0.2076 - f1_m: 0.182 - ETA: 6:44:59 - loss: 1.2303 - mae: 0.2085 - f1_m: 0.182 - ETA: 6:44:06 - loss: 1.2271 - mae: 0.2089 - f1_m: 0.183 - ETA: 6:43:13 - loss: 1.2236 - mae: 0.2096 - f1_m: 0.184 - ETA: 6:42:20 - loss: 1.2218 - mae: 0.2095 - f1_m: 0.184 - ETA: 6:41:26 - loss: 1.2197 - mae: 0.2111 - f1_m: 0.186 - ETA: 6:40:33 - loss: 1.2163 - mae: 0.2118 - f1_m: 0.187 - ETA: 6:39:41 - loss: 1.2127 - mae: 0.2123 - f1_m: 0.188 - ETA: 6:38:49 - loss: 1.2097 - mae: 0.2125 - f1_m: 0.189 - ETA: 6:37:58 - loss: 1.2064 - mae: 0.2127 - f1_m: 0.190 - ETA: 6:37:03 - loss: 1.2037 - mae: 0.2128 - f1_m: 0.190 - ETA: 6:36:09 - loss: 1.2026 - mae: 0.2127 - f1_m: 0.190 - ETA: 6:35:12 - loss: 1.2000 - mae: 0.2131 - f1_m: 0.191 - ETA: 6:34:18 - loss: 1.1979 - mae: 0.2134 - f1_m: 0.191 - ETA: 6:33:22 - loss: 1.1953 - mae: 0.2140 - f1_m: 0.193 - ETA: 6:32:29 - loss: 1.1922 - mae: 0.2144 - f1_m: 0.194 - ETA: 6:31:34 - loss: 1.1900 - mae: 0.2146 - f1_m: 0.194 - ETA: 6:30:39 - loss: 1.1885 - mae: 0.2154 - f1_m: 0.195 - ETA: 6:29:45 - loss: 1.1860 - mae: 0.2161 - f1_m: 0.196 - ETA: 6:28:51 - loss: 1.1840 - mae: 0.2169 - f1_m: 0.197 - ETA: 6:27:57 - loss: 1.1804 - mae: 0.2173 - f1_m: 0.1988"
     ]
    }
   ],
   "source": [
    "start = time.time()\n",
    "epochs = 5\n",
    "model_history = model.fit(train_dataset, epochs = epochs, verbose=1,\n",
    "                          callbacks=callbacks)\n",
    "print('{}epoch 파일 학습 시간:'.format(epochs), round((time.time()-start)/60, 2))"
   ]
  },
  {
   "cell_type": "markdown",
   "metadata": {
    "colab_type": "text",
    "id": "kzZbiR6VszdJ"
   },
   "source": [
    "# Cross Validation 평가"
   ]
  },
  {
   "cell_type": "code",
   "execution_count": 0,
   "metadata": {
    "colab": {},
    "colab_type": "code",
    "id": "gh7AcnkOd2m6"
   },
   "outputs": [],
   "source": [
    "# cv,ftr 파일에 맞는 input 생성 코드\n",
    "def input_generator_ftr_cv():\n",
    "  # cv feather 파일 로드 및 orbit, subset 조합 생성\n",
    "  CV_FILE = './ftr_data/cv.ftr'\n",
    "  cv = pd.read_feather(CV_FILE)\n",
    "  file_cnt = 0\n",
    "  temp_info = cv[['orbit', 'subset']].drop_duplicates()\n",
    "  orbit = temp_info['orbit'].tolist()\n",
    "  subset = temp_info['subset'].tolist()\n",
    "  del temp_info\n",
    "  size = len(orbit)\n",
    "  \n",
    "  # 하나의 이미지 데이터에 해당하는 것만 3차원 변환 및 피처/라벨 생성\n",
    "  for i in range(size):\n",
    "    one_img = cv.loc[(cv['orbit'] == orbit[i]) & (cv['subset'] == subset[i])].sort_values('pixel')\n",
    "    one_img = np.array(one_img.drop(['orbit', 'subset', 'pixel'], axis=1)).reshape([40,40,15])\n",
    "    target = one_img[:,:,-1].reshape(40,40,1)\n",
    "    cutoff_labels = np.where(target < 0,0, target)\n",
    "    feature = one_img[:,:,:-1]\n",
    "    # if (cutoff_labels > 0).sum() < 50: continue\n",
    "    yield(feature, cutoff_labels)\n",
    "    file_cnt += 1\n",
    "\n",
    "cv_dataset = tf.data.Dataset.from_generator(input_generator_ftr_cv, (tf.float32, tf.float32),\n",
    "                                            (tf.TensorShape([40,40,14]),tf.TensorShape([40,40,1])))\n",
    "cv_dataset = cv_dataset.batch(64)"
   ]
  },
  {
   "cell_type": "code",
   "execution_count": 0,
   "metadata": {
    "colab": {},
    "colab_type": "code",
    "id": "4u46zXCJexLi"
   },
   "outputs": [],
   "source": [
    "WEIGHT_DIR = './checkpoint/'\n",
    "LOG_DIR = './log/'\n",
    "latest = tf.train.latest_checkpoint(WEIGHT_DIR)\n",
    "print(latest)\n",
    "model.load_weights(latest)\n",
    "logging = TensorBoard(log_dir=LOG_DIR)\n",
    "result = model.evaluate(cv_dataset)\n",
    "dict(zip(model.metrics_names, result))"
   ]
  },
  {
   "cell_type": "code",
   "execution_count": 0,
   "metadata": {
    "colab": {},
    "colab_type": "code",
    "id": "H5Z-kEWflHxP"
   },
   "outputs": [],
   "source": []
  },
  {
   "cell_type": "code",
   "execution_count": 0,
   "metadata": {
    "colab": {},
    "colab_type": "code",
    "id": "c-VKz9Rstf1a"
   },
   "outputs": [],
   "source": [
    "# model_version1\n",
    "def conv_block_3(img_layer, start_neurons):\n",
    "  conv1 = Conv2D(start_neurons, (3, 3), activation=\"relu\", padding=\"same\")(img_layer)\n",
    "  conv1 = BatchNormalization()(conv1)\n",
    "  conv2 = Conv2D(start_neurons, (3, 3), activation=\"relu\", padding=\"same\")(conv1)\n",
    "  conv2 = BatchNormalization()(conv2)\n",
    "  conv3 = Conv2D(start_neurons, (3, 3), activation=\"relu\", padding=\"same\")(conv2)\n",
    "  conv3 = BatchNormalization()(conv3)\n",
    "\n",
    "  return conv3\n",
    "\n",
    "def conv_residual(img_layer, start_neurons):\n",
    "  conv1 = Conv2D(start_neurons, (3, 3), activation=\"relu\", padding=\"same\")(img_layer)\n",
    "  conv1 = BatchNormalization()(conv1)\n",
    "  conv2 = conv_block_3(conv1, start_neurons)\n",
    "  conv2 = BatchNormalization()(conv2)\n",
    "  conv3 = Conv2D(start_neurons, (3, 3), activation=\"relu\", padding=\"same\")(conv1 + conv2)\n",
    "  conv3 = BatchNormalization()(conv3)\n",
    "\n",
    "  return conv3\n",
    "\n",
    "def model_v1(input_layer, start_neurons):\n",
    "    # divide raw feature to image feature and external feature\n",
    "    img_layer = input_layer[:,:,:,:9]\n",
    "    ext_layer = input_layer[:,:,:,9:]\n",
    "    print('input_layer shape:', input_layer.shape)\n",
    "    print('img_layer shape:', img_layer.shape)\n",
    "    print('ext_layer shape:', ext_layer.shape)\n",
    "\n",
    "    # 40 x 40 -> 20 x 20\n",
    "    print('img_layer shape:', img_layer.shape)\n",
    "    conv1 = conv_residual(img_layer, start_neurons * 1)\n",
    "    print('conv1 shape:', conv1.shape)\n",
    "    pool1 = MaxPooling2D((2, 2))(conv1)\n",
    "    print('maxpool 1 shape:', pool1.shape)\n",
    "    pool1 = Dropout(0.25)(pool1)\n",
    "\n",
    "    # 20 x 20 -> 10 x 10\n",
    "    conv2 = conv_residual(pool1, start_neurons * 2)\n",
    "    print('conv2 shape:', conv2.shape)\n",
    "    pool2 = MaxPooling2D((2, 2))(conv2)\n",
    "    print('maxpool 2 shape:', pool2.shape)\n",
    "    pool2 = Dropout(0.25)(pool2)\n",
    "\n",
    "    # 10 x 10 \n",
    "    convm = conv_residual(pool2, start_neurons * 4)\n",
    "    print('convm shape:', convm.shape)\n",
    "\n",
    "    # 10 x 10 -> 20 x 20\n",
    "    deconv2 = Conv2DTranspose(start_neurons * 2, (3, 3), strides=(2, 2), padding=\"same\")(convm)\n",
    "    uconv2 = concatenate([deconv2, conv2])\n",
    "    uconv2 = conv_residual(uconv2, start_neurons * 2)\n",
    "    print('upconv2 shape:', uconv2.shape)\n",
    "    uconv2 = Dropout(0.25)(uconv2)\n",
    "\n",
    "    # 20 x 20 -> 40 x 40\n",
    "    deconv1 = Conv2DTranspose(start_neurons * 1, (3, 3), strides=(2, 2), padding=\"same\")(uconv2)\n",
    "    uconv1 = concatenate([deconv1, conv1])\n",
    "    uconv1 = conv_residual(uconv1, start_neurons * 1)\n",
    "    print('upconv1 shape:', uconv1.shape)\n",
    "    uconv1 = Dropout(0.25)(uconv1)\n",
    "    output_layer = Conv2D(1, (1,1), padding=\"same\", activation='relu')(uconv1)\n",
    "    print('output shape:', output_layer.shape)\n",
    "    \n",
    "    return output_layer\n",
    "\n",
    "input_layer = Input((40, 40, 17))\n",
    "output_layer = model_v1(input_layer, 32)\n",
    "model = Model(input_layer, output_layer)"
   ]
  },
  {
   "cell_type": "code",
   "execution_count": 0,
   "metadata": {
    "colab": {},
    "colab_type": "code",
    "id": "kNJ9Wx5bmT-h"
   },
   "outputs": [],
   "source": [
    "# model version 2\n",
    "def conv_block_3(img_layer, start_neurons):\n",
    "  conv1 = Conv2D(start_neurons, (3, 3), activation=\"relu\", padding=\"same\")(img_layer)\n",
    "  conv1 = BatchNormalization()(conv1)\n",
    "  conv2 = Conv2D(start_neurons, (3, 3), activation=\"relu\", padding=\"same\")(conv1)\n",
    "  conv2 = BatchNormalization()(conv2)\n",
    "  conv3 = Conv2D(start_neurons, (3, 3), activation=\"relu\", padding=\"same\")(conv2)\n",
    "  conv3 = BatchNormalization()(conv3)\n",
    "\n",
    "  return conv3\n",
    "\n",
    "def conv_residual(img_layer, start_neurons):\n",
    "  conv1 = Conv2D(start_neurons, (3, 3), activation=\"relu\", padding=\"same\")(img_layer)\n",
    "  conv1 = BatchNormalization()(conv1)\n",
    "  conv2 = conv_block_3(conv1, start_neurons)\n",
    "  conv2 = BatchNormalization()(conv2)\n",
    "  conv3 = Conv2D(start_neurons, (3, 3), activation=\"relu\", padding=\"same\")(conv1 + conv2)\n",
    "  conv3 = BatchNormalization()(conv3)\n",
    "\n",
    "  return conv3\n",
    "\n",
    "def model_v2(input_layer, start_neurons, ext_neurons):\n",
    "    # divide raw feature to image feature and external feature\n",
    "    img_layer = input_layer[:,:,:,:9]\n",
    "    ext_layer = input_layer[:,:,:,9:]\n",
    "    print('input_layer shape:', input_layer.shape)\n",
    "    print('img_layer shape:', img_layer.shape)\n",
    "    print('ext_layer shape:', ext_layer.shape)\n",
    "\n",
    "    # 40 x 40 -> 20 x 20\n",
    "    print('img_layer shape:', img_layer.shape)\n",
    "    conv1 = conv_residual(img_layer, start_neurons * 1)\n",
    "    print('conv1 shape:', conv1.shape)\n",
    "    pool1 = MaxPooling2D((2, 2))(conv1)\n",
    "    print('maxpool 1 shape:', pool1.shape)\n",
    "    pool1 = Dropout(0.25)(pool1)\n",
    "\n",
    "    # 20 x 20 -> 10 x 10\n",
    "    conv2 = conv_residual(pool1, start_neurons * 2)\n",
    "    print('conv2 shape:', conv2.shape)\n",
    "    pool2 = MaxPooling2D((2, 2))(conv2)\n",
    "    print('maxpool 2 shape:', pool2.shape)\n",
    "    pool2 = Dropout(0.25)(pool2)\n",
    "\n",
    "    # 10 x 10 \n",
    "    convm = conv_residual(pool2, start_neurons * 4)\n",
    "    print('convm shape:', convm.shape)\n",
    "\n",
    "    # 10 x 10 -> 20 x 20\n",
    "    deconv2 = Conv2DTranspose(start_neurons * 2, (3, 3), strides=(2, 2), padding=\"same\")(convm)\n",
    "    uconv2 = concatenate([deconv2, conv2])\n",
    "    print('concat 2:', uconv2.shape)\n",
    "    uconv2 = conv_residual(uconv2, start_neurons * 2)\n",
    "    print('upconv2 shape:', uconv2.shape)\n",
    "    uconv2 = Dropout(0.25)(uconv2)\n",
    "\n",
    "    # 20 x 20 -> 40 x 40\n",
    "    deconv1 = Conv2DTranspose(start_neurons * 1, (3, 3), strides=(2, 2), padding=\"same\")(uconv2)\n",
    "    uconv1 = concatenate([deconv1, conv1])\n",
    "    uconv1 = conv_residual(uconv1, start_neurons * 1)\n",
    "    print('upconv1 shape:', uconv1.shape)\n",
    "    uconv1 = Dropout(0.25)(uconv1)\n",
    "    \n",
    "    # process the external feature\n",
    "    ext_output = Conv2D(ext_neurons, (1,1), padding=\"valid\", activation='relu')(ext_layer)\n",
    "    ext_output = BatchNormalization()(ext_output)\n",
    "    print('ext 1 shape:', ext_output.shape)\n",
    "    # ext_output = Dropout(0.25)(ext_output)\n",
    "    ext_output = Conv2D(ext_neurons, (1,1), padding=\"valid\", activation='relu')(ext_layer)\n",
    "    ext_output = BatchNormalization()(ext_output)\n",
    "    print('ext 2 shape:', ext_output.shape)\n",
    "\n",
    "    output_layer = concatenate([uconv1, ext_output])\n",
    "    print('final concat shape:', output_layer.shape)\n",
    "\n",
    "    output_layer = Conv2D(16, (1,1), padding=\"valid\", activation='relu')(output_layer)\n",
    "    print('middle output shape:', output_layer.shape)\n",
    "    output_layer = Conv2D(1, (1,1), padding=\"valid\", activation='relu')(output_layer)\n",
    "    print('output shape:', output_layer.shape)\n",
    "    \n",
    "    return output_layer\n",
    "\n",
    "input_layer = Input((40, 40, 17))\n",
    "output_layer = model_v2(input_layer, 32, 64)\n",
    "model = Model(input_layer, output_layer)"
   ]
  },
  {
   "cell_type": "code",
   "execution_count": 0,
   "metadata": {
    "colab": {
     "base_uri": "https://localhost:8080/",
     "height": 390
    },
    "colab_type": "code",
    "executionInfo": {
     "elapsed": 2459,
     "status": "ok",
     "timestamp": 1589215006321,
     "user": {
      "displayName": "유영재",
      "photoUrl": "",
      "userId": "15071020987067673937"
     },
     "user_tz": -540
    },
    "id": "BBfOOLtXW8HC",
    "outputId": "619ca0d6-8aac-425c-88c8-315649971ae9"
   },
   "outputs": [
    {
     "name": "stdout",
     "output_type": "stream",
     "text": [
      "input_layer shape: (None, 40, 40, 14)\n",
      "img_layer shape: (None, 40, 40, 9)\n",
      "ext_layer shape: (None, 40, 40, 5)\n",
      "img_layer shape: (None, 40, 40, 9)\n",
      "conv1 shape: (None, 40, 40, 32)\n",
      "maxpool 1 shape: (None, 20, 20, 32)\n",
      "conv2 shape: (None, 20, 20, 64)\n",
      "maxpool 2 shape: (None, 10, 10, 64)\n",
      "atrous conv3 shape: (None, 10, 10, 128)\n",
      "pool shape: (None, 5, 5, 64)\n",
      "interpolate shape: (None, 10, 10, 128)\n",
      "atrous concat: (None, 10, 10, 512)\n",
      "final atrous shape: (None, 10, 10, 128)\n",
      "convm shape: (None, 10, 10, 128)\n",
      "concat 2: (None, 20, 20, 128)\n",
      "upconv2 shape: (None, 20, 20, 64)\n",
      "upconv1 shape: (None, 40, 40, 32)\n",
      "ext 1 shape: (None, 40, 40, 32)\n",
      "ext 2 shape: (None, 40, 40, 32)\n",
      "final concat shape: (None, 40, 40, 64)\n",
      "output shape: (None, 40, 40, 1)\n"
     ]
    }
   ],
   "source": [
    "# model_v3 / external feature / atrous conv / \n",
    "\n",
    "def atrous_conv(img_layer, start_neurons):\n",
    "  conv1 = Conv2D(start_neurons, (3, 3), activation=\"relu\", padding=\"same\")(img_layer)\n",
    "  conv1 = BatchNormalization()(conv1)\n",
    "  conv2 = Conv2D(start_neurons, (3, 3), activation=\"relu\", padding=\"same\", dilation_rate=2)(img_layer)\n",
    "  conv2 = BatchNormalization()(conv2)\n",
    "  conv3 = Conv2D(start_neurons, (3, 3), activation=\"relu\", padding=\"same\", dilation_rate=3)(img_layer)\n",
    "  conv3 = BatchNormalization()(conv3)\n",
    "  print('atrous conv3 shape:', conv3.shape)\n",
    "  pool = AveragePooling2D((2,2))(img_layer)\n",
    "  print('pool shape:', pool.shape)\n",
    "  conv4 = Conv2DTranspose(start_neurons, (3, 3), strides=(2, 2), padding=\"same\")(pool)\n",
    "  print('interpolate shape:', conv4.shape)\n",
    "\n",
    "  total = concatenate([conv1, conv2, conv3, conv4])\n",
    "  print('atrous concat:', total.shape)\n",
    "  total = Conv2D(start_neurons, (1,1), activation='relu', padding='valid')(total)\n",
    "  print('final atrous shape:', total.shape)\n",
    "  total = Dropout(0.5)(total)\n",
    "\n",
    "  return total\n",
    "\n",
    "def conv_block_2(img_layer, start_neurons):\n",
    "  conv1 = Conv2D(start_neurons, (3, 3), activation=\"relu\", padding=\"same\")(img_layer)\n",
    "  conv1 = BatchNormalization()(conv1)\n",
    "  conv2 = Conv2D(start_neurons, (3, 3), activation=\"relu\", padding=\"same\")(conv1)\n",
    "  conv2 = BatchNormalization()(conv2)\n",
    "\n",
    "  return conv2\n",
    "\n",
    "def conv_residual(img_layer, start_neurons):\n",
    "  conv1 = Conv2D(start_neurons, (3, 3), activation=\"relu\", padding=\"same\")(img_layer)\n",
    "  conv1 = BatchNormalization()(conv1)\n",
    "  conv2 = conv_block_2(conv1, start_neurons)\n",
    "  conv2 = BatchNormalization()(conv2)\n",
    "  conv3 = Conv2D(start_neurons, (3, 3), activation=\"relu\", padding=\"same\")(conv1 + conv2)\n",
    "  conv3 = BatchNormalization()(conv3)\n",
    "\n",
    "  return conv3\n",
    "\n",
    "def model_v3(input_layer, start_neurons, ext_neurons):\n",
    "    # divide raw feature to image feature and external feature\n",
    "    img_layer = input_layer[:,:,:,:9]\n",
    "    ext_layer = input_layer[:,:,:,9:]\n",
    "    print('input_layer shape:', input_layer.shape)\n",
    "    print('img_layer shape:', img_layer.shape)\n",
    "    print('ext_layer shape:', ext_layer.shape)\n",
    "\n",
    "    # 40 x 40 -> 20 x 20\n",
    "    print('img_layer shape:', img_layer.shape)\n",
    "    conv1 = conv_residual(img_layer, start_neurons * 1)\n",
    "    print('conv1 shape:', conv1.shape)\n",
    "    pool1 = MaxPooling2D((2, 2))(conv1)\n",
    "    print('maxpool 1 shape:', pool1.shape)\n",
    "    pool1 = Dropout(0.5)(pool1)\n",
    "\n",
    "    # 20 x 20 -> 10 x 10\n",
    "    conv2 = conv_residual(pool1, start_neurons * 2)\n",
    "    print('conv2 shape:', conv2.shape)\n",
    "    pool2 = MaxPooling2D((2, 2))(conv2)\n",
    "    print('maxpool 2 shape:', pool2.shape)\n",
    "    pool2 = Dropout(0.5)(pool2)\n",
    "\n",
    "    # 10 x 10 \n",
    "    convm = atrous_conv(pool2, start_neurons * 4)\n",
    "    print('convm shape:', convm.shape)\n",
    "\n",
    "    # 10 x 10 -> 20 x 20\n",
    "    deconv2 = Conv2DTranspose(start_neurons * 2, (3, 3), strides=(2, 2), padding=\"same\")(convm)\n",
    "    uconv2 = concatenate([deconv2, conv2])\n",
    "    print('concat 2:', uconv2.shape)\n",
    "    uconv2 = conv_residual(uconv2, start_neurons * 2)\n",
    "    print('upconv2 shape:', uconv2.shape)\n",
    "    uconv2 = Dropout(0.5)(uconv2)\n",
    "\n",
    "    # 20 x 20 -> 40 x 40\n",
    "    deconv1 = Conv2DTranspose(start_neurons * 1, (3, 3), strides=(2, 2), padding=\"same\")(uconv2)\n",
    "    uconv1 = concatenate([deconv1, conv1])\n",
    "    uconv1 = conv_residual(uconv1, start_neurons * 1)\n",
    "    print('upconv1 shape:', uconv1.shape)\n",
    "    uconv1 = Dropout(0.5)(uconv1)\n",
    "    \n",
    "    # process the external feature\n",
    "    ext_output = Conv2D(ext_neurons, (1,1), padding=\"valid\", activation='relu')(ext_layer)\n",
    "    ext_output = BatchNormalization()(ext_output)\n",
    "    print('ext 1 shape:', ext_output.shape)\n",
    "    ext_output = Conv2D(ext_neurons, (1,1), padding=\"valid\", activation='relu')(ext_layer)\n",
    "    ext_output = BatchNormalization()(ext_output)\n",
    "    print('ext 2 shape:', ext_output.shape)\n",
    "    ext_output = Dropout(0.5)(ext_output)\n",
    "\n",
    "    output_layer = concatenate([uconv1, ext_output])\n",
    "    print('final concat shape:', output_layer.shape)\n",
    "\n",
    "    output_layer = Conv2D(1, (1,1), padding=\"valid\", activation='relu')(output_layer)\n",
    "    print('output shape:', output_layer.shape)\n",
    "    \n",
    "    return output_layer\n",
    "\n",
    "input_layer = Input((40, 40, 14))\n",
    "output_layer = model_v3(input_layer, 32, 32)\n",
    "model = Model(input_layer, output_layer)"
   ]
  },
  {
   "cell_type": "code",
   "execution_count": 0,
   "metadata": {
    "colab": {},
    "colab_type": "code",
    "id": "FBzjM5eGoiK6"
   },
   "outputs": [],
   "source": [
    "# 원본 npy 파일에 맞는 input 생성 코드\n",
    "def input_generator_npy():\n",
    "  train_basic_path = 'raw_data'\n",
    "  train_path_list = sorted(glob.glob(train_basic_path + '/train*'))\n",
    "  print('디렉토리 개수:', len(train_path_list))\n",
    "  file_num = 0\n",
    "  for path in train_path_list:\n",
    "    files = sorted(glob.glob(path + '/*'))\n",
    "    print('총 파일 개수:', file_num)\n",
    "    for file in files:\n",
    "      data = np.load(file)\n",
    "      target = data[:, :, -1].reshape(40,40,1)\n",
    "      cutoff_labels = np.where(target < 0,0, target)\n",
    "      feature = data[:,:,:-1]\n",
    "      if (cutoff_labels > 0).sum() < 50: continue\n",
    "      yield(feature, cutoff_labels)\n",
    "      file_num += 1\n",
    "\n",
    "train_dataset = tf.data.Dataset.from_generator(input_generator_npy, (tf.float32, tf.float32),\n",
    "                                               (tf.TensorShape([40,40,14]),tf.TensorShape([40,40,1])))\n",
    "train_dataset = train_dataset.batch(8).prefetch(1)"
   ]
  },
  {
   "cell_type": "code",
   "execution_count": 0,
   "metadata": {
    "colab": {
     "base_uri": "https://localhost:8080/",
     "height": 124
    },
    "colab_type": "code",
    "executionInfo": {
     "elapsed": 1047,
     "status": "ok",
     "timestamp": 1589098457865,
     "user": {
      "displayName": "유영재",
      "photoUrl": "",
      "userId": "15071020987067673937"
     },
     "user_tz": -540
    },
    "id": "tg2aWVXUhbnH",
    "outputId": "33c48d8b-f5bc-469a-8a58-2400ce94bfd0"
   },
   "outputs": [
    {
     "name": "stdout",
     "output_type": "stream",
     "text": [
      "input_layer shape: (None, 40, 40, 14)\n",
      "img_layer shape: (None, 40, 40, 9)\n",
      "ext_layer shape: (None, 40, 40, 5)\n",
      "conv1 shape: (None, 38, 38, 64)\n",
      "conv2 shape: (None, 36, 36, 64)\n",
      "conv3 shape: (None, 34, 34, 64)\n"
     ]
    }
   ],
   "source": [
    "# fusionNet과 external feature 까지 고려하는 모델 (미완성)\n",
    "def conv_block_3(img_layer, start_neurons):\n",
    "\n",
    "  img_layer = input_layer[:,:,:,:9]\n",
    "  ext_layer = input_layer[:,:,:,9:]\n",
    "  print('input_layer shape:', input_layer.shape)\n",
    "  print('img_layer shape:', img_layer.shape)\n",
    "  print('ext_layer shape:', ext_layer.shape)\n",
    "\n",
    "  conv1 = Conv2D(start_neurons, (3, 3), activation=\"relu\", padding=\"valid\")(img_layer)\n",
    "  print('conv1 shape:', conv1.shape)\n",
    "  conv1 = BatchNormalization()(conv1)\n",
    "  conv2 = Conv2D(start_neurons, (3, 3), activation=\"relu\", padding=\"valid\", dilation_rate=2)(img_layer)\n",
    "  print('conv2 shape:', conv2.shape)\n",
    "  conv2 = BatchNormalization()(conv2)\n",
    "  conv3 = Conv2D(start_neurons, (3, 3), activation=\"relu\", padding=\"valid\", dilation_rate=3)(img_layer)\n",
    "  print('conv3 shape:', conv3.shape)\n",
    "  conv3 = BatchNormalization()(conv3)\n",
    "\n",
    "  return conv3\n",
    "\n",
    "input_layer = Input((40, 40, 14))\n",
    "output_layer = conv_block_3(input_layer, 64)\n",
    "model = Model(input_layer, output_layer)"
   ]
  }
 ],
 "metadata": {
  "accelerator": "GPU",
  "colab": {
   "authorship_tag": "ABX9TyMofyWKSoirVxKPk0zGfJ2/",
   "collapsed_sections": [],
   "machine_shape": "hm",
   "name": "dacon_satellite_basic_fusionNet.ipynb",
   "provenance": []
  },
  "kernelspec": {
   "display_name": "Python 3",
   "language": "python",
   "name": "python3"
  },
  "language_info": {
   "codemirror_mode": {
    "name": "ipython",
    "version": 3
   },
   "file_extension": ".py",
   "mimetype": "text/x-python",
   "name": "python",
   "nbconvert_exporter": "python",
   "pygments_lexer": "ipython3",
   "version": "3.6.9"
  }
 },
 "nbformat": 4,
 "nbformat_minor": 1
}
