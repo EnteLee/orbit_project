{
 "cells": [
  {
   "cell_type": "code",
   "execution_count": 1,
   "metadata": {},
   "outputs": [],
   "source": [
    "import os\n",
    "from os.path import join\n",
    "import math\n",
    "\n",
    "import numpy as np\n",
    "import pandas as pd\n",
    "from sklearn import preprocessing\n",
    "\n",
    "from time import time"
   ]
  },
  {
   "cell_type": "code",
   "execution_count": 2,
   "metadata": {},
   "outputs": [],
   "source": [
    "# path 설정\n",
    "ROOT_DIR_PATH = os.getcwd()\n",
    "TRAIN_FEATHER_PATH = join(ROOT_DIR_PATH, 'fe_data/train_elv_time.ftr')\n",
    "TEST_FEATHER_PATH = join(ROOT_DIR_PATH, 'fe_data/test_elv_time.ftr')"
   ]
  },
  {
   "cell_type": "code",
   "execution_count": 3,
   "metadata": {},
   "outputs": [],
   "source": [
    "def read_feather():\n",
    "    train_df = pd.read_feather(TRAIN_FEATHER_PATH)\n",
    "    test_df = pd.read_feather(TEST_FEATHER_PATH)\n",
    "    return train_df, test_df"
   ]
  },
  {
   "cell_type": "code",
   "execution_count": 4,
   "metadata": {},
   "outputs": [],
   "source": [
    "train_df, test_df = read_feather()"
   ]
  },
  {
   "cell_type": "markdown",
   "metadata": {},
   "source": [
    "### 위경도 통합"
   ]
  },
  {
   "cell_type": "code",
   "execution_count": 32,
   "metadata": {},
   "outputs": [],
   "source": [
    "# gmi, dpr 두 값 평균은 나중에 test. 우선은 그냥 dpr drop\n",
    "train_df = train_df.drop(['long_DPR','lat_DPR'], axis=1)\n",
    "test_df = test_df.drop(['long_DPR','lat_DPR'], axis=1)"
   ]
  },
  {
   "cell_type": "markdown",
   "metadata": {},
   "source": [
    "### 연월일 분리"
   ]
  },
  {
   "cell_type": "code",
   "execution_count": 27,
   "metadata": {},
   "outputs": [],
   "source": [
    "# 우선은 연도 빼고 가자. 2016~8:0~2, 2019:3 으로 놓고 돌리는거 test해볼것.\n",
    "\n",
    "def split_date_month(row):\n",
    "    return row[4:6]\n",
    "\n",
    "test_df['month'] = np.vectorize(split_date_month)(test_df.date)\n",
    "train_df['month'] = np.vectorize(split_date_month)(train_df.date)\n",
    "\n",
    "def split_date_day(row):\n",
    "    return row[6:]\n",
    "\n",
    "test_df['day'] = np.vectorize(split_date_day)(test_df.date)\n",
    "train_df['day'] = np.vectorize(split_date_day)(train_df.date)\n",
    "\n",
    "# 기존 date 제거\n",
    "test_df = test_df.drop(['type'], axis=1)\n",
    "train_df = train_df.drop(['type'], axis=1)\n",
    "\n",
    "# 타입 변경\n",
    "test_df['month'] = test_df['month'].astype('int8')\n",
    "train_df['month'] = train_df['month'].astype('int8')\n",
    "test_df['day'] = test_df['day'].astype('int8')\n",
    "train_df['day'] = train_df['day'].astype('int8')"
   ]
  },
  {
   "cell_type": "code",
   "execution_count": 30,
   "metadata": {},
   "outputs": [],
   "source": [
    "# 기존 date 제거\n",
    "test_df = test_df.drop(['date'], axis=1)\n",
    "train_df = train_df.drop(['date'], axis=1)\n",
    "\n",
    "# 타입 변경\n",
    "test_df['month'] = test_df['month'].astype('int8')\n",
    "train_df['month'] = train_df['month'].astype('int8')\n",
    "test_df['day'] = test_df['day'].astype('int8')\n",
    "train_df['day'] = train_df['day'].astype('int8')"
   ]
  },
  {
   "cell_type": "markdown",
   "metadata": {},
   "source": [
    "### 지표타입 분리"
   ]
  },
  {
   "cell_type": "code",
   "execution_count": 5,
   "metadata": {},
   "outputs": [],
   "source": [
    "# train type에는 있고, test type에는 없는 타입 확인했음. (301,314, 109, 318) => 반대는 없음. \n",
    "def split_columns(row):\n",
    "    return str(row)[0]\n",
    "\n",
    "test_df['type_1'] = np.vectorize(split_columns)(test_df.type)\n",
    "train_df['type_1'] = np.vectorize(split_columns)(train_df.type)"
   ]
  },
  {
   "cell_type": "code",
   "execution_count": 6,
   "metadata": {},
   "outputs": [],
   "source": [
    "# type 2가 겹치는게 문제. 일단은 공통점이 있으니까 숫자가 같지 않을까란 가정으로 같게 감. 이후 다르게 해서 test필요.\n",
    "def split_columns(row):\n",
    "    return str(row)[1:]\n",
    "\n",
    "test_df['type_2'] = np.vectorize(split_columns)(test_df.type)\n",
    "train_df['type_2'] = np.vectorize(split_columns)(train_df.type)\n",
    "\n",
    "# 기존 type 제거\n",
    "test_df = test_df.drop(['type'], axis=1)\n",
    "train_df = train_df.drop(['type'], axis=1)\n",
    "\n",
    "# type 변경\n",
    "test_df['type_1'] = test_df['type_1'].astype('int8')\n",
    "test_df['type_2'] = test_df['type_2'].astype('float16').astype('int8')\n",
    "train_df['type_1'] = train_df['type_1'].astype('int8')\n",
    "train_df['type_2'] = train_df['type_2'].astype('float16').astype('int8')"
   ]
  },
  {
   "cell_type": "markdown",
   "metadata": {},
   "source": [
    "### temp1~9 normalize"
   ]
  },
  {
   "cell_type": "code",
   "execution_count": 7,
   "metadata": {},
   "outputs": [
    {
     "name": "stdout",
     "output_type": "stream",
     "text": [
      "248.21009039878845\n"
     ]
    }
   ],
   "source": [
    "# 한번에 하면 memory 터져서 천천히 for문으로.\n",
    "t0 = time()\n",
    "for i in range(1,10):\n",
    "    min_max_scaler = preprocessing.MinMaxScaler()\n",
    "    min_max_scaler.fit(train_df[[f'temp{i}']])\n",
    "    \n",
    "    train_df[[f'temp{i}']] = min_max_scaler.transform(train_df[[f'temp{i}']])\n",
    "    test_df[[f'temp{i}']] = min_max_scaler.transform(test_df[[f'temp{i}']])\n",
    "t1 = time()\n",
    "\n",
    "print(t1-t0)"
   ]
  },
  {
   "cell_type": "markdown",
   "metadata": {},
   "source": [
    "### elevation normalize"
   ]
  },
  {
   "cell_type": "code",
   "execution_count": 8,
   "metadata": {},
   "outputs": [],
   "source": [
    "# train이 더 높으니까 그냥 minmax스케일링\n",
    "train_df.elevation.max(), test_df.elevation.max() # 4619, 3793\n",
    "\n",
    "min_max_scaler = preprocessing.MinMaxScaler()\n",
    "min_max_scaler.fit(train_df[['elevation']])\n",
    "\n",
    "train_df[['elevation']] = min_max_scaler.transform(train_df[['elevation']])\n",
    "test_df[['elevation']] = min_max_scaler.transform(test_df[['elevation']])"
   ]
  },
  {
   "cell_type": "markdown",
   "metadata": {},
   "source": [
    "### 데이터 저장"
   ]
  },
  {
   "cell_type": "code",
   "execution_count": 36,
   "metadata": {},
   "outputs": [],
   "source": [
    "train_df.to_feather(join(ROOT_DIR_PATH, 'fe_data/train_mid.ftr'))\n",
    "test_df.to_feather(join(ROOT_DIR_PATH, 'fe_data/test_mid.ftr'))"
   ]
  },
  {
   "cell_type": "code",
   "execution_count": 33,
   "metadata": {},
   "outputs": [
    {
     "data": {
      "text/html": [
       "<div>\n",
       "<style scoped>\n",
       "    .dataframe tbody tr th:only-of-type {\n",
       "        vertical-align: middle;\n",
       "    }\n",
       "\n",
       "    .dataframe tbody tr th {\n",
       "        vertical-align: top;\n",
       "    }\n",
       "\n",
       "    .dataframe thead th {\n",
       "        text-align: right;\n",
       "    }\n",
       "</style>\n",
       "<table border=\"1\" class=\"dataframe\">\n",
       "  <thead>\n",
       "    <tr style=\"text-align: right;\">\n",
       "      <th></th>\n",
       "      <th>temp1</th>\n",
       "      <th>temp2</th>\n",
       "      <th>temp3</th>\n",
       "      <th>temp4</th>\n",
       "      <th>temp5</th>\n",
       "      <th>temp6</th>\n",
       "      <th>temp7</th>\n",
       "      <th>temp8</th>\n",
       "      <th>temp9</th>\n",
       "      <th>long_GMI</th>\n",
       "      <th>lat_GMI</th>\n",
       "      <th>precipitation</th>\n",
       "      <th>orbit</th>\n",
       "      <th>subset</th>\n",
       "      <th>pixel</th>\n",
       "      <th>elevation</th>\n",
       "      <th>type_1</th>\n",
       "      <th>type_2</th>\n",
       "      <th>month</th>\n",
       "      <th>day</th>\n",
       "    </tr>\n",
       "  </thead>\n",
       "  <tbody>\n",
       "    <tr>\n",
       "      <th>0</th>\n",
       "      <td>0.049494</td>\n",
       "      <td>0.034790</td>\n",
       "      <td>0.036629</td>\n",
       "      <td>0.050757</td>\n",
       "      <td>0.419546</td>\n",
       "      <td>0.153418</td>\n",
       "      <td>0.151771</td>\n",
       "      <td>0.867290</td>\n",
       "      <td>0.640426</td>\n",
       "      <td>159.494385</td>\n",
       "      <td>5.641016</td>\n",
       "      <td>0.0</td>\n",
       "      <td>10462</td>\n",
       "      <td>1</td>\n",
       "      <td>1</td>\n",
       "      <td>0.876454</td>\n",
       "      <td>0</td>\n",
       "      <td>0</td>\n",
       "      <td>1</td>\n",
       "      <td>1</td>\n",
       "    </tr>\n",
       "    <tr>\n",
       "      <th>1</th>\n",
       "      <td>0.049653</td>\n",
       "      <td>0.034238</td>\n",
       "      <td>0.037082</td>\n",
       "      <td>0.050690</td>\n",
       "      <td>0.416622</td>\n",
       "      <td>0.154150</td>\n",
       "      <td>0.148810</td>\n",
       "      <td>0.861778</td>\n",
       "      <td>0.631940</td>\n",
       "      <td>159.534912</td>\n",
       "      <td>5.609135</td>\n",
       "      <td>0.0</td>\n",
       "      <td>10462</td>\n",
       "      <td>1</td>\n",
       "      <td>2</td>\n",
       "      <td>0.876454</td>\n",
       "      <td>0</td>\n",
       "      <td>0</td>\n",
       "      <td>1</td>\n",
       "      <td>1</td>\n",
       "    </tr>\n",
       "    <tr>\n",
       "      <th>2</th>\n",
       "      <td>0.048762</td>\n",
       "      <td>0.035108</td>\n",
       "      <td>0.037101</td>\n",
       "      <td>0.050481</td>\n",
       "      <td>0.420030</td>\n",
       "      <td>0.153041</td>\n",
       "      <td>0.146607</td>\n",
       "      <td>0.860670</td>\n",
       "      <td>0.632753</td>\n",
       "      <td>159.575806</td>\n",
       "      <td>5.577742</td>\n",
       "      <td>0.0</td>\n",
       "      <td>10462</td>\n",
       "      <td>1</td>\n",
       "      <td>3</td>\n",
       "      <td>0.876454</td>\n",
       "      <td>0</td>\n",
       "      <td>0</td>\n",
       "      <td>1</td>\n",
       "      <td>1</td>\n",
       "    </tr>\n",
       "    <tr>\n",
       "      <th>3</th>\n",
       "      <td>0.049704</td>\n",
       "      <td>0.034355</td>\n",
       "      <td>0.034933</td>\n",
       "      <td>0.048831</td>\n",
       "      <td>0.409620</td>\n",
       "      <td>0.150611</td>\n",
       "      <td>0.141517</td>\n",
       "      <td>0.854340</td>\n",
       "      <td>0.622288</td>\n",
       "      <td>159.617081</td>\n",
       "      <td>5.546840</td>\n",
       "      <td>0.0</td>\n",
       "      <td>10462</td>\n",
       "      <td>1</td>\n",
       "      <td>4</td>\n",
       "      <td>0.876454</td>\n",
       "      <td>0</td>\n",
       "      <td>0</td>\n",
       "      <td>1</td>\n",
       "      <td>1</td>\n",
       "    </tr>\n",
       "    <tr>\n",
       "      <th>4</th>\n",
       "      <td>0.049210</td>\n",
       "      <td>0.034067</td>\n",
       "      <td>0.035290</td>\n",
       "      <td>0.049329</td>\n",
       "      <td>0.409516</td>\n",
       "      <td>0.152017</td>\n",
       "      <td>0.145445</td>\n",
       "      <td>0.854506</td>\n",
       "      <td>0.622727</td>\n",
       "      <td>159.658707</td>\n",
       "      <td>5.516435</td>\n",
       "      <td>0.0</td>\n",
       "      <td>10462</td>\n",
       "      <td>1</td>\n",
       "      <td>5</td>\n",
       "      <td>0.876454</td>\n",
       "      <td>0</td>\n",
       "      <td>0</td>\n",
       "      <td>1</td>\n",
       "      <td>1</td>\n",
       "    </tr>\n",
       "  </tbody>\n",
       "</table>\n",
       "</div>"
      ],
      "text/plain": [
       "      temp1     temp2     temp3     temp4     temp5     temp6     temp7  \\\n",
       "0  0.049494  0.034790  0.036629  0.050757  0.419546  0.153418  0.151771   \n",
       "1  0.049653  0.034238  0.037082  0.050690  0.416622  0.154150  0.148810   \n",
       "2  0.048762  0.035108  0.037101  0.050481  0.420030  0.153041  0.146607   \n",
       "3  0.049704  0.034355  0.034933  0.048831  0.409620  0.150611  0.141517   \n",
       "4  0.049210  0.034067  0.035290  0.049329  0.409516  0.152017  0.145445   \n",
       "\n",
       "      temp8     temp9    long_GMI   lat_GMI  precipitation  orbit  subset  \\\n",
       "0  0.867290  0.640426  159.494385  5.641016            0.0  10462       1   \n",
       "1  0.861778  0.631940  159.534912  5.609135            0.0  10462       1   \n",
       "2  0.860670  0.632753  159.575806  5.577742            0.0  10462       1   \n",
       "3  0.854340  0.622288  159.617081  5.546840            0.0  10462       1   \n",
       "4  0.854506  0.622727  159.658707  5.516435            0.0  10462       1   \n",
       "\n",
       "   pixel  elevation  type_1  type_2  month  day  \n",
       "0      1   0.876454       0       0      1    1  \n",
       "1      2   0.876454       0       0      1    1  \n",
       "2      3   0.876454       0       0      1    1  \n",
       "3      4   0.876454       0       0      1    1  \n",
       "4      5   0.876454       0       0      1    1  "
      ]
     },
     "execution_count": 33,
     "metadata": {},
     "output_type": "execute_result"
    }
   ],
   "source": [
    "train_df.head()"
   ]
  },
  {
   "cell_type": "code",
   "execution_count": null,
   "metadata": {},
   "outputs": [],
   "source": []
  }
 ],
 "metadata": {
  "kernelspec": {
   "display_name": "Python 3",
   "language": "python",
   "name": "python3"
  },
  "language_info": {
   "codemirror_mode": {
    "name": "ipython",
    "version": 3
   },
   "file_extension": ".py",
   "mimetype": "text/x-python",
   "name": "python",
   "nbconvert_exporter": "python",
   "pygments_lexer": "ipython3",
   "version": "3.6.9"
  }
 },
 "nbformat": 4,
 "nbformat_minor": 2
}
