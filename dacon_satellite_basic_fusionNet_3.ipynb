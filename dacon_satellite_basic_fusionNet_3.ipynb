{
 "cells": [
  {
   "cell_type": "code",
   "execution_count": 1,
   "metadata": {
    "colab": {
     "base_uri": "https://localhost:8080/",
     "height": 319
    },
    "colab_type": "code",
    "executionInfo": {
     "elapsed": 3830,
     "status": "ok",
     "timestamp": 1589466914574,
     "user": {
      "displayName": "유영재",
      "photoUrl": "",
      "userId": "15071020987067673937"
     },
     "user_tz": -540
    },
    "id": "g-EJqxNgQOAN",
    "outputId": "cee6eada-7b24-4cfe-d02a-5a1de0e3554a"
   },
   "outputs": [
    {
     "name": "stdout",
     "output_type": "stream",
     "text": [
      "Mon May 25 10:51:04 2020       \n",
      "+-----------------------------------------------------------------------------+\n",
      "| NVIDIA-SMI 432.00       Driver Version: 432.00       CUDA Version: 10.1     |\n",
      "|-------------------------------+----------------------+----------------------+\n",
      "| GPU  Name            TCC/WDDM | Bus-Id        Disp.A | Volatile Uncorr. ECC |\n",
      "| Fan  Temp  Perf  Pwr:Usage/Cap|         Memory-Usage | GPU-Util  Compute M. |\n",
      "|===============================+======================+======================|\n",
      "|   0  TITAN X (Pascal)   WDDM  | 00000000:01:00.0  On |                  N/A |\n",
      "| 23%   34C    P8    18W / 250W |    912MiB / 12288MiB |      0%      Default |\n",
      "+-------------------------------+----------------------+----------------------+\n",
      "                                                                               \n",
      "+-----------------------------------------------------------------------------+\n",
      "| Processes:                                                       GPU Memory |\n",
      "|  GPU       PID   Type   Process name                             Usage      |\n",
      "|=============================================================================|\n",
      "|    0      1044    C+G   Insufficient Permissions                   N/A      |\n",
      "|    0      2716    C+G   ...t_cw5n1h2txyewy\\ShellExperienceHost.exe N/A      |\n",
      "|    0      5964    C+G   C:\\Windows\\explorer.exe                    N/A      |\n",
      "|    0      7036    C+G   ...dows.Cortana_cw5n1h2txyewy\\SearchUI.exe N/A      |\n",
      "|    0      7440    C+G   ...1.91.0_x64__8wekyb3d8bbwe\\YourPhone.exe N/A      |\n",
      "|    0      7724    C+G   ...6.102.0_x64__kzf8qxf38zg5c\\SkypeApp.exe N/A      |\n",
      "|    0      8932    C+G   ...Local\\Microsoft\\Teams\\current\\Teams.exe N/A      |\n",
      "|    0      9904    C+G   ...x64__8wekyb3d8bbwe\\Microsoft.Photos.exe N/A      |\n",
      "|    0     10112    C+G   ...6)\\Google\\Chrome\\Application\\chrome.exe N/A      |\n",
      "|    0     10184    C+G   ...Local\\Microsoft\\Teams\\current\\Teams.exe N/A      |\n",
      "|    0     10384    C+G   ...11011.0_x64__8wekyb3d8bbwe\\Video.UI.exe N/A      |\n",
      "|    0     15472    C+G   ...hell.Experiences.TextInput.InputApp.exe N/A      |\n",
      "|    0     15636    C+G   C:\\ProgramData\\Anaconda3\\pythonw.exe       N/A      |\n",
      "|    0     19696    C+G   ...0.0.0_x64__8wekyb3d8bbwe\\Calculator.exe N/A      |\n",
      "|    0     20300    C+G   ...ta\\Local\\Postman\\app-7.24.0\\Postman.exe N/A      |\n",
      "+-----------------------------------------------------------------------------+\n"
     ]
    }
   ],
   "source": [
    "!nvidia-smi"
   ]
  },
  {
   "cell_type": "code",
   "execution_count": 2,
   "metadata": {
    "colab": {
     "base_uri": "https://localhost:8080/",
     "height": 72
    },
    "colab_type": "code",
    "executionInfo": {
     "elapsed": 3073,
     "status": "ok",
     "timestamp": 1589466949007,
     "user": {
      "displayName": "유영재",
      "photoUrl": "",
      "userId": "15071020987067673937"
     },
     "user_tz": -540
    },
    "id": "JoH_3CiLQvQg",
    "outputId": "c22f2fbd-4f16-4b28-dcb4-9a5c5b78b23f"
   },
   "outputs": [
    {
     "name": "stderr",
     "output_type": "stream",
     "text": [
      "C:\\ProgramData\\Anaconda3\\lib\\site-packages\\statsmodels\\tools\\_testing.py:19: FutureWarning: pandas.util.testing is deprecated. Use the functions in the public API at pandas.testing instead.\n",
      "  import pandas.util.testing as tm\n"
     ]
    }
   ],
   "source": [
    "import glob\n",
    "import pandas as pd\n",
    "import numpy as np\n",
    "import matplotlib.pylab as plt\n",
    "import seaborn as sns\n",
    "from tqdm import tqdm\n",
    "import tensorflow as tf\n",
    "import os\n",
    "from os.path import join\n",
    "import random\n",
    "import lightgbm as lgb\n",
    "import time\n",
    "from tensorflow.python.framework import ops\n",
    "from tensorflow.python.ops import math_ops\n",
    "import tensorflow.keras.backend as K\n",
    "from tensorflow.keras.layers import Dense, Conv2D, Dropout, Conv2DTranspose, MaxPooling2D, BatchNormalization\n",
    "from tensorflow.keras.layers import Activation, concatenate, Input, GlobalAveragePooling2D, AveragePooling2D\n",
    "from tensorflow.keras import Model\n",
    "from tensorflow.keras.callbacks import TensorBoard, ModelCheckpoint, ReduceLROnPlateau, EarlyStopping\n",
    "# from tensorflow.nn import seperable_conv2d\n",
    "import warnings\n",
    " \n",
    "warnings.filterwarnings(\"ignore\")"
   ]
  },
  {
   "cell_type": "code",
   "execution_count": 3,
   "metadata": {
    "colab": {
     "base_uri": "https://localhost:8080/",
     "height": 355
    },
    "colab_type": "code",
    "executionInfo": {
     "elapsed": 3013,
     "status": "ok",
     "timestamp": 1589467127633,
     "user": {
      "displayName": "유영재",
      "photoUrl": "",
      "userId": "15071020987067673937"
     },
     "user_tz": -540
    },
    "id": "0yvE8_Y8mORb",
    "outputId": "867027bf-fd71-447a-9f8c-790c3dff05ff"
   },
   "outputs": [
    {
     "name": "stdout",
     "output_type": "stream",
     "text": [
      "input_layer shape: (None, 40, 40, 19)\n",
      "img_layer shape: (None, 40, 40, 9)\n",
      "ext_layer shape: (None, 40, 40, 10)\n",
      "img_layer shape: (None, 40, 40, 9)\n",
      "conv1 shape: (None, 40, 40, 36)\n",
      "maxpool 1 shape: (None, 20, 20, 36)\n",
      "conv2 shape: (None, 20, 20, 72)\n",
      "maxpool 2 shape: (None, 10, 10, 72)\n",
      "atrous conv3 shape: (None, 10, 10, 144)\n",
      "atrous concat: (None, 10, 10, 576)\n",
      "final atrous shape: (None, 10, 10, 144)\n",
      "convm shape: (None, 10, 10, 144)\n",
      "concat 2: (None, 20, 20, 144)\n",
      "upconv2 shape: (None, 20, 20, 72)\n",
      "upconv1 shape: (None, 40, 40, 36)\n",
      "ext 1 shape: (None, 40, 40, 40)\n",
      "ext 2 shape: (None, 40, 40, 40)\n",
      "final concat shape: (None, 40, 40, 76)\n",
      "output shape: (None, 40, 40, 1)\n"
     ]
    }
   ],
   "source": [
    "# model_v4 / external feature / atrous conv / spatial pyramid pooling\n",
    "def atrous_conv(img_layer, start_neurons):\n",
    "    conv1 = Conv2D(start_neurons, (3, 3), activation=\"relu\", padding=\"same\")(img_layer)\n",
    "    conv1 = BatchNormalization()(conv1)\n",
    "    conv2 = Conv2D(start_neurons, (3, 3), activation=\"relu\", padding=\"same\", dilation_rate=2)(img_layer)\n",
    "    conv2 = BatchNormalization()(conv2)\n",
    "    conv3 = Conv2D(start_neurons, (3, 3), activation=\"relu\", padding=\"same\", dilation_rate=3)(img_layer)\n",
    "    conv3 = BatchNormalization()(conv3)\n",
    "    print('atrous conv3 shape:', conv3.shape)\n",
    "    pool = AveragePooling2D((2,2))(img_layer)\n",
    "    conv4 = Conv2DTranspose(start_neurons, (3, 3), strides=(2, 2), padding=\"same\")(pool)\n",
    "\n",
    "    total = concatenate([conv1, conv2, conv3, conv4])\n",
    "    print('atrous concat:', total.shape)\n",
    "    total = Conv2D(start_neurons, (1,1), activation='relu', padding='valid')(total)\n",
    "    print('final atrous shape:', total.shape)\n",
    "    total = Dropout(0.2)(total)\n",
    "\n",
    "    return total\n",
    "\n",
    "def conv_block_3(img_layer, start_neurons):\n",
    "    conv1 = Conv2D(start_neurons, (3, 3), activation=\"relu\", padding=\"same\")(img_layer)\n",
    "    conv1 = BatchNormalization()(conv1)\n",
    "    conv2 = Conv2D(start_neurons, (3, 3), activation=\"relu\", padding=\"same\")(conv1)\n",
    "    conv2 = BatchNormalization()(conv2)\n",
    "    conv3 = Conv2D(start_neurons, (3, 3), activation=\"relu\", padding=\"same\")(conv2)\n",
    "    conv3 = BatchNormalization()(conv3)\n",
    "\n",
    "    return conv3\n",
    "\n",
    "def conv_residual(img_layer, start_neurons):\n",
    "    conv1 = Conv2D(start_neurons, (3, 3), activation=\"relu\", padding=\"same\")(img_layer)\n",
    "    conv1 = BatchNormalization()(conv1)\n",
    "    conv2 = conv_block_3(conv1, start_neurons)\n",
    "    conv2 = BatchNormalization()(conv2)\n",
    "    conv3 = Conv2D(start_neurons, (3, 3), activation=\"relu\", padding=\"same\")(conv1 + conv2)\n",
    "    conv3 = BatchNormalization()(conv3)\n",
    "\n",
    "    return conv3\n",
    "\n",
    "def model_v4(input_layer, start_neurons, ext_neurons):\n",
    "    # divide raw feature to image feature and external feature\n",
    "    img_layer = input_layer[:,:,:,:9]\n",
    "    ext_layer = input_layer[:,:,:,9:]\n",
    "    print('input_layer shape:', input_layer.shape)\n",
    "    print('img_layer shape:', img_layer.shape)\n",
    "    print('ext_layer shape:', ext_layer.shape)\n",
    "\n",
    "    # 40 x 40 -> 20 x 20\n",
    "    print('img_layer shape:', img_layer.shape)\n",
    "    conv1 = conv_residual(img_layer, start_neurons * 1)\n",
    "    print('conv1 shape:', conv1.shape)\n",
    "    pool1 = MaxPooling2D((2, 2))(conv1)\n",
    "    print('maxpool 1 shape:', pool1.shape)\n",
    "    pool1 = Dropout(0.2)(pool1)\n",
    "\n",
    "    # 20 x 20 -> 10 x 10\n",
    "    conv2 = conv_residual(pool1, start_neurons * 2)\n",
    "    print('conv2 shape:', conv2.shape)\n",
    "    pool2 = MaxPooling2D((2, 2))(conv2)\n",
    "    print('maxpool 2 shape:', pool2.shape)\n",
    "    pool2 = Dropout(0.2)(pool2)\n",
    "\n",
    "    # 10 x 10 \n",
    "    convm = atrous_conv(pool2, start_neurons * 4)\n",
    "    print('convm shape:', convm.shape)\n",
    "\n",
    "    # 10 x 10 -> 20 x 20\n",
    "    deconv2 = Conv2DTranspose(start_neurons * 2, (3, 3), strides=(2, 2), padding=\"same\")(convm)\n",
    "    uconv2 = concatenate([deconv2, conv2])\n",
    "    print('concat 2:', uconv2.shape)\n",
    "    uconv2 = conv_residual(uconv2, start_neurons * 2)\n",
    "    print('upconv2 shape:', uconv2.shape)\n",
    "    uconv2 = Dropout(0.2)(uconv2)\n",
    "\n",
    "    # 20 x 20 -> 40 x 40\n",
    "    deconv1 = Conv2DTranspose(start_neurons * 1, (3, 3), strides=(2, 2), padding=\"same\")(uconv2)\n",
    "    uconv1 = concatenate([deconv1, conv1])\n",
    "    uconv1 = conv_residual(uconv1, start_neurons * 1)\n",
    "    print('upconv1 shape:', uconv1.shape)\n",
    "    uconv1 = Dropout(0.2)(uconv1)\n",
    "    \n",
    "    # process the external feature\n",
    "    ext_output = Conv2D(ext_neurons, (1,1), padding=\"valid\", activation='relu')(ext_layer)\n",
    "    ext_output = BatchNormalization()(ext_output)\n",
    "    print('ext 1 shape:', ext_output.shape)\n",
    "    ext_output = Conv2D(ext_neurons, (1,1), padding=\"valid\", activation='relu')(ext_layer)\n",
    "    ext_output = BatchNormalization()(ext_output)\n",
    "    print('ext 2 shape:', ext_output.shape)\n",
    "    ext_output = Dropout(0.2)(ext_output)\n",
    "\n",
    "    output_layer = concatenate([uconv1, ext_output])\n",
    "    print('final concat shape:', output_layer.shape)\n",
    "    output_layer = Conv2D(1, (1,1), padding=\"valid\", activation='relu')(output_layer)\n",
    "    print('output shape:', output_layer.shape)\n",
    "    \n",
    "    return output_layer\n",
    "\n",
    "input_layer = Input((40, 40, 19))\n",
    "output_layer = model_v4(input_layer, 36, 40)\n",
    "model = Model(input_layer, output_layer)"
   ]
  },
  {
   "cell_type": "code",
   "execution_count": 4,
   "metadata": {
    "colab": {},
    "colab_type": "code",
    "id": "Ko4QW3K3oUWn"
   },
   "outputs": [],
   "source": [
    "# training_set.ftr 파일에 맞는 input 생성 코드\n",
    "def input_generator_ftr_train():\n",
    "    # train feather 파일 로드 및 orbit, subset 조합 생성\n",
    "    TRAIN_FILE = './fe_data/train_mid.ftr'\n",
    "    train = pd.read_feather(TRAIN_FILE)\n",
    "    file_cnt = 0\n",
    "    temp_info = train[['orbit', 'subset']].drop_duplicates().sort_values(['orbit', 'subset'])\n",
    "    orbit = temp_info['orbit'].tolist()\n",
    "    subset = temp_info['subset'].tolist()\n",
    "    del temp_info\n",
    "    size = len(orbit)\n",
    "  \n",
    "  # 하나의 이미지 데이터에 해당하는 것만 3차원 변환 및 피처/라벨 생성\n",
    "    for i in range(size):\n",
    "        one_img = train.loc[(train['orbit'] == orbit[i]) & (train['subset'] == subset[i])].sort_values('pixel')\n",
    "        one_img['type1'] = one_img.loc[one_img['type_1'] == 0, 'type_1'] + 1\n",
    "        one_img['type2'] = one_img.loc[one_img['type_1'] == 1, 'type_1']\n",
    "        one_img['type3'] = one_img.loc[one_img['type_1'] == 2, 'type_1'] - 1\n",
    "        one_img['type4'] = one_img.loc[one_img['type_1'] == 3, 'type_1'] - 2\n",
    "        one_img['type_2'] /= 100\n",
    "        one_img.fillna(0, inplace=True)\n",
    "        one_img['label'] = one_img['precipitation']\n",
    "        one_img = np.array(one_img.drop(['type_1', 'orbit', 'subset', 'pixel', 'precipitation'], axis=1)).reshape([40,40,20])\n",
    "        target = one_img[:,:,-1].reshape(40,40,1)\n",
    "        cutoff_labels = np.where(target < 0,0, target)\n",
    "        feature = one_img[:,:,:-1]\n",
    "        # if (cutoff_labels > 0).sum() < 50: continue\n",
    "        yield(feature, cutoff_labels)\n",
    "        file_cnt += 1\n",
    "\n",
    "train_dataset = tf.data.Dataset.from_generator(input_generator_ftr_train, (tf.float32, tf.float32),\n",
    "                                               (tf.TensorShape([40,40,19]),tf.TensorShape([40,40,1])))\n",
    "train_dataset = train_dataset.batch(256).prefetch(1)"
   ]
  },
  {
   "cell_type": "code",
   "execution_count": 5,
   "metadata": {
    "colab": {},
    "colab_type": "code",
    "id": "vzpTEpcgTm5H"
   },
   "outputs": [],
   "source": [
    "# custom loss fuction (maeOverFscore)\n",
    "def recall_m(y_true, y_pred):\n",
    "    true_positives = tf.dtypes.cast(K.sum(K.round(K.clip(y_true * y_pred, 0, 1))), dtype=tf.float32)\n",
    "    possible_positives = tf.dtypes.cast(K.sum(K.round(K.clip(y_true, 0, 1))), dtype=tf.float32)\n",
    "    recall = true_positives / (possible_positives + K.epsilon())\n",
    "    return recall\n",
    "\n",
    "def precision_m(y_true, y_pred):\n",
    "    true_positives = tf.dtypes.cast(K.sum(K.round(K.clip(y_true * y_pred, 0, 1))), dtype=tf.float32)\n",
    "    predicted_positives = tf.dtypes.cast(K.sum(K.round(K.clip(y_pred, 0, 1))), dtype=tf.float32)\n",
    "    precision = true_positives / (predicted_positives + K.epsilon())\n",
    "    return precision\n",
    "\n",
    "def f1_m(y_true, y_pred):\n",
    "    idx_one_true = tf.greater_equal(y_true, 0.1)\n",
    "    y_true = tf.where(idx_one_true == True, 1, 0)\n",
    "    idx_one_pred = tf.greater_equal(y_pred, 0.1)\n",
    "    y_pred = tf.where(idx_one_pred == True, 1, 0)\n",
    "    precision = precision_m(y_true, y_pred)\n",
    "    recall = recall_m(y_true, y_pred)\n",
    "    return 2*((precision*recall)/(precision+recall+K.epsilon()))\n",
    "\n",
    "def mae(y_true, y_pred):\n",
    "    over_threshold = tf.greater_equal(y_true, 0.1)\n",
    "    return K.mean(tf.concat([(math_ops.abs(y_pred[over_threshold] - y_true[over_threshold]) * 5),\n",
    "                             math_ops.abs(y_pred[~over_threshold] - y_true[~over_threshold])], axis=0), axis=-1)\n",
    "\n",
    "def maeOverFscore(y_true, y_pred):\n",
    "    y_true = tf.reshape(y_true, [-1])\n",
    "    y_pred = tf.reshape(y_pred, [-1])\n",
    "    return mae(y_true, y_pred) / f1_m(y_true, y_pred)"
   ]
  },
  {
   "cell_type": "code",
   "execution_count": 6,
   "metadata": {
    "colab": {
     "base_uri": "https://localhost:8080/",
     "height": 35
    },
    "colab_type": "code",
    "executionInfo": {
     "elapsed": 1323,
     "status": "ok",
     "timestamp": 1589467144700,
     "user": {
      "displayName": "유영재",
      "photoUrl": "",
      "userId": "15071020987067673937"
     },
     "user_tz": -540
    },
    "id": "4Bngn0xdD5jo",
    "outputId": "ed000e38-d257-4f8e-be52-dd1a37642c19"
   },
   "outputs": [
    {
     "name": "stdout",
     "output_type": "stream",
     "text": [
      "WARNING:tensorflow:`period` argument is deprecated. Please use `save_freq` to specify the frequency in number of samples seen.\n"
     ]
    }
   ],
   "source": [
    "# 모델 옵션 설정\n",
    "WEIGHT_DIR = './checkpoint/ver_loss_new/'\n",
    "LOG_DIR = './log/'\n",
    "logging = TensorBoard(log_dir=LOG_DIR)\n",
    "checkpoint = ModelCheckpoint(WEIGHT_DIR + 'v02_ep{epoch:02d}-loss{loss:.5f}.ckpt', mode='min',\n",
    "                             monitor='loss', save_weights_only=True, period=1, verbose=1)\n",
    "reduce_lr = ReduceLROnPlateau(monitor='loss', factor=0.1, patience=1, verbose=1)\n",
    "early_stopping = EarlyStopping(monitor='loss', min_delta=0, patience=2, verbose=1)\n",
    "callbacks = [logging, checkpoint, reduce_lr, early_stopping]\n",
    "adam = tf.keras.optimizers.Adam(learning_rate=1.0e-04)\n",
    "model.compile(loss=maeOverFscore, optimizer=adam, metrics=[mae])"
   ]
  },
  {
   "cell_type": "code",
   "execution_count": 7,
   "metadata": {
    "colab": {
     "base_uri": "https://localhost:8080/",
     "height": 52
    },
    "colab_type": "code",
    "executionInfo": {
     "elapsed": 14596,
     "status": "ok",
     "timestamp": 1589294413486,
     "user": {
      "displayName": "유영재",
      "photoUrl": "",
      "userId": "15071020987067673937"
     },
     "user_tz": -540
    },
    "id": "FY4e8ssgppAx",
    "outputId": "9c1182cb-b013-4ebf-c6c5-701420163cd1"
   },
   "outputs": [
    {
     "name": "stdout",
     "output_type": "stream",
     "text": [
      "./checkpoint/ver_loss_new/v01_ep03-loss1.74201.ckpt\n"
     ]
    },
    {
     "data": {
      "text/plain": [
       "<tensorflow.python.training.tracking.util.CheckpointLoadStatus at 0x1b63929a048>"
      ]
     },
     "execution_count": 7,
     "metadata": {},
     "output_type": "execute_result"
    }
   ],
   "source": [
    "# 이전에 훈련한 weight를 이어서 훈련할 경우 실행\n",
    "latest = tf.train.latest_checkpoint(WEIGHT_DIR)\n",
    "print(latest)\n",
    "model.load_weights(latest)"
   ]
  },
  {
   "cell_type": "code",
   "execution_count": 8,
   "metadata": {
    "colab": {
     "base_uri": "https://localhost:8080/",
     "height": 52
    },
    "colab_type": "code",
    "executionInfo": {
     "elapsed": 35977057,
     "status": "error",
     "timestamp": 1588796316391,
     "user": {
      "displayName": "유영재",
      "photoUrl": "",
      "userId": "15071020987067673937"
     },
     "user_tz": -540
    },
    "id": "UD3FM3FpWzM2",
    "outputId": "c7d45c8d-354b-47f9-d7f5-e648c2fd9d97"
   },
   "outputs": [
    {
     "name": "stdout",
     "output_type": "stream",
     "text": [
      "Epoch 1/12\n"
     ]
    },
    {
     "name": "stdout",
     "output_type": "stream",
     "text": [
      "    178/Unknown - 168s 168s/step - loss: 1.5380 - mae: 0.410 - 286s 143s/step - loss: 1.3914 - mae: 0.354 - 415s 138s/step - loss: 1.4160 - mae: 0.322 - 536s 134s/step - loss: 1.3105 - mae: 0.309 - 656s 131s/step - loss: 1.2724 - mae: 0.315 - 776s 129s/step - loss: 1.2347 - mae: 0.313 - 896s 128s/step - loss: 1.2521 - mae: 0.323 - 1016s 127s/step - loss: 1.2552 - mae: 0.32 - 1136s 126s/step - loss: 1.2565 - mae: 0.32 - 1255s 126s/step - loss: 1.2266 - mae: 0.32 - 1376s 125s/step - loss: 1.2219 - mae: 0.32 - 1498s 125s/step - loss: 1.2136 - mae: 0.32 - 1625s 125s/step - loss: 1.1968 - mae: 0.32 - 1746s 125s/step - loss: 1.1859 - mae: 0.32 - 1868s 125s/step - loss: 1.1768 - mae: 0.31 - 1995s 125s/step - loss: 1.1877 - mae: 0.30 - 2117s 125s/step - loss: 1.1785 - mae: 0.30 - 2240s 124s/step - loss: 1.1655 - mae: 0.30 - 2362s 124s/step - loss: 1.1556 - mae: 0.30 - 2484s 124s/step - loss: 1.1406 - mae: 0.30 - 2606s 124s/step - loss: 1.1301 - mae: 0.30 - 2729s 124s/step - loss: 1.1214 - mae: 0.30 - 2850s 124s/step - loss: 1.1222 - mae: 0.30 - 2972s 124s/step - loss: 1.1111 - mae: 0.30 - 3094s 124s/step - loss: 1.1101 - mae: 0.30 - 3215s 124s/step - loss: 1.1103 - mae: 0.30 - 3336s 124s/step - loss: 1.1060 - mae: 0.30 - 3458s 124s/step - loss: 1.1080 - mae: 0.30 - 3580s 123s/step - loss: 1.1159 - mae: 0.31 - 3701s 123s/step - loss: 1.1223 - mae: 0.31 - 3823s 123s/step - loss: 1.1359 - mae: 0.32 - 3944s 123s/step - loss: 1.1348 - mae: 0.32 - 4066s 123s/step - loss: 1.1309 - mae: 0.32 - 4188s 123s/step - loss: 1.1333 - mae: 0.33 - 4310s 123s/step - loss: 1.1342 - mae: 0.33 - 4432s 123s/step - loss: 1.1337 - mae: 0.34 - 4554s 123s/step - loss: 1.1340 - mae: 0.34 - 4675s 123s/step - loss: 1.1335 - mae: 0.34 - 4797s 123s/step - loss: 1.1359 - mae: 0.35 - 4918s 123s/step - loss: 1.1376 - mae: 0.35 - 5040s 123s/step - loss: 1.1428 - mae: 0.36 - 5162s 123s/step - loss: 1.1560 - mae: 0.37 - 5284s 123s/step - loss: 1.1626 - mae: 0.38 - 5406s 123s/step - loss: 1.1681 - mae: 0.38 - 5527s 123s/step - loss: 1.1739 - mae: 0.39 - 5649s 123s/step - loss: 1.1805 - mae: 0.39 - 5771s 123s/step - loss: 1.1838 - mae: 0.39 - 5892s 123s/step - loss: 1.1957 - mae: 0.41 - 6013s 123s/step - loss: 1.1992 - mae: 0.41 - 6135s 123s/step - loss: 1.2037 - mae: 0.42 - 6257s 123s/step - loss: 1.2102 - mae: 0.42 - 6378s 123s/step - loss: 1.2099 - mae: 0.43 - 6499s 123s/step - loss: 1.2197 - mae: 0.44 - 6621s 123s/step - loss: 1.2257 - mae: 0.44 - 6743s 123s/step - loss: 1.2269 - mae: 0.44 - 6864s 123s/step - loss: 1.2286 - mae: 0.45 - 6986s 123s/step - loss: 1.2335 - mae: 0.45 - 7107s 123s/step - loss: 1.2392 - mae: 0.46 - 7229s 123s/step - loss: 1.2471 - mae: 0.46 - 7351s 123s/step - loss: 1.2571 - mae: 0.47 - 7485s 123s/step - loss: 1.2619 - mae: 0.48 - 7606s 123s/step - loss: 1.2753 - mae: 0.49 - 7728s 123s/step - loss: 1.2843 - mae: 0.50 - 7849s 123s/step - loss: 1.2977 - mae: 0.51 - 7970s 123s/step - loss: 1.3044 - mae: 0.51 - 8091s 123s/step - loss: 1.3079 - mae: 0.52 - 8213s 123s/step - loss: 1.3131 - mae: 0.52 - 8334s 123s/step - loss: 1.3194 - mae: 0.52 - 8456s 123s/step - loss: 1.3242 - mae: 0.53 - 8577s 123s/step - loss: 1.3294 - mae: 0.53 - 8699s 123s/step - loss: 1.3362 - mae: 0.54 - 8820s 123s/step - loss: 1.3426 - mae: 0.54 - 8942s 122s/step - loss: 1.3429 - mae: 0.54 - 9063s 122s/step - loss: 1.3477 - mae: 0.55 - 9185s 122s/step - loss: 1.3525 - mae: 0.55 - 9306s 122s/step - loss: 1.3583 - mae: 0.56 - 9428s 122s/step - loss: 1.3640 - mae: 0.56 - 9549s 122s/step - loss: 1.3689 - mae: 0.57 - 9671s 122s/step - loss: 1.3728 - mae: 0.57 - 9793s 122s/step - loss: 1.3754 - mae: 0.57 - 9915s 122s/step - loss: 1.3780 - mae: 0.57 - 10037s 122s/step - loss: 1.3838 - mae: 0.580 - 10158s 122s/step - loss: 1.3874 - mae: 0.580 - 10280s 122s/step - loss: 1.3970 - mae: 0.584 - 10402s 122s/step - loss: 1.4038 - mae: 0.589 - 10523s 122s/step - loss: 1.4033 - mae: 0.587 - 10643s 122s/step - loss: 1.4075 - mae: 0.587 - 10762s 122s/step - loss: 1.4072 - mae: 0.587 - 10881s 122s/step - loss: 1.4087 - mae: 0.587 - 11001s 122s/step - loss: 1.4091 - mae: 0.587 - 11120s 122s/step - loss: 1.4057 - mae: 0.586 - 11240s 122s/step - loss: 1.4027 - mae: 0.583 - 11359s 122s/step - loss: 1.3990 - mae: 0.582 - 11478s 122s/step - loss: 1.3953 - mae: 0.580 - 11598s 122s/step - loss: 1.3919 - mae: 0.579 - 11717s 122s/step - loss: 1.3928 - mae: 0.578 - 11837s 122s/step - loss: 1.3907 - mae: 0.576 - 11956s 122s/step - loss: 1.3916 - mae: 0.577 - 12076s 122s/step - loss: 1.3934 - mae: 0.577 - 12195s 122s/step - loss: 1.3992 - mae: 0.580 - 12315s 122s/step - loss: 1.3976 - mae: 0.577 - 12434s 122s/step - loss: 1.3966 - mae: 0.576 - 12554s 122s/step - loss: 1.3940 - mae: 0.574 - 12673s 122s/step - loss: 1.3934 - mae: 0.573 - 12793s 122s/step - loss: 1.3935 - mae: 0.573 - 12912s 122s/step - loss: 1.3912 - mae: 0.572 - 13032s 122s/step - loss: 1.3884 - mae: 0.570 - 13151s 122s/step - loss: 1.3857 - mae: 0.568 - 13271s 122s/step - loss: 1.3834 - mae: 0.567 - 13390s 122s/step - loss: 1.3823 - mae: 0.566 - 13509s 122s/step - loss: 1.3810 - mae: 0.565 - 13628s 122s/step - loss: 1.3791 - mae: 0.563 - 13748s 122s/step - loss: 1.3784 - mae: 0.560 - 13867s 122s/step - loss: 1.3752 - mae: 0.559 - 13986s 122s/step - loss: 1.3700 - mae: 0.557 - 14105s 122s/step - loss: 1.3653 - mae: 0.554 - 14223s 122s/step - loss: 1.3625 - mae: 0.553 - 14342s 122s/step - loss: 1.3599 - mae: 0.552 - 14461s 122s/step - loss: 1.3582 - mae: 0.551 - 14580s 122s/step - loss: 1.3548 - mae: 0.549 - 14700s 121s/step - loss: 1.3522 - mae: 0.548 - 14819s 121s/step - loss: 1.3522 - mae: 0.547 - 14938s 121s/step - loss: 1.3505 - mae: 0.546 - 15057s 121s/step - loss: 1.3473 - mae: 0.544 - 15176s 121s/step - loss: 1.3444 - mae: 0.542 - 15296s 121s/step - loss: 1.3416 - mae: 0.540 - 15415s 121s/step - loss: 1.3376 - mae: 0.538 - 15534s 121s/step - loss: 1.3342 - mae: 0.536 - 15654s 121s/step - loss: 1.3319 - mae: 0.534 - 15773s 121s/step - loss: 1.3307 - mae: 0.534 - 15892s 121s/step - loss: 1.3288 - mae: 0.533 - 16011s 121s/step - loss: 1.3291 - mae: 0.532 - 16131s 121s/step - loss: 1.3281 - mae: 0.532 - 16250s 121s/step - loss: 1.3276 - mae: 0.532 - 16370s 121s/step - loss: 1.3249 - mae: 0.531 - 16490s 121s/step - loss: 1.3228 - mae: 0.530 - 16609s 121s/step - loss: 1.3201 - mae: 0.529 - 16728s 121s/step - loss: 1.3185 - mae: 0.529 - 16847s 121s/step - loss: 1.3183 - mae: 0.528 - 16965s 121s/step - loss: 1.3189 - mae: 0.530 - 17085s 121s/step - loss: 1.3176 - mae: 0.530 - 17203s 121s/step - loss: 1.3176 - mae: 0.530 - 17323s 121s/step - loss: 1.3174 - mae: 0.531 - 17443s 121s/step - loss: 1.3170 - mae: 0.531 - 17563s 121s/step - loss: 1.3151 - mae: 0.531 - 17682s 121s/step - loss: 1.3148 - mae: 0.532 - 17801s 121s/step - loss: 1.3143 - mae: 0.533 - 17920s 121s/step - loss: 1.3159 - mae: 0.534 - 18039s 121s/step - loss: 1.3143 - mae: 0.534 - 18159s 121s/step - loss: 1.3147 - mae: 0.535 - 18278s 121s/step - loss: 1.3151 - mae: 0.536 - 18397s 121s/step - loss: 1.3152 - mae: 0.537 - 18517s 121s/step - loss: 1.3151 - mae: 0.538 - 18636s 121s/step - loss: 1.3156 - mae: 0.540 - 18755s 121s/step - loss: 1.3166 - mae: 0.541 - 18874s 121s/step - loss: 1.3199 - mae: 0.544 - 18992s 121s/step - loss: 1.3205 - mae: 0.545 - 19112s 121s/step - loss: 1.3231 - mae: 0.547 - 19231s 121s/step - loss: 1.3250 - mae: 0.549 - 19350s 121s/step - loss: 1.3255 - mae: 0.550 - 19469s 121s/step - loss: 1.3254 - mae: 0.550 - 19588s 121s/step - loss: 1.3255 - mae: 0.549 - 19707s 121s/step - loss: 1.3258 - mae: 0.550 - 19827s 121s/step - loss: 1.3267 - mae: 0.551 - 19946s 121s/step - loss: 1.3274 - mae: 0.553 - 20065s 121s/step - loss: 1.3302 - mae: 0.555 - 20184s 121s/step - loss: 1.3335 - mae: 0.557 - 20304s 121s/step - loss: 1.3350 - mae: 0.559 - 20424s 121s/step - loss: 1.3349 - mae: 0.558 - 20543s 121s/step - loss: 1.3366 - mae: 0.560 - 20661s 121s/step - loss: 1.3380 - mae: 0.561 - 20780s 121s/step - loss: 1.3373 - mae: 0.561 - 20900s 121s/step - loss: 1.3364 - mae: 0.561 - 21019s 121s/step - loss: 1.3356 - mae: 0.561 - 21137s 121s/step - loss: 1.3351 - mae: 0.561 - 21257s 121s/step - loss: 1.3354 - mae: 0.562 - 21376s 121s/step - loss: 1.3367 - mae: 0.563 - 21495s 121s/step - loss: 1.3396 - mae: 0.565    299/Unknown - 21615s 121s/step - loss: 1.3414 - mae: 0.567 - 21734s 121s/step - loss: 1.3480 - mae: 0.571 - 21854s 121s/step - loss: 1.3472 - mae: 0.570 - 21972s 121s/step - loss: 1.3476 - mae: 0.570 - 22091s 121s/step - loss: 1.3467 - mae: 0.570 - 22211s 121s/step - loss: 1.3462 - mae: 0.570 - 22329s 121s/step - loss: 1.3469 - mae: 0.571 - 22449s 121s/step - loss: 1.3463 - mae: 0.571 - 22568s 121s/step - loss: 1.3457 - mae: 0.572 - 22687s 121s/step - loss: 1.3447 - mae: 0.571 - 22807s 121s/step - loss: 1.3438 - mae: 0.570 - 22926s 121s/step - loss: 1.3426 - mae: 0.569 - 23046s 121s/step - loss: 1.3417 - mae: 0.569 - 23165s 121s/step - loss: 1.3405 - mae: 0.568 - 23284s 121s/step - loss: 1.3415 - mae: 0.569 - 23404s 121s/step - loss: 1.3422 - mae: 0.569 - 23523s 121s/step - loss: 1.3414 - mae: 0.568 - 23643s 121s/step - loss: 1.3406 - mae: 0.568 - 23762s 121s/step - loss: 1.3386 - mae: 0.567 - 23882s 121s/step - loss: 1.3369 - mae: 0.566 - 24002s 121s/step - loss: 1.3362 - mae: 0.565 - 24120s 121s/step - loss: 1.3347 - mae: 0.564 - 24240s 121s/step - loss: 1.3332 - mae: 0.564 - 24359s 121s/step - loss: 1.3324 - mae: 0.563 - 24478s 121s/step - loss: 1.3323 - mae: 0.563 - 24598s 121s/step - loss: 1.3303 - mae: 0.562 - 24717s 121s/step - loss: 1.3289 - mae: 0.561 - 24836s 121s/step - loss: 1.3279 - mae: 0.561 - 24956s 121s/step - loss: 1.3272 - mae: 0.560 - 25075s 121s/step - loss: 1.3266 - mae: 0.560 - 25194s 121s/step - loss: 1.3254 - mae: 0.559 - 25313s 121s/step - loss: 1.3239 - mae: 0.558 - 25433s 121s/step - loss: 1.3223 - mae: 0.557 - 25553s 121s/step - loss: 1.3206 - mae: 0.556 - 25672s 121s/step - loss: 1.3180 - mae: 0.555 - 25792s 121s/step - loss: 1.3160 - mae: 0.554 - 25911s 121s/step - loss: 1.3141 - mae: 0.553 - 26030s 121s/step - loss: 1.3139 - mae: 0.553 - 26149s 121s/step - loss: 1.3134 - mae: 0.552 - 26269s 120s/step - loss: 1.3117 - mae: 0.550 - 26388s 120s/step - loss: 1.3108 - mae: 0.550 - 26508s 120s/step - loss: 1.3098 - mae: 0.549 - 26627s 120s/step - loss: 1.3082 - mae: 0.549 - 26747s 120s/step - loss: 1.3081 - mae: 0.548 - 26866s 120s/step - loss: 1.3068 - mae: 0.547 - 26986s 120s/step - loss: 1.3048 - mae: 0.546 - 27105s 120s/step - loss: 1.3031 - mae: 0.545 - 27224s 120s/step - loss: 1.3015 - mae: 0.544 - 27344s 120s/step - loss: 1.3002 - mae: 0.544 - 27463s 120s/step - loss: 1.2984 - mae: 0.543 - 27582s 120s/step - loss: 1.2980 - mae: 0.543 - 27701s 120s/step - loss: 1.2962 - mae: 0.542 - 27821s 120s/step - loss: 1.2952 - mae: 0.542 - 27940s 120s/step - loss: 1.2945 - mae: 0.542 - 28059s 120s/step - loss: 1.2941 - mae: 0.542 - 28179s 120s/step - loss: 1.2934 - mae: 0.542 - 28298s 120s/step - loss: 1.2916 - mae: 0.541 - 28418s 120s/step - loss: 1.2907 - mae: 0.541 - 28537s 120s/step - loss: 1.2898 - mae: 0.541 - 28656s 120s/step - loss: 1.2881 - mae: 0.540 - 28775s 120s/step - loss: 1.2891 - mae: 0.541 - 28894s 120s/step - loss: 1.2891 - mae: 0.542 - 29013s 120s/step - loss: 1.2891 - mae: 0.542 - 29132s 120s/step - loss: 1.2901 - mae: 0.544 - 29252s 120s/step - loss: 1.2915 - mae: 0.546 - 29384s 120s/step - loss: 1.2925 - mae: 0.547 - 29503s 120s/step - loss: 1.2914 - mae: 0.547 - 29622s 120s/step - loss: 1.2912 - mae: 0.547 - 29741s 120s/step - loss: 1.2901 - mae: 0.547 - 29861s 120s/step - loss: 1.2903 - mae: 0.548 - 29980s 120s/step - loss: 1.2909 - mae: 0.549 - 30099s 120s/step - loss: 1.2926 - mae: 0.551 - 30219s 120s/step - loss: 1.2935 - mae: 0.552 - 30339s 120s/step - loss: 1.2957 - mae: 0.555 - 30459s 120s/step - loss: 1.2968 - mae: 0.556 - 30579s 120s/step - loss: 1.2979 - mae: 0.558 - 30699s 120s/step - loss: 1.2991 - mae: 0.559 - 30818s 120s/step - loss: 1.3007 - mae: 0.561 - 30938s 120s/step - loss: 1.3021 - mae: 0.562 - 31057s 120s/step - loss: 1.3025 - mae: 0.563 - 31177s 120s/step - loss: 1.3038 - mae: 0.565 - 31297s 120s/step - loss: 1.3038 - mae: 0.565 - 31416s 120s/step - loss: 1.3055 - mae: 0.567 - 31536s 120s/step - loss: 1.3072 - mae: 0.569 - 31656s 120s/step - loss: 1.3099 - mae: 0.571 - 31775s 120s/step - loss: 1.3118 - mae: 0.573 - 31894s 120s/step - loss: 1.3128 - mae: 0.574 - 32013s 120s/step - loss: 1.3139 - mae: 0.575 - 32132s 120s/step - loss: 1.3133 - mae: 0.575 - 32252s 120s/step - loss: 1.3136 - mae: 0.575 - 32371s 120s/step - loss: 1.3146 - mae: 0.576 - 32491s 120s/step - loss: 1.3140 - mae: 0.576 - 32610s 120s/step - loss: 1.3134 - mae: 0.576 - 32729s 120s/step - loss: 1.3123 - mae: 0.576 - 32848s 120s/step - loss: 1.3129 - mae: 0.576 - 32968s 120s/step - loss: 1.3122 - mae: 0.576 - 33087s 120s/step - loss: 1.3110 - mae: 0.575 - 33206s 120s/step - loss: 1.3100 - mae: 0.575 - 33325s 120s/step - loss: 1.3089 - mae: 0.574 - 33444s 120s/step - loss: 1.3085 - mae: 0.574 - 33564s 120s/step - loss: 1.3082 - mae: 0.574 - 33683s 120s/step - loss: 1.3090 - mae: 0.574 - 33802s 120s/step - loss: 1.3089 - mae: 0.574 - 33921s 120s/step - loss: 1.3089 - mae: 0.573 - 34041s 120s/step - loss: 1.3080 - mae: 0.572 - 34161s 120s/step - loss: 1.3070 - mae: 0.571 - 34280s 120s/step - loss: 1.3065 - mae: 0.571 - 34399s 120s/step - loss: 1.3061 - mae: 0.571 - 34519s 120s/step - loss: 1.3060 - mae: 0.571 - 34638s 120s/step - loss: 1.3060 - mae: 0.571 - 34757s 120s/step - loss: 1.3049 - mae: 0.570 - 34876s 120s/step - loss: 1.3040 - mae: 0.569 - 34996s 120s/step - loss: 1.3030 - mae: 0.569 - 35115s 120s/step - loss: 1.3018 - mae: 0.568 - 35235s 120s/step - loss: 1.3006 - mae: 0.567 - 35354s 120s/step - loss: 1.3001 - mae: 0.567 - 35473s 120s/step - loss: 1.2991 - mae: 0.567 - 35592s 120s/step - loss: 1.2986 - mae: 0.566 - 35712s 120s/step - loss: 1.2983 - mae: 0.566 - 35831s 120s/step - loss: 1.2981 - mae: 0.566 - 35859s 120s/step - loss: 1.2968 - mae: 0.5652\n",
      "Epoch 00001: saving model to ./checkpoint/ver_loss_new/v01_ep01-loss1.29779.ckpt\n",
      "299/299 [==============================] - 35859s 120s/step - loss: 1.2968 - mae: 0.5652\n",
      "Epoch 2/12\n"
     ]
    },
    {
     "name": "stdout",
     "output_type": "stream",
     "text": [
      "194/299 [==================>...........] - ETA: 11:54:00 - loss: 1.1214 - mae: 0.381 - ETA: 10:51:25 - loss: 1.0129 - mae: 0.328 - ETA: 10:29:05 - loss: 1.0155 - mae: 0.297 - ETA: 10:16:38 - loss: 0.9326 - mae: 0.284 - ETA: 10:08:25 - loss: 0.9162 - mae: 0.291 - ETA: 10:02:56 - loss: 0.8915 - mae: 0.288 - ETA: 9:57:33 - loss: 0.9107 - mae: 0.298 - ETA: 9:52:56 - loss: 0.9191 - mae: 0.30 - ETA: 9:49:12 - loss: 0.9285 - mae: 0.30 - ETA: 9:45:48 - loss: 0.9076 - mae: 0.29 - ETA: 9:42:17 - loss: 0.9048 - mae: 0.30 - ETA: 9:39:07 - loss: 0.8979 - mae: 0.30 - ETA: 9:36:33 - loss: 0.8851 - mae: 0.30 - ETA: 9:34:06 - loss: 0.8731 - mae: 0.29 - ETA: 9:31:27 - loss: 0.8639 - mae: 0.29 - ETA: 9:29:06 - loss: 0.8706 - mae: 0.28 - ETA: 9:26:47 - loss: 0.8661 - mae: 0.28 - ETA: 9:24:25 - loss: 0.8576 - mae: 0.28 - ETA: 9:22:09 - loss: 0.8489 - mae: 0.28 - ETA: 9:19:58 - loss: 0.8388 - mae: 0.27 - ETA: 9:17:40 - loss: 0.8310 - mae: 0.27 - ETA: 9:15:26 - loss: 0.8258 - mae: 0.28 - ETA: 9:13:08 - loss: 0.8254 - mae: 0.28 - ETA: 9:10:56 - loss: 0.8161 - mae: 0.27 - ETA: 9:08:43 - loss: 0.8153 - mae: 0.27 - ETA: 9:06:34 - loss: 0.8151 - mae: 0.27 - ETA: 9:04:28 - loss: 0.8119 - mae: 0.27 - ETA: 9:02:23 - loss: 0.8157 - mae: 0.28 - ETA: 9:00:13 - loss: 0.8252 - mae: 0.28 - ETA: 8:58:08 - loss: 0.8335 - mae: 0.29 - ETA: 8:56:00 - loss: 0.8478 - mae: 0.30 - ETA: 8:53:56 - loss: 0.8481 - mae: 0.30 - ETA: 8:51:49 - loss: 0.8470 - mae: 0.30 - ETA: 8:49:38 - loss: 0.8513 - mae: 0.30 - ETA: 8:47:30 - loss: 0.8547 - mae: 0.31 - ETA: 8:45:20 - loss: 0.8572 - mae: 0.31 - ETA: 8:43:19 - loss: 0.8597 - mae: 0.32 - ETA: 8:41:14 - loss: 0.8612 - mae: 0.32 - ETA: 8:39:07 - loss: 0.8658 - mae: 0.33 - ETA: 8:37:06 - loss: 0.8694 - mae: 0.33 - ETA: 8:35:02 - loss: 0.8760 - mae: 0.34 - ETA: 8:32:58 - loss: 0.8885 - mae: 0.35 - ETA: 8:30:56 - loss: 0.8962 - mae: 0.35 - ETA: 8:28:54 - loss: 0.9034 - mae: 0.36 - ETA: 8:26:53 - loss: 0.9111 - mae: 0.36 - ETA: 8:24:45 - loss: 0.9181 - mae: 0.37 - ETA: 8:22:42 - loss: 0.9222 - mae: 0.37 - ETA: 8:20:39 - loss: 0.9346 - mae: 0.38 - ETA: 8:18:37 - loss: 0.9399 - mae: 0.39 - ETA: 8:16:35 - loss: 0.9451 - mae: 0.39 - ETA: 8:14:33 - loss: 0.9524 - mae: 0.40 - ETA: 8:12:31 - loss: 0.9537 - mae: 0.40 - ETA: 8:10:29 - loss: 0.9646 - mae: 0.41 - ETA: 8:08:29 - loss: 0.9717 - mae: 0.42 - ETA: 8:06:28 - loss: 0.9735 - mae: 0.42 - ETA: 8:04:26 - loss: 0.9754 - mae: 0.42 - ETA: 8:02:22 - loss: 0.9806 - mae: 0.43 - ETA: 8:00:19 - loss: 0.9877 - mae: 0.43 - ETA: 7:58:18 - loss: 0.9954 - mae: 0.44 - ETA: 7:56:17 - loss: 1.0063 - mae: 0.45 - ETA: 7:54:14 - loss: 1.0123 - mae: 0.45 - ETA: 7:52:12 - loss: 1.0264 - mae: 0.47 - ETA: 7:50:10 - loss: 1.0360 - mae: 0.47 - ETA: 7:48:08 - loss: 1.0488 - mae: 0.48 - ETA: 7:46:07 - loss: 1.0558 - mae: 0.49 - ETA: 7:44:05 - loss: 1.0595 - mae: 0.49 - ETA: 7:42:02 - loss: 1.0642 - mae: 0.50 - ETA: 7:40:03 - loss: 1.0695 - mae: 0.50 - ETA: 7:38:02 - loss: 1.0748 - mae: 0.51 - ETA: 7:36:02 - loss: 1.0806 - mae: 0.51 - ETA: 7:34:01 - loss: 1.0874 - mae: 0.52 - ETA: 7:32:01 - loss: 1.0932 - mae: 0.52 - ETA: 7:30:01 - loss: 1.0941 - mae: 0.52 - ETA: 7:28:03 - loss: 1.0992 - mae: 0.53 - ETA: 7:26:03 - loss: 1.1044 - mae: 0.53 - ETA: 7:24:03 - loss: 1.1106 - mae: 0.54 - ETA: 7:22:04 - loss: 1.1166 - mae: 0.54 - ETA: 7:20:04 - loss: 1.1210 - mae: 0.54 - ETA: 7:18:02 - loss: 1.1248 - mae: 0.55 - ETA: 7:16:01 - loss: 1.1277 - mae: 0.55 - ETA: 7:14:00 - loss: 1.1307 - mae: 0.55 - ETA: 7:11:59 - loss: 1.1352 - mae: 0.55 - ETA: 7:09:58 - loss: 1.1385 - mae: 0.55 - ETA: 7:08:00 - loss: 1.1465 - mae: 0.56 - ETA: 7:06:01 - loss: 1.1525 - mae: 0.56 - ETA: 7:04:01 - loss: 1.1515 - mae: 0.56 - ETA: 7:02:00 - loss: 1.1546 - mae: 0.56 - ETA: 7:00:01 - loss: 1.1543 - mae: 0.56 - ETA: 6:58:01 - loss: 1.1558 - mae: 0.56 - ETA: 6:56:03 - loss: 1.1564 - mae: 0.56 - ETA: 6:54:04 - loss: 1.1536 - mae: 0.56 - ETA: 6:52:05 - loss: 1.1510 - mae: 0.56 - ETA: 6:50:05 - loss: 1.1481 - mae: 0.55 - ETA: 6:48:06 - loss: 1.1453 - mae: 0.55 - ETA: 6:46:06 - loss: 1.1422 - mae: 0.55 - ETA: 6:44:06 - loss: 1.1426 - mae: 0.55 - ETA: 6:42:06 - loss: 1.1411 - mae: 0.55 - ETA: 6:40:06 - loss: 1.1423 - mae: 0.55 - ETA: 6:38:07 - loss: 1.1434 - mae: 0.55 - ETA: 6:36:08 - loss: 1.1478 - mae: 0.55 - ETA: 6:34:08 - loss: 1.1456 - mae: 0.55 - ETA: 6:32:09 - loss: 1.1443 - mae: 0.55 - ETA: 6:30:09 - loss: 1.1420 - mae: 0.55 - ETA: 6:28:11 - loss: 1.1414 - mae: 0.55 - ETA: 6:26:12 - loss: 1.1417 - mae: 0.55 - ETA: 6:24:13 - loss: 1.1396 - mae: 0.54 - ETA: 6:22:13 - loss: 1.1371 - mae: 0.54 - ETA: 6:20:12 - loss: 1.1346 - mae: 0.54 - ETA: 6:18:12 - loss: 1.1327 - mae: 0.54 - ETA: 6:16:12 - loss: 1.1321 - mae: 0.54 - ETA: 6:14:11 - loss: 1.1312 - mae: 0.54 - ETA: 6:12:12 - loss: 1.1291 - mae: 0.54 - ETA: 6:10:12 - loss: 1.1279 - mae: 0.53 - ETA: 6:08:12 - loss: 1.1253 - mae: 0.53 - ETA: 6:06:12 - loss: 1.1212 - mae: 0.53 - ETA: 6:04:12 - loss: 1.1170 - mae: 0.53 - ETA: 6:02:12 - loss: 1.1145 - mae: 0.53 - ETA: 6:00:12 - loss: 1.1121 - mae: 0.52 - ETA: 5:58:12 - loss: 1.1101 - mae: 0.52 - ETA: 5:56:12 - loss: 1.1075 - mae: 0.52 - ETA: 5:54:12 - loss: 1.1051 - mae: 0.52 - ETA: 5:52:13 - loss: 1.1050 - mae: 0.52 - ETA: 5:50:13 - loss: 1.1036 - mae: 0.52 - ETA: 5:48:14 - loss: 1.1008 - mae: 0.52 - ETA: 5:46:15 - loss: 1.0984 - mae: 0.52 - ETA: 5:44:15 - loss: 1.0955 - mae: 0.51 - ETA: 5:42:16 - loss: 1.0921 - mae: 0.51 - ETA: 5:40:16 - loss: 1.0892 - mae: 0.51 - ETA: 5:38:34 - loss: 1.0869 - mae: 0.51 - ETA: 5:36:34 - loss: 1.0863 - mae: 0.51 - ETA: 5:34:35 - loss: 1.0845 - mae: 0.51 - ETA: 5:32:36 - loss: 1.0849 - mae: 0.51 - ETA: 5:30:36 - loss: 1.0842 - mae: 0.51 - ETA: 5:28:37 - loss: 1.0844 - mae: 0.51 - ETA: 5:26:38 - loss: 1.0826 - mae: 0.50 - ETA: 5:24:38 - loss: 1.0811 - mae: 0.50 - ETA: 5:22:39 - loss: 1.0790 - mae: 0.50 - ETA: 5:20:39 - loss: 1.0781 - mae: 0.50 - ETA: 5:18:39 - loss: 1.0781 - mae: 0.50 - ETA: 5:16:39 - loss: 1.0793 - mae: 0.50 - ETA: 5:14:40 - loss: 1.0785 - mae: 0.50 - ETA: 5:12:40 - loss: 1.0790 - mae: 0.50 - ETA: 5:10:40 - loss: 1.0796 - mae: 0.51 - ETA: 5:08:40 - loss: 1.0796 - mae: 0.51 - ETA: 5:06:41 - loss: 1.0783 - mae: 0.51 - ETA: 5:04:41 - loss: 1.0785 - mae: 0.51 - ETA: 5:02:41 - loss: 1.0785 - mae: 0.51 - ETA: 5:00:42 - loss: 1.0805 - mae: 0.51 - ETA: 4:58:42 - loss: 1.0795 - mae: 0.51 - ETA: 4:56:43 - loss: 1.0803 - mae: 0.51 - ETA: 4:54:43 - loss: 1.0813 - mae: 0.51 - ETA: 4:52:44 - loss: 1.0818 - mae: 0.51 - ETA: 4:50:44 - loss: 1.0823 - mae: 0.51 - ETA: 4:48:44 - loss: 1.0834 - mae: 0.51 - ETA: 4:46:44 - loss: 1.0848 - mae: 0.52 - ETA: 4:44:44 - loss: 1.0884 - mae: 0.52 - ETA: 4:42:45 - loss: 1.0894 - mae: 0.52 - ETA: 4:40:45 - loss: 1.0922 - mae: 0.52 - ETA: 4:38:46 - loss: 1.0944 - mae: 0.52 - ETA: 4:36:46 - loss: 1.0951 - mae: 0.52 - ETA: 4:34:46 - loss: 1.0951 - mae: 0.52 - ETA: 4:32:46 - loss: 1.0952 - mae: 0.52 - ETA: 4:30:47 - loss: 1.0955 - mae: 0.52 - ETA: 4:28:47 - loss: 1.0969 - mae: 0.53 - ETA: 4:26:48 - loss: 1.0982 - mae: 0.53 - ETA: 4:24:48 - loss: 1.1013 - mae: 0.53 - ETA: 4:22:48 - loss: 1.1046 - mae: 0.53 - ETA: 4:20:49 - loss: 1.1061 - mae: 0.53 - ETA: 4:18:50 - loss: 1.1059 - mae: 0.53 - ETA: 4:16:50 - loss: 1.1077 - mae: 0.53 - ETA: 4:14:50 - loss: 1.1093 - mae: 0.54 - ETA: 4:12:51 - loss: 1.1087 - mae: 0.54 - ETA: 4:10:51 - loss: 1.1082 - mae: 0.54 - ETA: 4:08:52 - loss: 1.1078 - mae: 0.54 - ETA: 4:06:52 - loss: 1.1076 - mae: 0.54 - ETA: 4:04:53 - loss: 1.1083 - mae: 0.54 - ETA: 4:02:53 - loss: 1.1099 - mae: 0.54 - ETA: 4:00:54 - loss: 1.1131 - mae: 0.54 - ETA: 3:58:54 - loss: 1.1148 - mae: 0.54 - ETA: 3:56:54 - loss: 1.1203 - mae: 0.55 - ETA: 3:54:55 - loss: 1.1196 - mae: 0.54 - ETA: 3:52:55 - loss: 1.1199 - mae: 0.54 - ETA: 3:50:56 - loss: 1.1192 - mae: 0.54 - ETA: 3:48:56 - loss: 1.1190 - mae: 0.54 - ETA: 3:46:57 - loss: 1.1198 - mae: 0.55 - ETA: 3:44:57 - loss: 1.1194 - mae: 0.55 - ETA: 3:42:57 - loss: 1.1194 - mae: 0.55 - ETA: 3:40:57 - loss: 1.1187 - mae: 0.55 - ETA: 3:38:58 - loss: 1.1181 - mae: 0.54 - ETA: 3:36:58 - loss: 1.1170 - mae: 0.54 - ETA: 3:34:59 - loss: 1.1164 - mae: 0.54 - ETA: 3:33:00 - loss: 1.1153 - mae: 0.54 - ETA: 3:31:01 - loss: 1.1162 - mae: 0.54 - ETA: 3:29:01 - loss: 1.1169 - mae: 0.5482"
     ]
    },
    {
     "name": "stdout",
     "output_type": "stream",
     "text": [
      "298/299 [============================>.] - ETA: 3:27:02 - loss: 1.1163 - mae: 0.54 - ETA: 3:25:02 - loss: 1.1157 - mae: 0.54 - ETA: 3:23:03 - loss: 1.1139 - mae: 0.54 - ETA: 3:21:03 - loss: 1.1125 - mae: 0.54 - ETA: 3:19:03 - loss: 1.1119 - mae: 0.54 - ETA: 3:17:05 - loss: 1.1108 - mae: 0.54 - ETA: 3:15:07 - loss: 1.1096 - mae: 0.54 - ETA: 3:13:09 - loss: 1.1089 - mae: 0.54 - ETA: 3:11:13 - loss: 1.1088 - mae: 0.54 - ETA: 3:09:15 - loss: 1.1070 - mae: 0.54 - ETA: 3:07:16 - loss: 1.1059 - mae: 0.54 - ETA: 3:05:18 - loss: 1.1050 - mae: 0.54 - ETA: 3:03:18 - loss: 1.1044 - mae: 0.53 - ETA: 3:01:20 - loss: 1.1042 - mae: 0.53 - ETA: 2:59:25 - loss: 1.1031 - mae: 0.53 - ETA: 2:57:28 - loss: 1.1017 - mae: 0.53 - ETA: 2:55:29 - loss: 1.1004 - mae: 0.53 - ETA: 2:53:30 - loss: 1.0990 - mae: 0.53 - ETA: 2:51:33 - loss: 1.0969 - mae: 0.53 - ETA: 2:49:34 - loss: 1.0951 - mae: 0.53 - ETA: 2:47:35 - loss: 1.0935 - mae: 0.53 - ETA: 2:45:36 - loss: 1.0935 - mae: 0.53 - ETA: 2:43:37 - loss: 1.0928 - mae: 0.53 - ETA: 2:41:38 - loss: 1.0911 - mae: 0.53 - ETA: 2:39:39 - loss: 1.0904 - mae: 0.52 - ETA: 2:37:39 - loss: 1.0896 - mae: 0.52 - ETA: 2:35:40 - loss: 1.0881 - mae: 0.52 - ETA: 2:33:41 - loss: 1.0880 - mae: 0.52 - ETA: 2:31:42 - loss: 1.0867 - mae: 0.52 - ETA: 2:29:43 - loss: 1.0848 - mae: 0.52 - ETA: 2:27:44 - loss: 1.0834 - mae: 0.52 - ETA: 2:25:44 - loss: 1.0820 - mae: 0.52 - ETA: 2:23:46 - loss: 1.0811 - mae: 0.52 - ETA: 2:21:47 - loss: 1.0797 - mae: 0.52 - ETA: 2:19:48 - loss: 1.0796 - mae: 0.52 - ETA: 2:17:49 - loss: 1.0782 - mae: 0.52 - ETA: 2:15:49 - loss: 1.0775 - mae: 0.52 - ETA: 2:13:50 - loss: 1.0771 - mae: 0.52 - ETA: 2:11:51 - loss: 1.0771 - mae: 0.52 - ETA: 2:09:51 - loss: 1.0767 - mae: 0.52 - ETA: 2:07:52 - loss: 1.0752 - mae: 0.52 - ETA: 2:05:52 - loss: 1.0746 - mae: 0.52 - ETA: 2:03:53 - loss: 1.0741 - mae: 0.52 - ETA: 2:01:54 - loss: 1.0727 - mae: 0.52 - ETA: 1:59:55 - loss: 1.0739 - mae: 0.52 - ETA: 1:57:56 - loss: 1.0742 - mae: 0.52 - ETA: 1:55:57 - loss: 1.0745 - mae: 0.52 - ETA: 1:53:57 - loss: 1.0759 - mae: 0.52 - ETA: 1:51:57 - loss: 1.0776 - mae: 0.52 - ETA: 1:49:57 - loss: 1.0790 - mae: 0.52 - ETA: 1:47:58 - loss: 1.0783 - mae: 0.52 - ETA: 1:45:59 - loss: 1.0785 - mae: 0.52 - ETA: 1:43:59 - loss: 1.0779 - mae: 0.52 - ETA: 1:41:59 - loss: 1.0784 - mae: 0.52 - ETA: 1:40:00 - loss: 1.0793 - mae: 0.52 - ETA: 1:38:01 - loss: 1.0812 - mae: 0.53 - ETA: 1:36:01 - loss: 1.0825 - mae: 0.53 - ETA: 1:34:02 - loss: 1.0851 - mae: 0.53 - ETA: 1:32:02 - loss: 1.0865 - mae: 0.53 - ETA: 1:30:02 - loss: 1.0879 - mae: 0.53 - ETA: 1:28:03 - loss: 1.0893 - mae: 0.53 - ETA: 1:26:04 - loss: 1.0912 - mae: 0.54 - ETA: 1:24:04 - loss: 1.0927 - mae: 0.54 - ETA: 1:22:04 - loss: 1.0935 - mae: 0.54 - ETA: 1:20:04 - loss: 1.0950 - mae: 0.54 - ETA: 1:18:04 - loss: 1.0953 - mae: 0.54 - ETA: 1:16:04 - loss: 1.0972 - mae: 0.54 - ETA: 1:14:04 - loss: 1.0990 - mae: 0.54 - ETA: 1:12:03 - loss: 1.1018 - mae: 0.55 - ETA: 1:10:03 - loss: 1.1036 - mae: 0.55 - ETA: 1:08:04 - loss: 1.1048 - mae: 0.55 - ETA: 1:06:04 - loss: 1.1059 - mae: 0.55 - ETA: 1:04:04 - loss: 1.1057 - mae: 0.55 - ETA: 1:02:04 - loss: 1.1062 - mae: 0.55 - ETA: 1:00:04 - loss: 1.1073 - mae: 0.55 - ETA: 58:04 - loss: 1.1069 - mae: 0.5569 - ETA: 56:04 - loss: 1.1065 - mae: 0.55 - ETA: 54:04 - loss: 1.1056 - mae: 0.55 - ETA: 52:04 - loss: 1.1062 - mae: 0.55 - ETA: 50:04 - loss: 1.1056 - mae: 0.55 - ETA: 48:04 - loss: 1.1046 - mae: 0.55 - ETA: 46:03 - loss: 1.1038 - mae: 0.55 - ETA: 44:03 - loss: 1.1030 - mae: 0.55 - ETA: 42:03 - loss: 1.1027 - mae: 0.55 - ETA: 40:03 - loss: 1.1025 - mae: 0.55 - ETA: 38:03 - loss: 1.1032 - mae: 0.55 - ETA: 36:02 - loss: 1.1031 - mae: 0.55 - ETA: 34:02 - loss: 1.1028 - mae: 0.55 - ETA: 32:02 - loss: 1.1020 - mae: 0.55 - ETA: 30:02 - loss: 1.1012 - mae: 0.55 - ETA: 28:02 - loss: 1.1010 - mae: 0.55 - ETA: 26:02 - loss: 1.1006 - mae: 0.55 - ETA: 24:01 - loss: 1.1006 - mae: 0.55 - ETA: 22:01 - loss: 1.1008 - mae: 0.55 - ETA: 20:01 - loss: 1.0998 - mae: 0.55 - ETA: 18:01 - loss: 1.0991 - mae: 0.55 - ETA: 16:01 - loss: 1.0983 - mae: 0.54 - ETA: 14:01 - loss: 1.0973 - mae: 0.54 - ETA: 12:00 - loss: 1.0964 - mae: 0.54 - ETA: 10:00 - loss: 1.0959 - mae: 0.54 - ETA: 8:00 - loss: 1.0951 - mae: 0.5477 - ETA: 6:00 - loss: 1.0948 - mae: 0.547 - ETA: 4:00 - loss: 1.0947 - mae: 0.547 - ETA: 2:00 - loss: 1.0946 - mae: 0.5471\n",
      "Epoch 00002: saving model to ./checkpoint/ver_loss_new/v01_ep02-loss1.09434.ckpt\n",
      "299/299 [==============================] - 35845s 120s/step - loss: 1.0946 - mae: 0.5458\n",
      "Epoch 3/12\n"
     ]
    },
    {
     "name": "stdout",
     "output_type": "stream",
     "text": [
      "194/299 [==================>...........] - ETA: 14:35:45 - loss: 0.9183 - mae: 0.364 - ETA: 12:08:07 - loss: 0.8257 - mae: 0.313 - ETA: 11:18:20 - loss: 0.8202 - mae: 0.283 - ETA: 10:51:36 - loss: 0.7558 - mae: 0.270 - ETA: 10:36:13 - loss: 0.7499 - mae: 0.277 - ETA: 10:25:32 - loss: 0.7335 - mae: 0.275 - ETA: 10:16:46 - loss: 0.7529 - mae: 0.285 - ETA: 10:09:48 - loss: 0.7593 - mae: 0.290 - ETA: 10:04:01 - loss: 0.7652 - mae: 0.287 - ETA: 9:58:58 - loss: 0.7486 - mae: 0.283 - ETA: 9:54:32 - loss: 0.7467 - mae: 0.29 - ETA: 9:55:50 - loss: 0.7426 - mae: 0.28 - ETA: 9:52:00 - loss: 0.7328 - mae: 0.28 - ETA: 9:47:58 - loss: 0.7210 - mae: 0.28 - ETA: 9:44:26 - loss: 0.7137 - mae: 0.27 - ETA: 9:40:55 - loss: 0.7197 - mae: 0.27 - ETA: 9:37:30 - loss: 0.7157 - mae: 0.27 - ETA: 9:35:17 - loss: 0.7091 - mae: 0.26 - ETA: 9:33:03 - loss: 0.7014 - mae: 0.26 - ETA: 9:30:57 - loss: 0.6930 - mae: 0.26 - ETA: 9:28:18 - loss: 0.6867 - mae: 0.26 - ETA: 9:25:40 - loss: 0.6832 - mae: 0.26 - ETA: 9:22:58 - loss: 0.6833 - mae: 0.26 - ETA: 9:20:25 - loss: 0.6756 - mae: 0.26 - ETA: 9:17:50 - loss: 0.6755 - mae: 0.26 - ETA: 9:15:12 - loss: 0.6756 - mae: 0.26 - ETA: 9:12:47 - loss: 0.6736 - mae: 0.26 - ETA: 9:10:21 - loss: 0.6779 - mae: 0.26 - ETA: 9:08:28 - loss: 0.6876 - mae: 0.27 - ETA: 9:06:43 - loss: 0.6957 - mae: 0.28 - ETA: 9:05:44 - loss: 0.7096 - mae: 0.28 - ETA: 9:03:36 - loss: 0.7106 - mae: 0.29 - ETA: 9:01:32 - loss: 0.7107 - mae: 0.29 - ETA: 8:59:39 - loss: 0.7144 - mae: 0.29 - ETA: 8:57:41 - loss: 0.7188 - mae: 0.29 - ETA: 8:55:44 - loss: 0.7224 - mae: 0.30 - ETA: 8:53:56 - loss: 0.7256 - mae: 0.30 - ETA: 8:52:06 - loss: 0.7277 - mae: 0.31 - ETA: 8:50:09 - loss: 0.7328 - mae: 0.31 - ETA: 8:48:13 - loss: 0.7373 - mae: 0.32 - ETA: 8:46:18 - loss: 0.7443 - mae: 0.32 - ETA: 8:44:08 - loss: 0.7557 - mae: 0.33 - ETA: 8:42:03 - loss: 0.7639 - mae: 0.34 - ETA: 8:40:04 - loss: 0.7716 - mae: 0.34 - ETA: 8:37:48 - loss: 0.7799 - mae: 0.35 - ETA: 8:35:30 - loss: 0.7865 - mae: 0.36 - ETA: 8:33:17 - loss: 0.7907 - mae: 0.36 - ETA: 8:30:58 - loss: 0.8030 - mae: 0.37 - ETA: 8:29:04 - loss: 0.8092 - mae: 0.38 - ETA: 8:27:03 - loss: 0.8146 - mae: 0.38 - ETA: 8:25:03 - loss: 0.8224 - mae: 0.39 - ETA: 8:23:08 - loss: 0.8245 - mae: 0.39 - ETA: 8:21:12 - loss: 0.8358 - mae: 0.40 - ETA: 8:19:18 - loss: 0.8431 - mae: 0.41 - ETA: 8:17:18 - loss: 0.8454 - mae: 0.41 - ETA: 8:15:18 - loss: 0.8477 - mae: 0.41 - ETA: 8:13:19 - loss: 0.8531 - mae: 0.41 - ETA: 8:11:07 - loss: 0.8605 - mae: 0.42 - ETA: 8:09:03 - loss: 0.8681 - mae: 0.43 - ETA: 8:07:02 - loss: 0.8792 - mae: 0.44 - ETA: 8:04:55 - loss: 0.8855 - mae: 0.44 - ETA: 8:02:48 - loss: 0.8998 - mae: 0.45 - ETA: 8:00:54 - loss: 0.9096 - mae: 0.46 - ETA: 7:58:57 - loss: 0.9219 - mae: 0.47 - ETA: 7:57:01 - loss: 0.9288 - mae: 0.48 - ETA: 7:55:03 - loss: 0.9328 - mae: 0.48 - ETA: 7:52:59 - loss: 0.9371 - mae: 0.48 - ETA: 7:50:53 - loss: 0.9420 - mae: 0.49 - ETA: 7:48:52 - loss: 0.9476 - mae: 0.49 - ETA: 7:46:48 - loss: 0.9537 - mae: 0.50 - ETA: 7:44:39 - loss: 0.9603 - mae: 0.50 - ETA: 7:42:30 - loss: 0.9661 - mae: 0.51 - ETA: 7:40:23 - loss: 0.9671 - mae: 0.51 - ETA: 7:38:15 - loss: 0.9724 - mae: 0.51 - ETA: 7:36:08 - loss: 0.9776 - mae: 0.52 - ETA: 7:33:58 - loss: 0.9838 - mae: 0.52 - ETA: 7:31:48 - loss: 0.9898 - mae: 0.53 - ETA: 7:29:39 - loss: 0.9941 - mae: 0.53 - ETA: 7:27:31 - loss: 0.9978 - mae: 0.53 - ETA: 7:25:24 - loss: 1.0009 - mae: 0.53 - ETA: 7:23:17 - loss: 1.0041 - mae: 0.54 - ETA: 7:21:10 - loss: 1.0081 - mae: 0.54 - ETA: 7:19:02 - loss: 1.0113 - mae: 0.54 - ETA: 7:16:55 - loss: 1.0182 - mae: 0.54 - ETA: 7:14:48 - loss: 1.0240 - mae: 0.55 - ETA: 7:12:41 - loss: 1.0226 - mae: 0.54 - ETA: 7:10:34 - loss: 1.0250 - mae: 0.55 - ETA: 7:08:27 - loss: 1.0246 - mae: 0.54 - ETA: 7:06:20 - loss: 1.0259 - mae: 0.55 - ETA: 7:04:15 - loss: 1.0265 - mae: 0.54 - ETA: 7:02:08 - loss: 1.0241 - mae: 0.54 - ETA: 7:00:02 - loss: 1.0216 - mae: 0.54 - ETA: 6:58:04 - loss: 1.0191 - mae: 0.54 - ETA: 6:56:05 - loss: 1.0166 - mae: 0.54 - ETA: 6:54:08 - loss: 1.0139 - mae: 0.54 - ETA: 6:52:01 - loss: 1.0139 - mae: 0.54 - ETA: 6:49:54 - loss: 1.0124 - mae: 0.53 - ETA: 6:47:48 - loss: 1.0137 - mae: 0.54 - ETA: 6:45:41 - loss: 1.0146 - mae: 0.54 - ETA: 6:43:37 - loss: 1.0184 - mae: 0.54 - ETA: 6:41:31 - loss: 1.0159 - mae: 0.54 - ETA: 6:39:25 - loss: 1.0148 - mae: 0.53 - ETA: 6:37:18 - loss: 1.0125 - mae: 0.53 - ETA: 6:35:21 - loss: 1.0120 - mae: 0.53 - ETA: 6:33:25 - loss: 1.0124 - mae: 0.53 - ETA: 6:31:24 - loss: 1.0103 - mae: 0.53 - ETA: 6:29:35 - loss: 1.0082 - mae: 0.53 - ETA: 6:27:50 - loss: 1.0057 - mae: 0.53 - ETA: 6:25:46 - loss: 1.0039 - mae: 0.53 - ETA: 6:23:40 - loss: 1.0034 - mae: 0.52 - ETA: 6:21:45 - loss: 1.0025 - mae: 0.52 - ETA: 6:19:44 - loss: 1.0004 - mae: 0.52 - ETA: 6:17:45 - loss: 0.9987 - mae: 0.52 - ETA: 6:15:42 - loss: 0.9963 - mae: 0.52 - ETA: 6:13:39 - loss: 0.9928 - mae: 0.52 - ETA: 6:11:37 - loss: 0.9889 - mae: 0.51 - ETA: 6:09:33 - loss: 0.9866 - mae: 0.51 - ETA: 6:07:31 - loss: 0.9843 - mae: 0.51 - ETA: 6:05:30 - loss: 0.9823 - mae: 0.51 - ETA: 6:03:28 - loss: 0.9800 - mae: 0.51 - ETA: 6:01:25 - loss: 0.9778 - mae: 0.51 - ETA: 5:59:22 - loss: 0.9777 - mae: 0.51 - ETA: 5:57:24 - loss: 0.9764 - mae: 0.51 - ETA: 5:55:23 - loss: 0.9738 - mae: 0.50 - ETA: 5:53:26 - loss: 0.9716 - mae: 0.50 - ETA: 5:51:29 - loss: 0.9689 - mae: 0.50 - ETA: 5:49:30 - loss: 0.9656 - mae: 0.50 - ETA: 5:47:35 - loss: 0.9630 - mae: 0.50 - ETA: 5:45:44 - loss: 0.9607 - mae: 0.49 - ETA: 5:43:45 - loss: 0.9601 - mae: 0.49 - ETA: 5:41:43 - loss: 0.9584 - mae: 0.49 - ETA: 5:39:41 - loss: 0.9585 - mae: 0.49 - ETA: 5:37:40 - loss: 0.9578 - mae: 0.49 - ETA: 5:35:46 - loss: 0.9583 - mae: 0.49 - ETA: 5:33:46 - loss: 0.9568 - mae: 0.49 - ETA: 5:31:51 - loss: 0.9554 - mae: 0.49 - ETA: 5:29:55 - loss: 0.9536 - mae: 0.49 - ETA: 5:28:01 - loss: 0.9530 - mae: 0.49 - ETA: 5:26:00 - loss: 0.9530 - mae: 0.49 - ETA: 5:23:59 - loss: 0.9545 - mae: 0.49 - ETA: 5:21:56 - loss: 0.9540 - mae: 0.49 - ETA: 5:19:55 - loss: 0.9546 - mae: 0.49 - ETA: 5:17:52 - loss: 0.9556 - mae: 0.49 - ETA: 5:15:51 - loss: 0.9556 - mae: 0.49 - ETA: 5:13:49 - loss: 0.9546 - mae: 0.49 - ETA: 5:11:46 - loss: 0.9551 - mae: 0.49 - ETA: 5:09:46 - loss: 0.9553 - mae: 0.49 - ETA: 5:07:42 - loss: 0.9574 - mae: 0.50 - ETA: 5:05:39 - loss: 0.9567 - mae: 0.50 - ETA: 5:03:35 - loss: 0.9575 - mae: 0.50 - ETA: 5:01:32 - loss: 0.9588 - mae: 0.50 - ETA: 4:59:28 - loss: 0.9595 - mae: 0.50 - ETA: 4:57:24 - loss: 0.9603 - mae: 0.50 - ETA: 4:55:21 - loss: 0.9615 - mae: 0.50 - ETA: 4:53:17 - loss: 0.9632 - mae: 0.50 - ETA: 4:51:15 - loss: 0.9668 - mae: 0.50 - ETA: 4:49:12 - loss: 0.9679 - mae: 0.51 - ETA: 4:47:09 - loss: 0.9709 - mae: 0.51 - ETA: 4:45:06 - loss: 0.9731 - mae: 0.51 - ETA: 4:43:03 - loss: 0.9740 - mae: 0.51 - ETA: 4:41:00 - loss: 0.9741 - mae: 0.51 - ETA: 4:38:58 - loss: 0.9741 - mae: 0.51 - ETA: 4:37:00 - loss: 0.9746 - mae: 0.51 - ETA: 4:34:59 - loss: 0.9760 - mae: 0.51 - ETA: 4:32:58 - loss: 0.9776 - mae: 0.51 - ETA: 4:30:55 - loss: 0.9808 - mae: 0.52 - ETA: 4:28:53 - loss: 0.9839 - mae: 0.52 - ETA: 4:26:54 - loss: 0.9853 - mae: 0.52 - ETA: 4:24:56 - loss: 0.9851 - mae: 0.52 - ETA: 4:22:53 - loss: 0.9869 - mae: 0.52 - ETA: 4:20:51 - loss: 0.9884 - mae: 0.52 - ETA: 4:18:55 - loss: 0.9881 - mae: 0.52 - ETA: 4:16:54 - loss: 0.9876 - mae: 0.52 - ETA: 4:14:51 - loss: 0.9874 - mae: 0.52 - ETA: 4:12:47 - loss: 0.9874 - mae: 0.52 - ETA: 4:10:43 - loss: 0.9883 - mae: 0.52 - ETA: 4:08:40 - loss: 0.9899 - mae: 0.52 - ETA: 4:06:37 - loss: 0.9931 - mae: 0.53 - ETA: 4:04:34 - loss: 0.9947 - mae: 0.53 - ETA: 4:02:31 - loss: 0.9998 - mae: 0.53 - ETA: 4:00:35 - loss: 0.9990 - mae: 0.53 - ETA: 3:58:32 - loss: 0.9992 - mae: 0.53 - ETA: 3:56:29 - loss: 0.9988 - mae: 0.53 - ETA: 3:54:25 - loss: 0.9987 - mae: 0.53 - ETA: 3:52:22 - loss: 0.9995 - mae: 0.53 - ETA: 3:50:19 - loss: 0.9993 - mae: 0.53 - ETA: 3:48:16 - loss: 0.9995 - mae: 0.53 - ETA: 3:46:14 - loss: 0.9988 - mae: 0.53 - ETA: 3:44:11 - loss: 0.9984 - mae: 0.53 - ETA: 3:42:08 - loss: 0.9973 - mae: 0.53 - ETA: 3:40:15 - loss: 0.9968 - mae: 0.53 - ETA: 3:38:11 - loss: 0.9957 - mae: 0.53 - ETA: 3:36:08 - loss: 0.9966 - mae: 0.53 - ETA: 3:34:05 - loss: 0.9973 - mae: 0.5351298/299 [============================>.] - ETA: 3:32:01 - loss: 0.9967 - mae: 0.53 - ETA: 3:29:58 - loss: 0.9961 - mae: 0.53 - ETA: 3:27:55 - loss: 0.9945 - mae: 0.53 - ETA: 3:25:53 - loss: 0.9933 - mae: 0.53 - ETA: 3:23:51 - loss: 0.9927 - mae: 0.53 - ETA: 3:21:48 - loss: 0.9917 - mae: 0.53 - ETA: 3:19:45 - loss: 0.9906 - mae: 0.53 - ETA: 3:17:42 - loss: 0.9900 - mae: 0.53 - ETA: 3:15:39 - loss: 0.9899 - mae: 0.52 - ETA: 3:13:35 - loss: 0.9883 - mae: 0.52 - ETA: 3:11:32 - loss: 0.9873 - mae: 0.52 - ETA: 3:09:29 - loss: 0.9865 - mae: 0.52 - ETA: 3:07:29 - loss: 0.9859 - mae: 0.52 - ETA: 3:05:26 - loss: 0.9858 - mae: 0.52 - ETA: 3:03:24 - loss: 0.9848 - mae: 0.52 - ETA: 3:01:21 - loss: 0.9835 - mae: 0.52 - ETA: 2:59:18 - loss: 0.9823 - mae: 0.52 - ETA: 2:57:15 - loss: 0.9810 - mae: 0.52 - ETA: 2:55:15 - loss: 0.9791 - mae: 0.52 - ETA: 2:53:15 - loss: 0.9775 - mae: 0.52 - ETA: 2:51:14 - loss: 0.9760 - mae: 0.51 - ETA: 2:49:13 - loss: 0.9760 - mae: 0.51 - ETA: 2:47:13 - loss: 0.9753 - mae: 0.51 - ETA: 2:45:12 - loss: 0.9735 - mae: 0.51 - ETA: 2:43:11 - loss: 0.9729 - mae: 0.51 - ETA: 2:41:09 - loss: 0.9722 - mae: 0.51 - ETA: 2:39:06 - loss: 0.9708 - mae: 0.51 - ETA: 2:37:03 - loss: 0.9708 - mae: 0.51 - ETA: 2:35:02 - loss: 0.9695 - mae: 0.51 - ETA: 2:33:00 - loss: 0.9677 - mae: 0.51 - ETA: 2:30:59 - loss: 0.9664 - mae: 0.51 - ETA: 2:28:59 - loss: 0.9650 - mae: 0.51 - ETA: 2:26:58 - loss: 0.9643 - mae: 0.51 - ETA: 2:24:58 - loss: 0.9630 - mae: 0.51 - ETA: 2:22:57 - loss: 0.9630 - mae: 0.51 - ETA: 2:20:57 - loss: 0.9619 - mae: 0.50 - ETA: 2:18:56 - loss: 0.9612 - mae: 0.50 - ETA: 2:16:55 - loss: 0.9610 - mae: 0.50 - ETA: 2:14:55 - loss: 0.9612 - mae: 0.50 - ETA: 2:12:55 - loss: 0.9609 - mae: 0.51 - ETA: 2:10:54 - loss: 0.9596 - mae: 0.50 - ETA: 2:08:53 - loss: 0.9591 - mae: 0.50 - ETA: 2:06:52 - loss: 0.9587 - mae: 0.50 - ETA: 2:04:51 - loss: 0.9575 - mae: 0.50 - ETA: 2:02:49 - loss: 0.9587 - mae: 0.50 - ETA: 2:00:48 - loss: 0.9590 - mae: 0.50 - ETA: 1:58:47 - loss: 0.9595 - mae: 0.51 - ETA: 1:56:45 - loss: 0.9611 - mae: 0.51 - ETA: 1:54:42 - loss: 0.9629 - mae: 0.51 - ETA: 1:52:39 - loss: 0.9645 - mae: 0.51 - ETA: 1:50:35 - loss: 0.9640 - mae: 0.51 - ETA: 1:48:32 - loss: 0.9644 - mae: 0.51 - ETA: 1:46:29 - loss: 0.9641 - mae: 0.51 - ETA: 1:44:27 - loss: 0.9646 - mae: 0.51 - ETA: 1:42:26 - loss: 0.9656 - mae: 0.51 - ETA: 1:40:24 - loss: 0.9676 - mae: 0.51 - ETA: 1:38:22 - loss: 0.9691 - mae: 0.52 - ETA: 1:36:20 - loss: 0.9718 - mae: 0.52 - ETA: 1:34:18 - loss: 0.9734 - mae: 0.52 - ETA: 1:32:16 - loss: 0.9750 - mae: 0.52 - ETA: 1:30:14 - loss: 0.9765 - mae: 0.52 - ETA: 1:28:12 - loss: 0.9784 - mae: 0.52 - ETA: 1:26:09 - loss: 0.9801 - mae: 0.53 - ETA: 1:24:07 - loss: 0.9810 - mae: 0.53 - ETA: 1:22:04 - loss: 0.9826 - mae: 0.53 - ETA: 1:20:02 - loss: 0.9830 - mae: 0.53 - ETA: 1:18:00 - loss: 0.9851 - mae: 0.53 - ETA: 1:15:58 - loss: 0.9869 - mae: 0.53 - ETA: 1:13:55 - loss: 0.9896 - mae: 0.53 - ETA: 1:11:53 - loss: 0.9914 - mae: 0.54 - ETA: 1:09:50 - loss: 0.9926 - mae: 0.54 - ETA: 1:07:48 - loss: 0.9939 - mae: 0.54 - ETA: 1:05:45 - loss: 0.9938 - mae: 0.54 - ETA: 1:03:43 - loss: 0.9944 - mae: 0.54 - ETA: 1:01:40 - loss: 0.9955 - mae: 0.54 - ETA: 59:37 - loss: 0.9952 - mae: 0.5442 - ETA: 57:34 - loss: 0.9950 - mae: 0.54 - ETA: 55:31 - loss: 0.9942 - mae: 0.54 - ETA: 53:28 - loss: 0.9948 - mae: 0.54 - ETA: 51:25 - loss: 0.9942 - mae: 0.54 - ETA: 49:21 - loss: 0.9933 - mae: 0.54 - ETA: 47:19 - loss: 0.9926 - mae: 0.54 - ETA: 45:15 - loss: 0.9920 - mae: 0.54 - ETA: 43:11 - loss: 0.9918 - mae: 0.54 - ETA: 41:08 - loss: 0.9915 - mae: 0.54 - ETA: 39:04 - loss: 0.9921 - mae: 0.54 - ETA: 37:00 - loss: 0.9919 - mae: 0.54 - ETA: 34:57 - loss: 0.9915 - mae: 0.54 - ETA: 32:53 - loss: 0.9909 - mae: 0.54 - ETA: 30:50 - loss: 0.9901 - mae: 0.53 - ETA: 28:46 - loss: 0.9900 - mae: 0.53 - ETA: 26:43 - loss: 0.9897 - mae: 0.53 - ETA: 24:39 - loss: 0.9897 - mae: 0.53 - ETA: 22:36 - loss: 0.9899 - mae: 0.53 - ETA: 20:32 - loss: 0.9890 - mae: 0.53 - ETA: 18:29 - loss: 0.9882 - mae: 0.53 - ETA: 16:25 - loss: 0.9875 - mae: 0.53 - ETA: 14:22 - loss: 0.9866 - mae: 0.53 - ETA: 12:19 - loss: 0.9858 - mae: 0.53 - ETA: 10:15 - loss: 0.9853 - mae: 0.53 - ETA: 8:12 - loss: 0.9846 - mae: 0.5352 - ETA: 6:09 - loss: 0.9843 - mae: 0.535 - ETA: 4:06 - loss: 0.9842 - mae: 0.534 - ETA: 2:03 - loss: 0.9841 - mae: 0.5346\n",
      "Epoch 00003: saving model to ./checkpoint/ver_loss_new/v01_ep03-loss0.98383.ckpt\n",
      "299/299 [==============================] - 36724s 123s/step - loss: 0.9841 - mae: 0.5333\n",
      "Epoch 4/12\n"
     ]
    },
    {
     "name": "stdout",
     "output_type": "stream",
     "text": [
      "194/299 [==================>...........] - ETA: 11:39:16 - loss: 0.8233 - mae: 0.353 - ETA: 10:42:16 - loss: 0.7410 - mae: 0.305 - ETA: 10:23:37 - loss: 0.7249 - mae: 0.276 - ETA: 10:12:28 - loss: 0.6702 - mae: 0.262 - ETA: 10:04:52 - loss: 0.6653 - mae: 0.269 - ETA: 9:59:05 - loss: 0.6528 - mae: 0.267 - ETA: 9:54:26 - loss: 0.6713 - mae: 0.27 - ETA: 9:50:40 - loss: 0.6760 - mae: 0.28 - ETA: 9:47:13 - loss: 0.6782 - mae: 0.27 - ETA: 9:44:03 - loss: 0.6636 - mae: 0.27 - ETA: 9:41:08 - loss: 0.6628 - mae: 0.28 - ETA: 9:38:24 - loss: 0.6596 - mae: 0.28 - ETA: 9:35:56 - loss: 0.6511 - mae: 0.28 - ETA: 9:33:19 - loss: 0.6399 - mae: 0.27 - ETA: 9:30:52 - loss: 0.6319 - mae: 0.26 - ETA: 9:28:17 - loss: 0.6361 - mae: 0.26 - ETA: 9:25:42 - loss: 0.6323 - mae: 0.26 - ETA: 9:23:18 - loss: 0.6267 - mae: 0.26 - ETA: 9:20:50 - loss: 0.6199 - mae: 0.25 - ETA: 9:18:27 - loss: 0.6123 - mae: 0.25 - ETA: 9:16:09 - loss: 0.6069 - mae: 0.25 - ETA: 9:13:54 - loss: 0.6045 - mae: 0.26 - ETA: 9:11:33 - loss: 0.6046 - mae: 0.26 - ETA: 9:09:27 - loss: 0.5975 - mae: 0.25 - ETA: 9:07:18 - loss: 0.5969 - mae: 0.25 - ETA: 9:05:12 - loss: 0.5970 - mae: 0.25 - ETA: 9:03:01 - loss: 0.5952 - mae: 0.25 - ETA: 9:00:57 - loss: 0.5995 - mae: 0.26 - ETA: 8:58:48 - loss: 0.6091 - mae: 0.26 - ETA: 8:56:36 - loss: 0.6169 - mae: 0.27 - ETA: 8:54:34 - loss: 0.6298 - mae: 0.28 - ETA: 8:52:24 - loss: 0.6310 - mae: 0.28 - ETA: 8:50:15 - loss: 0.6316 - mae: 0.28 - ETA: 8:48:12 - loss: 0.6348 - mae: 0.28 - ETA: 8:46:05 - loss: 0.6394 - mae: 0.29 - ETA: 8:43:56 - loss: 0.6432 - mae: 0.29 - ETA: 8:41:52 - loss: 0.6467 - mae: 0.30 - ETA: 8:39:49 - loss: 0.6489 - mae: 0.30 - ETA: 8:37:50 - loss: 0.6543 - mae: 0.31 - ETA: 8:35:47 - loss: 0.6592 - mae: 0.31 - ETA: 8:33:41 - loss: 0.6666 - mae: 0.32 - ETA: 8:31:35 - loss: 0.6774 - mae: 0.32 - ETA: 8:29:31 - loss: 0.6856 - mae: 0.33 - ETA: 8:27:30 - loss: 0.6933 - mae: 0.34 - ETA: 8:25:27 - loss: 0.7018 - mae: 0.34 - ETA: 8:23:24 - loss: 0.7084 - mae: 0.35 - ETA: 8:21:21 - loss: 0.7127 - mae: 0.35 - ETA: 8:19:15 - loss: 0.7252 - mae: 0.36 - ETA: 8:17:18 - loss: 0.7320 - mae: 0.37 - ETA: 8:15:19 - loss: 0.7374 - mae: 0.37 - ETA: 8:13:18 - loss: 0.7454 - mae: 0.38 - ETA: 8:11:14 - loss: 0.7479 - mae: 0.38 - ETA: 8:09:12 - loss: 0.7597 - mae: 0.39 - ETA: 8:07:11 - loss: 0.7676 - mae: 0.40 - ETA: 8:05:12 - loss: 0.7701 - mae: 0.40 - ETA: 8:03:14 - loss: 0.7726 - mae: 0.40 - ETA: 8:01:13 - loss: 0.7782 - mae: 0.41 - ETA: 7:59:10 - loss: 0.7857 - mae: 0.41 - ETA: 7:57:09 - loss: 0.7932 - mae: 0.42 - ETA: 7:55:07 - loss: 0.8044 - mae: 0.43 - ETA: 7:53:06 - loss: 0.8110 - mae: 0.43 - ETA: 7:51:08 - loss: 0.8254 - mae: 0.44 - ETA: 7:49:07 - loss: 0.8351 - mae: 0.45 - ETA: 7:47:06 - loss: 0.8468 - mae: 0.46 - ETA: 7:45:07 - loss: 0.8536 - mae: 0.47 - ETA: 7:43:05 - loss: 0.8574 - mae: 0.47 - ETA: 7:41:05 - loss: 0.8617 - mae: 0.47 - ETA: 7:39:05 - loss: 0.8663 - mae: 0.48 - ETA: 7:37:05 - loss: 0.8720 - mae: 0.48 - ETA: 7:35:08 - loss: 0.8783 - mae: 0.49 - ETA: 7:33:11 - loss: 0.8848 - mae: 0.49 - ETA: 7:31:54 - loss: 0.8905 - mae: 0.50 - ETA: 7:29:54 - loss: 0.8918 - mae: 0.50 - ETA: 7:27:53 - loss: 0.8972 - mae: 0.50 - ETA: 7:25:51 - loss: 0.9026 - mae: 0.51 - ETA: 7:23:50 - loss: 0.9085 - mae: 0.51 - ETA: 7:21:50 - loss: 0.9145 - mae: 0.52 - ETA: 7:19:48 - loss: 0.9187 - mae: 0.52 - ETA: 7:17:48 - loss: 0.9223 - mae: 0.52 - ETA: 7:15:47 - loss: 0.9254 - mae: 0.53 - ETA: 7:13:46 - loss: 0.9284 - mae: 0.53 - ETA: 7:11:44 - loss: 0.9319 - mae: 0.53 - ETA: 7:09:53 - loss: 0.9346 - mae: 0.53 - ETA: 7:07:58 - loss: 0.9407 - mae: 0.53 - ETA: 7:06:03 - loss: 0.9463 - mae: 0.54 - ETA: 7:04:09 - loss: 0.9446 - mae: 0.53 - ETA: 7:02:11 - loss: 0.9464 - mae: 0.54 - ETA: 7:00:09 - loss: 0.9460 - mae: 0.53 - ETA: 6:58:10 - loss: 0.9471 - mae: 0.54 - ETA: 6:56:09 - loss: 0.9477 - mae: 0.53 - ETA: 6:54:12 - loss: 0.9454 - mae: 0.53 - ETA: 6:52:11 - loss: 0.9429 - mae: 0.53 - ETA: 6:50:08 - loss: 0.9406 - mae: 0.53 - ETA: 6:48:07 - loss: 0.9384 - mae: 0.53 - ETA: 6:46:06 - loss: 0.9358 - mae: 0.53 - ETA: 6:44:05 - loss: 0.9358 - mae: 0.53 - ETA: 6:42:05 - loss: 0.9342 - mae: 0.52 - ETA: 6:40:04 - loss: 0.9354 - mae: 0.53 - ETA: 6:38:04 - loss: 0.9364 - mae: 0.53 - ETA: 6:36:04 - loss: 0.9400 - mae: 0.53 - ETA: 6:34:03 - loss: 0.9372 - mae: 0.53 - ETA: 6:32:03 - loss: 0.9361 - mae: 0.52 - ETA: 6:30:04 - loss: 0.9340 - mae: 0.52 - ETA: 6:28:04 - loss: 0.9335 - mae: 0.52 - ETA: 6:26:01 - loss: 0.9340 - mae: 0.52 - ETA: 6:24:01 - loss: 0.9321 - mae: 0.52 - ETA: 6:22:01 - loss: 0.9301 - mae: 0.52 - ETA: 6:19:59 - loss: 0.9277 - mae: 0.52 - ETA: 6:18:00 - loss: 0.9259 - mae: 0.52 - ETA: 6:16:00 - loss: 0.9255 - mae: 0.51 - ETA: 6:14:00 - loss: 0.9248 - mae: 0.51 - ETA: 6:12:01 - loss: 0.9226 - mae: 0.51 - ETA: 6:10:01 - loss: 0.9208 - mae: 0.51 - ETA: 6:08:01 - loss: 0.9185 - mae: 0.51 - ETA: 6:06:02 - loss: 0.9152 - mae: 0.51 - ETA: 6:04:02 - loss: 0.9115 - mae: 0.50 - ETA: 6:02:03 - loss: 0.9092 - mae: 0.50 - ETA: 6:00:02 - loss: 0.9070 - mae: 0.50 - ETA: 5:58:01 - loss: 0.9050 - mae: 0.50 - ETA: 5:56:02 - loss: 0.9029 - mae: 0.50 - ETA: 5:54:01 - loss: 0.9008 - mae: 0.50 - ETA: 5:52:01 - loss: 0.9006 - mae: 0.50 - ETA: 5:50:01 - loss: 0.8993 - mae: 0.50 - ETA: 5:48:00 - loss: 0.8967 - mae: 0.49 - ETA: 5:46:00 - loss: 0.8947 - mae: 0.49 - ETA: 5:43:59 - loss: 0.8920 - mae: 0.49 - ETA: 5:42:00 - loss: 0.8889 - mae: 0.49 - ETA: 5:40:00 - loss: 0.8864 - mae: 0.49 - ETA: 5:38:00 - loss: 0.8841 - mae: 0.48 - ETA: 5:36:00 - loss: 0.8835 - mae: 0.48 - ETA: 5:34:01 - loss: 0.8817 - mae: 0.48 - ETA: 5:32:01 - loss: 0.8817 - mae: 0.48 - ETA: 5:30:01 - loss: 0.8810 - mae: 0.48 - ETA: 5:28:01 - loss: 0.8813 - mae: 0.48 - ETA: 5:26:01 - loss: 0.8800 - mae: 0.48 - ETA: 5:24:00 - loss: 0.8786 - mae: 0.48 - ETA: 5:22:01 - loss: 0.8769 - mae: 0.48 - ETA: 5:20:01 - loss: 0.8765 - mae: 0.48 - ETA: 5:18:01 - loss: 0.8763 - mae: 0.48 - ETA: 5:16:01 - loss: 0.8779 - mae: 0.48 - ETA: 5:14:02 - loss: 0.8775 - mae: 0.48 - ETA: 5:12:03 - loss: 0.8782 - mae: 0.48 - ETA: 5:10:03 - loss: 0.8793 - mae: 0.48 - ETA: 5:08:03 - loss: 0.8795 - mae: 0.48 - ETA: 5:06:04 - loss: 0.8787 - mae: 0.48 - ETA: 5:04:04 - loss: 0.8794 - mae: 0.48 - ETA: 5:02:05 - loss: 0.8798 - mae: 0.48 - ETA: 5:00:05 - loss: 0.8819 - mae: 0.49 - ETA: 4:58:06 - loss: 0.8814 - mae: 0.49 - ETA: 4:56:07 - loss: 0.8823 - mae: 0.49 - ETA: 4:54:07 - loss: 0.8837 - mae: 0.49 - ETA: 4:52:07 - loss: 0.8845 - mae: 0.49 - ETA: 4:50:07 - loss: 0.8855 - mae: 0.49 - ETA: 4:48:08 - loss: 0.8868 - mae: 0.49 - ETA: 4:46:08 - loss: 0.8886 - mae: 0.49 - ETA: 4:44:09 - loss: 0.8922 - mae: 0.50 - ETA: 4:42:09 - loss: 0.8935 - mae: 0.50 - ETA: 4:40:09 - loss: 0.8965 - mae: 0.50 - ETA: 4:38:10 - loss: 0.8988 - mae: 0.50 - ETA: 4:36:11 - loss: 0.8997 - mae: 0.50 - ETA: 4:34:12 - loss: 0.8999 - mae: 0.50 - ETA: 4:32:12 - loss: 0.8999 - mae: 0.50 - ETA: 4:30:13 - loss: 0.9005 - mae: 0.50 - ETA: 4:28:14 - loss: 0.9019 - mae: 0.50 - ETA: 4:26:14 - loss: 0.9037 - mae: 0.50 - ETA: 4:24:15 - loss: 0.9069 - mae: 0.51 - ETA: 4:22:16 - loss: 0.9097 - mae: 0.51 - ETA: 4:20:16 - loss: 0.9112 - mae: 0.51 - ETA: 4:18:16 - loss: 0.9111 - mae: 0.51 - ETA: 4:16:17 - loss: 0.9128 - mae: 0.51 - ETA: 4:14:17 - loss: 0.9143 - mae: 0.51 - ETA: 4:12:18 - loss: 0.9140 - mae: 0.51 - ETA: 4:10:19 - loss: 0.9137 - mae: 0.51 - ETA: 4:08:19 - loss: 0.9136 - mae: 0.51 - ETA: 4:06:20 - loss: 0.9137 - mae: 0.51 - ETA: 4:04:21 - loss: 0.9147 - mae: 0.51 - ETA: 4:02:22 - loss: 0.9164 - mae: 0.51 - ETA: 4:00:22 - loss: 0.9195 - mae: 0.52 - ETA: 3:58:23 - loss: 0.9211 - mae: 0.52 - ETA: 3:56:23 - loss: 0.9260 - mae: 0.52 - ETA: 3:54:24 - loss: 0.9252 - mae: 0.52 - ETA: 3:52:25 - loss: 0.9255 - mae: 0.52 - ETA: 3:50:25 - loss: 0.9251 - mae: 0.52 - ETA: 3:48:26 - loss: 0.9251 - mae: 0.52 - ETA: 3:46:27 - loss: 0.9260 - mae: 0.52 - ETA: 3:44:28 - loss: 0.9258 - mae: 0.52 - ETA: 3:42:28 - loss: 0.9261 - mae: 0.52 - ETA: 3:40:29 - loss: 0.9255 - mae: 0.52 - ETA: 3:38:29 - loss: 0.9250 - mae: 0.52 - ETA: 3:36:30 - loss: 0.9239 - mae: 0.52 - ETA: 3:34:31 - loss: 0.9233 - mae: 0.52 - ETA: 3:32:31 - loss: 0.9222 - mae: 0.52 - ETA: 3:30:32 - loss: 0.9231 - mae: 0.52 - ETA: 3:28:32 - loss: 0.9237 - mae: 0.5256"
     ]
    },
    {
     "name": "stdout",
     "output_type": "stream",
     "text": [
      "298/299 [============================>.] - ETA: 3:26:32 - loss: 0.9231 - mae: 0.52 - ETA: 3:24:33 - loss: 0.9226 - mae: 0.52 - ETA: 3:22:33 - loss: 0.9210 - mae: 0.52 - ETA: 3:20:35 - loss: 0.9199 - mae: 0.52 - ETA: 3:18:35 - loss: 0.9193 - mae: 0.52 - ETA: 3:16:36 - loss: 0.9184 - mae: 0.52 - ETA: 3:14:37 - loss: 0.9175 - mae: 0.52 - ETA: 3:12:37 - loss: 0.9169 - mae: 0.52 - ETA: 3:10:38 - loss: 0.9168 - mae: 0.52 - ETA: 3:08:38 - loss: 0.9153 - mae: 0.51 - ETA: 3:06:39 - loss: 0.9144 - mae: 0.51 - ETA: 3:04:40 - loss: 0.9136 - mae: 0.51 - ETA: 3:02:41 - loss: 0.9130 - mae: 0.51 - ETA: 3:00:42 - loss: 0.9128 - mae: 0.51 - ETA: 2:58:42 - loss: 0.9118 - mae: 0.51 - ETA: 2:56:43 - loss: 0.9106 - mae: 0.51 - ETA: 2:54:44 - loss: 0.9095 - mae: 0.51 - ETA: 2:52:45 - loss: 0.9083 - mae: 0.51 - ETA: 2:50:45 - loss: 0.9064 - mae: 0.51 - ETA: 2:48:46 - loss: 0.9049 - mae: 0.51 - ETA: 2:46:47 - loss: 0.9033 - mae: 0.51 - ETA: 2:44:47 - loss: 0.9034 - mae: 0.51 - ETA: 2:42:48 - loss: 0.9027 - mae: 0.50 - ETA: 2:40:49 - loss: 0.9009 - mae: 0.50 - ETA: 2:38:50 - loss: 0.9004 - mae: 0.50 - ETA: 2:36:51 - loss: 0.8998 - mae: 0.50 - ETA: 2:34:52 - loss: 0.8985 - mae: 0.50 - ETA: 2:32:53 - loss: 0.8983 - mae: 0.50 - ETA: 2:30:54 - loss: 0.8972 - mae: 0.50 - ETA: 2:28:54 - loss: 0.8954 - mae: 0.50 - ETA: 2:26:55 - loss: 0.8942 - mae: 0.50 - ETA: 2:24:56 - loss: 0.8928 - mae: 0.50 - ETA: 2:22:57 - loss: 0.8922 - mae: 0.50 - ETA: 2:20:58 - loss: 0.8910 - mae: 0.50 - ETA: 2:18:58 - loss: 0.8909 - mae: 0.50 - ETA: 2:16:59 - loss: 0.8898 - mae: 0.50 - ETA: 2:15:00 - loss: 0.8892 - mae: 0.50 - ETA: 2:13:01 - loss: 0.8891 - mae: 0.50 - ETA: 2:11:01 - loss: 0.8893 - mae: 0.50 - ETA: 2:09:02 - loss: 0.8891 - mae: 0.50 - ETA: 2:07:03 - loss: 0.8879 - mae: 0.50 - ETA: 2:05:04 - loss: 0.8874 - mae: 0.49 - ETA: 2:03:05 - loss: 0.8871 - mae: 0.49 - ETA: 2:01:05 - loss: 0.8859 - mae: 0.49 - ETA: 1:59:06 - loss: 0.8872 - mae: 0.50 - ETA: 1:57:07 - loss: 0.8875 - mae: 0.50 - ETA: 1:55:08 - loss: 0.8880 - mae: 0.50 - ETA: 1:53:08 - loss: 0.8897 - mae: 0.50 - ETA: 1:51:09 - loss: 0.8916 - mae: 0.50 - ETA: 1:49:10 - loss: 0.8932 - mae: 0.50 - ETA: 1:47:11 - loss: 0.8928 - mae: 0.50 - ETA: 1:45:12 - loss: 0.8932 - mae: 0.50 - ETA: 1:43:13 - loss: 0.8931 - mae: 0.50 - ETA: 1:41:14 - loss: 0.8937 - mae: 0.50 - ETA: 1:39:14 - loss: 0.8948 - mae: 0.50 - ETA: 1:37:15 - loss: 0.8970 - mae: 0.50 - ETA: 1:35:16 - loss: 0.8985 - mae: 0.51 - ETA: 1:33:17 - loss: 0.9014 - mae: 0.51 - ETA: 1:31:18 - loss: 0.9031 - mae: 0.51 - ETA: 1:29:19 - loss: 0.9047 - mae: 0.51 - ETA: 1:27:20 - loss: 0.9062 - mae: 0.51 - ETA: 1:25:23 - loss: 0.9082 - mae: 0.51 - ETA: 1:23:24 - loss: 0.9098 - mae: 0.52 - ETA: 1:21:25 - loss: 0.9108 - mae: 0.52 - ETA: 1:19:26 - loss: 0.9125 - mae: 0.52 - ETA: 1:17:26 - loss: 0.9130 - mae: 0.52 - ETA: 1:15:27 - loss: 0.9151 - mae: 0.52 - ETA: 1:13:28 - loss: 0.9169 - mae: 0.52 - ETA: 1:11:29 - loss: 0.9196 - mae: 0.52 - ETA: 1:09:30 - loss: 0.9214 - mae: 0.53 - ETA: 1:07:31 - loss: 0.9226 - mae: 0.53 - ETA: 1:05:31 - loss: 0.9238 - mae: 0.53 - ETA: 1:03:32 - loss: 0.9238 - mae: 0.53 - ETA: 1:01:33 - loss: 0.9245 - mae: 0.53 - ETA: 59:34 - loss: 0.9256 - mae: 0.5349 - ETA: 57:35 - loss: 0.9254 - mae: 0.53 - ETA: 55:35 - loss: 0.9253 - mae: 0.53 - ETA: 53:36 - loss: 0.9246 - mae: 0.53 - ETA: 51:37 - loss: 0.9252 - mae: 0.53 - ETA: 49:38 - loss: 0.9246 - mae: 0.53 - ETA: 47:39 - loss: 0.9238 - mae: 0.53 - ETA: 45:40 - loss: 0.9231 - mae: 0.53 - ETA: 43:40 - loss: 0.9225 - mae: 0.53 - ETA: 41:41 - loss: 0.9223 - mae: 0.53 - ETA: 39:42 - loss: 0.9221 - mae: 0.53 - ETA: 37:43 - loss: 0.9226 - mae: 0.53 - ETA: 35:44 - loss: 0.9224 - mae: 0.53 - ETA: 33:45 - loss: 0.9219 - mae: 0.53 - ETA: 31:46 - loss: 0.9213 - mae: 0.53 - ETA: 29:46 - loss: 0.9206 - mae: 0.53 - ETA: 27:47 - loss: 0.9205 - mae: 0.53 - ETA: 25:48 - loss: 0.9202 - mae: 0.53 - ETA: 23:49 - loss: 0.9202 - mae: 0.53 - ETA: 21:50 - loss: 0.9204 - mae: 0.53 - ETA: 19:51 - loss: 0.9195 - mae: 0.52 - ETA: 17:52 - loss: 0.9187 - mae: 0.52 - ETA: 15:53 - loss: 0.9180 - mae: 0.52 - ETA: 13:53 - loss: 0.9172 - mae: 0.52 - ETA: 11:54 - loss: 0.9165 - mae: 0.52 - ETA: 9:55 - loss: 0.9160 - mae: 0.5263 - ETA: 7:56 - loss: 0.9154 - mae: 0.526 - ETA: 5:57 - loss: 0.9152 - mae: 0.525 - ETA: 3:58 - loss: 0.9151 - mae: 0.525 - ETA: 1:59 - loss: 0.9151 - mae: 0.5254\n",
      "Epoch 00004: saving model to ./checkpoint/ver_loss_new/v01_ep04-loss0.91481.ckpt\n",
      "299/299 [==============================] - 35526s 119s/step - loss: 0.9151 - mae: 0.5242\n",
      "Epoch 5/12\n"
     ]
    },
    {
     "name": "stdout",
     "output_type": "stream",
     "text": [
      "194/299 [==================>...........] - ETA: 11:55:53 - loss: 0.7691 - mae: 0.347 - ETA: 10:51:42 - loss: 0.6823 - mae: 0.300 - ETA: 10:28:36 - loss: 0.6619 - mae: 0.271 - ETA: 10:16:07 - loss: 0.6120 - mae: 0.257 - ETA: 10:07:38 - loss: 0.6093 - mae: 0.264 - ETA: 10:01:23 - loss: 0.5989 - mae: 0.262 - ETA: 9:56:57 - loss: 0.6170 - mae: 0.272 - ETA: 9:54:19 - loss: 0.6232 - mae: 0.27 - ETA: 9:52:51 - loss: 0.6237 - mae: 0.27 - ETA: 9:50:57 - loss: 0.6105 - mae: 0.26 - ETA: 9:49:23 - loss: 0.6094 - mae: 0.27 - ETA: 9:46:53 - loss: 0.6069 - mae: 0.27 - ETA: 9:44:45 - loss: 0.5994 - mae: 0.27 - ETA: 9:42:25 - loss: 0.5879 - mae: 0.26 - ETA: 9:40:23 - loss: 0.5802 - mae: 0.26 - ETA: 9:38:00 - loss: 0.5825 - mae: 0.25 - ETA: 9:35:33 - loss: 0.5785 - mae: 0.25 - ETA: 9:33:07 - loss: 0.5733 - mae: 0.25 - ETA: 9:30:41 - loss: 0.5672 - mae: 0.25 - ETA: 9:28:18 - loss: 0.5604 - mae: 0.25 - ETA: 9:26:02 - loss: 0.5558 - mae: 0.25 - ETA: 9:23:59 - loss: 0.5541 - mae: 0.25 - ETA: 9:21:52 - loss: 0.5537 - mae: 0.25 - ETA: 9:19:45 - loss: 0.5474 - mae: 0.25 - ETA: 9:18:45 - loss: 0.5467 - mae: 0.25 - ETA: 9:16:31 - loss: 0.5464 - mae: 0.25 - ETA: 9:14:17 - loss: 0.5447 - mae: 0.25 - ETA: 9:12:05 - loss: 0.5487 - mae: 0.25 - ETA: 9:09:50 - loss: 0.5581 - mae: 0.26 - ETA: 9:07:37 - loss: 0.5658 - mae: 0.26 - ETA: 9:05:26 - loss: 0.5780 - mae: 0.27 - ETA: 9:03:17 - loss: 0.5794 - mae: 0.27 - ETA: 9:01:06 - loss: 0.5803 - mae: 0.27 - ETA: 8:58:56 - loss: 0.5833 - mae: 0.28 - ETA: 8:56:46 - loss: 0.5878 - mae: 0.28 - ETA: 8:54:32 - loss: 0.5917 - mae: 0.29 - ETA: 8:52:25 - loss: 0.5951 - mae: 0.29 - ETA: 8:50:15 - loss: 0.5973 - mae: 0.29 - ETA: 8:48:05 - loss: 0.6027 - mae: 0.30 - ETA: 8:45:58 - loss: 0.6077 - mae: 0.30 - ETA: 8:43:49 - loss: 0.6151 - mae: 0.31 - ETA: 8:41:46 - loss: 0.6252 - mae: 0.32 - ETA: 8:39:41 - loss: 0.6336 - mae: 0.32 - ETA: 8:37:32 - loss: 0.6410 - mae: 0.33 - ETA: 8:35:26 - loss: 0.6495 - mae: 0.34 - ETA: 8:33:24 - loss: 0.6558 - mae: 0.34 - ETA: 8:31:20 - loss: 0.6603 - mae: 0.34 - ETA: 8:29:15 - loss: 0.6724 - mae: 0.35 - ETA: 8:27:15 - loss: 0.6795 - mae: 0.36 - ETA: 8:25:09 - loss: 0.6849 - mae: 0.36 - ETA: 8:23:10 - loss: 0.6932 - mae: 0.37 - ETA: 8:21:05 - loss: 0.6961 - mae: 0.37 - ETA: 8:18:59 - loss: 0.7082 - mae: 0.38 - ETA: 8:16:54 - loss: 0.7162 - mae: 0.39 - ETA: 8:14:48 - loss: 0.7189 - mae: 0.39 - ETA: 8:12:43 - loss: 0.7216 - mae: 0.39 - ETA: 8:10:39 - loss: 0.7273 - mae: 0.40 - ETA: 8:08:36 - loss: 0.7348 - mae: 0.40 - ETA: 8:06:32 - loss: 0.7420 - mae: 0.41 - ETA: 8:04:27 - loss: 0.7528 - mae: 0.42 - ETA: 8:02:24 - loss: 0.7593 - mae: 0.42 - ETA: 8:00:20 - loss: 0.7734 - mae: 0.44 - ETA: 7:58:16 - loss: 0.7830 - mae: 0.44 - ETA: 7:56:12 - loss: 0.7944 - mae: 0.45 - ETA: 7:54:08 - loss: 0.8011 - mae: 0.46 - ETA: 7:52:02 - loss: 0.8050 - mae: 0.46 - ETA: 7:49:59 - loss: 0.8091 - mae: 0.47 - ETA: 7:47:56 - loss: 0.8136 - mae: 0.47 - ETA: 7:45:53 - loss: 0.8194 - mae: 0.47 - ETA: 7:43:49 - loss: 0.8257 - mae: 0.48 - ETA: 7:41:46 - loss: 0.8323 - mae: 0.48 - ETA: 7:39:44 - loss: 0.8379 - mae: 0.49 - ETA: 7:37:41 - loss: 0.8394 - mae: 0.49 - ETA: 7:35:43 - loss: 0.8449 - mae: 0.49 - ETA: 7:33:39 - loss: 0.8504 - mae: 0.50 - ETA: 7:31:36 - loss: 0.8565 - mae: 0.50 - ETA: 7:29:33 - loss: 0.8623 - mae: 0.51 - ETA: 7:27:31 - loss: 0.8664 - mae: 0.51 - ETA: 7:25:40 - loss: 0.8700 - mae: 0.51 - ETA: 7:23:46 - loss: 0.8731 - mae: 0.52 - ETA: 7:21:55 - loss: 0.8760 - mae: 0.52 - ETA: 7:20:05 - loss: 0.8791 - mae: 0.52 - ETA: 7:18:14 - loss: 0.8814 - mae: 0.52 - ETA: 7:16:22 - loss: 0.8867 - mae: 0.52 - ETA: 7:14:33 - loss: 0.8921 - mae: 0.53 - ETA: 7:12:40 - loss: 0.8903 - mae: 0.53 - ETA: 7:10:43 - loss: 0.8918 - mae: 0.53 - ETA: 7:08:41 - loss: 0.8914 - mae: 0.53 - ETA: 7:06:40 - loss: 0.8925 - mae: 0.53 - ETA: 7:04:39 - loss: 0.8929 - mae: 0.53 - ETA: 7:02:38 - loss: 0.8907 - mae: 0.52 - ETA: 7:00:39 - loss: 0.8882 - mae: 0.52 - ETA: 6:58:40 - loss: 0.8862 - mae: 0.52 - ETA: 6:56:44 - loss: 0.8840 - mae: 0.52 - ETA: 6:54:49 - loss: 0.8816 - mae: 0.52 - ETA: 6:52:55 - loss: 0.8816 - mae: 0.52 - ETA: 6:50:56 - loss: 0.8801 - mae: 0.52 - ETA: 6:48:58 - loss: 0.8814 - mae: 0.52 - ETA: 6:47:01 - loss: 0.8822 - mae: 0.52 - ETA: 6:45:01 - loss: 0.8856 - mae: 0.52 - ETA: 6:43:03 - loss: 0.8828 - mae: 0.52 - ETA: 6:41:08 - loss: 0.8817 - mae: 0.52 - ETA: 6:39:07 - loss: 0.8796 - mae: 0.51 - ETA: 6:37:11 - loss: 0.8791 - mae: 0.51 - ETA: 6:35:16 - loss: 0.8796 - mae: 0.51 - ETA: 6:33:26 - loss: 0.8778 - mae: 0.51 - ETA: 6:31:31 - loss: 0.8758 - mae: 0.51 - ETA: 6:29:36 - loss: 0.8735 - mae: 0.51 - ETA: 6:27:41 - loss: 0.8717 - mae: 0.51 - ETA: 6:25:42 - loss: 0.8713 - mae: 0.51 - ETA: 6:23:40 - loss: 0.8705 - mae: 0.51 - ETA: 6:21:36 - loss: 0.8683 - mae: 0.50 - ETA: 6:19:35 - loss: 0.8664 - mae: 0.50 - ETA: 6:17:38 - loss: 0.8643 - mae: 0.50 - ETA: 6:15:39 - loss: 0.8612 - mae: 0.50 - ETA: 6:13:41 - loss: 0.8576 - mae: 0.50 - ETA: 6:11:42 - loss: 0.8555 - mae: 0.49 - ETA: 6:09:43 - loss: 0.8534 - mae: 0.49 - ETA: 6:07:45 - loss: 0.8515 - mae: 0.49 - ETA: 6:05:43 - loss: 0.8495 - mae: 0.49 - ETA: 6:03:39 - loss: 0.8475 - mae: 0.49 - ETA: 6:01:36 - loss: 0.8472 - mae: 0.49 - ETA: 5:59:33 - loss: 0.8459 - mae: 0.49 - ETA: 5:57:29 - loss: 0.8434 - mae: 0.49 - ETA: 5:55:29 - loss: 0.8414 - mae: 0.48 - ETA: 5:53:27 - loss: 0.8387 - mae: 0.48 - ETA: 5:51:23 - loss: 0.8357 - mae: 0.48 - ETA: 5:49:19 - loss: 0.8334 - mae: 0.48 - ETA: 5:47:15 - loss: 0.8312 - mae: 0.48 - ETA: 5:45:11 - loss: 0.8307 - mae: 0.48 - ETA: 5:43:09 - loss: 0.8289 - mae: 0.48 - ETA: 5:41:06 - loss: 0.8289 - mae: 0.47 - ETA: 5:39:03 - loss: 0.8281 - mae: 0.47 - ETA: 5:37:01 - loss: 0.8285 - mae: 0.47 - ETA: 5:34:58 - loss: 0.8273 - mae: 0.47 - ETA: 5:32:56 - loss: 0.8258 - mae: 0.47 - ETA: 5:31:11 - loss: 0.8242 - mae: 0.47 - ETA: 5:29:08 - loss: 0.8238 - mae: 0.47 - ETA: 5:27:04 - loss: 0.8235 - mae: 0.47 - ETA: 5:25:01 - loss: 0.8251 - mae: 0.47 - ETA: 5:22:57 - loss: 0.8248 - mae: 0.47 - ETA: 5:20:53 - loss: 0.8253 - mae: 0.47 - ETA: 5:18:48 - loss: 0.8264 - mae: 0.47 - ETA: 5:16:44 - loss: 0.8265 - mae: 0.47 - ETA: 5:14:41 - loss: 0.8258 - mae: 0.47 - ETA: 5:12:36 - loss: 0.8266 - mae: 0.48 - ETA: 5:10:32 - loss: 0.8271 - mae: 0.48 - ETA: 5:08:28 - loss: 0.8293 - mae: 0.48 - ETA: 5:06:23 - loss: 0.8289 - mae: 0.48 - ETA: 5:04:19 - loss: 0.8299 - mae: 0.48 - ETA: 5:02:14 - loss: 0.8314 - mae: 0.48 - ETA: 5:00:11 - loss: 0.8323 - mae: 0.48 - ETA: 4:58:07 - loss: 0.8334 - mae: 0.48 - ETA: 4:56:03 - loss: 0.8349 - mae: 0.48 - ETA: 4:53:59 - loss: 0.8367 - mae: 0.48 - ETA: 4:51:55 - loss: 0.8403 - mae: 0.49 - ETA: 4:49:51 - loss: 0.8417 - mae: 0.49 - ETA: 4:47:47 - loss: 0.8447 - mae: 0.49 - ETA: 4:45:44 - loss: 0.8471 - mae: 0.49 - ETA: 4:43:41 - loss: 0.8480 - mae: 0.49 - ETA: 4:41:37 - loss: 0.8482 - mae: 0.49 - ETA: 4:39:33 - loss: 0.8482 - mae: 0.49 - ETA: 4:37:30 - loss: 0.8487 - mae: 0.49 - ETA: 4:35:26 - loss: 0.8503 - mae: 0.49 - ETA: 4:33:22 - loss: 0.8521 - mae: 0.50 - ETA: 4:31:19 - loss: 0.8553 - mae: 0.50 - ETA: 4:29:15 - loss: 0.8581 - mae: 0.50 - ETA: 4:27:12 - loss: 0.8596 - mae: 0.50 - ETA: 4:25:08 - loss: 0.8595 - mae: 0.50 - ETA: 4:23:05 - loss: 0.8612 - mae: 0.50 - ETA: 4:21:02 - loss: 0.8627 - mae: 0.50 - ETA: 4:18:59 - loss: 0.8625 - mae: 0.50 - ETA: 4:16:56 - loss: 0.8622 - mae: 0.50 - ETA: 4:14:53 - loss: 0.8621 - mae: 0.50 - ETA: 4:12:50 - loss: 0.8623 - mae: 0.50 - ETA: 4:10:47 - loss: 0.8634 - mae: 0.51 - ETA: 4:08:44 - loss: 0.8651 - mae: 0.51 - ETA: 4:06:41 - loss: 0.8682 - mae: 0.51 - ETA: 4:04:38 - loss: 0.8697 - mae: 0.51 - ETA: 4:02:36 - loss: 0.8744 - mae: 0.51 - ETA: 4:00:33 - loss: 0.8736 - mae: 0.51 - ETA: 3:58:30 - loss: 0.8739 - mae: 0.51 - ETA: 3:56:27 - loss: 0.8736 - mae: 0.51 - ETA: 3:54:24 - loss: 0.8734 - mae: 0.51 - ETA: 3:52:21 - loss: 0.8743 - mae: 0.51 - ETA: 3:50:18 - loss: 0.8742 - mae: 0.51 - ETA: 3:48:15 - loss: 0.8745 - mae: 0.52 - ETA: 3:46:12 - loss: 0.8739 - mae: 0.51 - ETA: 3:44:10 - loss: 0.8733 - mae: 0.51 - ETA: 3:42:07 - loss: 0.8723 - mae: 0.51 - ETA: 3:40:04 - loss: 0.8716 - mae: 0.51 - ETA: 3:38:01 - loss: 0.8706 - mae: 0.51 - ETA: 3:35:59 - loss: 0.8715 - mae: 0.51 - ETA: 3:33:56 - loss: 0.8721 - mae: 0.5174298/299 [============================>.] - ETA: 3:31:54 - loss: 0.8715 - mae: 0.51 - ETA: 3:29:51 - loss: 0.8710 - mae: 0.51 - ETA: 3:27:48 - loss: 0.8694 - mae: 0.51 - ETA: 3:25:45 - loss: 0.8685 - mae: 0.51 - ETA: 3:23:42 - loss: 0.8678 - mae: 0.51 - ETA: 3:21:39 - loss: 0.8669 - mae: 0.51 - ETA: 3:19:37 - loss: 0.8660 - mae: 0.51 - ETA: 3:17:34 - loss: 0.8655 - mae: 0.51 - ETA: 3:15:31 - loss: 0.8654 - mae: 0.51 - ETA: 3:13:28 - loss: 0.8640 - mae: 0.51 - ETA: 3:11:26 - loss: 0.8631 - mae: 0.51 - ETA: 3:09:23 - loss: 0.8623 - mae: 0.50 - ETA: 3:07:20 - loss: 0.8618 - mae: 0.50 - ETA: 3:05:17 - loss: 0.8617 - mae: 0.50 - ETA: 3:03:15 - loss: 0.8607 - mae: 0.50 - ETA: 3:01:12 - loss: 0.8595 - mae: 0.50 - ETA: 2:59:09 - loss: 0.8585 - mae: 0.50 - ETA: 2:57:07 - loss: 0.8573 - mae: 0.50 - ETA: 2:55:04 - loss: 0.8556 - mae: 0.50 - ETA: 2:53:02 - loss: 0.8541 - mae: 0.50 - ETA: 2:50:59 - loss: 0.8526 - mae: 0.50 - ETA: 2:48:57 - loss: 0.8527 - mae: 0.50 - ETA: 2:46:54 - loss: 0.8519 - mae: 0.50 - ETA: 2:44:52 - loss: 0.8502 - mae: 0.50 - ETA: 2:42:50 - loss: 0.8497 - mae: 0.49 - ETA: 2:40:47 - loss: 0.8491 - mae: 0.49 - ETA: 2:38:45 - loss: 0.8479 - mae: 0.49 - ETA: 2:36:42 - loss: 0.8478 - mae: 0.49 - ETA: 2:34:40 - loss: 0.8467 - mae: 0.49 - ETA: 2:32:38 - loss: 0.8449 - mae: 0.49 - ETA: 2:30:35 - loss: 0.8438 - mae: 0.49 - ETA: 2:28:33 - loss: 0.8424 - mae: 0.49 - ETA: 2:26:31 - loss: 0.8419 - mae: 0.49 - ETA: 2:24:29 - loss: 0.8408 - mae: 0.49 - ETA: 2:22:26 - loss: 0.8407 - mae: 0.49 - ETA: 2:20:24 - loss: 0.8397 - mae: 0.49 - ETA: 2:18:22 - loss: 0.8392 - mae: 0.49 - ETA: 2:16:19 - loss: 0.8390 - mae: 0.49 - ETA: 2:14:17 - loss: 0.8393 - mae: 0.49 - ETA: 2:12:15 - loss: 0.8391 - mae: 0.49 - ETA: 2:10:12 - loss: 0.8380 - mae: 0.49 - ETA: 2:08:10 - loss: 0.8376 - mae: 0.49 - ETA: 2:06:08 - loss: 0.8372 - mae: 0.49 - ETA: 2:04:06 - loss: 0.8361 - mae: 0.49 - ETA: 2:02:04 - loss: 0.8374 - mae: 0.49 - ETA: 2:00:02 - loss: 0.8377 - mae: 0.49 - ETA: 1:58:00 - loss: 0.8383 - mae: 0.49 - ETA: 1:55:58 - loss: 0.8401 - mae: 0.49 - ETA: 1:53:56 - loss: 0.8419 - mae: 0.49 - ETA: 1:51:53 - loss: 0.8436 - mae: 0.49 - ETA: 1:49:51 - loss: 0.8433 - mae: 0.49 - ETA: 1:47:49 - loss: 0.8438 - mae: 0.49 - ETA: 1:45:47 - loss: 0.8438 - mae: 0.49 - ETA: 1:43:45 - loss: 0.8443 - mae: 0.49 - ETA: 1:41:43 - loss: 0.8454 - mae: 0.49 - ETA: 1:39:41 - loss: 0.8476 - mae: 0.50 - ETA: 1:37:39 - loss: 0.8491 - mae: 0.50 - ETA: 1:35:37 - loss: 0.8520 - mae: 0.50 - ETA: 1:33:34 - loss: 0.8537 - mae: 0.50 - ETA: 1:31:32 - loss: 0.8554 - mae: 0.50 - ETA: 1:29:30 - loss: 0.8570 - mae: 0.50 - ETA: 1:27:28 - loss: 0.8591 - mae: 0.51 - ETA: 1:25:26 - loss: 0.8608 - mae: 0.51 - ETA: 1:23:24 - loss: 0.8618 - mae: 0.51 - ETA: 1:21:22 - loss: 0.8635 - mae: 0.51 - ETA: 1:19:19 - loss: 0.8640 - mae: 0.51 - ETA: 1:17:17 - loss: 0.8661 - mae: 0.51 - ETA: 1:15:15 - loss: 0.8680 - mae: 0.51 - ETA: 1:13:13 - loss: 0.8707 - mae: 0.52 - ETA: 1:11:11 - loss: 0.8724 - mae: 0.52 - ETA: 1:09:09 - loss: 0.8736 - mae: 0.52 - ETA: 1:07:07 - loss: 0.8749 - mae: 0.52 - ETA: 1:05:04 - loss: 0.8750 - mae: 0.52 - ETA: 1:03:02 - loss: 0.8757 - mae: 0.52 - ETA: 1:01:00 - loss: 0.8769 - mae: 0.52 - ETA: 58:58 - loss: 0.8768 - mae: 0.5269 - ETA: 56:56 - loss: 0.8767 - mae: 0.52 - ETA: 54:54 - loss: 0.8760 - mae: 0.52 - ETA: 52:52 - loss: 0.8766 - mae: 0.52 - ETA: 50:50 - loss: 0.8761 - mae: 0.52 - ETA: 48:48 - loss: 0.8752 - mae: 0.52 - ETA: 46:46 - loss: 0.8746 - mae: 0.52 - ETA: 44:44 - loss: 0.8740 - mae: 0.52 - ETA: 42:42 - loss: 0.8738 - mae: 0.52 - ETA: 40:40 - loss: 0.8737 - mae: 0.52 - ETA: 38:38 - loss: 0.8741 - mae: 0.52 - ETA: 36:36 - loss: 0.8739 - mae: 0.52 - ETA: 34:34 - loss: 0.8733 - mae: 0.52 - ETA: 32:32 - loss: 0.8726 - mae: 0.52 - ETA: 30:30 - loss: 0.8720 - mae: 0.52 - ETA: 28:28 - loss: 0.8719 - mae: 0.52 - ETA: 26:26 - loss: 0.8716 - mae: 0.52 - ETA: 24:24 - loss: 0.8716 - mae: 0.52 - ETA: 22:22 - loss: 0.8718 - mae: 0.52 - ETA: 20:20 - loss: 0.8709 - mae: 0.52 - ETA: 18:18 - loss: 0.8700 - mae: 0.52 - ETA: 16:16 - loss: 0.8694 - mae: 0.52 - ETA: 14:14 - loss: 0.8687 - mae: 0.51 - ETA: 12:12 - loss: 0.8679 - mae: 0.51 - ETA: 10:10 - loss: 0.8674 - mae: 0.51 - ETA: 8:07 - loss: 0.8668 - mae: 0.5182 - ETA: 6:05 - loss: 0.8666 - mae: 0.518 - ETA: 4:03 - loss: 0.8666 - mae: 0.517 - ETA: 2:01 - loss: 0.8666 - mae: 0.5177\n",
      "Epoch 00005: saving model to ./checkpoint/ver_loss_new/v01_ep05-loss0.86633.ckpt\n",
      "299/299 [==============================] - 36382s 122s/step - loss: 0.8666 - mae: 0.5164\n",
      "Epoch 6/12\n"
     ]
    },
    {
     "name": "stdout",
     "output_type": "stream",
     "text": [
      "193/299 [==================>...........] - ETA: 23:12:45 - loss: 0.7293 - mae: 0.343 - ETA: 16:33:04 - loss: 0.6454 - mae: 0.297 - ETA: 14:19:13 - loss: 0.6183 - mae: 0.267 - ETA: 13:11:31 - loss: 0.5713 - mae: 0.253 - ETA: 12:30:56 - loss: 0.5672 - mae: 0.259 - ETA: 12:03:02 - loss: 0.5585 - mae: 0.258 - ETA: 11:42:51 - loss: 0.5762 - mae: 0.268 - ETA: 11:27:43 - loss: 0.5823 - mae: 0.273 - ETA: 11:14:48 - loss: 0.5817 - mae: 0.269 - ETA: 11:04:26 - loss: 0.5699 - mae: 0.265 - ETA: 10:56:10 - loss: 0.5704 - mae: 0.272 - ETA: 10:48:55 - loss: 0.5687 - mae: 0.272 - ETA: 10:42:12 - loss: 0.5616 - mae: 0.272 - ETA: 10:35:26 - loss: 0.5503 - mae: 0.265 - ETA: 10:29:32 - loss: 0.5423 - mae: 0.259 - ETA: 10:24:02 - loss: 0.5434 - mae: 0.254 - ETA: 10:18:58 - loss: 0.5397 - mae: 0.253 - ETA: 10:18:11 - loss: 0.5354 - mae: 0.252 - ETA: 10:13:13 - loss: 0.5297 - mae: 0.250 - ETA: 10:08:40 - loss: 0.5236 - mae: 0.247 - ETA: 10:04:14 - loss: 0.5195 - mae: 0.248 - ETA: 10:00:07 - loss: 0.5181 - mae: 0.251 - ETA: 9:56:15 - loss: 0.5176 - mae: 0.250 - ETA: 9:52:29 - loss: 0.5112 - mae: 0.24 - ETA: 9:48:51 - loss: 0.5102 - mae: 0.24 - ETA: 9:45:14 - loss: 0.5099 - mae: 0.24 - ETA: 9:41:49 - loss: 0.5082 - mae: 0.24 - ETA: 9:38:29 - loss: 0.5124 - mae: 0.25 - ETA: 9:35:15 - loss: 0.5217 - mae: 0.25 - ETA: 9:32:04 - loss: 0.5291 - mae: 0.26 - ETA: 9:28:59 - loss: 0.5409 - mae: 0.27 - ETA: 9:26:00 - loss: 0.5423 - mae: 0.27 - ETA: 9:23:05 - loss: 0.5434 - mae: 0.27 - ETA: 9:20:27 - loss: 0.5462 - mae: 0.27 - ETA: 9:18:03 - loss: 0.5507 - mae: 0.28 - ETA: 9:15:19 - loss: 0.5547 - mae: 0.28 - ETA: 9:12:46 - loss: 0.5584 - mae: 0.29 - ETA: 9:10:24 - loss: 0.5609 - mae: 0.29 - ETA: 9:08:11 - loss: 0.5662 - mae: 0.29 - ETA: 9:06:17 - loss: 0.5715 - mae: 0.30 - ETA: 9:04:25 - loss: 0.5789 - mae: 0.31 - ETA: 9:02:19 - loss: 0.5885 - mae: 0.31 - ETA: 9:00:09 - loss: 0.5966 - mae: 0.32 - ETA: 8:57:44 - loss: 0.6045 - mae: 0.32 - ETA: 8:55:18 - loss: 0.6130 - mae: 0.33 - ETA: 8:52:52 - loss: 0.6192 - mae: 0.34 - ETA: 8:50:30 - loss: 0.6240 - mae: 0.34 - ETA: 8:48:04 - loss: 0.6362 - mae: 0.35 - ETA: 8:45:41 - loss: 0.6434 - mae: 0.36 - ETA: 8:43:17 - loss: 0.6486 - mae: 0.36 - ETA: 8:40:53 - loss: 0.6569 - mae: 0.37 - ETA: 8:38:31 - loss: 0.6599 - mae: 0.37 - ETA: 8:36:09 - loss: 0.6722 - mae: 0.38 - ETA: 8:33:49 - loss: 0.6803 - mae: 0.38 - ETA: 8:31:30 - loss: 0.6831 - mae: 0.39 - ETA: 8:29:10 - loss: 0.6858 - mae: 0.39 - ETA: 8:26:51 - loss: 0.6917 - mae: 0.39 - ETA: 8:24:33 - loss: 0.6993 - mae: 0.40 - ETA: 8:22:14 - loss: 0.7064 - mae: 0.40 - ETA: 8:19:57 - loss: 0.7168 - mae: 0.41 - ETA: 8:17:40 - loss: 0.7232 - mae: 0.42 - ETA: 8:15:23 - loss: 0.7371 - mae: 0.43 - ETA: 8:13:07 - loss: 0.7466 - mae: 0.44 - ETA: 8:10:52 - loss: 0.7577 - mae: 0.45 - ETA: 8:08:36 - loss: 0.7643 - mae: 0.45 - ETA: 8:06:23 - loss: 0.7682 - mae: 0.46 - ETA: 8:04:10 - loss: 0.7721 - mae: 0.46 - ETA: 8:01:55 - loss: 0.7765 - mae: 0.46 - ETA: 7:59:42 - loss: 0.7824 - mae: 0.47 - ETA: 7:57:29 - loss: 0.7886 - mae: 0.47 - ETA: 7:55:16 - loss: 0.7952 - mae: 0.48 - ETA: 7:53:04 - loss: 0.8008 - mae: 0.48 - ETA: 7:50:52 - loss: 0.8023 - mae: 0.48 - ETA: 7:48:39 - loss: 0.8077 - mae: 0.49 - ETA: 7:46:26 - loss: 0.8133 - mae: 0.49 - ETA: 7:44:13 - loss: 0.8191 - mae: 0.50 - ETA: 7:42:02 - loss: 0.8249 - mae: 0.50 - ETA: 7:39:51 - loss: 0.8288 - mae: 0.50 - ETA: 7:37:40 - loss: 0.8324 - mae: 0.51 - ETA: 7:35:29 - loss: 0.8354 - mae: 0.51 - ETA: 7:33:18 - loss: 0.8381 - mae: 0.51 - ETA: 7:31:08 - loss: 0.8409 - mae: 0.51 - ETA: 7:28:58 - loss: 0.8428 - mae: 0.51 - ETA: 7:26:48 - loss: 0.8477 - mae: 0.52 - ETA: 7:24:37 - loss: 0.8527 - mae: 0.52 - ETA: 7:22:28 - loss: 0.8509 - mae: 0.52 - ETA: 7:20:17 - loss: 0.8523 - mae: 0.52 - ETA: 7:18:07 - loss: 0.8518 - mae: 0.52 - ETA: 7:15:58 - loss: 0.8528 - mae: 0.52 - ETA: 7:13:49 - loss: 0.8531 - mae: 0.52 - ETA: 7:11:40 - loss: 0.8510 - mae: 0.52 - ETA: 7:09:30 - loss: 0.8486 - mae: 0.52 - ETA: 7:07:22 - loss: 0.8466 - mae: 0.51 - ETA: 7:05:13 - loss: 0.8446 - mae: 0.51 - ETA: 7:03:04 - loss: 0.8424 - mae: 0.51 - ETA: 7:00:56 - loss: 0.8423 - mae: 0.51 - ETA: 6:58:48 - loss: 0.8407 - mae: 0.51 - ETA: 6:56:40 - loss: 0.8420 - mae: 0.51 - ETA: 6:54:32 - loss: 0.8428 - mae: 0.51 - ETA: 6:52:24 - loss: 0.8460 - mae: 0.51 - ETA: 6:50:17 - loss: 0.8432 - mae: 0.51 - ETA: 6:48:09 - loss: 0.8422 - mae: 0.51 - ETA: 6:46:01 - loss: 0.8402 - mae: 0.51 - ETA: 6:43:54 - loss: 0.8398 - mae: 0.51 - ETA: 6:41:46 - loss: 0.8402 - mae: 0.51 - ETA: 6:39:39 - loss: 0.8384 - mae: 0.51 - ETA: 6:37:31 - loss: 0.8365 - mae: 0.50 - ETA: 6:35:24 - loss: 0.8342 - mae: 0.50 - ETA: 6:33:17 - loss: 0.8324 - mae: 0.50 - ETA: 6:31:10 - loss: 0.8320 - mae: 0.50 - ETA: 6:29:03 - loss: 0.8312 - mae: 0.50 - ETA: 6:26:57 - loss: 0.8290 - mae: 0.50 - ETA: 6:24:50 - loss: 0.8271 - mae: 0.49 - ETA: 6:22:43 - loss: 0.8250 - mae: 0.49 - ETA: 6:20:37 - loss: 0.8220 - mae: 0.49 - ETA: 6:18:30 - loss: 0.8186 - mae: 0.49 - ETA: 6:16:23 - loss: 0.8165 - mae: 0.49 - ETA: 6:14:17 - loss: 0.8146 - mae: 0.49 - ETA: 6:12:10 - loss: 0.8127 - mae: 0.49 - ETA: 6:10:04 - loss: 0.8109 - mae: 0.48 - ETA: 6:07:58 - loss: 0.8090 - mae: 0.48 - ETA: 6:05:51 - loss: 0.8085 - mae: 0.48 - ETA: 6:03:45 - loss: 0.8073 - mae: 0.48 - ETA: 6:01:39 - loss: 0.8049 - mae: 0.48 - ETA: 5:59:33 - loss: 0.8029 - mae: 0.48 - ETA: 5:57:28 - loss: 0.8003 - mae: 0.48 - ETA: 5:55:22 - loss: 0.7974 - mae: 0.47 - ETA: 5:53:16 - loss: 0.7951 - mae: 0.47 - ETA: 5:51:10 - loss: 0.7928 - mae: 0.47 - ETA: 5:49:05 - loss: 0.7922 - mae: 0.47 - ETA: 5:47:00 - loss: 0.7905 - mae: 0.47 - ETA: 5:44:54 - loss: 0.7903 - mae: 0.47 - ETA: 5:42:48 - loss: 0.7895 - mae: 0.47 - ETA: 5:40:43 - loss: 0.7899 - mae: 0.47 - ETA: 5:38:37 - loss: 0.7887 - mae: 0.47 - ETA: 5:36:32 - loss: 0.7873 - mae: 0.47 - ETA: 5:34:26 - loss: 0.7857 - mae: 0.47 - ETA: 5:32:21 - loss: 0.7854 - mae: 0.47 - ETA: 5:30:16 - loss: 0.7850 - mae: 0.47 - ETA: 5:28:11 - loss: 0.7865 - mae: 0.47 - ETA: 5:26:05 - loss: 0.7863 - mae: 0.47 - ETA: 5:24:01 - loss: 0.7868 - mae: 0.47 - ETA: 5:21:55 - loss: 0.7879 - mae: 0.47 - ETA: 5:19:50 - loss: 0.7881 - mae: 0.47 - ETA: 5:17:45 - loss: 0.7876 - mae: 0.47 - ETA: 5:15:40 - loss: 0.7884 - mae: 0.47 - ETA: 5:13:35 - loss: 0.7889 - mae: 0.47 - ETA: 5:11:30 - loss: 0.7911 - mae: 0.47 - ETA: 5:09:25 - loss: 0.7907 - mae: 0.47 - ETA: 5:07:20 - loss: 0.7916 - mae: 0.47 - ETA: 5:05:15 - loss: 0.7932 - mae: 0.47 - ETA: 5:03:10 - loss: 0.7941 - mae: 0.47 - ETA: 5:01:06 - loss: 0.7953 - mae: 0.48 - ETA: 4:59:01 - loss: 0.7967 - mae: 0.48 - ETA: 4:56:56 - loss: 0.7986 - mae: 0.48 - ETA: 4:54:52 - loss: 0.8022 - mae: 0.48 - ETA: 4:52:47 - loss: 0.8036 - mae: 0.48 - ETA: 4:50:42 - loss: 0.8067 - mae: 0.48 - ETA: 4:48:37 - loss: 0.8090 - mae: 0.49 - ETA: 4:46:33 - loss: 0.8100 - mae: 0.49 - ETA: 4:44:28 - loss: 0.8102 - mae: 0.49 - ETA: 4:42:23 - loss: 0.8102 - mae: 0.49 - ETA: 4:40:19 - loss: 0.8108 - mae: 0.49 - ETA: 4:38:14 - loss: 0.8124 - mae: 0.49 - ETA: 4:36:10 - loss: 0.8141 - mae: 0.49 - ETA: 4:34:05 - loss: 0.8173 - mae: 0.49 - ETA: 4:32:01 - loss: 0.8200 - mae: 0.49 - ETA: 4:29:56 - loss: 0.8215 - mae: 0.50 - ETA: 4:27:52 - loss: 0.8214 - mae: 0.50 - ETA: 4:25:48 - loss: 0.8231 - mae: 0.50 - ETA: 4:23:43 - loss: 0.8247 - mae: 0.50 - ETA: 4:21:39 - loss: 0.8245 - mae: 0.50 - ETA: 4:19:35 - loss: 0.8242 - mae: 0.50 - ETA: 4:17:31 - loss: 0.8241 - mae: 0.50 - ETA: 4:15:26 - loss: 0.8243 - mae: 0.50 - ETA: 4:13:22 - loss: 0.8253 - mae: 0.50 - ETA: 4:11:18 - loss: 0.8270 - mae: 0.50 - ETA: 4:09:14 - loss: 0.8300 - mae: 0.50 - ETA: 4:07:09 - loss: 0.8315 - mae: 0.50 - ETA: 4:05:05 - loss: 0.8360 - mae: 0.51 - ETA: 4:03:01 - loss: 0.8352 - mae: 0.51 - ETA: 4:00:57 - loss: 0.8355 - mae: 0.51 - ETA: 3:58:52 - loss: 0.8352 - mae: 0.51 - ETA: 3:56:48 - loss: 0.8351 - mae: 0.51 - ETA: 3:54:44 - loss: 0.8360 - mae: 0.51 - ETA: 3:52:40 - loss: 0.8358 - mae: 0.51 - ETA: 3:50:36 - loss: 0.8361 - mae: 0.51 - ETA: 3:48:32 - loss: 0.8355 - mae: 0.51 - ETA: 3:46:28 - loss: 0.8349 - mae: 0.51 - ETA: 3:44:24 - loss: 0.8340 - mae: 0.51 - ETA: 3:42:20 - loss: 0.8333 - mae: 0.51 - ETA: 3:40:16 - loss: 0.8323 - mae: 0.50 - ETA: 3:38:12 - loss: 0.8331 - mae: 0.5103"
     ]
    },
    {
     "name": "stdout",
     "output_type": "stream",
     "text": [
      "298/299 [============================>.] - ETA: 3:36:08 - loss: 0.8339 - mae: 0.51 - ETA: 3:34:04 - loss: 0.8333 - mae: 0.51 - ETA: 3:32:08 - loss: 0.8328 - mae: 0.50 - ETA: 3:30:04 - loss: 0.8313 - mae: 0.50 - ETA: 3:28:00 - loss: 0.8304 - mae: 0.50 - ETA: 3:25:56 - loss: 0.8296 - mae: 0.50 - ETA: 3:23:52 - loss: 0.8287 - mae: 0.50 - ETA: 3:21:48 - loss: 0.8279 - mae: 0.50 - ETA: 3:19:44 - loss: 0.8274 - mae: 0.50 - ETA: 3:17:40 - loss: 0.8274 - mae: 0.50 - ETA: 3:15:36 - loss: 0.8260 - mae: 0.50 - ETA: 3:13:32 - loss: 0.8252 - mae: 0.50 - ETA: 3:11:28 - loss: 0.8244 - mae: 0.50 - ETA: 3:09:24 - loss: 0.8240 - mae: 0.50 - ETA: 3:07:20 - loss: 0.8239 - mae: 0.50 - ETA: 3:05:16 - loss: 0.8230 - mae: 0.50 - ETA: 3:03:11 - loss: 0.8218 - mae: 0.50 - ETA: 3:01:07 - loss: 0.8209 - mae: 0.50 - ETA: 2:59:02 - loss: 0.8198 - mae: 0.49 - ETA: 2:56:57 - loss: 0.8182 - mae: 0.49 - ETA: 2:54:53 - loss: 0.8166 - mae: 0.49 - ETA: 2:52:48 - loss: 0.8152 - mae: 0.49 - ETA: 2:50:44 - loss: 0.8152 - mae: 0.49 - ETA: 2:48:39 - loss: 0.8145 - mae: 0.49 - ETA: 2:46:35 - loss: 0.8128 - mae: 0.49 - ETA: 2:44:30 - loss: 0.8123 - mae: 0.49 - ETA: 2:42:26 - loss: 0.8118 - mae: 0.49 - ETA: 2:40:22 - loss: 0.8105 - mae: 0.49 - ETA: 2:38:17 - loss: 0.8105 - mae: 0.49 - ETA: 2:36:13 - loss: 0.8094 - mae: 0.49 - ETA: 2:34:09 - loss: 0.8077 - mae: 0.48 - ETA: 2:32:05 - loss: 0.8067 - mae: 0.48 - ETA: 2:30:01 - loss: 0.8053 - mae: 0.48 - ETA: 2:27:57 - loss: 0.8049 - mae: 0.48 - ETA: 2:25:53 - loss: 0.8038 - mae: 0.48 - ETA: 2:23:48 - loss: 0.8037 - mae: 0.48 - ETA: 2:21:44 - loss: 0.8027 - mae: 0.48 - ETA: 2:19:40 - loss: 0.8022 - mae: 0.48 - ETA: 2:17:36 - loss: 0.8021 - mae: 0.48 - ETA: 2:15:32 - loss: 0.8024 - mae: 0.48 - ETA: 2:13:28 - loss: 0.8022 - mae: 0.48 - ETA: 2:11:24 - loss: 0.8012 - mae: 0.48 - ETA: 2:09:20 - loss: 0.8008 - mae: 0.48 - ETA: 2:07:16 - loss: 0.8005 - mae: 0.48 - ETA: 2:05:12 - loss: 0.7994 - mae: 0.48 - ETA: 2:03:09 - loss: 0.8007 - mae: 0.48 - ETA: 2:01:05 - loss: 0.8010 - mae: 0.48 - ETA: 1:59:01 - loss: 0.8016 - mae: 0.48 - ETA: 1:56:58 - loss: 0.8034 - mae: 0.48 - ETA: 1:54:54 - loss: 0.8053 - mae: 0.49 - ETA: 1:52:50 - loss: 0.8071 - mae: 0.49 - ETA: 1:50:47 - loss: 0.8068 - mae: 0.49 - ETA: 1:48:43 - loss: 0.8074 - mae: 0.49 - ETA: 1:46:39 - loss: 0.8074 - mae: 0.49 - ETA: 1:44:36 - loss: 0.8079 - mae: 0.49 - ETA: 1:42:32 - loss: 0.8091 - mae: 0.49 - ETA: 1:40:29 - loss: 0.8112 - mae: 0.49 - ETA: 1:38:25 - loss: 0.8128 - mae: 0.49 - ETA: 1:36:22 - loss: 0.8157 - mae: 0.49 - ETA: 1:34:18 - loss: 0.8175 - mae: 0.50 - ETA: 1:32:15 - loss: 0.8191 - mae: 0.50 - ETA: 1:30:11 - loss: 0.8208 - mae: 0.50 - ETA: 1:28:08 - loss: 0.8228 - mae: 0.50 - ETA: 1:26:05 - loss: 0.8245 - mae: 0.50 - ETA: 1:24:01 - loss: 0.8256 - mae: 0.50 - ETA: 1:21:58 - loss: 0.8273 - mae: 0.50 - ETA: 1:19:55 - loss: 0.8278 - mae: 0.50 - ETA: 1:17:51 - loss: 0.8300 - mae: 0.51 - ETA: 1:15:48 - loss: 0.8318 - mae: 0.51 - ETA: 1:13:45 - loss: 0.8344 - mae: 0.51 - ETA: 1:11:42 - loss: 0.8361 - mae: 0.51 - ETA: 1:09:38 - loss: 0.8373 - mae: 0.51 - ETA: 1:07:35 - loss: 0.8386 - mae: 0.51 - ETA: 1:05:32 - loss: 0.8387 - mae: 0.51 - ETA: 1:03:29 - loss: 0.8395 - mae: 0.51 - ETA: 1:01:26 - loss: 0.8406 - mae: 0.52 - ETA: 59:23 - loss: 0.8405 - mae: 0.5201 - ETA: 57:19 - loss: 0.8405 - mae: 0.52 - ETA: 55:16 - loss: 0.8398 - mae: 0.51 - ETA: 53:13 - loss: 0.8404 - mae: 0.52 - ETA: 51:10 - loss: 0.8399 - mae: 0.51 - ETA: 49:07 - loss: 0.8391 - mae: 0.51 - ETA: 47:04 - loss: 0.8385 - mae: 0.51 - ETA: 45:01 - loss: 0.8380 - mae: 0.51 - ETA: 42:58 - loss: 0.8379 - mae: 0.51 - ETA: 40:55 - loss: 0.8377 - mae: 0.51 - ETA: 38:52 - loss: 0.8381 - mae: 0.51 - ETA: 36:49 - loss: 0.8379 - mae: 0.51 - ETA: 34:46 - loss: 0.8373 - mae: 0.51 - ETA: 32:44 - loss: 0.8366 - mae: 0.51 - ETA: 30:41 - loss: 0.8360 - mae: 0.51 - ETA: 28:38 - loss: 0.8358 - mae: 0.51 - ETA: 26:35 - loss: 0.8356 - mae: 0.51 - ETA: 24:32 - loss: 0.8355 - mae: 0.51 - ETA: 22:29 - loss: 0.8357 - mae: 0.51 - ETA: 20:27 - loss: 0.8348 - mae: 0.51 - ETA: 18:24 - loss: 0.8339 - mae: 0.51 - ETA: 16:21 - loss: 0.8333 - mae: 0.51 - ETA: 14:18 - loss: 0.8326 - mae: 0.51 - ETA: 12:16 - loss: 0.8318 - mae: 0.51 - ETA: 10:13 - loss: 0.8314 - mae: 0.51 - ETA: 8:10 - loss: 0.8308 - mae: 0.5115 - ETA: 6:07 - loss: 0.8307 - mae: 0.511 - ETA: 4:05 - loss: 0.8307 - mae: 0.511 - ETA: 2:02 - loss: 0.8308 - mae: 0.5110\n",
      "Epoch 00006: saving model to ./checkpoint/ver_loss_new/v01_ep06-loss0.83044.ckpt\n",
      "299/299 [==============================] - 36577s 122s/step - loss: 0.8308 - mae: 0.5098\n",
      "Epoch 7/12\n"
     ]
    },
    {
     "name": "stdout",
     "output_type": "stream",
     "text": [
      "194/299 [==================>...........] - ETA: 21:05:25 - loss: 0.6862 - mae: 0.338 - ETA: 15:28:05 - loss: 0.6077 - mae: 0.294 - ETA: 13:35:06 - loss: 0.5787 - mae: 0.264 - ETA: 12:37:59 - loss: 0.5357 - mae: 0.250 - ETA: 12:02:36 - loss: 0.5338 - mae: 0.256 - ETA: 11:38:05 - loss: 0.5263 - mae: 0.255 - ETA: 11:20:06 - loss: 0.5440 - mae: 0.264 - ETA: 11:06:03 - loss: 0.5500 - mae: 0.269 - ETA: 10:54:46 - loss: 0.5498 - mae: 0.265 - ETA: 10:45:17 - loss: 0.5389 - mae: 0.262 - ETA: 10:37:06 - loss: 0.5405 - mae: 0.269 - ETA: 10:29:56 - loss: 0.5395 - mae: 0.268 - ETA: 10:23:45 - loss: 0.5333 - mae: 0.269 - ETA: 10:18:03 - loss: 0.5221 - mae: 0.261 - ETA: 10:12:47 - loss: 0.5142 - mae: 0.256 - ETA: 10:07:55 - loss: 0.5154 - mae: 0.251 - ETA: 10:03:23 - loss: 0.5118 - mae: 0.249 - ETA: 9:59:16 - loss: 0.5077 - mae: 0.248 - ETA: 9:55:19 - loss: 0.5019 - mae: 0.24 - ETA: 9:51:34 - loss: 0.4958 - mae: 0.24 - ETA: 9:48:00 - loss: 0.4923 - mae: 0.24 - ETA: 9:44:35 - loss: 0.4913 - mae: 0.24 - ETA: 9:41:14 - loss: 0.4912 - mae: 0.24 - ETA: 9:37:56 - loss: 0.4850 - mae: 0.24 - ETA: 9:34:52 - loss: 0.4837 - mae: 0.24 - ETA: 9:31:52 - loss: 0.4835 - mae: 0.24 - ETA: 9:28:52 - loss: 0.4821 - mae: 0.24 - ETA: 9:26:00 - loss: 0.4862 - mae: 0.24 - ETA: 9:23:12 - loss: 0.4948 - mae: 0.25 - ETA: 9:20:22 - loss: 0.5017 - mae: 0.26 - ETA: 9:17:41 - loss: 0.5130 - mae: 0.26 - ETA: 9:15:00 - loss: 0.5143 - mae: 0.26 - ETA: 9:12:19 - loss: 0.5157 - mae: 0.27 - ETA: 9:09:44 - loss: 0.5185 - mae: 0.27 - ETA: 9:07:09 - loss: 0.5232 - mae: 0.27 - ETA: 9:04:39 - loss: 0.5272 - mae: 0.28 - ETA: 9:02:10 - loss: 0.5310 - mae: 0.28 - ETA: 8:59:41 - loss: 0.5337 - mae: 0.28 - ETA: 8:57:12 - loss: 0.5392 - mae: 0.29 - ETA: 8:54:44 - loss: 0.5445 - mae: 0.30 - ETA: 8:52:21 - loss: 0.5520 - mae: 0.30 - ETA: 8:49:56 - loss: 0.5615 - mae: 0.31 - ETA: 8:47:34 - loss: 0.5698 - mae: 0.32 - ETA: 8:45:09 - loss: 0.5774 - mae: 0.32 - ETA: 8:42:48 - loss: 0.5861 - mae: 0.33 - ETA: 8:40:30 - loss: 0.5924 - mae: 0.33 - ETA: 8:38:13 - loss: 0.5973 - mae: 0.33 - ETA: 8:35:54 - loss: 0.6094 - mae: 0.34 - ETA: 8:33:36 - loss: 0.6166 - mae: 0.35 - ETA: 8:31:20 - loss: 0.6218 - mae: 0.35 - ETA: 8:29:04 - loss: 0.6301 - mae: 0.36 - ETA: 8:26:46 - loss: 0.6333 - mae: 0.36 - ETA: 8:24:35 - loss: 0.6455 - mae: 0.37 - ETA: 8:22:19 - loss: 0.6536 - mae: 0.38 - ETA: 8:20:04 - loss: 0.6564 - mae: 0.38 - ETA: 8:17:52 - loss: 0.6591 - mae: 0.38 - ETA: 8:15:39 - loss: 0.6649 - mae: 0.39 - ETA: 8:13:27 - loss: 0.6725 - mae: 0.40 - ETA: 8:11:14 - loss: 0.6793 - mae: 0.40 - ETA: 8:09:02 - loss: 0.6899 - mae: 0.41 - ETA: 8:06:52 - loss: 0.6962 - mae: 0.41 - ETA: 8:04:41 - loss: 0.7101 - mae: 0.43 - ETA: 8:02:30 - loss: 0.7194 - mae: 0.43 - ETA: 8:00:22 - loss: 0.7303 - mae: 0.44 - ETA: 7:58:11 - loss: 0.7368 - mae: 0.45 - ETA: 7:56:00 - loss: 0.7407 - mae: 0.45 - ETA: 7:53:49 - loss: 0.7445 - mae: 0.45 - ETA: 7:51:40 - loss: 0.7488 - mae: 0.46 - ETA: 7:49:31 - loss: 0.7546 - mae: 0.46 - ETA: 7:47:23 - loss: 0.7609 - mae: 0.47 - ETA: 7:45:15 - loss: 0.7674 - mae: 0.47 - ETA: 7:43:07 - loss: 0.7729 - mae: 0.48 - ETA: 7:40:59 - loss: 0.7747 - mae: 0.48 - ETA: 7:38:52 - loss: 0.7801 - mae: 0.48 - ETA: 7:36:43 - loss: 0.7857 - mae: 0.49 - ETA: 7:34:35 - loss: 0.7915 - mae: 0.49 - ETA: 7:32:26 - loss: 0.7972 - mae: 0.50 - ETA: 7:31:03 - loss: 0.8011 - mae: 0.50 - ETA: 7:28:55 - loss: 0.8046 - mae: 0.50 - ETA: 7:26:49 - loss: 0.8076 - mae: 0.50 - ETA: 7:24:40 - loss: 0.8103 - mae: 0.51 - ETA: 7:22:33 - loss: 0.8130 - mae: 0.51 - ETA: 7:20:26 - loss: 0.8146 - mae: 0.51 - ETA: 7:18:19 - loss: 0.8192 - mae: 0.51 - ETA: 7:16:12 - loss: 0.8243 - mae: 0.52 - ETA: 7:14:06 - loss: 0.8224 - mae: 0.51 - ETA: 7:12:00 - loss: 0.8238 - mae: 0.51 - ETA: 7:09:54 - loss: 0.8233 - mae: 0.51 - ETA: 7:07:48 - loss: 0.8243 - mae: 0.51 - ETA: 7:05:43 - loss: 0.8245 - mae: 0.51 - ETA: 7:03:37 - loss: 0.8226 - mae: 0.51 - ETA: 7:01:31 - loss: 0.8201 - mae: 0.51 - ETA: 6:59:26 - loss: 0.8183 - mae: 0.51 - ETA: 6:57:20 - loss: 0.8164 - mae: 0.51 - ETA: 6:55:15 - loss: 0.8141 - mae: 0.51 - ETA: 6:53:09 - loss: 0.8141 - mae: 0.51 - ETA: 6:51:03 - loss: 0.8125 - mae: 0.50 - ETA: 6:48:57 - loss: 0.8138 - mae: 0.51 - ETA: 6:46:52 - loss: 0.8144 - mae: 0.51 - ETA: 6:44:47 - loss: 0.8174 - mae: 0.51 - ETA: 6:42:43 - loss: 0.8146 - mae: 0.50 - ETA: 6:40:38 - loss: 0.8136 - mae: 0.50 - ETA: 6:38:33 - loss: 0.8117 - mae: 0.50 - ETA: 6:36:29 - loss: 0.8112 - mae: 0.50 - ETA: 6:34:24 - loss: 0.8117 - mae: 0.50 - ETA: 6:32:19 - loss: 0.8098 - mae: 0.50 - ETA: 6:30:15 - loss: 0.8080 - mae: 0.50 - ETA: 6:28:11 - loss: 0.8058 - mae: 0.50 - ETA: 6:26:06 - loss: 0.8039 - mae: 0.50 - ETA: 6:24:02 - loss: 0.8034 - mae: 0.49 - ETA: 6:21:58 - loss: 0.8027 - mae: 0.49 - ETA: 6:19:56 - loss: 0.8004 - mae: 0.49 - ETA: 6:17:52 - loss: 0.7984 - mae: 0.49 - ETA: 6:15:49 - loss: 0.7962 - mae: 0.49 - ETA: 6:13:46 - loss: 0.7935 - mae: 0.49 - ETA: 6:11:49 - loss: 0.7901 - mae: 0.48 - ETA: 6:09:51 - loss: 0.7881 - mae: 0.48 - ETA: 6:07:56 - loss: 0.7861 - mae: 0.48 - ETA: 6:06:01 - loss: 0.7843 - mae: 0.48 - ETA: 6:04:05 - loss: 0.7825 - mae: 0.48 - ETA: 6:02:09 - loss: 0.7806 - mae: 0.48 - ETA: 6:00:14 - loss: 0.7801 - mae: 0.48 - ETA: 5:58:20 - loss: 0.7789 - mae: 0.48 - ETA: 5:56:22 - loss: 0.7765 - mae: 0.47 - ETA: 5:54:19 - loss: 0.7745 - mae: 0.47 - ETA: 5:52:18 - loss: 0.7720 - mae: 0.47 - ETA: 5:50:16 - loss: 0.7691 - mae: 0.47 - ETA: 5:48:15 - loss: 0.7669 - mae: 0.47 - ETA: 5:46:18 - loss: 0.7646 - mae: 0.47 - ETA: 5:44:17 - loss: 0.7640 - mae: 0.47 - ETA: 5:42:21 - loss: 0.7623 - mae: 0.46 - ETA: 5:40:20 - loss: 0.7621 - mae: 0.46 - ETA: 5:38:22 - loss: 0.7613 - mae: 0.46 - ETA: 5:36:23 - loss: 0.7615 - mae: 0.46 - ETA: 5:34:25 - loss: 0.7604 - mae: 0.46 - ETA: 5:32:25 - loss: 0.7590 - mae: 0.46 - ETA: 5:30:26 - loss: 0.7574 - mae: 0.46 - ETA: 5:28:26 - loss: 0.7572 - mae: 0.46 - ETA: 5:26:25 - loss: 0.7567 - mae: 0.46 - ETA: 5:24:24 - loss: 0.7583 - mae: 0.46 - ETA: 5:22:27 - loss: 0.7581 - mae: 0.46 - ETA: 5:20:24 - loss: 0.7587 - mae: 0.46 - ETA: 5:18:25 - loss: 0.7598 - mae: 0.46 - ETA: 5:16:22 - loss: 0.7600 - mae: 0.46 - ETA: 5:14:23 - loss: 0.7595 - mae: 0.46 - ETA: 5:12:24 - loss: 0.7604 - mae: 0.46 - ETA: 5:10:20 - loss: 0.7610 - mae: 0.46 - ETA: 5:08:17 - loss: 0.7632 - mae: 0.47 - ETA: 5:06:14 - loss: 0.7629 - mae: 0.47 - ETA: 5:04:12 - loss: 0.7637 - mae: 0.47 - ETA: 5:02:14 - loss: 0.7653 - mae: 0.47 - ETA: 5:00:11 - loss: 0.7663 - mae: 0.47 - ETA: 4:58:07 - loss: 0.7675 - mae: 0.47 - ETA: 4:56:03 - loss: 0.7689 - mae: 0.47 - ETA: 4:54:01 - loss: 0.7708 - mae: 0.47 - ETA: 4:51:58 - loss: 0.7743 - mae: 0.48 - ETA: 4:49:55 - loss: 0.7758 - mae: 0.48 - ETA: 4:47:52 - loss: 0.7788 - mae: 0.48 - ETA: 4:45:50 - loss: 0.7811 - mae: 0.48 - ETA: 4:43:48 - loss: 0.7820 - mae: 0.48 - ETA: 4:41:51 - loss: 0.7822 - mae: 0.48 - ETA: 4:39:51 - loss: 0.7822 - mae: 0.48 - ETA: 4:37:51 - loss: 0.7828 - mae: 0.48 - ETA: 4:35:50 - loss: 0.7844 - mae: 0.48 - ETA: 4:33:48 - loss: 0.7862 - mae: 0.48 - ETA: 4:31:47 - loss: 0.7894 - mae: 0.49 - ETA: 4:29:44 - loss: 0.7920 - mae: 0.49 - ETA: 4:27:41 - loss: 0.7934 - mae: 0.49 - ETA: 4:25:42 - loss: 0.7934 - mae: 0.49 - ETA: 4:23:42 - loss: 0.7951 - mae: 0.49 - ETA: 4:21:39 - loss: 0.7966 - mae: 0.49 - ETA: 4:19:36 - loss: 0.7965 - mae: 0.49 - ETA: 4:17:35 - loss: 0.7962 - mae: 0.49 - ETA: 4:15:33 - loss: 0.7962 - mae: 0.49 - ETA: 4:13:31 - loss: 0.7964 - mae: 0.49 - ETA: 4:11:28 - loss: 0.7974 - mae: 0.49 - ETA: 4:09:26 - loss: 0.7990 - mae: 0.49 - ETA: 4:07:26 - loss: 0.8020 - mae: 0.50 - ETA: 4:05:25 - loss: 0.8035 - mae: 0.50 - ETA: 4:03:22 - loss: 0.8081 - mae: 0.50 - ETA: 4:01:20 - loss: 0.8072 - mae: 0.50 - ETA: 3:59:19 - loss: 0.8075 - mae: 0.50 - ETA: 3:57:17 - loss: 0.8072 - mae: 0.50 - ETA: 3:55:17 - loss: 0.8071 - mae: 0.50 - ETA: 3:53:20 - loss: 0.8081 - mae: 0.50 - ETA: 3:51:21 - loss: 0.8080 - mae: 0.50 - ETA: 3:49:21 - loss: 0.8083 - mae: 0.50 - ETA: 3:47:21 - loss: 0.8076 - mae: 0.50 - ETA: 3:45:22 - loss: 0.8071 - mae: 0.50 - ETA: 3:43:24 - loss: 0.8060 - mae: 0.50 - ETA: 3:41:25 - loss: 0.8052 - mae: 0.50 - ETA: 3:39:26 - loss: 0.8042 - mae: 0.50 - ETA: 3:37:25 - loss: 0.8050 - mae: 0.50 - ETA: 3:35:22 - loss: 0.8056 - mae: 0.5053298/299 [============================>.] - ETA: 3:33:19 - loss: 0.8051 - mae: 0.50 - ETA: 3:31:15 - loss: 0.8046 - mae: 0.50 - ETA: 3:29:10 - loss: 0.8031 - mae: 0.50 - ETA: 3:27:07 - loss: 0.8023 - mae: 0.50 - ETA: 3:25:07 - loss: 0.8015 - mae: 0.50 - ETA: 3:23:05 - loss: 0.8007 - mae: 0.50 - ETA: 3:21:01 - loss: 0.8000 - mae: 0.50 - ETA: 3:18:57 - loss: 0.7995 - mae: 0.50 - ETA: 3:16:53 - loss: 0.7994 - mae: 0.50 - ETA: 3:14:49 - loss: 0.7980 - mae: 0.49 - ETA: 3:12:46 - loss: 0.7971 - mae: 0.49 - ETA: 3:10:42 - loss: 0.7964 - mae: 0.49 - ETA: 3:08:38 - loss: 0.7959 - mae: 0.49 - ETA: 3:06:33 - loss: 0.7958 - mae: 0.49 - ETA: 3:04:29 - loss: 0.7949 - mae: 0.49 - ETA: 3:02:25 - loss: 0.7937 - mae: 0.49 - ETA: 3:00:21 - loss: 0.7927 - mae: 0.49 - ETA: 2:58:17 - loss: 0.7916 - mae: 0.49 - ETA: 2:56:12 - loss: 0.7900 - mae: 0.49 - ETA: 2:54:08 - loss: 0.7885 - mae: 0.49 - ETA: 2:52:04 - loss: 0.7871 - mae: 0.49 - ETA: 2:49:59 - loss: 0.7871 - mae: 0.49 - ETA: 2:47:55 - loss: 0.7863 - mae: 0.48 - ETA: 2:45:51 - loss: 0.7846 - mae: 0.48 - ETA: 2:43:47 - loss: 0.7841 - mae: 0.48 - ETA: 2:41:43 - loss: 0.7836 - mae: 0.48 - ETA: 2:39:39 - loss: 0.7824 - mae: 0.48 - ETA: 2:37:36 - loss: 0.7822 - mae: 0.48 - ETA: 2:35:32 - loss: 0.7812 - mae: 0.48 - ETA: 2:33:28 - loss: 0.7795 - mae: 0.48 - ETA: 2:31:24 - loss: 0.7784 - mae: 0.48 - ETA: 2:29:20 - loss: 0.7771 - mae: 0.48 - ETA: 2:27:16 - loss: 0.7767 - mae: 0.48 - ETA: 2:25:12 - loss: 0.7756 - mae: 0.48 - ETA: 2:23:09 - loss: 0.7755 - mae: 0.48 - ETA: 2:21:05 - loss: 0.7745 - mae: 0.48 - ETA: 2:19:01 - loss: 0.7740 - mae: 0.48 - ETA: 2:16:58 - loss: 0.7739 - mae: 0.48 - ETA: 2:14:54 - loss: 0.7742 - mae: 0.48 - ETA: 2:12:51 - loss: 0.7740 - mae: 0.48 - ETA: 2:10:47 - loss: 0.7730 - mae: 0.48 - ETA: 2:08:44 - loss: 0.7727 - mae: 0.48 - ETA: 2:06:40 - loss: 0.7723 - mae: 0.48 - ETA: 2:04:37 - loss: 0.7713 - mae: 0.47 - ETA: 2:02:34 - loss: 0.7725 - mae: 0.48 - ETA: 2:00:33 - loss: 0.7729 - mae: 0.48 - ETA: 1:58:32 - loss: 0.7734 - mae: 0.48 - ETA: 1:56:30 - loss: 0.7752 - mae: 0.48 - ETA: 1:54:27 - loss: 0.7771 - mae: 0.48 - ETA: 1:52:25 - loss: 0.7789 - mae: 0.48 - ETA: 1:50:22 - loss: 0.7786 - mae: 0.48 - ETA: 1:48:19 - loss: 0.7792 - mae: 0.48 - ETA: 1:46:17 - loss: 0.7792 - mae: 0.48 - ETA: 1:44:14 - loss: 0.7798 - mae: 0.48 - ETA: 1:42:13 - loss: 0.7809 - mae: 0.48 - ETA: 1:40:11 - loss: 0.7831 - mae: 0.48 - ETA: 1:38:09 - loss: 0.7847 - mae: 0.49 - ETA: 1:36:07 - loss: 0.7875 - mae: 0.49 - ETA: 1:34:04 - loss: 0.7893 - mae: 0.49 - ETA: 1:32:01 - loss: 0.7910 - mae: 0.49 - ETA: 1:29:59 - loss: 0.7926 - mae: 0.49 - ETA: 1:27:59 - loss: 0.7947 - mae: 0.49 - ETA: 1:25:57 - loss: 0.7964 - mae: 0.50 - ETA: 1:23:53 - loss: 0.7975 - mae: 0.50 - ETA: 1:21:50 - loss: 0.7992 - mae: 0.50 - ETA: 1:19:47 - loss: 0.7998 - mae: 0.50 - ETA: 1:17:44 - loss: 0.8019 - mae: 0.50 - ETA: 1:15:41 - loss: 0.8036 - mae: 0.50 - ETA: 1:13:38 - loss: 0.8063 - mae: 0.50 - ETA: 1:11:35 - loss: 0.8079 - mae: 0.51 - ETA: 1:09:32 - loss: 0.8091 - mae: 0.51 - ETA: 1:07:30 - loss: 0.8104 - mae: 0.51 - ETA: 1:05:27 - loss: 0.8106 - mae: 0.51 - ETA: 1:03:24 - loss: 0.8113 - mae: 0.51 - ETA: 1:01:21 - loss: 0.8124 - mae: 0.51 - ETA: 59:19 - loss: 0.8124 - mae: 0.5147 - ETA: 57:17 - loss: 0.8124 - mae: 0.51 - ETA: 55:14 - loss: 0.8117 - mae: 0.51 - ETA: 53:11 - loss: 0.8123 - mae: 0.51 - ETA: 51:09 - loss: 0.8118 - mae: 0.51 - ETA: 49:06 - loss: 0.8110 - mae: 0.51 - ETA: 47:03 - loss: 0.8104 - mae: 0.51 - ETA: 45:01 - loss: 0.8099 - mae: 0.51 - ETA: 42:58 - loss: 0.8098 - mae: 0.51 - ETA: 40:55 - loss: 0.8096 - mae: 0.51 - ETA: 38:52 - loss: 0.8099 - mae: 0.51 - ETA: 36:49 - loss: 0.8097 - mae: 0.51 - ETA: 34:46 - loss: 0.8090 - mae: 0.51 - ETA: 32:43 - loss: 0.8083 - mae: 0.51 - ETA: 30:41 - loss: 0.8077 - mae: 0.51 - ETA: 28:38 - loss: 0.8076 - mae: 0.51 - ETA: 26:35 - loss: 0.8073 - mae: 0.51 - ETA: 24:33 - loss: 0.8072 - mae: 0.51 - ETA: 22:30 - loss: 0.8074 - mae: 0.51 - ETA: 20:27 - loss: 0.8065 - mae: 0.50 - ETA: 18:25 - loss: 0.8055 - mae: 0.50 - ETA: 16:22 - loss: 0.8050 - mae: 0.50 - ETA: 14:19 - loss: 0.8043 - mae: 0.50 - ETA: 12:16 - loss: 0.8035 - mae: 0.50 - ETA: 10:13 - loss: 0.8031 - mae: 0.50 - ETA: 8:11 - loss: 0.8026 - mae: 0.5062 - ETA: 6:08 - loss: 0.8024 - mae: 0.506 - ETA: 4:05 - loss: 0.8024 - mae: 0.506 - ETA: 2:02 - loss: 0.8024 - mae: 0.5057\n",
      "Epoch 00007: saving model to ./checkpoint/ver_loss_new/v01_ep07-loss0.80214.ckpt\n",
      "299/299 [==============================] - 36614s 122s/step - loss: 0.8024 - mae: 0.5045\n",
      "Epoch 8/12\n"
     ]
    },
    {
     "name": "stdout",
     "output_type": "stream",
     "text": [
      "194/299 [==================>...........] - ETA: 12:34:47 - loss: 0.6494 - mae: 0.335 - ETA: 11:19:00 - loss: 0.5776 - mae: 0.289 - ETA: 10:50:17 - loss: 0.5482 - mae: 0.260 - ETA: 10:33:47 - loss: 0.5078 - mae: 0.246 - ETA: 10:23:58 - loss: 0.5059 - mae: 0.252 - ETA: 10:17:39 - loss: 0.4988 - mae: 0.251 - ETA: 10:11:11 - loss: 0.5148 - mae: 0.260 - ETA: 10:05:57 - loss: 0.5204 - mae: 0.265 - ETA: 10:02:08 - loss: 0.5204 - mae: 0.262 - ETA: 9:59:16 - loss: 0.5109 - mae: 0.258 - ETA: 9:57:23 - loss: 0.5129 - mae: 0.26 - ETA: 9:55:31 - loss: 0.5124 - mae: 0.26 - ETA: 9:56:16 - loss: 0.5067 - mae: 0.26 - ETA: 9:54:45 - loss: 0.4957 - mae: 0.25 - ETA: 9:51:53 - loss: 0.4880 - mae: 0.25 - ETA: 9:49:26 - loss: 0.4883 - mae: 0.24 - ETA: 9:46:40 - loss: 0.4848 - mae: 0.24 - ETA: 9:44:26 - loss: 0.4811 - mae: 0.24 - ETA: 9:41:49 - loss: 0.4755 - mae: 0.24 - ETA: 9:39:01 - loss: 0.4699 - mae: 0.24 - ETA: 9:36:36 - loss: 0.4669 - mae: 0.24 - ETA: 9:33:56 - loss: 0.4663 - mae: 0.24 - ETA: 9:31:24 - loss: 0.4663 - mae: 0.24 - ETA: 9:29:13 - loss: 0.4607 - mae: 0.24 - ETA: 9:26:45 - loss: 0.4593 - mae: 0.23 - ETA: 9:24:22 - loss: 0.4593 - mae: 0.24 - ETA: 9:21:47 - loss: 0.4579 - mae: 0.24 - ETA: 9:19:10 - loss: 0.4620 - mae: 0.24 - ETA: 9:16:52 - loss: 0.4703 - mae: 0.25 - ETA: 9:14:33 - loss: 0.4774 - mae: 0.25 - ETA: 9:12:18 - loss: 0.4883 - mae: 0.26 - ETA: 9:10:10 - loss: 0.4895 - mae: 0.26 - ETA: 9:08:18 - loss: 0.4910 - mae: 0.26 - ETA: 9:06:17 - loss: 0.4937 - mae: 0.26 - ETA: 9:04:10 - loss: 0.4983 - mae: 0.27 - ETA: 9:02:01 - loss: 0.5024 - mae: 0.27 - ETA: 8:59:45 - loss: 0.5062 - mae: 0.28 - ETA: 8:57:53 - loss: 0.5090 - mae: 0.28 - ETA: 8:56:11 - loss: 0.5147 - mae: 0.29 - ETA: 8:54:20 - loss: 0.5201 - mae: 0.29 - ETA: 8:52:19 - loss: 0.5277 - mae: 0.30 - ETA: 8:49:55 - loss: 0.5366 - mae: 0.30 - ETA: 8:47:41 - loss: 0.5449 - mae: 0.31 - ETA: 8:45:26 - loss: 0.5523 - mae: 0.32 - ETA: 8:43:22 - loss: 0.5609 - mae: 0.32 - ETA: 8:41:28 - loss: 0.5674 - mae: 0.33 - ETA: 8:39:43 - loss: 0.5723 - mae: 0.33 - ETA: 8:37:45 - loss: 0.5842 - mae: 0.34 - ETA: 8:35:58 - loss: 0.5915 - mae: 0.35 - ETA: 8:33:58 - loss: 0.5966 - mae: 0.35 - ETA: 8:31:56 - loss: 0.6051 - mae: 0.36 - ETA: 8:29:38 - loss: 0.6085 - mae: 0.36 - ETA: 8:27:22 - loss: 0.6206 - mae: 0.37 - ETA: 8:25:06 - loss: 0.6287 - mae: 0.38 - ETA: 8:22:55 - loss: 0.6316 - mae: 0.38 - ETA: 8:20:45 - loss: 0.6342 - mae: 0.38 - ETA: 8:18:44 - loss: 0.6399 - mae: 0.38 - ETA: 8:16:35 - loss: 0.6474 - mae: 0.39 - ETA: 8:14:39 - loss: 0.6542 - mae: 0.40 - ETA: 8:12:37 - loss: 0.6644 - mae: 0.40 - ETA: 8:10:37 - loss: 0.6706 - mae: 0.41 - ETA: 8:08:35 - loss: 0.6842 - mae: 0.42 - ETA: 8:06:25 - loss: 0.6935 - mae: 0.43 - ETA: 8:04:15 - loss: 0.7042 - mae: 0.44 - ETA: 8:02:01 - loss: 0.7107 - mae: 0.44 - ETA: 7:59:48 - loss: 0.7146 - mae: 0.45 - ETA: 7:57:34 - loss: 0.7183 - mae: 0.45 - ETA: 7:55:21 - loss: 0.7226 - mae: 0.45 - ETA: 7:53:13 - loss: 0.7285 - mae: 0.46 - ETA: 7:51:11 - loss: 0.7348 - mae: 0.46 - ETA: 7:49:09 - loss: 0.7413 - mae: 0.47 - ETA: 7:47:09 - loss: 0.7469 - mae: 0.47 - ETA: 7:44:57 - loss: 0.7486 - mae: 0.47 - ETA: 7:42:57 - loss: 0.7540 - mae: 0.48 - ETA: 7:40:57 - loss: 0.7597 - mae: 0.48 - ETA: 7:38:54 - loss: 0.7655 - mae: 0.49 - ETA: 7:36:49 - loss: 0.7710 - mae: 0.49 - ETA: 7:34:44 - loss: 0.7749 - mae: 0.49 - ETA: 7:32:39 - loss: 0.7784 - mae: 0.50 - ETA: 7:30:31 - loss: 0.7814 - mae: 0.50 - ETA: 7:28:32 - loss: 0.7841 - mae: 0.50 - ETA: 7:26:39 - loss: 0.7867 - mae: 0.50 - ETA: 7:24:30 - loss: 0.7883 - mae: 0.50 - ETA: 7:22:24 - loss: 0.7927 - mae: 0.51 - ETA: 7:20:16 - loss: 0.7976 - mae: 0.51 - ETA: 7:18:10 - loss: 0.7958 - mae: 0.51 - ETA: 7:16:23 - loss: 0.7971 - mae: 0.51 - ETA: 7:14:15 - loss: 0.7967 - mae: 0.51 - ETA: 7:12:10 - loss: 0.7976 - mae: 0.51 - ETA: 7:10:04 - loss: 0.7978 - mae: 0.51 - ETA: 7:07:56 - loss: 0.7960 - mae: 0.51 - ETA: 7:05:48 - loss: 0.7935 - mae: 0.50 - ETA: 7:03:41 - loss: 0.7917 - mae: 0.50 - ETA: 7:01:41 - loss: 0.7899 - mae: 0.50 - ETA: 6:59:40 - loss: 0.7877 - mae: 0.50 - ETA: 6:57:38 - loss: 0.7877 - mae: 0.50 - ETA: 6:55:36 - loss: 0.7861 - mae: 0.50 - ETA: 6:53:39 - loss: 0.7874 - mae: 0.50 - ETA: 6:51:32 - loss: 0.7880 - mae: 0.50 - ETA: 6:49:26 - loss: 0.7908 - mae: 0.50 - ETA: 6:47:16 - loss: 0.7880 - mae: 0.50 - ETA: 6:45:07 - loss: 0.7870 - mae: 0.50 - ETA: 6:43:00 - loss: 0.7850 - mae: 0.50 - ETA: 6:40:50 - loss: 0.7846 - mae: 0.50 - ETA: 6:38:44 - loss: 0.7850 - mae: 0.50 - ETA: 6:36:36 - loss: 0.7832 - mae: 0.49 - ETA: 6:34:27 - loss: 0.7814 - mae: 0.49 - ETA: 6:32:18 - loss: 0.7792 - mae: 0.49 - ETA: 6:30:09 - loss: 0.7773 - mae: 0.49 - ETA: 6:28:01 - loss: 0.7769 - mae: 0.49 - ETA: 6:25:51 - loss: 0.7763 - mae: 0.49 - ETA: 6:23:42 - loss: 0.7741 - mae: 0.49 - ETA: 6:21:33 - loss: 0.7719 - mae: 0.48 - ETA: 6:19:25 - loss: 0.7699 - mae: 0.48 - ETA: 6:17:17 - loss: 0.7671 - mae: 0.48 - ETA: 6:15:09 - loss: 0.7639 - mae: 0.48 - ETA: 6:13:01 - loss: 0.7619 - mae: 0.48 - ETA: 6:10:54 - loss: 0.7600 - mae: 0.48 - ETA: 6:08:45 - loss: 0.7582 - mae: 0.47 - ETA: 6:06:36 - loss: 0.7564 - mae: 0.47 - ETA: 6:04:28 - loss: 0.7547 - mae: 0.47 - ETA: 6:02:20 - loss: 0.7541 - mae: 0.47 - ETA: 6:00:12 - loss: 0.7529 - mae: 0.47 - ETA: 5:58:04 - loss: 0.7506 - mae: 0.47 - ETA: 5:55:57 - loss: 0.7486 - mae: 0.47 - ETA: 5:53:49 - loss: 0.7461 - mae: 0.47 - ETA: 5:51:42 - loss: 0.7433 - mae: 0.46 - ETA: 5:49:35 - loss: 0.7412 - mae: 0.46 - ETA: 5:47:28 - loss: 0.7389 - mae: 0.46 - ETA: 5:45:22 - loss: 0.7383 - mae: 0.46 - ETA: 5:43:15 - loss: 0.7367 - mae: 0.46 - ETA: 5:41:09 - loss: 0.7365 - mae: 0.46 - ETA: 5:39:03 - loss: 0.7357 - mae: 0.46 - ETA: 5:36:56 - loss: 0.7359 - mae: 0.46 - ETA: 5:34:50 - loss: 0.7349 - mae: 0.46 - ETA: 5:32:45 - loss: 0.7335 - mae: 0.46 - ETA: 5:30:59 - loss: 0.7320 - mae: 0.46 - ETA: 5:28:53 - loss: 0.7318 - mae: 0.46 - ETA: 5:26:48 - loss: 0.7313 - mae: 0.45 - ETA: 5:24:42 - loss: 0.7328 - mae: 0.46 - ETA: 5:22:35 - loss: 0.7327 - mae: 0.46 - ETA: 5:20:29 - loss: 0.7333 - mae: 0.46 - ETA: 5:18:24 - loss: 0.7345 - mae: 0.46 - ETA: 5:16:18 - loss: 0.7348 - mae: 0.46 - ETA: 5:14:12 - loss: 0.7344 - mae: 0.46 - ETA: 5:12:07 - loss: 0.7353 - mae: 0.46 - ETA: 5:10:02 - loss: 0.7359 - mae: 0.46 - ETA: 5:07:57 - loss: 0.7380 - mae: 0.46 - ETA: 5:05:52 - loss: 0.7378 - mae: 0.46 - ETA: 5:03:46 - loss: 0.7386 - mae: 0.46 - ETA: 5:01:42 - loss: 0.7403 - mae: 0.46 - ETA: 4:59:37 - loss: 0.7412 - mae: 0.46 - ETA: 4:57:32 - loss: 0.7425 - mae: 0.47 - ETA: 4:55:27 - loss: 0.7439 - mae: 0.47 - ETA: 4:53:22 - loss: 0.7458 - mae: 0.47 - ETA: 4:51:17 - loss: 0.7494 - mae: 0.47 - ETA: 4:49:13 - loss: 0.7508 - mae: 0.47 - ETA: 4:47:08 - loss: 0.7538 - mae: 0.47 - ETA: 4:45:03 - loss: 0.7561 - mae: 0.48 - ETA: 4:42:59 - loss: 0.7570 - mae: 0.48 - ETA: 4:40:55 - loss: 0.7572 - mae: 0.48 - ETA: 4:38:50 - loss: 0.7573 - mae: 0.48 - ETA: 4:36:46 - loss: 0.7578 - mae: 0.48 - ETA: 4:34:42 - loss: 0.7595 - mae: 0.48 - ETA: 4:32:38 - loss: 0.7612 - mae: 0.48 - ETA: 4:30:34 - loss: 0.7644 - mae: 0.48 - ETA: 4:28:30 - loss: 0.7670 - mae: 0.48 - ETA: 4:26:25 - loss: 0.7684 - mae: 0.48 - ETA: 4:24:21 - loss: 0.7684 - mae: 0.48 - ETA: 4:22:17 - loss: 0.7701 - mae: 0.49 - ETA: 4:20:13 - loss: 0.7716 - mae: 0.49 - ETA: 4:18:09 - loss: 0.7714 - mae: 0.49 - ETA: 4:16:05 - loss: 0.7712 - mae: 0.49 - ETA: 4:14:01 - loss: 0.7712 - mae: 0.49 - ETA: 4:11:57 - loss: 0.7714 - mae: 0.49 - ETA: 4:09:53 - loss: 0.7725 - mae: 0.49 - ETA: 4:07:50 - loss: 0.7741 - mae: 0.49 - ETA: 4:05:47 - loss: 0.7771 - mae: 0.49 - ETA: 4:03:43 - loss: 0.7785 - mae: 0.49 - ETA: 4:01:40 - loss: 0.7830 - mae: 0.50 - ETA: 3:59:37 - loss: 0.7821 - mae: 0.50 - ETA: 3:57:33 - loss: 0.7824 - mae: 0.50 - ETA: 3:55:30 - loss: 0.7821 - mae: 0.50 - ETA: 3:53:26 - loss: 0.7822 - mae: 0.50 - ETA: 3:51:23 - loss: 0.7831 - mae: 0.50 - ETA: 3:49:20 - loss: 0.7830 - mae: 0.50 - ETA: 3:47:16 - loss: 0.7833 - mae: 0.50 - ETA: 3:45:13 - loss: 0.7827 - mae: 0.50 - ETA: 3:43:10 - loss: 0.7821 - mae: 0.50 - ETA: 3:41:08 - loss: 0.7810 - mae: 0.50 - ETA: 3:39:05 - loss: 0.7803 - mae: 0.49 - ETA: 3:37:02 - loss: 0.7793 - mae: 0.49 - ETA: 3:34:58 - loss: 0.7801 - mae: 0.49 - ETA: 3:32:56 - loss: 0.7808 - mae: 0.4998"
     ]
    },
    {
     "name": "stdout",
     "output_type": "stream",
     "text": [
      "298/299 [============================>.] - ETA: 3:30:53 - loss: 0.7802 - mae: 0.49 - ETA: 3:28:50 - loss: 0.7798 - mae: 0.49 - ETA: 3:26:47 - loss: 0.7783 - mae: 0.49 - ETA: 3:24:44 - loss: 0.7775 - mae: 0.49 - ETA: 3:22:41 - loss: 0.7767 - mae: 0.49 - ETA: 3:20:38 - loss: 0.7758 - mae: 0.49 - ETA: 3:18:35 - loss: 0.7751 - mae: 0.49 - ETA: 3:16:33 - loss: 0.7747 - mae: 0.49 - ETA: 3:14:30 - loss: 0.7746 - mae: 0.49 - ETA: 3:12:28 - loss: 0.7733 - mae: 0.49 - ETA: 3:10:26 - loss: 0.7724 - mae: 0.49 - ETA: 3:08:23 - loss: 0.7717 - mae: 0.49 - ETA: 3:06:21 - loss: 0.7712 - mae: 0.49 - ETA: 3:04:19 - loss: 0.7712 - mae: 0.49 - ETA: 3:02:16 - loss: 0.7703 - mae: 0.49 - ETA: 3:00:14 - loss: 0.7692 - mae: 0.49 - ETA: 2:58:12 - loss: 0.7682 - mae: 0.48 - ETA: 2:56:10 - loss: 0.7671 - mae: 0.48 - ETA: 2:54:07 - loss: 0.7655 - mae: 0.48 - ETA: 2:52:05 - loss: 0.7641 - mae: 0.48 - ETA: 2:50:03 - loss: 0.7626 - mae: 0.48 - ETA: 2:48:01 - loss: 0.7627 - mae: 0.48 - ETA: 2:45:59 - loss: 0.7619 - mae: 0.48 - ETA: 2:43:57 - loss: 0.7602 - mae: 0.48 - ETA: 2:41:55 - loss: 0.7597 - mae: 0.48 - ETA: 2:39:53 - loss: 0.7591 - mae: 0.48 - ETA: 2:37:51 - loss: 0.7579 - mae: 0.48 - ETA: 2:35:49 - loss: 0.7578 - mae: 0.48 - ETA: 2:33:47 - loss: 0.7568 - mae: 0.48 - ETA: 2:31:45 - loss: 0.7552 - mae: 0.47 - ETA: 2:29:43 - loss: 0.7541 - mae: 0.47 - ETA: 2:27:41 - loss: 0.7528 - mae: 0.47 - ETA: 2:25:39 - loss: 0.7524 - mae: 0.47 - ETA: 2:23:38 - loss: 0.7513 - mae: 0.47 - ETA: 2:21:36 - loss: 0.7513 - mae: 0.47 - ETA: 2:19:34 - loss: 0.7504 - mae: 0.47 - ETA: 2:17:32 - loss: 0.7499 - mae: 0.47 - ETA: 2:15:30 - loss: 0.7498 - mae: 0.47 - ETA: 2:13:28 - loss: 0.7501 - mae: 0.47 - ETA: 2:11:27 - loss: 0.7499 - mae: 0.47 - ETA: 2:09:25 - loss: 0.7489 - mae: 0.47 - ETA: 2:07:23 - loss: 0.7486 - mae: 0.47 - ETA: 2:05:21 - loss: 0.7483 - mae: 0.47 - ETA: 2:03:20 - loss: 0.7473 - mae: 0.47 - ETA: 2:01:18 - loss: 0.7485 - mae: 0.47 - ETA: 1:59:16 - loss: 0.7489 - mae: 0.47 - ETA: 1:57:14 - loss: 0.7495 - mae: 0.47 - ETA: 1:55:13 - loss: 0.7513 - mae: 0.47 - ETA: 1:53:11 - loss: 0.7532 - mae: 0.47 - ETA: 1:51:10 - loss: 0.7549 - mae: 0.48 - ETA: 1:49:08 - loss: 0.7547 - mae: 0.48 - ETA: 1:47:07 - loss: 0.7553 - mae: 0.48 - ETA: 1:45:05 - loss: 0.7553 - mae: 0.48 - ETA: 1:43:03 - loss: 0.7559 - mae: 0.48 - ETA: 1:41:02 - loss: 0.7571 - mae: 0.48 - ETA: 1:39:00 - loss: 0.7591 - mae: 0.48 - ETA: 1:36:59 - loss: 0.7608 - mae: 0.48 - ETA: 1:34:57 - loss: 0.7636 - mae: 0.48 - ETA: 1:32:56 - loss: 0.7654 - mae: 0.49 - ETA: 1:30:54 - loss: 0.7671 - mae: 0.49 - ETA: 1:28:53 - loss: 0.7687 - mae: 0.49 - ETA: 1:26:51 - loss: 0.7708 - mae: 0.49 - ETA: 1:24:50 - loss: 0.7725 - mae: 0.49 - ETA: 1:22:48 - loss: 0.7737 - mae: 0.49 - ETA: 1:20:47 - loss: 0.7754 - mae: 0.49 - ETA: 1:18:45 - loss: 0.7760 - mae: 0.49 - ETA: 1:16:44 - loss: 0.7781 - mae: 0.50 - ETA: 1:14:43 - loss: 0.7798 - mae: 0.50 - ETA: 1:12:41 - loss: 0.7824 - mae: 0.50 - ETA: 1:10:40 - loss: 0.7841 - mae: 0.50 - ETA: 1:08:39 - loss: 0.7853 - mae: 0.50 - ETA: 1:06:37 - loss: 0.7866 - mae: 0.50 - ETA: 1:04:36 - loss: 0.7868 - mae: 0.50 - ETA: 1:02:35 - loss: 0.7875 - mae: 0.50 - ETA: 1:00:33 - loss: 0.7887 - mae: 0.50 - ETA: 58:32 - loss: 0.7886 - mae: 0.5093 - ETA: 56:31 - loss: 0.7886 - mae: 0.50 - ETA: 54:29 - loss: 0.7880 - mae: 0.50 - ETA: 52:28 - loss: 0.7886 - mae: 0.50 - ETA: 50:27 - loss: 0.7881 - mae: 0.50 - ETA: 48:26 - loss: 0.7873 - mae: 0.50 - ETA: 46:25 - loss: 0.7868 - mae: 0.50 - ETA: 44:23 - loss: 0.7863 - mae: 0.50 - ETA: 42:22 - loss: 0.7862 - mae: 0.50 - ETA: 40:21 - loss: 0.7860 - mae: 0.50 - ETA: 38:20 - loss: 0.7863 - mae: 0.50 - ETA: 36:19 - loss: 0.7861 - mae: 0.50 - ETA: 34:18 - loss: 0.7854 - mae: 0.50 - ETA: 32:16 - loss: 0.7847 - mae: 0.50 - ETA: 30:15 - loss: 0.7841 - mae: 0.50 - ETA: 28:14 - loss: 0.7840 - mae: 0.50 - ETA: 26:13 - loss: 0.7837 - mae: 0.50 - ETA: 24:12 - loss: 0.7837 - mae: 0.50 - ETA: 22:11 - loss: 0.7838 - mae: 0.50 - ETA: 20:10 - loss: 0.7830 - mae: 0.50 - ETA: 18:09 - loss: 0.7820 - mae: 0.50 - ETA: 16:08 - loss: 0.7814 - mae: 0.50 - ETA: 14:07 - loss: 0.7807 - mae: 0.50 - ETA: 12:06 - loss: 0.7800 - mae: 0.50 - ETA: 10:04 - loss: 0.7796 - mae: 0.50 - ETA: 8:03 - loss: 0.7790 - mae: 0.5009 - ETA: 6:02 - loss: 0.7789 - mae: 0.500 - ETA: 4:01 - loss: 0.7788 - mae: 0.500 - ETA: 2:00 - loss: 0.7789 - mae: 0.5005\n",
      "Epoch 00008: saving model to ./checkpoint/ver_loss_new/v01_ep08-loss0.77856.ckpt\n",
      "299/299 [==============================] - 36079s 121s/step - loss: 0.7789 - mae: 0.4992\n",
      "Epoch 9/12\n"
     ]
    },
    {
     "name": "stdout",
     "output_type": "stream",
     "text": [
      "194/299 [==================>...........] - ETA: 11:59:36 - loss: 0.6190 - mae: 0.330 - ETA: 10:55:38 - loss: 0.5492 - mae: 0.286 - ETA: 10:31:32 - loss: 0.5205 - mae: 0.256 - ETA: 10:18:31 - loss: 0.4829 - mae: 0.243 - ETA: 10:10:11 - loss: 0.4813 - mae: 0.249 - ETA: 10:03:56 - loss: 0.4755 - mae: 0.247 - ETA: 9:59:00 - loss: 0.4909 - mae: 0.257 - ETA: 9:54:43 - loss: 0.4968 - mae: 0.26 - ETA: 9:50:46 - loss: 0.4967 - mae: 0.25 - ETA: 9:47:14 - loss: 0.4880 - mae: 0.25 - ETA: 9:44:17 - loss: 0.4903 - mae: 0.26 - ETA: 9:41:31 - loss: 0.4903 - mae: 0.26 - ETA: 9:38:44 - loss: 0.4853 - mae: 0.26 - ETA: 9:36:09 - loss: 0.4745 - mae: 0.25 - ETA: 9:33:34 - loss: 0.4665 - mae: 0.24 - ETA: 9:31:30 - loss: 0.4661 - mae: 0.24 - ETA: 9:30:30 - loss: 0.4631 - mae: 0.24 - ETA: 9:29:25 - loss: 0.4597 - mae: 0.24 - ETA: 9:28:07 - loss: 0.4544 - mae: 0.23 - ETA: 9:26:22 - loss: 0.4491 - mae: 0.23 - ETA: 9:27:50 - loss: 0.4466 - mae: 0.23 - ETA: 9:25:51 - loss: 0.4468 - mae: 0.24 - ETA: 9:23:33 - loss: 0.4469 - mae: 0.24 - ETA: 9:21:18 - loss: 0.4416 - mae: 0.23 - ETA: 9:19:04 - loss: 0.4405 - mae: 0.23 - ETA: 9:16:50 - loss: 0.4407 - mae: 0.23 - ETA: 9:14:38 - loss: 0.4393 - mae: 0.23 - ETA: 9:12:25 - loss: 0.4434 - mae: 0.24 - ETA: 9:10:16 - loss: 0.4519 - mae: 0.24 - ETA: 9:08:05 - loss: 0.4587 - mae: 0.25 - ETA: 9:05:48 - loss: 0.4696 - mae: 0.26 - ETA: 9:03:25 - loss: 0.4710 - mae: 0.26 - ETA: 9:01:03 - loss: 0.4725 - mae: 0.26 - ETA: 8:58:40 - loss: 0.4754 - mae: 0.26 - ETA: 8:56:24 - loss: 0.4802 - mae: 0.27 - ETA: 8:54:05 - loss: 0.4843 - mae: 0.27 - ETA: 8:51:48 - loss: 0.4882 - mae: 0.28 - ETA: 8:49:28 - loss: 0.4913 - mae: 0.28 - ETA: 8:47:10 - loss: 0.4968 - mae: 0.28 - ETA: 8:44:54 - loss: 0.5022 - mae: 0.29 - ETA: 8:42:38 - loss: 0.5097 - mae: 0.29 - ETA: 8:40:21 - loss: 0.5184 - mae: 0.30 - ETA: 8:38:06 - loss: 0.5267 - mae: 0.31 - ETA: 8:35:54 - loss: 0.5339 - mae: 0.31 - ETA: 8:33:46 - loss: 0.5425 - mae: 0.32 - ETA: 8:31:36 - loss: 0.5485 - mae: 0.32 - ETA: 8:29:24 - loss: 0.5534 - mae: 0.33 - ETA: 8:27:13 - loss: 0.5653 - mae: 0.34 - ETA: 8:25:01 - loss: 0.5727 - mae: 0.34 - ETA: 8:22:46 - loss: 0.5779 - mae: 0.35 - ETA: 8:20:36 - loss: 0.5862 - mae: 0.35 - ETA: 8:18:24 - loss: 0.5896 - mae: 0.36 - ETA: 8:16:17 - loss: 0.6018 - mae: 0.37 - ETA: 8:14:07 - loss: 0.6098 - mae: 0.37 - ETA: 8:11:59 - loss: 0.6127 - mae: 0.37 - ETA: 8:09:50 - loss: 0.6154 - mae: 0.38 - ETA: 8:07:42 - loss: 0.6212 - mae: 0.38 - ETA: 8:05:36 - loss: 0.6286 - mae: 0.39 - ETA: 8:03:30 - loss: 0.6351 - mae: 0.39 - ETA: 8:01:20 - loss: 0.6451 - mae: 0.40 - ETA: 7:59:13 - loss: 0.6513 - mae: 0.41 - ETA: 7:57:07 - loss: 0.6647 - mae: 0.42 - ETA: 7:55:02 - loss: 0.6739 - mae: 0.42 - ETA: 7:52:54 - loss: 0.6845 - mae: 0.43 - ETA: 7:50:48 - loss: 0.6909 - mae: 0.44 - ETA: 7:48:41 - loss: 0.6948 - mae: 0.44 - ETA: 7:46:36 - loss: 0.6985 - mae: 0.45 - ETA: 7:44:29 - loss: 0.7028 - mae: 0.45 - ETA: 7:42:23 - loss: 0.7087 - mae: 0.45 - ETA: 7:40:17 - loss: 0.7149 - mae: 0.46 - ETA: 7:38:14 - loss: 0.7214 - mae: 0.46 - ETA: 7:36:08 - loss: 0.7268 - mae: 0.47 - ETA: 7:34:05 - loss: 0.7287 - mae: 0.47 - ETA: 7:31:58 - loss: 0.7341 - mae: 0.47 - ETA: 7:29:53 - loss: 0.7398 - mae: 0.48 - ETA: 7:27:51 - loss: 0.7456 - mae: 0.48 - ETA: 7:25:47 - loss: 0.7511 - mae: 0.49 - ETA: 7:23:44 - loss: 0.7549 - mae: 0.49 - ETA: 7:21:39 - loss: 0.7584 - mae: 0.49 - ETA: 7:19:34 - loss: 0.7613 - mae: 0.49 - ETA: 7:17:30 - loss: 0.7638 - mae: 0.50 - ETA: 7:15:25 - loss: 0.7661 - mae: 0.50 - ETA: 7:13:22 - loss: 0.7675 - mae: 0.50 - ETA: 7:11:17 - loss: 0.7718 - mae: 0.50 - ETA: 7:09:13 - loss: 0.7767 - mae: 0.50 - ETA: 7:07:11 - loss: 0.7750 - mae: 0.50 - ETA: 7:05:08 - loss: 0.7763 - mae: 0.50 - ETA: 7:03:05 - loss: 0.7759 - mae: 0.50 - ETA: 7:01:03 - loss: 0.7769 - mae: 0.50 - ETA: 6:59:01 - loss: 0.7772 - mae: 0.50 - ETA: 6:56:58 - loss: 0.7754 - mae: 0.50 - ETA: 6:54:55 - loss: 0.7729 - mae: 0.50 - ETA: 6:52:52 - loss: 0.7711 - mae: 0.50 - ETA: 6:50:48 - loss: 0.7693 - mae: 0.50 - ETA: 6:48:44 - loss: 0.7672 - mae: 0.50 - ETA: 6:46:42 - loss: 0.7671 - mae: 0.50 - ETA: 6:44:41 - loss: 0.7654 - mae: 0.49 - ETA: 6:42:40 - loss: 0.7667 - mae: 0.49 - ETA: 6:40:38 - loss: 0.7671 - mae: 0.49 - ETA: 6:38:36 - loss: 0.7698 - mae: 0.50 - ETA: 6:36:35 - loss: 0.7670 - mae: 0.49 - ETA: 6:34:35 - loss: 0.7660 - mae: 0.49 - ETA: 6:32:34 - loss: 0.7641 - mae: 0.49 - ETA: 6:30:32 - loss: 0.7637 - mae: 0.49 - ETA: 6:28:30 - loss: 0.7640 - mae: 0.49 - ETA: 6:26:29 - loss: 0.7622 - mae: 0.49 - ETA: 6:24:26 - loss: 0.7604 - mae: 0.49 - ETA: 6:22:25 - loss: 0.7583 - mae: 0.49 - ETA: 6:20:25 - loss: 0.7565 - mae: 0.48 - ETA: 6:18:24 - loss: 0.7560 - mae: 0.48 - ETA: 6:16:21 - loss: 0.7554 - mae: 0.48 - ETA: 6:14:20 - loss: 0.7532 - mae: 0.48 - ETA: 6:12:18 - loss: 0.7511 - mae: 0.48 - ETA: 6:10:18 - loss: 0.7491 - mae: 0.48 - ETA: 6:08:16 - loss: 0.7465 - mae: 0.48 - ETA: 6:06:14 - loss: 0.7433 - mae: 0.47 - ETA: 6:04:13 - loss: 0.7414 - mae: 0.47 - ETA: 6:02:13 - loss: 0.7395 - mae: 0.47 - ETA: 6:00:12 - loss: 0.7378 - mae: 0.47 - ETA: 5:58:11 - loss: 0.7361 - mae: 0.47 - ETA: 5:56:10 - loss: 0.7343 - mae: 0.47 - ETA: 5:54:09 - loss: 0.7338 - mae: 0.47 - ETA: 5:52:08 - loss: 0.7325 - mae: 0.47 - ETA: 5:50:07 - loss: 0.7303 - mae: 0.46 - ETA: 5:48:06 - loss: 0.7283 - mae: 0.46 - ETA: 5:46:05 - loss: 0.7258 - mae: 0.46 - ETA: 5:44:04 - loss: 0.7230 - mae: 0.46 - ETA: 5:42:02 - loss: 0.7210 - mae: 0.46 - ETA: 5:40:01 - loss: 0.7187 - mae: 0.46 - ETA: 5:38:00 - loss: 0.7182 - mae: 0.46 - ETA: 5:35:58 - loss: 0.7166 - mae: 0.45 - ETA: 5:33:58 - loss: 0.7164 - mae: 0.45 - ETA: 5:31:57 - loss: 0.7156 - mae: 0.45 - ETA: 5:29:55 - loss: 0.7157 - mae: 0.45 - ETA: 5:27:54 - loss: 0.7148 - mae: 0.45 - ETA: 5:25:53 - loss: 0.7134 - mae: 0.45 - ETA: 5:23:51 - loss: 0.7118 - mae: 0.45 - ETA: 5:21:51 - loss: 0.7116 - mae: 0.45 - ETA: 5:19:51 - loss: 0.7109 - mae: 0.45 - ETA: 5:17:49 - loss: 0.7124 - mae: 0.45 - ETA: 5:15:48 - loss: 0.7123 - mae: 0.45 - ETA: 5:13:48 - loss: 0.7129 - mae: 0.45 - ETA: 5:11:48 - loss: 0.7142 - mae: 0.45 - ETA: 5:09:47 - loss: 0.7145 - mae: 0.45 - ETA: 5:07:46 - loss: 0.7141 - mae: 0.45 - ETA: 5:05:45 - loss: 0.7150 - mae: 0.45 - ETA: 5:03:44 - loss: 0.7157 - mae: 0.45 - ETA: 5:01:44 - loss: 0.7178 - mae: 0.46 - ETA: 4:59:44 - loss: 0.7176 - mae: 0.46 - ETA: 4:57:43 - loss: 0.7185 - mae: 0.46 - ETA: 4:55:42 - loss: 0.7201 - mae: 0.46 - ETA: 4:53:42 - loss: 0.7211 - mae: 0.46 - ETA: 4:51:41 - loss: 0.7223 - mae: 0.46 - ETA: 4:49:40 - loss: 0.7238 - mae: 0.46 - ETA: 4:47:40 - loss: 0.7257 - mae: 0.46 - ETA: 4:45:39 - loss: 0.7292 - mae: 0.47 - ETA: 4:43:38 - loss: 0.7306 - mae: 0.47 - ETA: 4:41:38 - loss: 0.7336 - mae: 0.47 - ETA: 4:39:38 - loss: 0.7359 - mae: 0.47 - ETA: 4:37:38 - loss: 0.7369 - mae: 0.47 - ETA: 4:35:38 - loss: 0.7371 - mae: 0.47 - ETA: 4:33:37 - loss: 0.7371 - mae: 0.47 - ETA: 4:31:36 - loss: 0.7377 - mae: 0.47 - ETA: 4:29:36 - loss: 0.7393 - mae: 0.47 - ETA: 4:27:35 - loss: 0.7411 - mae: 0.47 - ETA: 4:25:35 - loss: 0.7443 - mae: 0.48 - ETA: 4:23:35 - loss: 0.7468 - mae: 0.48 - ETA: 4:21:35 - loss: 0.7482 - mae: 0.48 - ETA: 4:19:35 - loss: 0.7482 - mae: 0.48 - ETA: 4:17:34 - loss: 0.7500 - mae: 0.48 - ETA: 4:15:34 - loss: 0.7515 - mae: 0.48 - ETA: 4:13:34 - loss: 0.7514 - mae: 0.48 - ETA: 4:11:34 - loss: 0.7512 - mae: 0.48 - ETA: 4:09:33 - loss: 0.7512 - mae: 0.48 - ETA: 4:07:32 - loss: 0.7514 - mae: 0.48 - ETA: 4:05:32 - loss: 0.7525 - mae: 0.48 - ETA: 4:03:32 - loss: 0.7541 - mae: 0.48 - ETA: 4:01:32 - loss: 0.7570 - mae: 0.49 - ETA: 3:59:32 - loss: 0.7584 - mae: 0.49 - ETA: 3:57:32 - loss: 0.7627 - mae: 0.49 - ETA: 3:55:32 - loss: 0.7618 - mae: 0.49 - ETA: 3:53:32 - loss: 0.7621 - mae: 0.49 - ETA: 3:51:31 - loss: 0.7618 - mae: 0.49 - ETA: 3:49:32 - loss: 0.7618 - mae: 0.49 - ETA: 3:47:31 - loss: 0.7628 - mae: 0.49 - ETA: 3:45:31 - loss: 0.7627 - mae: 0.49 - ETA: 3:43:31 - loss: 0.7630 - mae: 0.49 - ETA: 3:41:31 - loss: 0.7623 - mae: 0.49 - ETA: 3:39:31 - loss: 0.7618 - mae: 0.49 - ETA: 3:37:31 - loss: 0.7608 - mae: 0.49 - ETA: 3:35:31 - loss: 0.7601 - mae: 0.49 - ETA: 3:33:31 - loss: 0.7591 - mae: 0.49 - ETA: 3:31:31 - loss: 0.7600 - mae: 0.49 - ETA: 3:29:31 - loss: 0.7606 - mae: 0.4949298/299 [============================>.] - ETA: 3:27:31 - loss: 0.7601 - mae: 0.49 - ETA: 3:25:32 - loss: 0.7596 - mae: 0.49 - ETA: 3:23:31 - loss: 0.7582 - mae: 0.49 - ETA: 3:21:31 - loss: 0.7574 - mae: 0.49 - ETA: 3:19:31 - loss: 0.7566 - mae: 0.49 - ETA: 3:17:32 - loss: 0.7558 - mae: 0.49 - ETA: 3:15:32 - loss: 0.7551 - mae: 0.49 - ETA: 3:13:32 - loss: 0.7547 - mae: 0.49 - ETA: 3:11:32 - loss: 0.7547 - mae: 0.49 - ETA: 3:09:38 - loss: 0.7534 - mae: 0.48 - ETA: 3:07:39 - loss: 0.7526 - mae: 0.48 - ETA: 3:05:39 - loss: 0.7518 - mae: 0.48 - ETA: 3:03:39 - loss: 0.7514 - mae: 0.48 - ETA: 3:01:39 - loss: 0.7513 - mae: 0.48 - ETA: 2:59:39 - loss: 0.7505 - mae: 0.48 - ETA: 2:57:39 - loss: 0.7493 - mae: 0.48 - ETA: 2:55:39 - loss: 0.7483 - mae: 0.48 - ETA: 2:53:39 - loss: 0.7473 - mae: 0.48 - ETA: 2:51:39 - loss: 0.7457 - mae: 0.48 - ETA: 2:49:39 - loss: 0.7443 - mae: 0.48 - ETA: 2:47:40 - loss: 0.7428 - mae: 0.48 - ETA: 2:45:39 - loss: 0.7429 - mae: 0.48 - ETA: 2:43:39 - loss: 0.7421 - mae: 0.47 - ETA: 2:41:39 - loss: 0.7404 - mae: 0.47 - ETA: 2:39:39 - loss: 0.7399 - mae: 0.47 - ETA: 2:37:40 - loss: 0.7394 - mae: 0.47 - ETA: 2:35:40 - loss: 0.7383 - mae: 0.47 - ETA: 2:33:40 - loss: 0.7382 - mae: 0.47 - ETA: 2:31:40 - loss: 0.7372 - mae: 0.47 - ETA: 2:29:40 - loss: 0.7356 - mae: 0.47 - ETA: 2:27:40 - loss: 0.7345 - mae: 0.47 - ETA: 2:25:40 - loss: 0.7332 - mae: 0.47 - ETA: 2:23:41 - loss: 0.7327 - mae: 0.47 - ETA: 2:21:41 - loss: 0.7317 - mae: 0.47 - ETA: 2:19:41 - loss: 0.7316 - mae: 0.47 - ETA: 2:17:42 - loss: 0.7307 - mae: 0.47 - ETA: 2:15:42 - loss: 0.7302 - mae: 0.47 - ETA: 2:13:42 - loss: 0.7302 - mae: 0.47 - ETA: 2:11:42 - loss: 0.7306 - mae: 0.47 - ETA: 2:09:42 - loss: 0.7305 - mae: 0.47 - ETA: 2:07:43 - loss: 0.7295 - mae: 0.47 - ETA: 2:05:44 - loss: 0.7292 - mae: 0.47 - ETA: 2:03:45 - loss: 0.7289 - mae: 0.47 - ETA: 2:01:47 - loss: 0.7280 - mae: 0.46 - ETA: 1:59:48 - loss: 0.7292 - mae: 0.47 - ETA: 1:57:49 - loss: 0.7296 - mae: 0.47 - ETA: 1:55:50 - loss: 0.7301 - mae: 0.47 - ETA: 1:53:52 - loss: 0.7319 - mae: 0.47 - ETA: 1:51:54 - loss: 0.7337 - mae: 0.47 - ETA: 1:49:55 - loss: 0.7355 - mae: 0.47 - ETA: 1:47:56 - loss: 0.7353 - mae: 0.47 - ETA: 1:45:57 - loss: 0.7359 - mae: 0.47 - ETA: 1:43:57 - loss: 0.7360 - mae: 0.47 - ETA: 1:41:58 - loss: 0.7366 - mae: 0.47 - ETA: 1:39:59 - loss: 0.7377 - mae: 0.47 - ETA: 1:38:00 - loss: 0.7398 - mae: 0.47 - ETA: 1:36:01 - loss: 0.7414 - mae: 0.48 - ETA: 1:34:02 - loss: 0.7443 - mae: 0.48 - ETA: 1:32:02 - loss: 0.7461 - mae: 0.48 - ETA: 1:30:03 - loss: 0.7478 - mae: 0.48 - ETA: 1:28:04 - loss: 0.7494 - mae: 0.48 - ETA: 1:26:04 - loss: 0.7515 - mae: 0.48 - ETA: 1:24:05 - loss: 0.7532 - mae: 0.49 - ETA: 1:22:05 - loss: 0.7543 - mae: 0.49 - ETA: 1:20:06 - loss: 0.7560 - mae: 0.49 - ETA: 1:18:06 - loss: 0.7566 - mae: 0.49 - ETA: 1:16:05 - loss: 0.7587 - mae: 0.49 - ETA: 1:14:05 - loss: 0.7604 - mae: 0.49 - ETA: 1:12:05 - loss: 0.7630 - mae: 0.49 - ETA: 1:10:05 - loss: 0.7646 - mae: 0.50 - ETA: 1:08:05 - loss: 0.7658 - mae: 0.50 - ETA: 1:06:05 - loss: 0.7671 - mae: 0.50 - ETA: 1:04:05 - loss: 0.7673 - mae: 0.50 - ETA: 1:02:05 - loss: 0.7681 - mae: 0.50 - ETA: 1:00:05 - loss: 0.7693 - mae: 0.50 - ETA: 58:05 - loss: 0.7692 - mae: 0.5044 - ETA: 56:05 - loss: 0.7692 - mae: 0.50 - ETA: 54:05 - loss: 0.7686 - mae: 0.50 - ETA: 52:05 - loss: 0.7692 - mae: 0.50 - ETA: 50:04 - loss: 0.7687 - mae: 0.50 - ETA: 48:04 - loss: 0.7680 - mae: 0.50 - ETA: 46:04 - loss: 0.7675 - mae: 0.50 - ETA: 44:04 - loss: 0.7670 - mae: 0.50 - ETA: 42:04 - loss: 0.7669 - mae: 0.50 - ETA: 40:04 - loss: 0.7667 - mae: 0.50 - ETA: 38:04 - loss: 0.7671 - mae: 0.50 - ETA: 36:03 - loss: 0.7668 - mae: 0.50 - ETA: 34:03 - loss: 0.7661 - mae: 0.50 - ETA: 32:03 - loss: 0.7655 - mae: 0.50 - ETA: 30:03 - loss: 0.7648 - mae: 0.50 - ETA: 28:03 - loss: 0.7647 - mae: 0.50 - ETA: 26:03 - loss: 0.7645 - mae: 0.50 - ETA: 24:02 - loss: 0.7644 - mae: 0.50 - ETA: 22:02 - loss: 0.7646 - mae: 0.50 - ETA: 20:02 - loss: 0.7637 - mae: 0.49 - ETA: 18:02 - loss: 0.7627 - mae: 0.49 - ETA: 16:02 - loss: 0.7622 - mae: 0.49 - ETA: 14:01 - loss: 0.7615 - mae: 0.49 - ETA: 12:01 - loss: 0.7608 - mae: 0.49 - ETA: 10:01 - loss: 0.7604 - mae: 0.49 - ETA: 8:01 - loss: 0.7599 - mae: 0.4962 - ETA: 6:00 - loss: 0.7597 - mae: 0.496 - ETA: 4:00 - loss: 0.7597 - mae: 0.495 - ETA: 2:00 - loss: 0.7597 - mae: 0.4957\n",
      "Epoch 00009: saving model to ./checkpoint/ver_loss_new/v01_ep09-loss0.75941.ckpt\n",
      "299/299 [==============================] - 35875s 120s/step - loss: 0.7597 - mae: 0.4945\n",
      "Epoch 10/12\n"
     ]
    },
    {
     "name": "stdout",
     "output_type": "stream",
     "text": [
      "194/299 [==================>...........] - ETA: 11:54:30 - loss: 0.6049 - mae: 0.328 - ETA: 10:57:05 - loss: 0.5332 - mae: 0.283 - ETA: 10:36:22 - loss: 0.5011 - mae: 0.253 - ETA: 10:25:26 - loss: 0.4647 - mae: 0.241 - ETA: 10:17:26 - loss: 0.4650 - mae: 0.246 - ETA: 10:11:51 - loss: 0.4596 - mae: 0.245 - ETA: 10:06:58 - loss: 0.4753 - mae: 0.255 - ETA: 10:02:52 - loss: 0.4821 - mae: 0.260 - ETA: 9:59:19 - loss: 0.4814 - mae: 0.256 - ETA: 9:56:15 - loss: 0.4732 - mae: 0.25 - ETA: 9:53:14 - loss: 0.4754 - mae: 0.25 - ETA: 9:50:34 - loss: 0.4751 - mae: 0.25 - ETA: 9:47:44 - loss: 0.4703 - mae: 0.25 - ETA: 9:45:09 - loss: 0.4598 - mae: 0.25 - ETA: 9:42:41 - loss: 0.4521 - mae: 0.24 - ETA: 9:40:19 - loss: 0.4517 - mae: 0.24 - ETA: 9:37:49 - loss: 0.4485 - mae: 0.24 - ETA: 9:35:25 - loss: 0.4452 - mae: 0.23 - ETA: 9:33:05 - loss: 0.4402 - mae: 0.23 - ETA: 9:30:49 - loss: 0.4351 - mae: 0.23 - ETA: 9:28:27 - loss: 0.4327 - mae: 0.23 - ETA: 9:26:10 - loss: 0.4331 - mae: 0.23 - ETA: 9:23:56 - loss: 0.4334 - mae: 0.23 - ETA: 9:21:47 - loss: 0.4284 - mae: 0.23 - ETA: 9:19:37 - loss: 0.4271 - mae: 0.23 - ETA: 9:17:26 - loss: 0.4274 - mae: 0.23 - ETA: 9:15:15 - loss: 0.4261 - mae: 0.23 - ETA: 9:13:01 - loss: 0.4301 - mae: 0.23 - ETA: 9:10:50 - loss: 0.4386 - mae: 0.24 - ETA: 9:08:41 - loss: 0.4451 - mae: 0.25 - ETA: 9:06:33 - loss: 0.4557 - mae: 0.25 - ETA: 9:04:25 - loss: 0.4571 - mae: 0.25 - ETA: 9:02:20 - loss: 0.4589 - mae: 0.26 - ETA: 9:00:10 - loss: 0.4618 - mae: 0.26 - ETA: 8:58:01 - loss: 0.4665 - mae: 0.26 - ETA: 8:55:54 - loss: 0.4708 - mae: 0.27 - ETA: 8:53:48 - loss: 0.4748 - mae: 0.27 - ETA: 8:51:44 - loss: 0.4777 - mae: 0.28 - ETA: 8:49:37 - loss: 0.4833 - mae: 0.28 - ETA: 8:47:32 - loss: 0.4887 - mae: 0.29 - ETA: 8:45:34 - loss: 0.4961 - mae: 0.29 - ETA: 8:43:36 - loss: 0.5047 - mae: 0.30 - ETA: 8:41:37 - loss: 0.5129 - mae: 0.31 - ETA: 8:40:11 - loss: 0.5203 - mae: 0.31 - ETA: 8:38:10 - loss: 0.5288 - mae: 0.32 - ETA: 8:36:03 - loss: 0.5348 - mae: 0.32 - ETA: 8:33:58 - loss: 0.5397 - mae: 0.32 - ETA: 8:31:51 - loss: 0.5514 - mae: 0.33 - ETA: 8:29:46 - loss: 0.5588 - mae: 0.34 - ETA: 8:27:41 - loss: 0.5639 - mae: 0.34 - ETA: 8:25:35 - loss: 0.5722 - mae: 0.35 - ETA: 8:23:29 - loss: 0.5757 - mae: 0.35 - ETA: 8:21:24 - loss: 0.5876 - mae: 0.36 - ETA: 8:19:19 - loss: 0.5956 - mae: 0.37 - ETA: 8:17:14 - loss: 0.5984 - mae: 0.37 - ETA: 8:15:09 - loss: 0.6012 - mae: 0.37 - ETA: 8:13:07 - loss: 0.6070 - mae: 0.38 - ETA: 8:11:01 - loss: 0.6144 - mae: 0.38 - ETA: 8:08:58 - loss: 0.6209 - mae: 0.39 - ETA: 8:06:54 - loss: 0.6310 - mae: 0.40 - ETA: 8:04:50 - loss: 0.6373 - mae: 0.40 - ETA: 8:02:46 - loss: 0.6505 - mae: 0.41 - ETA: 8:00:42 - loss: 0.6595 - mae: 0.42 - ETA: 7:58:38 - loss: 0.6700 - mae: 0.43 - ETA: 7:56:34 - loss: 0.6764 - mae: 0.44 - ETA: 7:54:30 - loss: 0.6805 - mae: 0.44 - ETA: 7:52:29 - loss: 0.6842 - mae: 0.44 - ETA: 7:50:24 - loss: 0.6884 - mae: 0.44 - ETA: 7:48:22 - loss: 0.6942 - mae: 0.45 - ETA: 7:46:17 - loss: 0.7005 - mae: 0.45 - ETA: 7:44:16 - loss: 0.7069 - mae: 0.46 - ETA: 7:42:12 - loss: 0.7123 - mae: 0.46 - ETA: 7:40:09 - loss: 0.7142 - mae: 0.46 - ETA: 7:38:11 - loss: 0.7195 - mae: 0.47 - ETA: 7:36:08 - loss: 0.7251 - mae: 0.47 - ETA: 7:34:05 - loss: 0.7307 - mae: 0.48 - ETA: 7:32:02 - loss: 0.7360 - mae: 0.48 - ETA: 7:30:00 - loss: 0.7398 - mae: 0.49 - ETA: 7:28:01 - loss: 0.7432 - mae: 0.49 - ETA: 7:25:57 - loss: 0.7460 - mae: 0.49 - ETA: 7:23:53 - loss: 0.7484 - mae: 0.49 - ETA: 7:21:49 - loss: 0.7507 - mae: 0.49 - ETA: 7:19:45 - loss: 0.7520 - mae: 0.49 - ETA: 7:17:41 - loss: 0.7562 - mae: 0.50 - ETA: 7:15:38 - loss: 0.7611 - mae: 0.50 - ETA: 7:14:15 - loss: 0.7594 - mae: 0.50 - ETA: 7:12:11 - loss: 0.7608 - mae: 0.50 - ETA: 7:10:10 - loss: 0.7605 - mae: 0.50 - ETA: 7:08:09 - loss: 0.7614 - mae: 0.50 - ETA: 7:06:12 - loss: 0.7616 - mae: 0.50 - ETA: 7:04:10 - loss: 0.7598 - mae: 0.50 - ETA: 7:02:09 - loss: 0.7572 - mae: 0.50 - ETA: 7:00:06 - loss: 0.7554 - mae: 0.49 - ETA: 6:58:04 - loss: 0.7536 - mae: 0.49 - ETA: 6:56:01 - loss: 0.7515 - mae: 0.49 - ETA: 6:53:59 - loss: 0.7513 - mae: 0.49 - ETA: 6:51:56 - loss: 0.7496 - mae: 0.49 - ETA: 6:49:53 - loss: 0.7508 - mae: 0.49 - ETA: 6:47:49 - loss: 0.7512 - mae: 0.49 - ETA: 6:45:47 - loss: 0.7539 - mae: 0.49 - ETA: 6:43:45 - loss: 0.7511 - mae: 0.49 - ETA: 6:41:42 - loss: 0.7500 - mae: 0.49 - ETA: 6:39:38 - loss: 0.7481 - mae: 0.49 - ETA: 6:37:36 - loss: 0.7477 - mae: 0.49 - ETA: 6:35:35 - loss: 0.7481 - mae: 0.49 - ETA: 6:33:33 - loss: 0.7463 - mae: 0.49 - ETA: 6:31:32 - loss: 0.7445 - mae: 0.48 - ETA: 6:29:30 - loss: 0.7424 - mae: 0.48 - ETA: 6:27:28 - loss: 0.7405 - mae: 0.48 - ETA: 6:25:25 - loss: 0.7401 - mae: 0.48 - ETA: 6:23:22 - loss: 0.7394 - mae: 0.48 - ETA: 6:21:19 - loss: 0.7373 - mae: 0.48 - ETA: 6:19:15 - loss: 0.7351 - mae: 0.48 - ETA: 6:17:11 - loss: 0.7331 - mae: 0.47 - ETA: 6:15:08 - loss: 0.7306 - mae: 0.47 - ETA: 6:13:04 - loss: 0.7274 - mae: 0.47 - ETA: 6:11:01 - loss: 0.7255 - mae: 0.47 - ETA: 6:08:57 - loss: 0.7237 - mae: 0.47 - ETA: 6:06:54 - loss: 0.7219 - mae: 0.47 - ETA: 6:04:51 - loss: 0.7203 - mae: 0.47 - ETA: 6:02:47 - loss: 0.7186 - mae: 0.46 - ETA: 6:00:44 - loss: 0.7180 - mae: 0.46 - ETA: 5:58:41 - loss: 0.7168 - mae: 0.46 - ETA: 5:56:37 - loss: 0.7145 - mae: 0.46 - ETA: 5:54:34 - loss: 0.7126 - mae: 0.46 - ETA: 5:52:31 - loss: 0.7102 - mae: 0.46 - ETA: 5:50:28 - loss: 0.7075 - mae: 0.46 - ETA: 5:48:25 - loss: 0.7054 - mae: 0.45 - ETA: 5:46:23 - loss: 0.7031 - mae: 0.45 - ETA: 5:44:21 - loss: 0.7026 - mae: 0.45 - ETA: 5:42:17 - loss: 0.7010 - mae: 0.45 - ETA: 5:40:14 - loss: 0.7007 - mae: 0.45 - ETA: 5:38:11 - loss: 0.7000 - mae: 0.45 - ETA: 5:36:08 - loss: 0.7000 - mae: 0.45 - ETA: 5:34:05 - loss: 0.6991 - mae: 0.45 - ETA: 5:32:02 - loss: 0.6977 - mae: 0.45 - ETA: 5:30:00 - loss: 0.6962 - mae: 0.45 - ETA: 5:27:57 - loss: 0.6961 - mae: 0.45 - ETA: 5:25:54 - loss: 0.6954 - mae: 0.45 - ETA: 5:23:51 - loss: 0.6969 - mae: 0.45 - ETA: 5:21:48 - loss: 0.6969 - mae: 0.45 - ETA: 5:19:45 - loss: 0.6975 - mae: 0.45 - ETA: 5:17:42 - loss: 0.6989 - mae: 0.45 - ETA: 5:15:40 - loss: 0.6992 - mae: 0.45 - ETA: 5:13:37 - loss: 0.6988 - mae: 0.45 - ETA: 5:11:34 - loss: 0.6998 - mae: 0.45 - ETA: 5:09:31 - loss: 0.7004 - mae: 0.45 - ETA: 5:07:29 - loss: 0.7025 - mae: 0.45 - ETA: 5:05:26 - loss: 0.7024 - mae: 0.45 - ETA: 5:03:23 - loss: 0.7032 - mae: 0.45 - ETA: 5:01:20 - loss: 0.7049 - mae: 0.46 - ETA: 4:59:17 - loss: 0.7058 - mae: 0.46 - ETA: 4:57:15 - loss: 0.7071 - mae: 0.46 - ETA: 4:55:12 - loss: 0.7085 - mae: 0.46 - ETA: 4:53:09 - loss: 0.7104 - mae: 0.46 - ETA: 4:51:07 - loss: 0.7139 - mae: 0.46 - ETA: 4:49:04 - loss: 0.7154 - mae: 0.46 - ETA: 4:47:02 - loss: 0.7184 - mae: 0.47 - ETA: 4:45:03 - loss: 0.7207 - mae: 0.47 - ETA: 4:43:02 - loss: 0.7215 - mae: 0.47 - ETA: 4:41:00 - loss: 0.7218 - mae: 0.47 - ETA: 4:39:00 - loss: 0.7218 - mae: 0.47 - ETA: 4:37:04 - loss: 0.7223 - mae: 0.47 - ETA: 4:35:08 - loss: 0.7240 - mae: 0.47 - ETA: 4:33:09 - loss: 0.7257 - mae: 0.47 - ETA: 4:31:09 - loss: 0.7288 - mae: 0.47 - ETA: 4:29:08 - loss: 0.7313 - mae: 0.48 - ETA: 4:27:06 - loss: 0.7326 - mae: 0.48 - ETA: 4:25:04 - loss: 0.7326 - mae: 0.48 - ETA: 4:23:02 - loss: 0.7344 - mae: 0.48 - ETA: 4:21:00 - loss: 0.7359 - mae: 0.48 - ETA: 4:18:58 - loss: 0.7358 - mae: 0.48 - ETA: 4:16:55 - loss: 0.7357 - mae: 0.48 - ETA: 4:14:53 - loss: 0.7357 - mae: 0.48 - ETA: 4:12:51 - loss: 0.7360 - mae: 0.48 - ETA: 4:10:48 - loss: 0.7371 - mae: 0.48 - ETA: 4:08:46 - loss: 0.7386 - mae: 0.48 - ETA: 4:06:43 - loss: 0.7416 - mae: 0.48 - ETA: 4:04:41 - loss: 0.7430 - mae: 0.48 - ETA: 4:02:38 - loss: 0.7473 - mae: 0.49 - ETA: 4:00:35 - loss: 0.7464 - mae: 0.49 - ETA: 3:58:33 - loss: 0.7467 - mae: 0.49 - ETA: 3:56:30 - loss: 0.7464 - mae: 0.49 - ETA: 3:54:28 - loss: 0.7464 - mae: 0.49 - ETA: 3:52:25 - loss: 0.7473 - mae: 0.49 - ETA: 3:50:23 - loss: 0.7472 - mae: 0.49 - ETA: 3:48:20 - loss: 0.7476 - mae: 0.49 - ETA: 3:46:18 - loss: 0.7469 - mae: 0.49 - ETA: 3:44:15 - loss: 0.7464 - mae: 0.49 - ETA: 3:42:13 - loss: 0.7458 - mae: 0.49 - ETA: 3:40:10 - loss: 0.7451 - mae: 0.49 - ETA: 3:38:07 - loss: 0.7442 - mae: 0.49 - ETA: 3:36:05 - loss: 0.7451 - mae: 0.49 - ETA: 3:34:02 - loss: 0.7458 - mae: 0.4914"
     ]
    },
    {
     "name": "stdout",
     "output_type": "stream",
     "text": [
      "298/299 [============================>.] - ETA: 3:32:00 - loss: 0.7454 - mae: 0.49 - ETA: 3:29:58 - loss: 0.7449 - mae: 0.49 - ETA: 3:27:55 - loss: 0.7435 - mae: 0.48 - ETA: 3:25:53 - loss: 0.7427 - mae: 0.48 - ETA: 3:23:50 - loss: 0.7419 - mae: 0.48 - ETA: 3:21:48 - loss: 0.7411 - mae: 0.48 - ETA: 3:19:46 - loss: 0.7404 - mae: 0.48 - ETA: 3:17:45 - loss: 0.7400 - mae: 0.48 - ETA: 3:15:45 - loss: 0.7400 - mae: 0.48 - ETA: 3:13:45 - loss: 0.7387 - mae: 0.48 - ETA: 3:11:43 - loss: 0.7379 - mae: 0.48 - ETA: 3:09:41 - loss: 0.7372 - mae: 0.48 - ETA: 3:07:40 - loss: 0.7367 - mae: 0.48 - ETA: 3:05:37 - loss: 0.7367 - mae: 0.48 - ETA: 3:03:35 - loss: 0.7359 - mae: 0.48 - ETA: 3:01:32 - loss: 0.7347 - mae: 0.48 - ETA: 2:59:29 - loss: 0.7338 - mae: 0.48 - ETA: 2:57:26 - loss: 0.7328 - mae: 0.48 - ETA: 2:55:24 - loss: 0.7313 - mae: 0.47 - ETA: 2:53:21 - loss: 0.7299 - mae: 0.47 - ETA: 2:51:18 - loss: 0.7285 - mae: 0.47 - ETA: 2:49:16 - loss: 0.7285 - mae: 0.47 - ETA: 2:47:13 - loss: 0.7277 - mae: 0.47 - ETA: 2:45:10 - loss: 0.7261 - mae: 0.47 - ETA: 2:43:08 - loss: 0.7256 - mae: 0.47 - ETA: 2:41:05 - loss: 0.7251 - mae: 0.47 - ETA: 2:39:02 - loss: 0.7240 - mae: 0.47 - ETA: 2:37:00 - loss: 0.7239 - mae: 0.47 - ETA: 2:34:58 - loss: 0.7229 - mae: 0.47 - ETA: 2:32:55 - loss: 0.7213 - mae: 0.47 - ETA: 2:30:53 - loss: 0.7203 - mae: 0.47 - ETA: 2:28:51 - loss: 0.7190 - mae: 0.46 - ETA: 2:26:49 - loss: 0.7185 - mae: 0.46 - ETA: 2:24:47 - loss: 0.7176 - mae: 0.46 - ETA: 2:22:45 - loss: 0.7174 - mae: 0.46 - ETA: 2:20:42 - loss: 0.7166 - mae: 0.46 - ETA: 2:18:40 - loss: 0.7161 - mae: 0.46 - ETA: 2:16:37 - loss: 0.7162 - mae: 0.46 - ETA: 2:14:35 - loss: 0.7166 - mae: 0.46 - ETA: 2:12:32 - loss: 0.7165 - mae: 0.46 - ETA: 2:10:30 - loss: 0.7155 - mae: 0.46 - ETA: 2:08:28 - loss: 0.7152 - mae: 0.46 - ETA: 2:06:25 - loss: 0.7150 - mae: 0.46 - ETA: 2:04:23 - loss: 0.7140 - mae: 0.46 - ETA: 2:02:21 - loss: 0.7153 - mae: 0.46 - ETA: 2:00:19 - loss: 0.7156 - mae: 0.46 - ETA: 1:58:16 - loss: 0.7162 - mae: 0.46 - ETA: 1:56:14 - loss: 0.7180 - mae: 0.47 - ETA: 1:54:11 - loss: 0.7198 - mae: 0.47 - ETA: 1:52:09 - loss: 0.7215 - mae: 0.47 - ETA: 1:50:07 - loss: 0.7214 - mae: 0.47 - ETA: 1:48:04 - loss: 0.7220 - mae: 0.47 - ETA: 1:46:02 - loss: 0.7221 - mae: 0.47 - ETA: 1:44:00 - loss: 0.7226 - mae: 0.47 - ETA: 1:41:57 - loss: 0.7238 - mae: 0.47 - ETA: 1:39:55 - loss: 0.7259 - mae: 0.47 - ETA: 1:37:53 - loss: 0.7276 - mae: 0.47 - ETA: 1:35:51 - loss: 0.7304 - mae: 0.48 - ETA: 1:33:48 - loss: 0.7322 - mae: 0.48 - ETA: 1:31:46 - loss: 0.7339 - mae: 0.48 - ETA: 1:29:43 - loss: 0.7355 - mae: 0.48 - ETA: 1:27:41 - loss: 0.7376 - mae: 0.48 - ETA: 1:25:39 - loss: 0.7393 - mae: 0.48 - ETA: 1:23:36 - loss: 0.7404 - mae: 0.48 - ETA: 1:21:34 - loss: 0.7421 - mae: 0.48 - ETA: 1:19:31 - loss: 0.7428 - mae: 0.49 - ETA: 1:17:29 - loss: 0.7448 - mae: 0.49 - ETA: 1:15:26 - loss: 0.7466 - mae: 0.49 - ETA: 1:13:24 - loss: 0.7491 - mae: 0.49 - ETA: 1:11:22 - loss: 0.7508 - mae: 0.49 - ETA: 1:09:21 - loss: 0.7520 - mae: 0.49 - ETA: 1:07:19 - loss: 0.7533 - mae: 0.49 - ETA: 1:05:16 - loss: 0.7536 - mae: 0.49 - ETA: 1:03:14 - loss: 0.7544 - mae: 0.50 - ETA: 1:01:12 - loss: 0.7555 - mae: 0.50 - ETA: 59:09 - loss: 0.7554 - mae: 0.5010 - ETA: 57:07 - loss: 0.7555 - mae: 0.50 - ETA: 55:04 - loss: 0.7549 - mae: 0.50 - ETA: 53:02 - loss: 0.7555 - mae: 0.50 - ETA: 50:59 - loss: 0.7550 - mae: 0.50 - ETA: 48:57 - loss: 0.7543 - mae: 0.49 - ETA: 46:54 - loss: 0.7538 - mae: 0.49 - ETA: 44:52 - loss: 0.7533 - mae: 0.49 - ETA: 42:50 - loss: 0.7532 - mae: 0.49 - ETA: 40:47 - loss: 0.7530 - mae: 0.49 - ETA: 38:45 - loss: 0.7533 - mae: 0.49 - ETA: 36:42 - loss: 0.7531 - mae: 0.49 - ETA: 34:40 - loss: 0.7524 - mae: 0.49 - ETA: 32:38 - loss: 0.7517 - mae: 0.49 - ETA: 30:35 - loss: 0.7511 - mae: 0.49 - ETA: 28:33 - loss: 0.7510 - mae: 0.49 - ETA: 26:30 - loss: 0.7508 - mae: 0.49 - ETA: 24:28 - loss: 0.7507 - mae: 0.49 - ETA: 22:26 - loss: 0.7509 - mae: 0.49 - ETA: 20:23 - loss: 0.7500 - mae: 0.49 - ETA: 18:21 - loss: 0.7490 - mae: 0.49 - ETA: 16:18 - loss: 0.7485 - mae: 0.49 - ETA: 14:16 - loss: 0.7478 - mae: 0.49 - ETA: 12:14 - loss: 0.7471 - mae: 0.49 - ETA: 10:11 - loss: 0.7467 - mae: 0.49 - ETA: 8:09 - loss: 0.7461 - mae: 0.4927 - ETA: 6:07 - loss: 0.7460 - mae: 0.492 - ETA: 4:04 - loss: 0.7459 - mae: 0.492 - ETA: 2:02 - loss: 0.7459 - mae: 0.4922\n",
      "Epoch 00010: saving model to ./checkpoint/ver_loss_new/v01_ep10-loss0.74561.ckpt\n",
      "299/299 [==============================] - 36490s 122s/step - loss: 0.7459 - mae: 0.4910\n",
      "Epoch 11/12\n"
     ]
    },
    {
     "name": "stdout",
     "output_type": "stream",
     "text": [
      "194/299 [==================>...........] - ETA: 12:16:27 - loss: 0.5850 - mae: 0.323 - ETA: 11:08:11 - loss: 0.5160 - mae: 0.280 - ETA: 10:44:28 - loss: 0.4838 - mae: 0.251 - ETA: 10:31:28 - loss: 0.4490 - mae: 0.238 - ETA: 10:22:47 - loss: 0.4500 - mae: 0.244 - ETA: 10:16:16 - loss: 0.4452 - mae: 0.243 - ETA: 10:10:59 - loss: 0.4604 - mae: 0.252 - ETA: 10:06:57 - loss: 0.4678 - mae: 0.257 - ETA: 10:03:10 - loss: 0.4665 - mae: 0.253 - ETA: 9:59:54 - loss: 0.4595 - mae: 0.250 - ETA: 9:56:48 - loss: 0.4621 - mae: 0.25 - ETA: 9:53:50 - loss: 0.4626 - mae: 0.25 - ETA: 9:50:54 - loss: 0.4585 - mae: 0.25 - ETA: 9:48:12 - loss: 0.4480 - mae: 0.25 - ETA: 9:45:41 - loss: 0.4403 - mae: 0.24 - ETA: 9:43:06 - loss: 0.4392 - mae: 0.24 - ETA: 9:40:36 - loss: 0.4360 - mae: 0.23 - ETA: 9:38:11 - loss: 0.4329 - mae: 0.23 - ETA: 9:35:47 - loss: 0.4281 - mae: 0.23 - ETA: 9:33:26 - loss: 0.4231 - mae: 0.23 - ETA: 9:31:03 - loss: 0.4210 - mae: 0.23 - ETA: 9:28:47 - loss: 0.4222 - mae: 0.23 - ETA: 9:26:28 - loss: 0.4228 - mae: 0.23 - ETA: 9:24:11 - loss: 0.4182 - mae: 0.23 - ETA: 9:21:55 - loss: 0.4171 - mae: 0.23 - ETA: 9:19:39 - loss: 0.4174 - mae: 0.23 - ETA: 9:17:28 - loss: 0.4162 - mae: 0.23 - ETA: 9:15:16 - loss: 0.4204 - mae: 0.23 - ETA: 9:13:06 - loss: 0.4289 - mae: 0.24 - ETA: 9:10:57 - loss: 0.4354 - mae: 0.25 - ETA: 9:08:45 - loss: 0.4460 - mae: 0.25 - ETA: 9:06:34 - loss: 0.4476 - mae: 0.25 - ETA: 9:04:25 - loss: 0.4494 - mae: 0.26 - ETA: 9:02:15 - loss: 0.4523 - mae: 0.26 - ETA: 9:00:06 - loss: 0.4570 - mae: 0.26 - ETA: 8:57:57 - loss: 0.4612 - mae: 0.27 - ETA: 8:55:50 - loss: 0.4655 - mae: 0.27 - ETA: 8:53:45 - loss: 0.4684 - mae: 0.27 - ETA: 8:51:35 - loss: 0.4738 - mae: 0.28 - ETA: 8:49:28 - loss: 0.4792 - mae: 0.28 - ETA: 8:47:22 - loss: 0.4867 - mae: 0.29 - ETA: 8:45:14 - loss: 0.4952 - mae: 0.30 - ETA: 8:43:08 - loss: 0.5032 - mae: 0.30 - ETA: 8:41:02 - loss: 0.5105 - mae: 0.31 - ETA: 8:38:59 - loss: 0.5190 - mae: 0.31 - ETA: 8:36:52 - loss: 0.5248 - mae: 0.32 - ETA: 8:34:45 - loss: 0.5297 - mae: 0.32 - ETA: 8:32:39 - loss: 0.5411 - mae: 0.33 - ETA: 8:30:33 - loss: 0.5484 - mae: 0.34 - ETA: 8:28:27 - loss: 0.5533 - mae: 0.34 - ETA: 8:26:22 - loss: 0.5615 - mae: 0.35 - ETA: 8:24:16 - loss: 0.5651 - mae: 0.35 - ETA: 8:22:11 - loss: 0.5769 - mae: 0.36 - ETA: 8:20:06 - loss: 0.5849 - mae: 0.37 - ETA: 8:18:03 - loss: 0.5876 - mae: 0.37 - ETA: 8:15:57 - loss: 0.5901 - mae: 0.37 - ETA: 8:13:52 - loss: 0.5958 - mae: 0.38 - ETA: 8:11:48 - loss: 0.6030 - mae: 0.38 - ETA: 8:09:44 - loss: 0.6095 - mae: 0.39 - ETA: 8:07:41 - loss: 0.6195 - mae: 0.39 - ETA: 8:05:35 - loss: 0.6258 - mae: 0.40 - ETA: 8:03:30 - loss: 0.6390 - mae: 0.41 - ETA: 8:01:26 - loss: 0.6480 - mae: 0.42 - ETA: 7:59:21 - loss: 0.6584 - mae: 0.43 - ETA: 7:57:16 - loss: 0.6648 - mae: 0.43 - ETA: 7:55:11 - loss: 0.6689 - mae: 0.44 - ETA: 7:53:07 - loss: 0.6725 - mae: 0.44 - ETA: 7:51:03 - loss: 0.6765 - mae: 0.44 - ETA: 7:49:00 - loss: 0.6824 - mae: 0.45 - ETA: 7:46:55 - loss: 0.6885 - mae: 0.45 - ETA: 7:44:51 - loss: 0.6949 - mae: 0.46 - ETA: 7:42:47 - loss: 0.7003 - mae: 0.46 - ETA: 7:40:43 - loss: 0.7021 - mae: 0.46 - ETA: 7:38:40 - loss: 0.7074 - mae: 0.47 - ETA: 7:36:35 - loss: 0.7129 - mae: 0.47 - ETA: 7:34:31 - loss: 0.7185 - mae: 0.48 - ETA: 7:32:28 - loss: 0.7238 - mae: 0.48 - ETA: 7:30:24 - loss: 0.7275 - mae: 0.48 - ETA: 7:28:21 - loss: 0.7309 - mae: 0.48 - ETA: 7:26:17 - loss: 0.7337 - mae: 0.49 - ETA: 7:24:13 - loss: 0.7361 - mae: 0.49 - ETA: 7:22:09 - loss: 0.7384 - mae: 0.49 - ETA: 7:20:10 - loss: 0.7397 - mae: 0.49 - ETA: 7:18:06 - loss: 0.7438 - mae: 0.49 - ETA: 7:16:02 - loss: 0.7487 - mae: 0.50 - ETA: 7:13:59 - loss: 0.7470 - mae: 0.50 - ETA: 7:12:05 - loss: 0.7485 - mae: 0.50 - ETA: 7:10:01 - loss: 0.7481 - mae: 0.50 - ETA: 7:07:57 - loss: 0.7491 - mae: 0.50 - ETA: 7:05:52 - loss: 0.7493 - mae: 0.50 - ETA: 7:03:47 - loss: 0.7475 - mae: 0.49 - ETA: 7:01:44 - loss: 0.7450 - mae: 0.49 - ETA: 6:59:38 - loss: 0.7432 - mae: 0.49 - ETA: 6:57:34 - loss: 0.7414 - mae: 0.49 - ETA: 6:55:30 - loss: 0.7393 - mae: 0.49 - ETA: 6:53:26 - loss: 0.7391 - mae: 0.49 - ETA: 6:51:21 - loss: 0.7373 - mae: 0.49 - ETA: 6:49:17 - loss: 0.7385 - mae: 0.49 - ETA: 6:47:12 - loss: 0.7389 - mae: 0.49 - ETA: 6:45:08 - loss: 0.7415 - mae: 0.49 - ETA: 6:43:04 - loss: 0.7386 - mae: 0.49 - ETA: 6:41:00 - loss: 0.7376 - mae: 0.49 - ETA: 6:38:57 - loss: 0.7357 - mae: 0.48 - ETA: 6:36:53 - loss: 0.7351 - mae: 0.48 - ETA: 6:34:50 - loss: 0.7356 - mae: 0.48 - ETA: 6:32:46 - loss: 0.7337 - mae: 0.48 - ETA: 6:30:42 - loss: 0.7320 - mae: 0.48 - ETA: 6:28:38 - loss: 0.7300 - mae: 0.48 - ETA: 6:26:34 - loss: 0.7282 - mae: 0.48 - ETA: 6:24:31 - loss: 0.7276 - mae: 0.48 - ETA: 6:22:27 - loss: 0.7270 - mae: 0.48 - ETA: 6:20:24 - loss: 0.7248 - mae: 0.47 - ETA: 6:18:21 - loss: 0.7226 - mae: 0.47 - ETA: 6:16:18 - loss: 0.7206 - mae: 0.47 - ETA: 6:14:14 - loss: 0.7180 - mae: 0.47 - ETA: 6:12:12 - loss: 0.7149 - mae: 0.47 - ETA: 6:10:08 - loss: 0.7130 - mae: 0.47 - ETA: 6:08:05 - loss: 0.7112 - mae: 0.46 - ETA: 6:06:01 - loss: 0.7095 - mae: 0.46 - ETA: 6:03:58 - loss: 0.7078 - mae: 0.46 - ETA: 6:01:55 - loss: 0.7061 - mae: 0.46 - ETA: 5:59:51 - loss: 0.7056 - mae: 0.46 - ETA: 5:57:48 - loss: 0.7044 - mae: 0.46 - ETA: 5:55:45 - loss: 0.7022 - mae: 0.46 - ETA: 5:53:42 - loss: 0.7003 - mae: 0.46 - ETA: 5:51:39 - loss: 0.6979 - mae: 0.45 - ETA: 5:49:37 - loss: 0.6952 - mae: 0.45 - ETA: 5:47:34 - loss: 0.6932 - mae: 0.45 - ETA: 5:45:32 - loss: 0.6910 - mae: 0.45 - ETA: 5:43:29 - loss: 0.6905 - mae: 0.45 - ETA: 5:41:26 - loss: 0.6889 - mae: 0.45 - ETA: 5:39:23 - loss: 0.6886 - mae: 0.45 - ETA: 5:37:20 - loss: 0.6879 - mae: 0.45 - ETA: 5:35:18 - loss: 0.6878 - mae: 0.45 - ETA: 5:33:15 - loss: 0.6869 - mae: 0.45 - ETA: 5:31:13 - loss: 0.6855 - mae: 0.44 - ETA: 5:29:10 - loss: 0.6839 - mae: 0.44 - ETA: 5:27:08 - loss: 0.6838 - mae: 0.44 - ETA: 5:25:05 - loss: 0.6832 - mae: 0.44 - ETA: 5:23:02 - loss: 0.6847 - mae: 0.44 - ETA: 5:20:59 - loss: 0.6846 - mae: 0.44 - ETA: 5:18:56 - loss: 0.6853 - mae: 0.45 - ETA: 5:16:54 - loss: 0.6867 - mae: 0.45 - ETA: 5:14:51 - loss: 0.6871 - mae: 0.45 - ETA: 5:12:48 - loss: 0.6867 - mae: 0.45 - ETA: 5:11:02 - loss: 0.6877 - mae: 0.45 - ETA: 5:09:00 - loss: 0.6883 - mae: 0.45 - ETA: 5:06:57 - loss: 0.6905 - mae: 0.45 - ETA: 5:04:54 - loss: 0.6902 - mae: 0.45 - ETA: 5:02:51 - loss: 0.6911 - mae: 0.45 - ETA: 5:00:49 - loss: 0.6927 - mae: 0.45 - ETA: 4:58:46 - loss: 0.6936 - mae: 0.45 - ETA: 4:56:43 - loss: 0.6949 - mae: 0.45 - ETA: 4:54:41 - loss: 0.6963 - mae: 0.45 - ETA: 4:52:38 - loss: 0.6982 - mae: 0.46 - ETA: 4:50:34 - loss: 0.7016 - mae: 0.46 - ETA: 4:48:29 - loss: 0.7031 - mae: 0.46 - ETA: 4:46:25 - loss: 0.7061 - mae: 0.46 - ETA: 4:44:21 - loss: 0.7084 - mae: 0.46 - ETA: 4:42:17 - loss: 0.7092 - mae: 0.46 - ETA: 4:40:13 - loss: 0.7095 - mae: 0.46 - ETA: 4:38:09 - loss: 0.7095 - mae: 0.46 - ETA: 4:36:05 - loss: 0.7100 - mae: 0.46 - ETA: 4:34:01 - loss: 0.7117 - mae: 0.47 - ETA: 4:31:57 - loss: 0.7134 - mae: 0.47 - ETA: 4:29:54 - loss: 0.7164 - mae: 0.47 - ETA: 4:27:50 - loss: 0.7188 - mae: 0.47 - ETA: 4:25:46 - loss: 0.7202 - mae: 0.47 - ETA: 4:23:43 - loss: 0.7202 - mae: 0.47 - ETA: 4:21:39 - loss: 0.7220 - mae: 0.47 - ETA: 4:19:36 - loss: 0.7235 - mae: 0.48 - ETA: 4:17:32 - loss: 0.7234 - mae: 0.48 - ETA: 4:15:29 - loss: 0.7232 - mae: 0.48 - ETA: 4:13:26 - loss: 0.7232 - mae: 0.48 - ETA: 4:11:22 - loss: 0.7234 - mae: 0.48 - ETA: 4:09:19 - loss: 0.7245 - mae: 0.48 - ETA: 4:07:17 - loss: 0.7261 - mae: 0.48 - ETA: 4:05:13 - loss: 0.7290 - mae: 0.48 - ETA: 4:03:10 - loss: 0.7304 - mae: 0.48 - ETA: 4:01:07 - loss: 0.7347 - mae: 0.48 - ETA: 3:59:04 - loss: 0.7338 - mae: 0.48 - ETA: 3:57:01 - loss: 0.7341 - mae: 0.48 - ETA: 3:54:58 - loss: 0.7338 - mae: 0.48 - ETA: 3:52:55 - loss: 0.7338 - mae: 0.48 - ETA: 3:50:52 - loss: 0.7347 - mae: 0.48 - ETA: 3:48:50 - loss: 0.7347 - mae: 0.48 - ETA: 3:46:47 - loss: 0.7349 - mae: 0.49 - ETA: 3:44:44 - loss: 0.7342 - mae: 0.48 - ETA: 3:42:41 - loss: 0.7336 - mae: 0.48 - ETA: 3:40:38 - loss: 0.7326 - mae: 0.48 - ETA: 3:38:36 - loss: 0.7319 - mae: 0.48 - ETA: 3:36:33 - loss: 0.7310 - mae: 0.48 - ETA: 3:34:31 - loss: 0.7319 - mae: 0.48 - ETA: 3:32:28 - loss: 0.7324 - mae: 0.4877298/299 [============================>.] - ETA: 3:30:26 - loss: 0.7319 - mae: 0.48 - ETA: 3:28:23 - loss: 0.7315 - mae: 0.48 - ETA: 3:26:20 - loss: 0.7302 - mae: 0.48 - ETA: 3:24:18 - loss: 0.7294 - mae: 0.48 - ETA: 3:22:16 - loss: 0.7286 - mae: 0.48 - ETA: 3:20:13 - loss: 0.7279 - mae: 0.48 - ETA: 3:18:11 - loss: 0.7272 - mae: 0.48 - ETA: 3:16:08 - loss: 0.7268 - mae: 0.48 - ETA: 3:14:06 - loss: 0.7268 - mae: 0.48 - ETA: 3:12:04 - loss: 0.7254 - mae: 0.48 - ETA: 3:10:02 - loss: 0.7246 - mae: 0.48 - ETA: 3:08:00 - loss: 0.7238 - mae: 0.48 - ETA: 3:05:58 - loss: 0.7233 - mae: 0.48 - ETA: 3:03:55 - loss: 0.7233 - mae: 0.47 - ETA: 3:01:53 - loss: 0.7224 - mae: 0.47 - ETA: 2:59:51 - loss: 0.7213 - mae: 0.47 - ETA: 2:57:49 - loss: 0.7204 - mae: 0.47 - ETA: 2:55:47 - loss: 0.7193 - mae: 0.47 - ETA: 2:53:45 - loss: 0.7177 - mae: 0.47 - ETA: 2:51:43 - loss: 0.7163 - mae: 0.47 - ETA: 2:49:41 - loss: 0.7150 - mae: 0.47 - ETA: 2:47:40 - loss: 0.7150 - mae: 0.47 - ETA: 2:45:38 - loss: 0.7142 - mae: 0.47 - ETA: 2:43:36 - loss: 0.7126 - mae: 0.47 - ETA: 2:41:34 - loss: 0.7121 - mae: 0.47 - ETA: 2:39:32 - loss: 0.7116 - mae: 0.47 - ETA: 2:37:31 - loss: 0.7105 - mae: 0.46 - ETA: 2:35:29 - loss: 0.7104 - mae: 0.46 - ETA: 2:33:27 - loss: 0.7094 - mae: 0.46 - ETA: 2:31:25 - loss: 0.7078 - mae: 0.46 - ETA: 2:29:23 - loss: 0.7068 - mae: 0.46 - ETA: 2:27:22 - loss: 0.7055 - mae: 0.46 - ETA: 2:25:20 - loss: 0.7051 - mae: 0.46 - ETA: 2:23:18 - loss: 0.7041 - mae: 0.46 - ETA: 2:21:17 - loss: 0.7039 - mae: 0.46 - ETA: 2:19:15 - loss: 0.7031 - mae: 0.46 - ETA: 2:17:13 - loss: 0.7026 - mae: 0.46 - ETA: 2:15:12 - loss: 0.7026 - mae: 0.46 - ETA: 2:13:10 - loss: 0.7030 - mae: 0.46 - ETA: 2:11:09 - loss: 0.7029 - mae: 0.46 - ETA: 2:09:07 - loss: 0.7020 - mae: 0.46 - ETA: 2:07:05 - loss: 0.7017 - mae: 0.46 - ETA: 2:05:04 - loss: 0.7014 - mae: 0.46 - ETA: 2:03:02 - loss: 0.7005 - mae: 0.46 - ETA: 2:01:01 - loss: 0.7017 - mae: 0.46 - ETA: 1:58:59 - loss: 0.7020 - mae: 0.46 - ETA: 1:56:58 - loss: 0.7026 - mae: 0.46 - ETA: 1:54:57 - loss: 0.7044 - mae: 0.46 - ETA: 1:52:55 - loss: 0.7061 - mae: 0.46 - ETA: 1:50:54 - loss: 0.7078 - mae: 0.46 - ETA: 1:48:53 - loss: 0.7076 - mae: 0.46 - ETA: 1:46:51 - loss: 0.7082 - mae: 0.46 - ETA: 1:44:50 - loss: 0.7083 - mae: 0.46 - ETA: 1:42:48 - loss: 0.7088 - mae: 0.47 - ETA: 1:40:47 - loss: 0.7100 - mae: 0.47 - ETA: 1:38:46 - loss: 0.7120 - mae: 0.47 - ETA: 1:36:45 - loss: 0.7137 - mae: 0.47 - ETA: 1:34:43 - loss: 0.7165 - mae: 0.47 - ETA: 1:32:42 - loss: 0.7183 - mae: 0.47 - ETA: 1:30:41 - loss: 0.7199 - mae: 0.47 - ETA: 1:28:40 - loss: 0.7216 - mae: 0.48 - ETA: 1:26:38 - loss: 0.7236 - mae: 0.48 - ETA: 1:24:37 - loss: 0.7253 - mae: 0.48 - ETA: 1:22:36 - loss: 0.7264 - mae: 0.48 - ETA: 1:20:35 - loss: 0.7281 - mae: 0.48 - ETA: 1:18:34 - loss: 0.7287 - mae: 0.48 - ETA: 1:16:33 - loss: 0.7308 - mae: 0.48 - ETA: 1:14:32 - loss: 0.7325 - mae: 0.48 - ETA: 1:12:30 - loss: 0.7351 - mae: 0.49 - ETA: 1:10:29 - loss: 0.7367 - mae: 0.49 - ETA: 1:08:28 - loss: 0.7379 - mae: 0.49 - ETA: 1:06:27 - loss: 0.7392 - mae: 0.49 - ETA: 1:04:26 - loss: 0.7395 - mae: 0.49 - ETA: 1:02:25 - loss: 0.7403 - mae: 0.49 - ETA: 1:00:24 - loss: 0.7414 - mae: 0.49 - ETA: 58:23 - loss: 0.7413 - mae: 0.4970 - ETA: 56:22 - loss: 0.7414 - mae: 0.49 - ETA: 54:21 - loss: 0.7408 - mae: 0.49 - ETA: 52:20 - loss: 0.7414 - mae: 0.49 - ETA: 50:19 - loss: 0.7409 - mae: 0.49 - ETA: 48:18 - loss: 0.7402 - mae: 0.49 - ETA: 46:17 - loss: 0.7397 - mae: 0.49 - ETA: 44:16 - loss: 0.7393 - mae: 0.49 - ETA: 42:16 - loss: 0.7392 - mae: 0.49 - ETA: 40:15 - loss: 0.7390 - mae: 0.49 - ETA: 38:14 - loss: 0.7393 - mae: 0.49 - ETA: 36:13 - loss: 0.7391 - mae: 0.49 - ETA: 34:12 - loss: 0.7384 - mae: 0.49 - ETA: 32:11 - loss: 0.7377 - mae: 0.49 - ETA: 30:10 - loss: 0.7371 - mae: 0.49 - ETA: 28:10 - loss: 0.7370 - mae: 0.49 - ETA: 26:09 - loss: 0.7367 - mae: 0.49 - ETA: 24:08 - loss: 0.7367 - mae: 0.49 - ETA: 22:07 - loss: 0.7369 - mae: 0.49 - ETA: 20:07 - loss: 0.7360 - mae: 0.49 - ETA: 18:06 - loss: 0.7349 - mae: 0.49 - ETA: 16:05 - loss: 0.7344 - mae: 0.49 - ETA: 14:04 - loss: 0.7337 - mae: 0.49 - ETA: 12:04 - loss: 0.7330 - mae: 0.48 - ETA: 10:03 - loss: 0.7326 - mae: 0.48 - ETA: 8:02 - loss: 0.7321 - mae: 0.4889 - ETA: 6:02 - loss: 0.7319 - mae: 0.488 - ETA: 4:01 - loss: 0.7318 - mae: 0.488 - ETA: 2:00 - loss: 0.7318 - mae: 0.4884\n",
      "Epoch 00011: saving model to ./checkpoint/ver_loss_new/v01_ep11-loss0.73149.ckpt\n",
      "299/299 [==============================] - 35986s 120s/step - loss: 0.7318 - mae: 0.4872\n",
      "Epoch 12/12\n"
     ]
    },
    {
     "name": "stdout",
     "output_type": "stream",
     "text": [
      "194/299 [==================>...........] - ETA: 12:15:10 - loss: 0.5705 - mae: 0.320 - ETA: 11:01:26 - loss: 0.5020 - mae: 0.276 - ETA: 10:36:38 - loss: 0.4683 - mae: 0.248 - ETA: 10:21:12 - loss: 0.4353 - mae: 0.235 - ETA: 10:11:36 - loss: 0.4359 - mae: 0.241 - ETA: 10:05:29 - loss: 0.4319 - mae: 0.240 - ETA: 10:00:51 - loss: 0.4466 - mae: 0.249 - ETA: 9:56:29 - loss: 0.4532 - mae: 0.254 - ETA: 9:52:09 - loss: 0.4513 - mae: 0.25 - ETA: 9:48:19 - loss: 0.4437 - mae: 0.24 - ETA: 9:44:57 - loss: 0.4468 - mae: 0.25 - ETA: 9:41:42 - loss: 0.4475 - mae: 0.25 - ETA: 9:38:46 - loss: 0.4437 - mae: 0.25 - ETA: 9:36:09 - loss: 0.4334 - mae: 0.24 - ETA: 9:33:30 - loss: 0.4260 - mae: 0.24 - ETA: 9:30:52 - loss: 0.4243 - mae: 0.23 - ETA: 9:28:18 - loss: 0.4213 - mae: 0.23 - ETA: 9:25:55 - loss: 0.4184 - mae: 0.23 - ETA: 9:23:28 - loss: 0.4139 - mae: 0.23 - ETA: 9:21:07 - loss: 0.4089 - mae: 0.23 - ETA: 9:18:43 - loss: 0.4074 - mae: 0.23 - ETA: 9:16:16 - loss: 0.4089 - mae: 0.23 - ETA: 9:14:03 - loss: 0.4098 - mae: 0.23 - ETA: 9:11:50 - loss: 0.4054 - mae: 0.23 - ETA: 9:09:29 - loss: 0.4043 - mae: 0.23 - ETA: 9:07:21 - loss: 0.4045 - mae: 0.23 - ETA: 9:05:10 - loss: 0.4032 - mae: 0.23 - ETA: 9:03:06 - loss: 0.4071 - mae: 0.23 - ETA: 9:00:56 - loss: 0.4150 - mae: 0.24 - ETA: 8:58:49 - loss: 0.4214 - mae: 0.24 - ETA: 8:58:57 - loss: 0.4316 - mae: 0.25 - ETA: 8:56:49 - loss: 0.4332 - mae: 0.25 - ETA: 8:54:38 - loss: 0.4353 - mae: 0.25 - ETA: 8:52:29 - loss: 0.4382 - mae: 0.26 - ETA: 8:50:17 - loss: 0.4430 - mae: 0.26 - ETA: 8:48:05 - loss: 0.4472 - mae: 0.26 - ETA: 8:45:58 - loss: 0.4513 - mae: 0.27 - ETA: 8:43:48 - loss: 0.4543 - mae: 0.27 - ETA: 8:41:42 - loss: 0.4598 - mae: 0.28 - ETA: 8:39:37 - loss: 0.4652 - mae: 0.28 - ETA: 8:37:31 - loss: 0.4726 - mae: 0.29 - ETA: 8:35:23 - loss: 0.4809 - mae: 0.29 - ETA: 8:33:14 - loss: 0.4889 - mae: 0.30 - ETA: 8:31:09 - loss: 0.4962 - mae: 0.30 - ETA: 8:29:07 - loss: 0.5047 - mae: 0.31 - ETA: 8:27:01 - loss: 0.5108 - mae: 0.32 - ETA: 8:25:11 - loss: 0.5154 - mae: 0.32 - ETA: 8:23:09 - loss: 0.5268 - mae: 0.33 - ETA: 8:21:18 - loss: 0.5342 - mae: 0.33 - ETA: 8:19:16 - loss: 0.5388 - mae: 0.34 - ETA: 8:17:16 - loss: 0.5470 - mae: 0.34 - ETA: 8:15:46 - loss: 0.5505 - mae: 0.35 - ETA: 8:13:58 - loss: 0.5622 - mae: 0.36 - ETA: 8:12:00 - loss: 0.5702 - mae: 0.36 - ETA: 8:10:00 - loss: 0.5729 - mae: 0.37 - ETA: 8:08:04 - loss: 0.5754 - mae: 0.37 - ETA: 8:06:18 - loss: 0.5811 - mae: 0.37 - ETA: 8:04:33 - loss: 0.5883 - mae: 0.38 - ETA: 8:02:43 - loss: 0.5947 - mae: 0.38 - ETA: 8:00:57 - loss: 0.6046 - mae: 0.39 - ETA: 7:59:32 - loss: 0.6108 - mae: 0.40 - ETA: 7:57:56 - loss: 0.6239 - mae: 0.41 - ETA: 7:56:09 - loss: 0.6327 - mae: 0.41 - ETA: 7:54:28 - loss: 0.6431 - mae: 0.42 - ETA: 7:52:30 - loss: 0.6495 - mae: 0.43 - ETA: 7:50:38 - loss: 0.6536 - mae: 0.43 - ETA: 7:48:40 - loss: 0.6572 - mae: 0.43 - ETA: 7:46:37 - loss: 0.6613 - mae: 0.44 - ETA: 7:44:46 - loss: 0.6672 - mae: 0.44 - ETA: 7:42:54 - loss: 0.6733 - mae: 0.45 - ETA: 7:40:56 - loss: 0.6798 - mae: 0.45 - ETA: 7:39:11 - loss: 0.6852 - mae: 0.46 - ETA: 7:37:08 - loss: 0.6871 - mae: 0.46 - ETA: 7:34:59 - loss: 0.6925 - mae: 0.46 - ETA: 7:32:55 - loss: 0.6981 - mae: 0.47 - ETA: 7:30:54 - loss: 0.7037 - mae: 0.47 - ETA: 7:28:57 - loss: 0.7092 - mae: 0.47 - ETA: 7:26:53 - loss: 0.7131 - mae: 0.48 - ETA: 7:24:51 - loss: 0.7164 - mae: 0.48 - ETA: 7:22:46 - loss: 0.7193 - mae: 0.48 - ETA: 7:20:45 - loss: 0.7217 - mae: 0.48 - ETA: 7:18:43 - loss: 0.7240 - mae: 0.49 - ETA: 7:16:39 - loss: 0.7251 - mae: 0.49 - ETA: 7:14:38 - loss: 0.7292 - mae: 0.49 - ETA: 7:12:33 - loss: 0.7341 - mae: 0.49 - ETA: 7:10:30 - loss: 0.7324 - mae: 0.49 - ETA: 7:08:26 - loss: 0.7338 - mae: 0.49 - ETA: 7:06:22 - loss: 0.7334 - mae: 0.49 - ETA: 7:04:19 - loss: 0.7342 - mae: 0.49 - ETA: 7:02:15 - loss: 0.7344 - mae: 0.49 - ETA: 7:00:14 - loss: 0.7326 - mae: 0.49 - ETA: 6:58:18 - loss: 0.7300 - mae: 0.49 - ETA: 6:56:27 - loss: 0.7283 - mae: 0.49 - ETA: 6:54:29 - loss: 0.7265 - mae: 0.49 - ETA: 6:52:32 - loss: 0.7245 - mae: 0.48 - ETA: 6:50:34 - loss: 0.7242 - mae: 0.48 - ETA: 6:48:40 - loss: 0.7224 - mae: 0.48 - ETA: 6:46:46 - loss: 0.7235 - mae: 0.48 - ETA: 6:44:50 - loss: 0.7239 - mae: 0.48 - ETA: 6:42:51 - loss: 0.7264 - mae: 0.48 - ETA: 6:40:49 - loss: 0.7236 - mae: 0.48 - ETA: 6:38:51 - loss: 0.7226 - mae: 0.48 - ETA: 6:36:51 - loss: 0.7207 - mae: 0.48 - ETA: 6:34:51 - loss: 0.7203 - mae: 0.48 - ETA: 6:32:46 - loss: 0.7207 - mae: 0.48 - ETA: 6:30:43 - loss: 0.7190 - mae: 0.48 - ETA: 6:28:44 - loss: 0.7173 - mae: 0.48 - ETA: 6:26:43 - loss: 0.7155 - mae: 0.47 - ETA: 6:24:41 - loss: 0.7137 - mae: 0.47 - ETA: 6:22:43 - loss: 0.7132 - mae: 0.47 - ETA: 6:20:42 - loss: 0.7126 - mae: 0.47 - ETA: 6:18:42 - loss: 0.7104 - mae: 0.47 - ETA: 6:16:42 - loss: 0.7082 - mae: 0.47 - ETA: 6:14:39 - loss: 0.7063 - mae: 0.47 - ETA: 6:12:35 - loss: 0.7038 - mae: 0.46 - ETA: 6:10:32 - loss: 0.7007 - mae: 0.46 - ETA: 6:08:28 - loss: 0.6988 - mae: 0.46 - ETA: 6:06:25 - loss: 0.6970 - mae: 0.46 - ETA: 6:04:21 - loss: 0.6953 - mae: 0.46 - ETA: 6:02:16 - loss: 0.6938 - mae: 0.46 - ETA: 6:00:12 - loss: 0.6921 - mae: 0.46 - ETA: 5:58:09 - loss: 0.6916 - mae: 0.46 - ETA: 5:56:05 - loss: 0.6905 - mae: 0.45 - ETA: 5:54:02 - loss: 0.6883 - mae: 0.45 - ETA: 5:51:58 - loss: 0.6864 - mae: 0.45 - ETA: 5:49:54 - loss: 0.6840 - mae: 0.45 - ETA: 5:47:51 - loss: 0.6813 - mae: 0.45 - ETA: 5:45:47 - loss: 0.6793 - mae: 0.45 - ETA: 5:43:44 - loss: 0.6772 - mae: 0.44 - ETA: 5:41:40 - loss: 0.6767 - mae: 0.44 - ETA: 5:39:37 - loss: 0.6751 - mae: 0.44 - ETA: 5:37:33 - loss: 0.6748 - mae: 0.44 - ETA: 5:35:29 - loss: 0.6741 - mae: 0.44 - ETA: 5:33:26 - loss: 0.6741 - mae: 0.44 - ETA: 5:31:23 - loss: 0.6732 - mae: 0.44 - ETA: 5:29:20 - loss: 0.6718 - mae: 0.44 - ETA: 5:27:16 - loss: 0.6704 - mae: 0.44 - ETA: 5:25:12 - loss: 0.6703 - mae: 0.44 - ETA: 5:23:10 - loss: 0.6696 - mae: 0.44 - ETA: 5:21:07 - loss: 0.6711 - mae: 0.44 - ETA: 5:19:04 - loss: 0.6710 - mae: 0.44 - ETA: 5:17:01 - loss: 0.6718 - mae: 0.44 - ETA: 5:14:58 - loss: 0.6731 - mae: 0.44 - ETA: 5:12:57 - loss: 0.6735 - mae: 0.44 - ETA: 5:10:54 - loss: 0.6731 - mae: 0.44 - ETA: 5:08:52 - loss: 0.6740 - mae: 0.44 - ETA: 5:06:51 - loss: 0.6747 - mae: 0.44 - ETA: 5:04:50 - loss: 0.6768 - mae: 0.45 - ETA: 5:02:51 - loss: 0.6766 - mae: 0.45 - ETA: 5:00:54 - loss: 0.6774 - mae: 0.45 - ETA: 4:58:54 - loss: 0.6791 - mae: 0.45 - ETA: 4:56:56 - loss: 0.6799 - mae: 0.45 - ETA: 4:54:58 - loss: 0.6812 - mae: 0.45 - ETA: 4:52:58 - loss: 0.6827 - mae: 0.45 - ETA: 4:50:58 - loss: 0.6845 - mae: 0.45 - ETA: 4:48:59 - loss: 0.6879 - mae: 0.45 - ETA: 4:46:57 - loss: 0.6893 - mae: 0.46 - ETA: 4:44:55 - loss: 0.6923 - mae: 0.46 - ETA: 4:42:53 - loss: 0.6945 - mae: 0.46 - ETA: 4:40:51 - loss: 0.6954 - mae: 0.46 - ETA: 4:38:49 - loss: 0.6957 - mae: 0.46 - ETA: 4:36:46 - loss: 0.6958 - mae: 0.46 - ETA: 4:34:43 - loss: 0.6963 - mae: 0.46 - ETA: 4:32:41 - loss: 0.6980 - mae: 0.46 - ETA: 4:30:38 - loss: 0.6997 - mae: 0.46 - ETA: 4:28:35 - loss: 0.7027 - mae: 0.47 - ETA: 4:26:33 - loss: 0.7051 - mae: 0.47 - ETA: 4:24:30 - loss: 0.7064 - mae: 0.47 - ETA: 4:22:27 - loss: 0.7065 - mae: 0.47 - ETA: 4:20:25 - loss: 0.7082 - mae: 0.47 - ETA: 4:18:22 - loss: 0.7097 - mae: 0.47 - ETA: 4:16:20 - loss: 0.7096 - mae: 0.47 - ETA: 4:14:18 - loss: 0.7094 - mae: 0.47 - ETA: 4:12:17 - loss: 0.7095 - mae: 0.47 - ETA: 4:10:15 - loss: 0.7097 - mae: 0.47 - ETA: 4:08:13 - loss: 0.7108 - mae: 0.47 - ETA: 4:06:12 - loss: 0.7123 - mae: 0.47 - ETA: 4:04:10 - loss: 0.7152 - mae: 0.48 - ETA: 4:02:09 - loss: 0.7166 - mae: 0.48 - ETA: 4:00:07 - loss: 0.7208 - mae: 0.48 - ETA: 3:58:06 - loss: 0.7199 - mae: 0.48 - ETA: 3:56:05 - loss: 0.7202 - mae: 0.48 - ETA: 3:54:02 - loss: 0.7200 - mae: 0.48 - ETA: 3:52:01 - loss: 0.7199 - mae: 0.48 - ETA: 3:49:59 - loss: 0.7208 - mae: 0.48 - ETA: 3:47:58 - loss: 0.7207 - mae: 0.48 - ETA: 3:45:56 - loss: 0.7210 - mae: 0.48 - ETA: 3:43:55 - loss: 0.7203 - mae: 0.48 - ETA: 3:41:56 - loss: 0.7198 - mae: 0.48 - ETA: 3:39:54 - loss: 0.7187 - mae: 0.48 - ETA: 3:37:53 - loss: 0.7180 - mae: 0.48 - ETA: 3:35:52 - loss: 0.7171 - mae: 0.48 - ETA: 3:33:50 - loss: 0.7180 - mae: 0.48 - ETA: 3:31:50 - loss: 0.7186 - mae: 0.4835"
     ]
    },
    {
     "name": "stdout",
     "output_type": "stream",
     "text": [
      "298/299 [============================>.] - ETA: 3:29:49 - loss: 0.7181 - mae: 0.48 - ETA: 3:27:49 - loss: 0.7177 - mae: 0.48 - ETA: 3:25:49 - loss: 0.7163 - mae: 0.48 - ETA: 3:23:49 - loss: 0.7155 - mae: 0.48 - ETA: 3:21:47 - loss: 0.7148 - mae: 0.48 - ETA: 3:19:46 - loss: 0.7139 - mae: 0.47 - ETA: 3:17:46 - loss: 0.7133 - mae: 0.47 - ETA: 3:15:45 - loss: 0.7129 - mae: 0.47 - ETA: 3:13:43 - loss: 0.7129 - mae: 0.47 - ETA: 3:11:42 - loss: 0.7117 - mae: 0.47 - ETA: 3:09:40 - loss: 0.7109 - mae: 0.47 - ETA: 3:07:39 - loss: 0.7101 - mae: 0.47 - ETA: 3:05:38 - loss: 0.7097 - mae: 0.47 - ETA: 3:03:36 - loss: 0.7096 - mae: 0.47 - ETA: 3:01:34 - loss: 0.7088 - mae: 0.47 - ETA: 2:59:33 - loss: 0.7077 - mae: 0.47 - ETA: 2:57:34 - loss: 0.7067 - mae: 0.47 - ETA: 2:55:40 - loss: 0.7057 - mae: 0.47 - ETA: 2:53:39 - loss: 0.7042 - mae: 0.47 - ETA: 2:51:39 - loss: 0.7028 - mae: 0.47 - ETA: 2:49:39 - loss: 0.7015 - mae: 0.46 - ETA: 2:47:39 - loss: 0.7016 - mae: 0.46 - ETA: 2:45:39 - loss: 0.7008 - mae: 0.46 - ETA: 2:43:39 - loss: 0.6992 - mae: 0.46 - ETA: 2:41:39 - loss: 0.6987 - mae: 0.46 - ETA: 2:39:38 - loss: 0.6982 - mae: 0.46 - ETA: 2:37:36 - loss: 0.6971 - mae: 0.46 - ETA: 2:35:35 - loss: 0.6970 - mae: 0.46 - ETA: 2:33:34 - loss: 0.6961 - mae: 0.46 - ETA: 2:31:32 - loss: 0.6945 - mae: 0.46 - ETA: 2:29:31 - loss: 0.6935 - mae: 0.46 - ETA: 2:27:30 - loss: 0.6923 - mae: 0.46 - ETA: 2:25:29 - loss: 0.6918 - mae: 0.46 - ETA: 2:23:29 - loss: 0.6909 - mae: 0.46 - ETA: 2:21:29 - loss: 0.6907 - mae: 0.46 - ETA: 2:19:29 - loss: 0.6899 - mae: 0.46 - ETA: 2:17:29 - loss: 0.6895 - mae: 0.46 - ETA: 2:15:28 - loss: 0.6895 - mae: 0.46 - ETA: 2:13:27 - loss: 0.6899 - mae: 0.46 - ETA: 2:11:27 - loss: 0.6898 - mae: 0.46 - ETA: 2:09:26 - loss: 0.6888 - mae: 0.45 - ETA: 2:07:25 - loss: 0.6886 - mae: 0.45 - ETA: 2:05:24 - loss: 0.6883 - mae: 0.45 - ETA: 2:03:23 - loss: 0.6874 - mae: 0.45 - ETA: 2:01:23 - loss: 0.6886 - mae: 0.46 - ETA: 1:59:22 - loss: 0.6889 - mae: 0.46 - ETA: 1:57:21 - loss: 0.6895 - mae: 0.46 - ETA: 1:55:20 - loss: 0.6912 - mae: 0.46 - ETA: 1:53:19 - loss: 0.6930 - mae: 0.46 - ETA: 1:51:18 - loss: 0.6946 - mae: 0.46 - ETA: 1:49:17 - loss: 0.6944 - mae: 0.46 - ETA: 1:47:16 - loss: 0.6951 - mae: 0.46 - ETA: 1:45:14 - loss: 0.6952 - mae: 0.46 - ETA: 1:43:13 - loss: 0.6957 - mae: 0.46 - ETA: 1:41:12 - loss: 0.6969 - mae: 0.46 - ETA: 1:39:10 - loss: 0.6989 - mae: 0.46 - ETA: 1:37:08 - loss: 0.7005 - mae: 0.47 - ETA: 1:35:07 - loss: 0.7033 - mae: 0.47 - ETA: 1:33:05 - loss: 0.7051 - mae: 0.47 - ETA: 1:31:03 - loss: 0.7067 - mae: 0.47 - ETA: 1:29:02 - loss: 0.7084 - mae: 0.47 - ETA: 1:27:00 - loss: 0.7104 - mae: 0.47 - ETA: 1:24:58 - loss: 0.7120 - mae: 0.47 - ETA: 1:22:57 - loss: 0.7132 - mae: 0.48 - ETA: 1:20:55 - loss: 0.7148 - mae: 0.48 - ETA: 1:18:54 - loss: 0.7155 - mae: 0.48 - ETA: 1:16:53 - loss: 0.7175 - mae: 0.48 - ETA: 1:14:51 - loss: 0.7192 - mae: 0.48 - ETA: 1:12:50 - loss: 0.7217 - mae: 0.48 - ETA: 1:10:48 - loss: 0.7233 - mae: 0.48 - ETA: 1:08:47 - loss: 0.7245 - mae: 0.49 - ETA: 1:06:46 - loss: 0.7258 - mae: 0.49 - ETA: 1:04:44 - loss: 0.7261 - mae: 0.49 - ETA: 1:02:43 - loss: 0.7269 - mae: 0.49 - ETA: 1:00:41 - loss: 0.7281 - mae: 0.49 - ETA: 58:40 - loss: 0.7280 - mae: 0.4928 - ETA: 56:39 - loss: 0.7281 - mae: 0.49 - ETA: 54:37 - loss: 0.7275 - mae: 0.49 - ETA: 52:36 - loss: 0.7281 - mae: 0.49 - ETA: 50:35 - loss: 0.7276 - mae: 0.49 - ETA: 48:34 - loss: 0.7269 - mae: 0.49 - ETA: 46:32 - loss: 0.7264 - mae: 0.49 - ETA: 44:31 - loss: 0.7260 - mae: 0.49 - ETA: 42:29 - loss: 0.7259 - mae: 0.49 - ETA: 40:28 - loss: 0.7257 - mae: 0.49 - ETA: 38:27 - loss: 0.7260 - mae: 0.49 - ETA: 36:26 - loss: 0.7258 - mae: 0.49 - ETA: 34:24 - loss: 0.7251 - mae: 0.48 - ETA: 32:23 - loss: 0.7245 - mae: 0.48 - ETA: 30:22 - loss: 0.7240 - mae: 0.48 - ETA: 28:20 - loss: 0.7239 - mae: 0.48 - ETA: 26:19 - loss: 0.7237 - mae: 0.48 - ETA: 24:17 - loss: 0.7237 - mae: 0.48 - ETA: 22:16 - loss: 0.7239 - mae: 0.48 - ETA: 20:15 - loss: 0.7230 - mae: 0.48 - ETA: 18:14 - loss: 0.7220 - mae: 0.48 - ETA: 16:12 - loss: 0.7215 - mae: 0.48 - ETA: 14:11 - loss: 0.7208 - mae: 0.48 - ETA: 12:09 - loss: 0.7201 - mae: 0.48 - ETA: 10:08 - loss: 0.7197 - mae: 0.48 - ETA: 8:06 - loss: 0.7192 - mae: 0.4849 - ETA: 6:05 - loss: 0.7191 - mae: 0.484 - ETA: 4:03 - loss: 0.7190 - mae: 0.484 - ETA: 2:01 - loss: 0.7190 - mae: 0.4844\n",
      "Epoch 00012: saving model to ./checkpoint/ver_loss_new/v01_ep12-loss0.71871.ckpt\n",
      "299/299 [==============================] - 36324s 121s/step - loss: 0.7190 - mae: 0.4832\n",
      "12epoch 파일 학습 시간: 7238.03\n"
     ]
    }
   ],
   "source": [
    "start = time.time()\n",
    "epochs = 12\n",
    "model_history = model.fit(train_dataset, epochs = epochs, verbose=1,\n",
    "                          callbacks=callbacks)\n",
    "print('{}epoch 파일 학습 시간:'.format(epochs), round((time.time()-start)/60, 2))"
   ]
  },
  {
   "cell_type": "markdown",
   "metadata": {},
   "source": [
    "## train, test set에 결과 붙이기"
   ]
  },
  {
   "cell_type": "code",
   "execution_count": 12,
   "metadata": {},
   "outputs": [],
   "source": [
    "# cv,ftr 파일에 맞는 input 생성 코드\n",
    "def input_generator_ftr_test():\n",
    "    # cv feather 파일 로드 및 orbit, subset 조합 생성\n",
    "    TEST_FILE = './ftr_data/train_mid.ftr'\n",
    "    test = pd.read_feather(TEST_FILE)\n",
    "    file_cnt = 0\n",
    "    temp_info = test[['orbit', 'subset']].drop_duplicates()\n",
    "    orbit = temp_info['orbit'].tolist()\n",
    "    subset = temp_info['subset'].tolist()\n",
    "    del temp_info\n",
    "    size = len(orbit)\n",
    "  \n",
    "  # 하나의 이미지 데이터에 해당하는 것만 3차원 변환 및 피처/라벨 생성\n",
    "    for i in range(size):\n",
    "        one_img = test.loc[(test['orbit'] == orbit[i]) & (test['subset'] == subset[i])].sort_values('pixel')\n",
    "        one_img['type1'] = one_img.loc[one_img['type_1'] == 0, 'type_1'] + 1\n",
    "        one_img['type2'] = one_img.loc[one_img['type_1'] == 1, 'type_1']\n",
    "        one_img['type3'] = one_img.loc[one_img['type_1'] == 2, 'type_1'] - 1\n",
    "        one_img['type4'] = one_img.loc[one_img['type_1'] == 3, 'type_1'] - 2\n",
    "        one_img['type_2'] /= 100\n",
    "        one_img.fillna(0, inplace=True)\n",
    "        \n",
    "#         one_img['label'] = one_img['precipitation']\n",
    "        one_img = np.array(one_img.drop(['type_1', 'orbit', 'subset', 'pixel', 'precipitation'], axis=1)).reshape([40,40,19])\n",
    "#         one_img = np.array(one_img.drop(['type_1', 'orbit', 'subset', 'pixel'], axis=1)).reshape([40,40,19])\n",
    "#         target = one_img[:,:,-1].reshape(40,40,1)\n",
    "#         cutoff_labels = np.where(target < 0,0, target)\n",
    "        feature = one_img[:,:,:-1]\n",
    "        # if (cutoff_labels > 0).sum() < 50: continue\n",
    "#         yield(feature, cutoff_labels)\n",
    "        yield(feature)\n",
    "        file_cnt += 1\n",
    "\n",
    "test_dataset = tf.data.Dataset.from_generator(input_generator_ftr_test, tf.float32,\n",
    "                                               tf.TensorShape([40,40,19]))\n",
    "test_dataset = test_dataset.batch(256).prefetch(1)"
   ]
  },
  {
   "cell_type": "code",
   "execution_count": 13,
   "metadata": {},
   "outputs": [
    {
     "name": "stdout",
     "output_type": "stream",
     "text": [
      "./checkpoint/ver_loss_new/v01_ep12-loss0.71871.ckpt\n",
      "WARNING:tensorflow:Unresolved object in checkpoint: (root).optimizer.iter\n",
      "WARNING:tensorflow:Unresolved object in checkpoint: (root).optimizer.beta_1\n",
      "WARNING:tensorflow:Unresolved object in checkpoint: (root).optimizer.beta_2\n",
      "WARNING:tensorflow:Unresolved object in checkpoint: (root).optimizer.decay\n",
      "WARNING:tensorflow:Unresolved object in checkpoint: (root).optimizer.learning_rate\n",
      "WARNING:tensorflow:A checkpoint was restored (e.g. tf.train.Checkpoint.restore or tf.keras.Model.load_weights) but not all checkpointed values were used. See above for specific issues. Use expect_partial() on the load status object, e.g. tf.train.Checkpoint.restore(...).expect_partial(), to silence these warnings, or use assert_consumed() to make the check explicit. See https://www.tensorflow.org/alpha/guide/checkpoints#loading_mechanics for details.\n"
     ]
    },
    {
     "ename": "InvalidArgumentError",
     "evalue": "2 root error(s) found.\n  (0) Invalid argument:  UnicodeDecodeError: 'utf-8' codec can't decode byte 0xc1 in position 18: invalid start byte\nTraceback (most recent call last):\n\n  File \"C:\\ProgramData\\Anaconda3\\lib\\site-packages\\tensorflow_core\\python\\ops\\script_ops.py\", line 221, in __call__\n    ret = func(*args)\n\n  File \"C:\\ProgramData\\Anaconda3\\lib\\site-packages\\tensorflow_core\\python\\data\\ops\\dataset_ops.py\", line 585, in generator_py_func\n    values = next(generator_state.get_iterator(iterator_id))\n\n  File \"<ipython-input-12-da2df882af5d>\", line 5, in input_generator_ftr_test\n    test = pd.read_feather(TEST_FILE)\n\n  File \"C:\\ProgramData\\Anaconda3\\lib\\site-packages\\pandas\\io\\feather_format.py\", line 103, in read_feather\n    return feather.read_feather(path, columns=columns, use_threads=bool(use_threads))\n\n  File \"C:\\ProgramData\\Anaconda3\\lib\\site-packages\\pyarrow\\feather.py\", line 214, in read_feather\n    reader = FeatherReader(source)\n\n  File \"C:\\ProgramData\\Anaconda3\\lib\\site-packages\\pyarrow\\feather.py\", line 40, in __init__\n    self.open(source)\n\n  File \"pyarrow\\feather.pxi\", line 80, in pyarrow.lib.FeatherReader.open\n\n  File \"pyarrow\\io.pxi\", line 1408, in pyarrow.lib.get_reader\n\n  File \"pyarrow\\io.pxi\", line 1397, in pyarrow.lib._get_native_file\n\n  File \"pyarrow\\io.pxi\", line 790, in pyarrow.lib.memory_map\n\n  File \"pyarrow\\io.pxi\", line 753, in pyarrow.lib.MemoryMappedFile._open\n\n  File \"pyarrow\\error.pxi\", line 122, in pyarrow.lib.pyarrow_internal_check_status\n\n  File \"pyarrow\\error.pxi\", line 81, in pyarrow.lib.check_status\n\n  File \"C:\\ProgramData\\Anaconda3\\lib\\site-packages\\pyarrow\\compat.py\", line 124, in frombytes\n    return o.decode('utf8')\n\nUnicodeDecodeError: 'utf-8' codec can't decode byte 0xc1 in position 18: invalid start byte\n\n\n\t [[{{node PyFunc}}]]\n\t [[IteratorGetNext]]\n\t [[IteratorGetNext/_2]]\n  (1) Invalid argument:  UnicodeDecodeError: 'utf-8' codec can't decode byte 0xc1 in position 18: invalid start byte\nTraceback (most recent call last):\n\n  File \"C:\\ProgramData\\Anaconda3\\lib\\site-packages\\tensorflow_core\\python\\ops\\script_ops.py\", line 221, in __call__\n    ret = func(*args)\n\n  File \"C:\\ProgramData\\Anaconda3\\lib\\site-packages\\tensorflow_core\\python\\data\\ops\\dataset_ops.py\", line 585, in generator_py_func\n    values = next(generator_state.get_iterator(iterator_id))\n\n  File \"<ipython-input-12-da2df882af5d>\", line 5, in input_generator_ftr_test\n    test = pd.read_feather(TEST_FILE)\n\n  File \"C:\\ProgramData\\Anaconda3\\lib\\site-packages\\pandas\\io\\feather_format.py\", line 103, in read_feather\n    return feather.read_feather(path, columns=columns, use_threads=bool(use_threads))\n\n  File \"C:\\ProgramData\\Anaconda3\\lib\\site-packages\\pyarrow\\feather.py\", line 214, in read_feather\n    reader = FeatherReader(source)\n\n  File \"C:\\ProgramData\\Anaconda3\\lib\\site-packages\\pyarrow\\feather.py\", line 40, in __init__\n    self.open(source)\n\n  File \"pyarrow\\feather.pxi\", line 80, in pyarrow.lib.FeatherReader.open\n\n  File \"pyarrow\\io.pxi\", line 1408, in pyarrow.lib.get_reader\n\n  File \"pyarrow\\io.pxi\", line 1397, in pyarrow.lib._get_native_file\n\n  File \"pyarrow\\io.pxi\", line 790, in pyarrow.lib.memory_map\n\n  File \"pyarrow\\io.pxi\", line 753, in pyarrow.lib.MemoryMappedFile._open\n\n  File \"pyarrow\\error.pxi\", line 122, in pyarrow.lib.pyarrow_internal_check_status\n\n  File \"pyarrow\\error.pxi\", line 81, in pyarrow.lib.check_status\n\n  File \"C:\\ProgramData\\Anaconda3\\lib\\site-packages\\pyarrow\\compat.py\", line 124, in frombytes\n    return o.decode('utf8')\n\nUnicodeDecodeError: 'utf-8' codec can't decode byte 0xc1 in position 18: invalid start byte\n\n\n\t [[{{node PyFunc}}]]\n\t [[IteratorGetNext]]\n0 successful operations.\n0 derived errors ignored. [Op:__inference_distributed_function_17035]\n\nFunction call stack:\ndistributed_function -> distributed_function\n",
     "output_type": "error",
     "traceback": [
      "\u001b[1;31m---------------------------------------------------------------------------\u001b[0m",
      "\u001b[1;31mInvalidArgumentError\u001b[0m                      Traceback (most recent call last)",
      "\u001b[1;32m<ipython-input-13-7d96c380290a>\u001b[0m in \u001b[0;36m<module>\u001b[1;34m\u001b[0m\n\u001b[0;32m      5\u001b[0m \u001b[0madam\u001b[0m \u001b[1;33m=\u001b[0m \u001b[0mtf\u001b[0m\u001b[1;33m.\u001b[0m\u001b[0mkeras\u001b[0m\u001b[1;33m.\u001b[0m\u001b[0moptimizers\u001b[0m\u001b[1;33m.\u001b[0m\u001b[0mAdam\u001b[0m\u001b[1;33m(\u001b[0m\u001b[0mlearning_rate\u001b[0m\u001b[1;33m=\u001b[0m\u001b[1;36m1.0e-05\u001b[0m\u001b[1;33m)\u001b[0m\u001b[1;33m\u001b[0m\u001b[1;33m\u001b[0m\u001b[0m\n\u001b[0;32m      6\u001b[0m \u001b[0mmodel\u001b[0m\u001b[1;33m.\u001b[0m\u001b[0mcompile\u001b[0m\u001b[1;33m(\u001b[0m\u001b[0mloss\u001b[0m\u001b[1;33m=\u001b[0m\u001b[0mmaeOverFscore\u001b[0m\u001b[1;33m,\u001b[0m \u001b[0moptimizer\u001b[0m\u001b[1;33m=\u001b[0m\u001b[0madam\u001b[0m\u001b[1;33m,\u001b[0m \u001b[0mmetrics\u001b[0m\u001b[1;33m=\u001b[0m\u001b[1;33m[\u001b[0m\u001b[0mmae\u001b[0m\u001b[1;33m,\u001b[0m \u001b[0mf1_m\u001b[0m\u001b[1;33m]\u001b[0m\u001b[1;33m)\u001b[0m\u001b[1;33m\u001b[0m\u001b[1;33m\u001b[0m\u001b[0m\n\u001b[1;32m----> 7\u001b[1;33m \u001b[0mresult\u001b[0m \u001b[1;33m=\u001b[0m \u001b[0mmodel\u001b[0m\u001b[1;33m.\u001b[0m\u001b[0mpredict\u001b[0m\u001b[1;33m(\u001b[0m\u001b[0mtest_dataset\u001b[0m\u001b[1;33m)\u001b[0m\u001b[1;33m\u001b[0m\u001b[1;33m\u001b[0m\u001b[0m\n\u001b[0m\u001b[0;32m      8\u001b[0m \u001b[0mresult\u001b[0m\u001b[1;33m.\u001b[0m\u001b[0mshape\u001b[0m\u001b[1;33m\u001b[0m\u001b[1;33m\u001b[0m\u001b[0m\n",
      "\u001b[1;32mC:\\ProgramData\\Anaconda3\\lib\\site-packages\\tensorflow_core\\python\\keras\\engine\\training.py\u001b[0m in \u001b[0;36mpredict\u001b[1;34m(self, x, batch_size, verbose, steps, callbacks, max_queue_size, workers, use_multiprocessing)\u001b[0m\n\u001b[0;32m    907\u001b[0m         \u001b[0mmax_queue_size\u001b[0m\u001b[1;33m=\u001b[0m\u001b[0mmax_queue_size\u001b[0m\u001b[1;33m,\u001b[0m\u001b[1;33m\u001b[0m\u001b[1;33m\u001b[0m\u001b[0m\n\u001b[0;32m    908\u001b[0m         \u001b[0mworkers\u001b[0m\u001b[1;33m=\u001b[0m\u001b[0mworkers\u001b[0m\u001b[1;33m,\u001b[0m\u001b[1;33m\u001b[0m\u001b[1;33m\u001b[0m\u001b[0m\n\u001b[1;32m--> 909\u001b[1;33m         use_multiprocessing=use_multiprocessing)\n\u001b[0m\u001b[0;32m    910\u001b[0m \u001b[1;33m\u001b[0m\u001b[0m\n\u001b[0;32m    911\u001b[0m   \u001b[1;32mdef\u001b[0m \u001b[0mreset_metrics\u001b[0m\u001b[1;33m(\u001b[0m\u001b[0mself\u001b[0m\u001b[1;33m)\u001b[0m\u001b[1;33m:\u001b[0m\u001b[1;33m\u001b[0m\u001b[1;33m\u001b[0m\u001b[0m\n",
      "\u001b[1;32mC:\\ProgramData\\Anaconda3\\lib\\site-packages\\tensorflow_core\\python\\keras\\engine\\training_v2.py\u001b[0m in \u001b[0;36mpredict\u001b[1;34m(self, model, x, batch_size, verbose, steps, callbacks, **kwargs)\u001b[0m\n\u001b[0;32m    460\u001b[0m     return self._model_iteration(\n\u001b[0;32m    461\u001b[0m         \u001b[0mmodel\u001b[0m\u001b[1;33m,\u001b[0m \u001b[0mModeKeys\u001b[0m\u001b[1;33m.\u001b[0m\u001b[0mPREDICT\u001b[0m\u001b[1;33m,\u001b[0m \u001b[0mx\u001b[0m\u001b[1;33m=\u001b[0m\u001b[0mx\u001b[0m\u001b[1;33m,\u001b[0m \u001b[0mbatch_size\u001b[0m\u001b[1;33m=\u001b[0m\u001b[0mbatch_size\u001b[0m\u001b[1;33m,\u001b[0m \u001b[0mverbose\u001b[0m\u001b[1;33m=\u001b[0m\u001b[0mverbose\u001b[0m\u001b[1;33m,\u001b[0m\u001b[1;33m\u001b[0m\u001b[1;33m\u001b[0m\u001b[0m\n\u001b[1;32m--> 462\u001b[1;33m         steps=steps, callbacks=callbacks, **kwargs)\n\u001b[0m\u001b[0;32m    463\u001b[0m \u001b[1;33m\u001b[0m\u001b[0m\n\u001b[0;32m    464\u001b[0m \u001b[1;33m\u001b[0m\u001b[0m\n",
      "\u001b[1;32mC:\\ProgramData\\Anaconda3\\lib\\site-packages\\tensorflow_core\\python\\keras\\engine\\training_v2.py\u001b[0m in \u001b[0;36m_model_iteration\u001b[1;34m(self, model, mode, x, y, batch_size, verbose, sample_weight, steps, callbacks, **kwargs)\u001b[0m\n\u001b[0;32m    442\u001b[0m               \u001b[0mmode\u001b[0m\u001b[1;33m=\u001b[0m\u001b[0mmode\u001b[0m\u001b[1;33m,\u001b[0m\u001b[1;33m\u001b[0m\u001b[1;33m\u001b[0m\u001b[0m\n\u001b[0;32m    443\u001b[0m               \u001b[0mtraining_context\u001b[0m\u001b[1;33m=\u001b[0m\u001b[0mtraining_context\u001b[0m\u001b[1;33m,\u001b[0m\u001b[1;33m\u001b[0m\u001b[1;33m\u001b[0m\u001b[0m\n\u001b[1;32m--> 444\u001b[1;33m               total_epochs=1)\n\u001b[0m\u001b[0;32m    445\u001b[0m           \u001b[0mcbks\u001b[0m\u001b[1;33m.\u001b[0m\u001b[0mmake_logs\u001b[0m\u001b[1;33m(\u001b[0m\u001b[0mmodel\u001b[0m\u001b[1;33m,\u001b[0m \u001b[0mepoch_logs\u001b[0m\u001b[1;33m,\u001b[0m \u001b[0mresult\u001b[0m\u001b[1;33m,\u001b[0m \u001b[0mmode\u001b[0m\u001b[1;33m)\u001b[0m\u001b[1;33m\u001b[0m\u001b[1;33m\u001b[0m\u001b[0m\n\u001b[0;32m    446\u001b[0m \u001b[1;33m\u001b[0m\u001b[0m\n",
      "\u001b[1;32mC:\\ProgramData\\Anaconda3\\lib\\site-packages\\tensorflow_core\\python\\keras\\engine\\training_v2.py\u001b[0m in \u001b[0;36mrun_one_epoch\u001b[1;34m(model, iterator, execution_function, dataset_size, batch_size, strategy, steps_per_epoch, num_samples, mode, training_context, total_epochs)\u001b[0m\n\u001b[0;32m    121\u001b[0m         step=step, mode=mode, size=current_batch_size) as batch_logs:\n\u001b[0;32m    122\u001b[0m       \u001b[1;32mtry\u001b[0m\u001b[1;33m:\u001b[0m\u001b[1;33m\u001b[0m\u001b[1;33m\u001b[0m\u001b[0m\n\u001b[1;32m--> 123\u001b[1;33m         \u001b[0mbatch_outs\u001b[0m \u001b[1;33m=\u001b[0m \u001b[0mexecution_function\u001b[0m\u001b[1;33m(\u001b[0m\u001b[0miterator\u001b[0m\u001b[1;33m)\u001b[0m\u001b[1;33m\u001b[0m\u001b[1;33m\u001b[0m\u001b[0m\n\u001b[0m\u001b[0;32m    124\u001b[0m       \u001b[1;32mexcept\u001b[0m \u001b[1;33m(\u001b[0m\u001b[0mStopIteration\u001b[0m\u001b[1;33m,\u001b[0m \u001b[0merrors\u001b[0m\u001b[1;33m.\u001b[0m\u001b[0mOutOfRangeError\u001b[0m\u001b[1;33m)\u001b[0m\u001b[1;33m:\u001b[0m\u001b[1;33m\u001b[0m\u001b[1;33m\u001b[0m\u001b[0m\n\u001b[0;32m    125\u001b[0m         \u001b[1;31m# TODO(kaftan): File bug about tf function and errors.OutOfRangeError?\u001b[0m\u001b[1;33m\u001b[0m\u001b[1;33m\u001b[0m\u001b[1;33m\u001b[0m\u001b[0m\n",
      "\u001b[1;32mC:\\ProgramData\\Anaconda3\\lib\\site-packages\\tensorflow_core\\python\\keras\\engine\\training_v2_utils.py\u001b[0m in \u001b[0;36mexecution_function\u001b[1;34m(input_fn)\u001b[0m\n\u001b[0;32m     84\u001b[0m     \u001b[1;31m# `numpy` translates Tensors to values in Eager mode.\u001b[0m\u001b[1;33m\u001b[0m\u001b[1;33m\u001b[0m\u001b[1;33m\u001b[0m\u001b[0m\n\u001b[0;32m     85\u001b[0m     return nest.map_structure(_non_none_constant_value,\n\u001b[1;32m---> 86\u001b[1;33m                               distributed_function(input_fn))\n\u001b[0m\u001b[0;32m     87\u001b[0m \u001b[1;33m\u001b[0m\u001b[0m\n\u001b[0;32m     88\u001b[0m   \u001b[1;32mreturn\u001b[0m \u001b[0mexecution_function\u001b[0m\u001b[1;33m\u001b[0m\u001b[1;33m\u001b[0m\u001b[0m\n",
      "\u001b[1;32mC:\\ProgramData\\Anaconda3\\lib\\site-packages\\tensorflow_core\\python\\eager\\def_function.py\u001b[0m in \u001b[0;36m__call__\u001b[1;34m(self, *args, **kwds)\u001b[0m\n\u001b[0;32m    455\u001b[0m \u001b[1;33m\u001b[0m\u001b[0m\n\u001b[0;32m    456\u001b[0m     \u001b[0mtracing_count\u001b[0m \u001b[1;33m=\u001b[0m \u001b[0mself\u001b[0m\u001b[1;33m.\u001b[0m\u001b[0m_get_tracing_count\u001b[0m\u001b[1;33m(\u001b[0m\u001b[1;33m)\u001b[0m\u001b[1;33m\u001b[0m\u001b[1;33m\u001b[0m\u001b[0m\n\u001b[1;32m--> 457\u001b[1;33m     \u001b[0mresult\u001b[0m \u001b[1;33m=\u001b[0m \u001b[0mself\u001b[0m\u001b[1;33m.\u001b[0m\u001b[0m_call\u001b[0m\u001b[1;33m(\u001b[0m\u001b[1;33m*\u001b[0m\u001b[0margs\u001b[0m\u001b[1;33m,\u001b[0m \u001b[1;33m**\u001b[0m\u001b[0mkwds\u001b[0m\u001b[1;33m)\u001b[0m\u001b[1;33m\u001b[0m\u001b[1;33m\u001b[0m\u001b[0m\n\u001b[0m\u001b[0;32m    458\u001b[0m     \u001b[1;32mif\u001b[0m \u001b[0mtracing_count\u001b[0m \u001b[1;33m==\u001b[0m \u001b[0mself\u001b[0m\u001b[1;33m.\u001b[0m\u001b[0m_get_tracing_count\u001b[0m\u001b[1;33m(\u001b[0m\u001b[1;33m)\u001b[0m\u001b[1;33m:\u001b[0m\u001b[1;33m\u001b[0m\u001b[1;33m\u001b[0m\u001b[0m\n\u001b[0;32m    459\u001b[0m       \u001b[0mself\u001b[0m\u001b[1;33m.\u001b[0m\u001b[0m_call_counter\u001b[0m\u001b[1;33m.\u001b[0m\u001b[0mcalled_without_tracing\u001b[0m\u001b[1;33m(\u001b[0m\u001b[1;33m)\u001b[0m\u001b[1;33m\u001b[0m\u001b[1;33m\u001b[0m\u001b[0m\n",
      "\u001b[1;32mC:\\ProgramData\\Anaconda3\\lib\\site-packages\\tensorflow_core\\python\\eager\\def_function.py\u001b[0m in \u001b[0;36m_call\u001b[1;34m(self, *args, **kwds)\u001b[0m\n\u001b[0;32m    524\u001b[0m               *args, **kwds)\n\u001b[0;32m    525\u001b[0m       \u001b[1;31m# If we did not create any variables the trace we have is good enough.\u001b[0m\u001b[1;33m\u001b[0m\u001b[1;33m\u001b[0m\u001b[1;33m\u001b[0m\u001b[0m\n\u001b[1;32m--> 526\u001b[1;33m       \u001b[1;32mreturn\u001b[0m \u001b[0mself\u001b[0m\u001b[1;33m.\u001b[0m\u001b[0m_concrete_stateful_fn\u001b[0m\u001b[1;33m.\u001b[0m\u001b[0m_filtered_call\u001b[0m\u001b[1;33m(\u001b[0m\u001b[0mcanon_args\u001b[0m\u001b[1;33m,\u001b[0m \u001b[0mcanon_kwds\u001b[0m\u001b[1;33m)\u001b[0m  \u001b[1;31m# pylint: disable=protected-access\u001b[0m\u001b[1;33m\u001b[0m\u001b[1;33m\u001b[0m\u001b[0m\n\u001b[0m\u001b[0;32m    527\u001b[0m \u001b[1;33m\u001b[0m\u001b[0m\n\u001b[0;32m    528\u001b[0m     \u001b[1;32mdef\u001b[0m \u001b[0mfn_with_cond\u001b[0m\u001b[1;33m(\u001b[0m\u001b[1;33m*\u001b[0m\u001b[0minner_args\u001b[0m\u001b[1;33m,\u001b[0m \u001b[1;33m**\u001b[0m\u001b[0minner_kwds\u001b[0m\u001b[1;33m)\u001b[0m\u001b[1;33m:\u001b[0m\u001b[1;33m\u001b[0m\u001b[1;33m\u001b[0m\u001b[0m\n",
      "\u001b[1;32mC:\\ProgramData\\Anaconda3\\lib\\site-packages\\tensorflow_core\\python\\eager\\function.py\u001b[0m in \u001b[0;36m_filtered_call\u001b[1;34m(self, args, kwargs)\u001b[0m\n\u001b[0;32m   1139\u001b[0m          if isinstance(t, (ops.Tensor,\n\u001b[0;32m   1140\u001b[0m                            resource_variable_ops.BaseResourceVariable))),\n\u001b[1;32m-> 1141\u001b[1;33m         self.captured_inputs)\n\u001b[0m\u001b[0;32m   1142\u001b[0m \u001b[1;33m\u001b[0m\u001b[0m\n\u001b[0;32m   1143\u001b[0m   \u001b[1;32mdef\u001b[0m \u001b[0m_call_flat\u001b[0m\u001b[1;33m(\u001b[0m\u001b[0mself\u001b[0m\u001b[1;33m,\u001b[0m \u001b[0margs\u001b[0m\u001b[1;33m,\u001b[0m \u001b[0mcaptured_inputs\u001b[0m\u001b[1;33m,\u001b[0m \u001b[0mcancellation_manager\u001b[0m\u001b[1;33m=\u001b[0m\u001b[1;32mNone\u001b[0m\u001b[1;33m)\u001b[0m\u001b[1;33m:\u001b[0m\u001b[1;33m\u001b[0m\u001b[1;33m\u001b[0m\u001b[0m\n",
      "\u001b[1;32mC:\\ProgramData\\Anaconda3\\lib\\site-packages\\tensorflow_core\\python\\eager\\function.py\u001b[0m in \u001b[0;36m_call_flat\u001b[1;34m(self, args, captured_inputs, cancellation_manager)\u001b[0m\n\u001b[0;32m   1222\u001b[0m     \u001b[1;32mif\u001b[0m \u001b[0mexecuting_eagerly\u001b[0m\u001b[1;33m:\u001b[0m\u001b[1;33m\u001b[0m\u001b[1;33m\u001b[0m\u001b[0m\n\u001b[0;32m   1223\u001b[0m       flat_outputs = forward_function.call(\n\u001b[1;32m-> 1224\u001b[1;33m           ctx, args, cancellation_manager=cancellation_manager)\n\u001b[0m\u001b[0;32m   1225\u001b[0m     \u001b[1;32melse\u001b[0m\u001b[1;33m:\u001b[0m\u001b[1;33m\u001b[0m\u001b[1;33m\u001b[0m\u001b[0m\n\u001b[0;32m   1226\u001b[0m       \u001b[0mgradient_name\u001b[0m \u001b[1;33m=\u001b[0m \u001b[0mself\u001b[0m\u001b[1;33m.\u001b[0m\u001b[0m_delayed_rewrite_functions\u001b[0m\u001b[1;33m.\u001b[0m\u001b[0mregister\u001b[0m\u001b[1;33m(\u001b[0m\u001b[1;33m)\u001b[0m\u001b[1;33m\u001b[0m\u001b[1;33m\u001b[0m\u001b[0m\n",
      "\u001b[1;32mC:\\ProgramData\\Anaconda3\\lib\\site-packages\\tensorflow_core\\python\\eager\\function.py\u001b[0m in \u001b[0;36mcall\u001b[1;34m(self, ctx, args, cancellation_manager)\u001b[0m\n\u001b[0;32m    509\u001b[0m               \u001b[0minputs\u001b[0m\u001b[1;33m=\u001b[0m\u001b[0margs\u001b[0m\u001b[1;33m,\u001b[0m\u001b[1;33m\u001b[0m\u001b[1;33m\u001b[0m\u001b[0m\n\u001b[0;32m    510\u001b[0m               \u001b[0mattrs\u001b[0m\u001b[1;33m=\u001b[0m\u001b[1;33m(\u001b[0m\u001b[1;34m\"executor_type\"\u001b[0m\u001b[1;33m,\u001b[0m \u001b[0mexecutor_type\u001b[0m\u001b[1;33m,\u001b[0m \u001b[1;34m\"config_proto\"\u001b[0m\u001b[1;33m,\u001b[0m \u001b[0mconfig\u001b[0m\u001b[1;33m)\u001b[0m\u001b[1;33m,\u001b[0m\u001b[1;33m\u001b[0m\u001b[1;33m\u001b[0m\u001b[0m\n\u001b[1;32m--> 511\u001b[1;33m               ctx=ctx)\n\u001b[0m\u001b[0;32m    512\u001b[0m         \u001b[1;32melse\u001b[0m\u001b[1;33m:\u001b[0m\u001b[1;33m\u001b[0m\u001b[1;33m\u001b[0m\u001b[0m\n\u001b[0;32m    513\u001b[0m           outputs = execute.execute_with_cancellation(\n",
      "\u001b[1;32mC:\\ProgramData\\Anaconda3\\lib\\site-packages\\tensorflow_core\\python\\eager\\execute.py\u001b[0m in \u001b[0;36mquick_execute\u001b[1;34m(op_name, num_outputs, inputs, attrs, ctx, name)\u001b[0m\n\u001b[0;32m     65\u001b[0m     \u001b[1;32melse\u001b[0m\u001b[1;33m:\u001b[0m\u001b[1;33m\u001b[0m\u001b[1;33m\u001b[0m\u001b[0m\n\u001b[0;32m     66\u001b[0m       \u001b[0mmessage\u001b[0m \u001b[1;33m=\u001b[0m \u001b[0me\u001b[0m\u001b[1;33m.\u001b[0m\u001b[0mmessage\u001b[0m\u001b[1;33m\u001b[0m\u001b[1;33m\u001b[0m\u001b[0m\n\u001b[1;32m---> 67\u001b[1;33m     \u001b[0msix\u001b[0m\u001b[1;33m.\u001b[0m\u001b[0mraise_from\u001b[0m\u001b[1;33m(\u001b[0m\u001b[0mcore\u001b[0m\u001b[1;33m.\u001b[0m\u001b[0m_status_to_exception\u001b[0m\u001b[1;33m(\u001b[0m\u001b[0me\u001b[0m\u001b[1;33m.\u001b[0m\u001b[0mcode\u001b[0m\u001b[1;33m,\u001b[0m \u001b[0mmessage\u001b[0m\u001b[1;33m)\u001b[0m\u001b[1;33m,\u001b[0m \u001b[1;32mNone\u001b[0m\u001b[1;33m)\u001b[0m\u001b[1;33m\u001b[0m\u001b[1;33m\u001b[0m\u001b[0m\n\u001b[0m\u001b[0;32m     68\u001b[0m   \u001b[1;32mexcept\u001b[0m \u001b[0mTypeError\u001b[0m \u001b[1;32mas\u001b[0m \u001b[0me\u001b[0m\u001b[1;33m:\u001b[0m\u001b[1;33m\u001b[0m\u001b[1;33m\u001b[0m\u001b[0m\n\u001b[0;32m     69\u001b[0m     keras_symbolic_tensors = [\n",
      "\u001b[1;32mC:\\ProgramData\\Anaconda3\\lib\\site-packages\\six.py\u001b[0m in \u001b[0;36mraise_from\u001b[1;34m(value, from_value)\u001b[0m\n",
      "\u001b[1;31mInvalidArgumentError\u001b[0m: 2 root error(s) found.\n  (0) Invalid argument:  UnicodeDecodeError: 'utf-8' codec can't decode byte 0xc1 in position 18: invalid start byte\nTraceback (most recent call last):\n\n  File \"C:\\ProgramData\\Anaconda3\\lib\\site-packages\\tensorflow_core\\python\\ops\\script_ops.py\", line 221, in __call__\n    ret = func(*args)\n\n  File \"C:\\ProgramData\\Anaconda3\\lib\\site-packages\\tensorflow_core\\python\\data\\ops\\dataset_ops.py\", line 585, in generator_py_func\n    values = next(generator_state.get_iterator(iterator_id))\n\n  File \"<ipython-input-12-da2df882af5d>\", line 5, in input_generator_ftr_test\n    test = pd.read_feather(TEST_FILE)\n\n  File \"C:\\ProgramData\\Anaconda3\\lib\\site-packages\\pandas\\io\\feather_format.py\", line 103, in read_feather\n    return feather.read_feather(path, columns=columns, use_threads=bool(use_threads))\n\n  File \"C:\\ProgramData\\Anaconda3\\lib\\site-packages\\pyarrow\\feather.py\", line 214, in read_feather\n    reader = FeatherReader(source)\n\n  File \"C:\\ProgramData\\Anaconda3\\lib\\site-packages\\pyarrow\\feather.py\", line 40, in __init__\n    self.open(source)\n\n  File \"pyarrow\\feather.pxi\", line 80, in pyarrow.lib.FeatherReader.open\n\n  File \"pyarrow\\io.pxi\", line 1408, in pyarrow.lib.get_reader\n\n  File \"pyarrow\\io.pxi\", line 1397, in pyarrow.lib._get_native_file\n\n  File \"pyarrow\\io.pxi\", line 790, in pyarrow.lib.memory_map\n\n  File \"pyarrow\\io.pxi\", line 753, in pyarrow.lib.MemoryMappedFile._open\n\n  File \"pyarrow\\error.pxi\", line 122, in pyarrow.lib.pyarrow_internal_check_status\n\n  File \"pyarrow\\error.pxi\", line 81, in pyarrow.lib.check_status\n\n  File \"C:\\ProgramData\\Anaconda3\\lib\\site-packages\\pyarrow\\compat.py\", line 124, in frombytes\n    return o.decode('utf8')\n\nUnicodeDecodeError: 'utf-8' codec can't decode byte 0xc1 in position 18: invalid start byte\n\n\n\t [[{{node PyFunc}}]]\n\t [[IteratorGetNext]]\n\t [[IteratorGetNext/_2]]\n  (1) Invalid argument:  UnicodeDecodeError: 'utf-8' codec can't decode byte 0xc1 in position 18: invalid start byte\nTraceback (most recent call last):\n\n  File \"C:\\ProgramData\\Anaconda3\\lib\\site-packages\\tensorflow_core\\python\\ops\\script_ops.py\", line 221, in __call__\n    ret = func(*args)\n\n  File \"C:\\ProgramData\\Anaconda3\\lib\\site-packages\\tensorflow_core\\python\\data\\ops\\dataset_ops.py\", line 585, in generator_py_func\n    values = next(generator_state.get_iterator(iterator_id))\n\n  File \"<ipython-input-12-da2df882af5d>\", line 5, in input_generator_ftr_test\n    test = pd.read_feather(TEST_FILE)\n\n  File \"C:\\ProgramData\\Anaconda3\\lib\\site-packages\\pandas\\io\\feather_format.py\", line 103, in read_feather\n    return feather.read_feather(path, columns=columns, use_threads=bool(use_threads))\n\n  File \"C:\\ProgramData\\Anaconda3\\lib\\site-packages\\pyarrow\\feather.py\", line 214, in read_feather\n    reader = FeatherReader(source)\n\n  File \"C:\\ProgramData\\Anaconda3\\lib\\site-packages\\pyarrow\\feather.py\", line 40, in __init__\n    self.open(source)\n\n  File \"pyarrow\\feather.pxi\", line 80, in pyarrow.lib.FeatherReader.open\n\n  File \"pyarrow\\io.pxi\", line 1408, in pyarrow.lib.get_reader\n\n  File \"pyarrow\\io.pxi\", line 1397, in pyarrow.lib._get_native_file\n\n  File \"pyarrow\\io.pxi\", line 790, in pyarrow.lib.memory_map\n\n  File \"pyarrow\\io.pxi\", line 753, in pyarrow.lib.MemoryMappedFile._open\n\n  File \"pyarrow\\error.pxi\", line 122, in pyarrow.lib.pyarrow_internal_check_status\n\n  File \"pyarrow\\error.pxi\", line 81, in pyarrow.lib.check_status\n\n  File \"C:\\ProgramData\\Anaconda3\\lib\\site-packages\\pyarrow\\compat.py\", line 124, in frombytes\n    return o.decode('utf8')\n\nUnicodeDecodeError: 'utf-8' codec can't decode byte 0xc1 in position 18: invalid start byte\n\n\n\t [[{{node PyFunc}}]]\n\t [[IteratorGetNext]]\n0 successful operations.\n0 derived errors ignored. [Op:__inference_distributed_function_17035]\n\nFunction call stack:\ndistributed_function -> distributed_function\n"
     ]
    }
   ],
   "source": [
    "WEIGHT_DIR = './checkpoint/ver_loss_new/'\n",
    "latest = tf.train.latest_checkpoint(WEIGHT_DIR)\n",
    "print(latest)\n",
    "model.load_weights(latest)\n",
    "adam = tf.keras.optimizers.Adam(learning_rate=1.0e-05)\n",
    "model.compile(loss=maeOverFscore, optimizer=adam, metrics=[mae])\n",
    "result = model.predict(test_dataset)\n",
    "result.shape"
   ]
  },
  {
   "cell_type": "markdown",
   "metadata": {
    "colab_type": "text",
    "id": "kzZbiR6VszdJ"
   },
   "source": [
    "# Cross Validation 평가"
   ]
  },
  {
   "cell_type": "code",
   "execution_count": 0,
   "metadata": {
    "colab": {},
    "colab_type": "code",
    "id": "gh7AcnkOd2m6"
   },
   "outputs": [],
   "source": [
    "# cv,ftr 파일에 맞는 input 생성 코드\n",
    "def input_generator_ftr_cv():\n",
    "  # cv feather 파일 로드 및 orbit, subset 조합 생성\n",
    "  CV_FILE = './ftr_data/cv.ftr'\n",
    "  cv = pd.read_feather(CV_FILE)\n",
    "  file_cnt = 0\n",
    "  temp_info = cv[['orbit', 'subset']].drop_duplicates()\n",
    "  orbit = temp_info['orbit'].tolist()\n",
    "  subset = temp_info['subset'].tolist()\n",
    "  del temp_info\n",
    "  size = len(orbit)\n",
    "  \n",
    "  # 하나의 이미지 데이터에 해당하는 것만 3차원 변환 및 피처/라벨 생성\n",
    "  for i in range(size):\n",
    "    one_img = cv.loc[(cv['orbit'] == orbit[i]) & (cv['subset'] == subset[i])].sort_values('pixel')\n",
    "    one_img = np.array(one_img.drop(['orbit', 'subset', 'pixel'], axis=1)).reshape([40,40,15])\n",
    "    target = one_img[:,:,-1].reshape(40,40,1)\n",
    "    cutoff_labels = np.where(target < 0,0, target)\n",
    "    feature = one_img[:,:,:-1]\n",
    "    # if (cutoff_labels > 0).sum() < 50: continue\n",
    "    yield(feature, cutoff_labels)\n",
    "    file_cnt += 1\n",
    "\n",
    "cv_dataset = tf.data.Dataset.from_generator(input_generator_ftr_cv, (tf.float32, tf.float32),\n",
    "                                            (tf.TensorShape([40,40,14]),tf.TensorShape([40,40,1])))\n",
    "cv_dataset = cv_dataset.batch(64)"
   ]
  },
  {
   "cell_type": "code",
   "execution_count": 0,
   "metadata": {
    "colab": {},
    "colab_type": "code",
    "id": "H5Z-kEWflHxP"
   },
   "outputs": [],
   "source": []
  },
  {
   "cell_type": "code",
   "execution_count": 0,
   "metadata": {
    "colab": {},
    "colab_type": "code",
    "id": "c-VKz9Rstf1a"
   },
   "outputs": [],
   "source": [
    "# model_version1\n",
    "def conv_block_3(img_layer, start_neurons):\n",
    "  conv1 = Conv2D(start_neurons, (3, 3), activation=\"relu\", padding=\"same\")(img_layer)\n",
    "  conv1 = BatchNormalization()(conv1)\n",
    "  conv2 = Conv2D(start_neurons, (3, 3), activation=\"relu\", padding=\"same\")(conv1)\n",
    "  conv2 = BatchNormalization()(conv2)\n",
    "  conv3 = Conv2D(start_neurons, (3, 3), activation=\"relu\", padding=\"same\")(conv2)\n",
    "  conv3 = BatchNormalization()(conv3)\n",
    "\n",
    "  return conv3\n",
    "\n",
    "def conv_residual(img_layer, start_neurons):\n",
    "  conv1 = Conv2D(start_neurons, (3, 3), activation=\"relu\", padding=\"same\")(img_layer)\n",
    "  conv1 = BatchNormalization()(conv1)\n",
    "  conv2 = conv_block_3(conv1, start_neurons)\n",
    "  conv2 = BatchNormalization()(conv2)\n",
    "  conv3 = Conv2D(start_neurons, (3, 3), activation=\"relu\", padding=\"same\")(conv1 + conv2)\n",
    "  conv3 = BatchNormalization()(conv3)\n",
    "\n",
    "  return conv3\n",
    "\n",
    "def model_v1(input_layer, start_neurons):\n",
    "    # divide raw feature to image feature and external feature\n",
    "    img_layer = input_layer[:,:,:,:9]\n",
    "    ext_layer = input_layer[:,:,:,9:]\n",
    "    print('input_layer shape:', input_layer.shape)\n",
    "    print('img_layer shape:', img_layer.shape)\n",
    "    print('ext_layer shape:', ext_layer.shape)\n",
    "\n",
    "    # 40 x 40 -> 20 x 20\n",
    "    print('img_layer shape:', img_layer.shape)\n",
    "    conv1 = conv_residual(img_layer, start_neurons * 1)\n",
    "    print('conv1 shape:', conv1.shape)\n",
    "    pool1 = MaxPooling2D((2, 2))(conv1)\n",
    "    print('maxpool 1 shape:', pool1.shape)\n",
    "    pool1 = Dropout(0.25)(pool1)\n",
    "\n",
    "    # 20 x 20 -> 10 x 10\n",
    "    conv2 = conv_residual(pool1, start_neurons * 2)\n",
    "    print('conv2 shape:', conv2.shape)\n",
    "    pool2 = MaxPooling2D((2, 2))(conv2)\n",
    "    print('maxpool 2 shape:', pool2.shape)\n",
    "    pool2 = Dropout(0.25)(pool2)\n",
    "\n",
    "    # 10 x 10 \n",
    "    convm = conv_residual(pool2, start_neurons * 4)\n",
    "    print('convm shape:', convm.shape)\n",
    "\n",
    "    # 10 x 10 -> 20 x 20\n",
    "    deconv2 = Conv2DTranspose(start_neurons * 2, (3, 3), strides=(2, 2), padding=\"same\")(convm)\n",
    "    uconv2 = concatenate([deconv2, conv2])\n",
    "    uconv2 = conv_residual(uconv2, start_neurons * 2)\n",
    "    print('upconv2 shape:', uconv2.shape)\n",
    "    uconv2 = Dropout(0.25)(uconv2)\n",
    "\n",
    "    # 20 x 20 -> 40 x 40\n",
    "    deconv1 = Conv2DTranspose(start_neurons * 1, (3, 3), strides=(2, 2), padding=\"same\")(uconv2)\n",
    "    uconv1 = concatenate([deconv1, conv1])\n",
    "    uconv1 = conv_residual(uconv1, start_neurons * 1)\n",
    "    print('upconv1 shape:', uconv1.shape)\n",
    "    uconv1 = Dropout(0.25)(uconv1)\n",
    "    output_layer = Conv2D(1, (1,1), padding=\"same\", activation='relu')(uconv1)\n",
    "    print('output shape:', output_layer.shape)\n",
    "    \n",
    "    return output_layer\n",
    "\n",
    "input_layer = Input((40, 40, 17))\n",
    "output_layer = model_v1(input_layer, 32)\n",
    "model = Model(input_layer, output_layer)"
   ]
  },
  {
   "cell_type": "code",
   "execution_count": 0,
   "metadata": {
    "colab": {},
    "colab_type": "code",
    "id": "kNJ9Wx5bmT-h"
   },
   "outputs": [],
   "source": [
    "# model version 2\n",
    "def conv_block_3(img_layer, start_neurons):\n",
    "    conv1 = Conv2D(start_neurons, (3, 3), activation=\"relu\", padding=\"same\")(img_layer)\n",
    "    conv1 = BatchNormalization()(conv1)\n",
    "    conv2 = Conv2D(start_neurons, (3, 3), activation=\"relu\", padding=\"same\")(conv1)\n",
    "    conv2 = BatchNormalization()(conv2)\n",
    "    conv3 = Conv2D(start_neurons, (3, 3), activation=\"relu\", padding=\"same\")(conv2)\n",
    "    conv3 = BatchNormalization()(conv3)\n",
    "\n",
    "    return conv3\n",
    "\n",
    "def conv_residual(img_layer, start_neurons):\n",
    "    conv1 = Conv2D(start_neurons, (3, 3), activation=\"relu\", padding=\"same\")(img_layer)\n",
    "    conv1 = BatchNormalization()(conv1)\n",
    "    conv2 = conv_block_3(conv1, start_neurons)\n",
    "    conv2 = BatchNormalization()(conv2)\n",
    "    conv3 = Conv2D(start_neurons, (3, 3), activation=\"relu\", padding=\"same\")(conv1 + conv2)\n",
    "    conv3 = BatchNormalization()(conv3)\n",
    "\n",
    "    return conv3\n",
    "\n",
    "def model_v2(input_layer, start_neurons, ext_neurons):\n",
    "    # divide raw feature to image feature and external feature\n",
    "    img_layer = input_layer[:,:,:,:9]\n",
    "    ext_layer = input_layer[:,:,:,9:]\n",
    "    print('input_layer shape:', input_layer.shape)\n",
    "    print('img_layer shape:', img_layer.shape)\n",
    "    print('ext_layer shape:', ext_layer.shape)\n",
    "\n",
    "    # 40 x 40 -> 20 x 20\n",
    "    print('img_layer shape:', img_layer.shape)\n",
    "    conv1 = conv_residual(img_layer, start_neurons * 1)\n",
    "    print('conv1 shape:', conv1.shape)\n",
    "    pool1 = MaxPooling2D((2, 2))(conv1)\n",
    "    print('maxpool 1 shape:', pool1.shape)\n",
    "    pool1 = Dropout(0.25)(pool1)\n",
    "\n",
    "    # 20 x 20 -> 10 x 10\n",
    "    conv2 = conv_residual(pool1, start_neurons * 2)\n",
    "    print('conv2 shape:', conv2.shape)\n",
    "    pool2 = MaxPooling2D((2, 2))(conv2)\n",
    "    print('maxpool 2 shape:', pool2.shape)\n",
    "    pool2 = Dropout(0.25)(pool2)\n",
    "\n",
    "    # 10 x 10 \n",
    "    convm = conv_residual(pool2, start_neurons * 4)\n",
    "    print('convm shape:', convm.shape)\n",
    "\n",
    "    # 10 x 10 -> 20 x 20\n",
    "    deconv2 = Conv2DTranspose(start_neurons * 2, (3, 3), strides=(2, 2), padding=\"same\")(convm)\n",
    "    uconv2 = concatenate([deconv2, conv2])\n",
    "    print('concat 2:', uconv2.shape)\n",
    "    uconv2 = conv_residual(uconv2, start_neurons * 2)\n",
    "    print('upconv2 shape:', uconv2.shape)\n",
    "    uconv2 = Dropout(0.25)(uconv2)\n",
    "\n",
    "    # 20 x 20 -> 40 x 40\n",
    "    deconv1 = Conv2DTranspose(start_neurons * 1, (3, 3), strides=(2, 2), padding=\"same\")(uconv2)\n",
    "    uconv1 = concatenate([deconv1, conv1])\n",
    "    uconv1 = conv_residual(uconv1, start_neurons * 1)\n",
    "    print('upconv1 shape:', uconv1.shape)\n",
    "    uconv1 = Dropout(0.25)(uconv1)\n",
    "    \n",
    "    # process the external feature\n",
    "    ext_output = Conv2D(ext_neurons, (1,1), padding=\"valid\", activation='relu')(ext_layer)\n",
    "    ext_output = BatchNormalization()(ext_output)\n",
    "    print('ext 1 shape:', ext_output.shape)\n",
    "    # ext_output = Dropout(0.25)(ext_output)\n",
    "    ext_output = Conv2D(ext_neurons, (1,1), padding=\"valid\", activation='relu')(ext_layer)\n",
    "    ext_output = BatchNormalization()(ext_output)\n",
    "    print('ext 2 shape:', ext_output.shape)\n",
    "\n",
    "    output_layer = concatenate([uconv1, ext_output])\n",
    "    print('final concat shape:', output_layer.shape)\n",
    "\n",
    "    output_layer = Conv2D(16, (1,1), padding=\"valid\", activation='relu')(output_layer)\n",
    "    print('middle output shape:', output_layer.shape)\n",
    "    output_layer = Conv2D(1, (1,1), padding=\"valid\", activation='relu')(output_layer)\n",
    "    print('output shape:', output_layer.shape)\n",
    "    \n",
    "    return output_layer\n",
    "\n",
    "input_layer = Input((40, 40, 17))\n",
    "output_layer = model_v2(input_layer, 32, 64)\n",
    "model = Model(input_layer, output_layer)"
   ]
  },
  {
   "cell_type": "code",
   "execution_count": 0,
   "metadata": {
    "colab": {
     "base_uri": "https://localhost:8080/",
     "height": 390
    },
    "colab_type": "code",
    "executionInfo": {
     "elapsed": 2459,
     "status": "ok",
     "timestamp": 1589215006321,
     "user": {
      "displayName": "유영재",
      "photoUrl": "",
      "userId": "15071020987067673937"
     },
     "user_tz": -540
    },
    "id": "BBfOOLtXW8HC",
    "outputId": "619ca0d6-8aac-425c-88c8-315649971ae9"
   },
   "outputs": [
    {
     "name": "stdout",
     "output_type": "stream",
     "text": [
      "input_layer shape: (None, 40, 40, 14)\n",
      "img_layer shape: (None, 40, 40, 9)\n",
      "ext_layer shape: (None, 40, 40, 5)\n",
      "img_layer shape: (None, 40, 40, 9)\n",
      "conv1 shape: (None, 40, 40, 32)\n",
      "maxpool 1 shape: (None, 20, 20, 32)\n",
      "conv2 shape: (None, 20, 20, 64)\n",
      "maxpool 2 shape: (None, 10, 10, 64)\n",
      "atrous conv3 shape: (None, 10, 10, 128)\n",
      "pool shape: (None, 5, 5, 64)\n",
      "interpolate shape: (None, 10, 10, 128)\n",
      "atrous concat: (None, 10, 10, 512)\n",
      "final atrous shape: (None, 10, 10, 128)\n",
      "convm shape: (None, 10, 10, 128)\n",
      "concat 2: (None, 20, 20, 128)\n",
      "upconv2 shape: (None, 20, 20, 64)\n",
      "upconv1 shape: (None, 40, 40, 32)\n",
      "ext 1 shape: (None, 40, 40, 32)\n",
      "ext 2 shape: (None, 40, 40, 32)\n",
      "final concat shape: (None, 40, 40, 64)\n",
      "output shape: (None, 40, 40, 1)\n"
     ]
    }
   ],
   "source": [
    "# model_v3 / external feature / atrous conv / \n",
    "\n",
    "def atrous_conv(img_layer, start_neurons):\n",
    "  conv1 = Conv2D(start_neurons, (3, 3), activation=\"relu\", padding=\"same\")(img_layer)\n",
    "  conv1 = BatchNormalization()(conv1)\n",
    "  conv2 = Conv2D(start_neurons, (3, 3), activation=\"relu\", padding=\"same\", dilation_rate=2)(img_layer)\n",
    "  conv2 = BatchNormalization()(conv2)\n",
    "  conv3 = Conv2D(start_neurons, (3, 3), activation=\"relu\", padding=\"same\", dilation_rate=3)(img_layer)\n",
    "  conv3 = BatchNormalization()(conv3)\n",
    "  print('atrous conv3 shape:', conv3.shape)\n",
    "  pool = AveragePooling2D((2,2))(img_layer)\n",
    "  print('pool shape:', pool.shape)\n",
    "  conv4 = Conv2DTranspose(start_neurons, (3, 3), strides=(2, 2), padding=\"same\")(pool)\n",
    "  print('interpolate shape:', conv4.shape)\n",
    "\n",
    "  total = concatenate([conv1, conv2, conv3, conv4])\n",
    "  print('atrous concat:', total.shape)\n",
    "  total = Conv2D(start_neurons, (1,1), activation='relu', padding='valid')(total)\n",
    "  print('final atrous shape:', total.shape)\n",
    "  total = Dropout(0.5)(total)\n",
    "\n",
    "  return total\n",
    "\n",
    "def conv_block_2(img_layer, start_neurons):\n",
    "  conv1 = Conv2D(start_neurons, (3, 3), activation=\"relu\", padding=\"same\")(img_layer)\n",
    "  conv1 = BatchNormalization()(conv1)\n",
    "  conv2 = Conv2D(start_neurons, (3, 3), activation=\"relu\", padding=\"same\")(conv1)\n",
    "  conv2 = BatchNormalization()(conv2)\n",
    "\n",
    "  return conv2\n",
    "\n",
    "def conv_residual(img_layer, start_neurons):\n",
    "  conv1 = Conv2D(start_neurons, (3, 3), activation=\"relu\", padding=\"same\")(img_layer)\n",
    "  conv1 = BatchNormalization()(conv1)\n",
    "  conv2 = conv_block_2(conv1, start_neurons)\n",
    "  conv2 = BatchNormalization()(conv2)\n",
    "  conv3 = Conv2D(start_neurons, (3, 3), activation=\"relu\", padding=\"same\")(conv1 + conv2)\n",
    "  conv3 = BatchNormalization()(conv3)\n",
    "\n",
    "  return conv3\n",
    "\n",
    "def model_v3(input_layer, start_neurons, ext_neurons):\n",
    "    # divide raw feature to image feature and external feature\n",
    "    img_layer = input_layer[:,:,:,:9]\n",
    "    ext_layer = input_layer[:,:,:,9:]\n",
    "    print('input_layer shape:', input_layer.shape)\n",
    "    print('img_layer shape:', img_layer.shape)\n",
    "    print('ext_layer shape:', ext_layer.shape)\n",
    "\n",
    "    # 40 x 40 -> 20 x 20\n",
    "    print('img_layer shape:', img_layer.shape)\n",
    "    conv1 = conv_residual(img_layer, start_neurons * 1)\n",
    "    print('conv1 shape:', conv1.shape)\n",
    "    pool1 = MaxPooling2D((2, 2))(conv1)\n",
    "    print('maxpool 1 shape:', pool1.shape)\n",
    "    pool1 = Dropout(0.5)(pool1)\n",
    "\n",
    "    # 20 x 20 -> 10 x 10\n",
    "    conv2 = conv_residual(pool1, start_neurons * 2)\n",
    "    print('conv2 shape:', conv2.shape)\n",
    "    pool2 = MaxPooling2D((2, 2))(conv2)\n",
    "    print('maxpool 2 shape:', pool2.shape)\n",
    "    pool2 = Dropout(0.5)(pool2)\n",
    "\n",
    "    # 10 x 10 \n",
    "    convm = atrous_conv(pool2, start_neurons * 4)\n",
    "    print('convm shape:', convm.shape)\n",
    "\n",
    "    # 10 x 10 -> 20 x 20\n",
    "    deconv2 = Conv2DTranspose(start_neurons * 2, (3, 3), strides=(2, 2), padding=\"same\")(convm)\n",
    "    uconv2 = concatenate([deconv2, conv2])\n",
    "    print('concat 2:', uconv2.shape)\n",
    "    uconv2 = conv_residual(uconv2, start_neurons * 2)\n",
    "    print('upconv2 shape:', uconv2.shape)\n",
    "    uconv2 = Dropout(0.5)(uconv2)\n",
    "\n",
    "    # 20 x 20 -> 40 x 40\n",
    "    deconv1 = Conv2DTranspose(start_neurons * 1, (3, 3), strides=(2, 2), padding=\"same\")(uconv2)\n",
    "    uconv1 = concatenate([deconv1, conv1])\n",
    "    uconv1 = conv_residual(uconv1, start_neurons * 1)\n",
    "    print('upconv1 shape:', uconv1.shape)\n",
    "    uconv1 = Dropout(0.5)(uconv1)\n",
    "    \n",
    "    # process the external feature\n",
    "    ext_output = Conv2D(ext_neurons, (1,1), padding=\"valid\", activation='relu')(ext_layer)\n",
    "    ext_output = BatchNormalization()(ext_output)\n",
    "    print('ext 1 shape:', ext_output.shape)\n",
    "    ext_output = Conv2D(ext_neurons, (1,1), padding=\"valid\", activation='relu')(ext_layer)\n",
    "    ext_output = BatchNormalization()(ext_output)\n",
    "    print('ext 2 shape:', ext_output.shape)\n",
    "    ext_output = Dropout(0.5)(ext_output)\n",
    "\n",
    "    output_layer = concatenate([uconv1, ext_output])\n",
    "    print('final concat shape:', output_layer.shape)\n",
    "\n",
    "    output_layer = Conv2D(1, (1,1), padding=\"valid\", activation='relu')(output_layer)\n",
    "    print('output shape:', output_layer.shape)\n",
    "    \n",
    "    return output_layer\n",
    "\n",
    "input_layer = Input((40, 40, 14))\n",
    "output_layer = model_v3(input_layer, 32, 32)\n",
    "model = Model(input_layer, output_layer)"
   ]
  },
  {
   "cell_type": "code",
   "execution_count": 0,
   "metadata": {
    "colab": {},
    "colab_type": "code",
    "id": "FBzjM5eGoiK6"
   },
   "outputs": [],
   "source": [
    "# 원본 npy 파일에 맞는 input 생성 코드\n",
    "def input_generator_npy():\n",
    "  train_basic_path = 'raw_data'\n",
    "  train_path_list = sorted(glob.glob(train_basic_path + '/train*'))\n",
    "  print('디렉토리 개수:', len(train_path_list))\n",
    "  file_num = 0\n",
    "  for path in train_path_list:\n",
    "    files = sorted(glob.glob(path + '/*'))\n",
    "    print('총 파일 개수:', file_num)\n",
    "    for file in files:\n",
    "      data = np.load(file)\n",
    "      target = data[:, :, -1].reshape(40,40,1)\n",
    "      cutoff_labels = np.where(target < 0,0, target)\n",
    "      feature = data[:,:,:-1]\n",
    "      if (cutoff_labels > 0).sum() < 50: continue\n",
    "      yield(feature, cutoff_labels)\n",
    "      file_num += 1\n",
    "\n",
    "train_dataset = tf.data.Dataset.from_generator(input_generator_npy, (tf.float32, tf.float32),\n",
    "                                               (tf.TensorShape([40,40,14]),tf.TensorShape([40,40,1])))\n",
    "train_dataset = train_dataset.batch(8).prefetch(1)"
   ]
  }
 ],
 "metadata": {
  "accelerator": "GPU",
  "colab": {
   "authorship_tag": "ABX9TyMJjnSAHJpzP6uAlJL4J6Bd",
   "collapsed_sections": [],
   "machine_shape": "hm",
   "name": "dacon_satellite_basic_fusionNet.ipynb",
   "provenance": []
  },
  "kernelspec": {
   "display_name": "Python 3",
   "language": "python",
   "name": "python3"
  },
  "language_info": {
   "codemirror_mode": {
    "name": "ipython",
    "version": 3
   },
   "file_extension": ".py",
   "mimetype": "text/x-python",
   "name": "python",
   "nbconvert_exporter": "python",
   "pygments_lexer": "ipython3",
   "version": "3.6.9"
  }
 },
 "nbformat": 4,
 "nbformat_minor": 1
}
