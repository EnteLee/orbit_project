{
 "cells": [
  {
   "cell_type": "markdown",
   "metadata": {
    "colab_type": "text",
    "id": "MW-vGvHhb_nW"
   },
   "source": [
    "# CV 혹은 test 결과 산출하는 코드"
   ]
  },
  {
   "cell_type": "code",
   "execution_count": 1,
   "metadata": {
    "colab": {
     "base_uri": "https://localhost:8080/",
     "height": 319
    },
    "colab_type": "code",
    "executionInfo": {
     "elapsed": 3383,
     "status": "ok",
     "timestamp": 1588772664423,
     "user": {
      "displayName": "유영재",
      "photoUrl": "",
      "userId": "15071020987067673937"
     },
     "user_tz": -540
    },
    "id": "yyPA-eK1fzeJ",
    "outputId": "c852289b-d4b5-45be-be7b-b04710861e98"
   },
   "outputs": [
    {
     "name": "stdout",
     "output_type": "stream",
     "text": [
      "Mon May 11 13:50:19 2020       \n",
      "+-----------------------------------------------------------------------------+\n",
      "| NVIDIA-SMI 432.00       Driver Version: 432.00       CUDA Version: 10.1     |\n",
      "|-------------------------------+----------------------+----------------------+\n",
      "| GPU  Name            TCC/WDDM | Bus-Id        Disp.A | Volatile Uncorr. ECC |\n",
      "| Fan  Temp  Perf  Pwr:Usage/Cap|         Memory-Usage | GPU-Util  Compute M. |\n",
      "|===============================+======================+======================|\n",
      "|   0  TITAN X (Pascal)   WDDM  | 00000000:01:00.0  On |                  N/A |\n",
      "| 31%   49C    P8    20W / 250W |   1150MiB / 12288MiB |      0%      Default |\n",
      "+-------------------------------+----------------------+----------------------+\n",
      "                                                                               \n",
      "+-----------------------------------------------------------------------------+\n",
      "| Processes:                                                       GPU Memory |\n",
      "|  GPU       PID   Type   Process name                             Usage      |\n",
      "|=============================================================================|\n",
      "|    0       520    C+G   ...osoft.LockApp_cw5n1h2txyewy\\LockApp.exe N/A      |\n",
      "|    0       956    C+G   ...Local\\Microsoft\\Teams\\current\\Teams.exe N/A      |\n",
      "|    0      2824    C+G   ...6.102.0_x64__kzf8qxf38zg5c\\SkypeApp.exe N/A      |\n",
      "|    0      4020    C+G   ...1.88.0_x64__8wekyb3d8bbwe\\YourPhone.exe N/A      |\n",
      "|    0      4772    C+G   ...x64__8wekyb3d8bbwe\\Microsoft.Photos.exe N/A      |\n",
      "|    0      5808    C+G   ...cal\\Programs\\Microsoft VS Code\\Code.exe N/A      |\n",
      "|    0      6696    C+G   ...hell.Experiences.TextInput.InputApp.exe N/A      |\n",
      "|    0      7064    C+G   ...ta\\Local\\Postman\\app-7.23.0\\Postman.exe N/A      |\n",
      "|    0      7532    C+G   ...t_cw5n1h2txyewy\\ShellExperienceHost.exe N/A      |\n",
      "|    0      8444    C+G   C:\\ProgramData\\Anaconda3\\pythonw.exe       N/A      |\n",
      "|    0      9584    C+G   ...dows.Cortana_cw5n1h2txyewy\\SearchUI.exe N/A      |\n",
      "|    0     11020    C+G   ...Local\\Microsoft\\Teams\\current\\Teams.exe N/A      |\n",
      "|    0     13484    C+G   C:\\Windows\\explorer.exe                    N/A      |\n",
      "|    0     14964    C+G   ...6)\\Google\\Chrome\\Application\\chrome.exe N/A      |\n",
      "|    0     17016    C+G   Insufficient Permissions                   N/A      |\n",
      "|    0     19200    C+G   ...0.0.0_x64__8wekyb3d8bbwe\\Calculator.exe N/A      |\n",
      "+-----------------------------------------------------------------------------+\n"
     ]
    }
   ],
   "source": [
    "!nvidia-smi"
   ]
  },
  {
   "cell_type": "code",
   "execution_count": 2,
   "metadata": {
    "colab": {
     "base_uri": "https://localhost:8080/",
     "height": 72
    },
    "colab_type": "code",
    "executionInfo": {
     "elapsed": 2599,
     "status": "ok",
     "timestamp": 1588772725809,
     "user": {
      "displayName": "유영재",
      "photoUrl": "",
      "userId": "15071020987067673937"
     },
     "user_tz": -540
    },
    "id": "wThmwFVomGZv",
    "outputId": "5c987424-ebce-42f6-ae9f-3dfbadf9e0c0"
   },
   "outputs": [
    {
     "name": "stderr",
     "output_type": "stream",
     "text": [
      "C:\\ProgramData\\Anaconda3\\lib\\site-packages\\statsmodels\\tools\\_testing.py:19: FutureWarning: pandas.util.testing is deprecated. Use the functions in the public API at pandas.testing instead.\n",
      "  import pandas.util.testing as tm\n"
     ]
    }
   ],
   "source": [
    "import glob\n",
    "import pandas as pd\n",
    "import numpy as np\n",
    "import matplotlib.pylab as plt\n",
    "import seaborn as sns\n",
    "from tqdm import tqdm\n",
    "import tensorflow as tf\n",
    "import os\n",
    "from os.path import join\n",
    "import random\n",
    "import lightgbm as lgb\n",
    "import time\n",
    "from tensorflow.python.framework import ops\n",
    "from tensorflow.python.ops import math_ops\n",
    "import tensorflow.keras.backend as K\n",
    "from tensorflow.keras.layers import Dense, Conv2D, Dropout, Conv2DTranspose, MaxPooling2D, BatchNormalization\n",
    "from tensorflow.keras.layers import Activation, concatenate, Input, GlobalAveragePooling2D\n",
    "from tensorflow.keras import Model\n",
    "from tensorflow.keras.callbacks import TensorBoard, ModelCheckpoint, ReduceLROnPlateau, EarlyStopping\n",
    "import warnings\n",
    " \n",
    "warnings.filterwarnings(\"ignore\")"
   ]
  },
  {
   "cell_type": "code",
   "execution_count": 3,
   "metadata": {
    "colab": {
     "base_uri": "https://localhost:8080/",
     "height": 230
    },
    "colab_type": "code",
    "executionInfo": {
     "elapsed": 10251,
     "status": "ok",
     "timestamp": 1588772736816,
     "user": {
      "displayName": "유영재",
      "photoUrl": "",
      "userId": "15071020987067673937"
     },
     "user_tz": -540
    },
    "id": "r0RqunPImISg",
    "outputId": "90bef5f9-be72-4f98-ef32-df9b40ce86d8"
   },
   "outputs": [
    {
     "name": "stdout",
     "output_type": "stream",
     "text": [
      "input_layer shape: (None, 40, 40, 14)\n",
      "img_layer shape: (None, 40, 40, 9)\n",
      "ext_layer shape: (None, 40, 40, 5)\n",
      "img_layer shape: (None, 40, 40, 9)\n",
      "conv1 shape: (None, 40, 40, 32)\n",
      "maxpool 1 shape: (None, 20, 20, 32)\n",
      "conv2 shape: (None, 20, 20, 64)\n",
      "maxpool 2 shape: (None, 10, 10, 64)\n",
      "convm shape: (None, 10, 10, 128)\n",
      "upconv2 shape: (None, 20, 20, 64)\n",
      "upconv1 shape: (None, 40, 40, 32)\n",
      "output shape: (None, 40, 40, 1)\n"
     ]
    }
   ],
   "source": [
    "def conv_block_3(img_layer, start_neurons):\n",
    "    conv1 = Conv2D(start_neurons, (3, 3), activation=\"relu\", padding=\"same\")(img_layer)\n",
    "    conv1 = BatchNormalization()(conv1)\n",
    "    conv2 = Conv2D(start_neurons, (3, 3), activation=\"relu\", padding=\"same\")(conv1)\n",
    "    conv2 = BatchNormalization()(conv2)\n",
    "    conv3 = Conv2D(start_neurons, (3, 3), activation=\"relu\", padding=\"same\")(conv2)\n",
    "    conv3 = BatchNormalization()(conv3)\n",
    "\n",
    "    return conv3\n",
    "\n",
    "def conv_residual(img_layer, start_neurons):\n",
    "    conv1 = Conv2D(start_neurons, (3, 3), activation=\"relu\", padding=\"same\")(img_layer)\n",
    "    conv1 = BatchNormalization()(conv1)\n",
    "    conv2 = conv_block_3(conv1, start_neurons)\n",
    "    conv2 = BatchNormalization()(conv2)\n",
    "    conv3 = Conv2D(start_neurons, (3, 3), activation=\"relu\", padding=\"same\")(conv1 + conv2)\n",
    "    conv3 = BatchNormalization()(conv3)\n",
    "\n",
    "    return conv3\n",
    "\n",
    "def model_v1(input_layer, start_neurons):\n",
    "    # divide raw feature to image feature and external feature\n",
    "    img_layer = input_layer[:,:,:,:9]\n",
    "    ext_layer = input_layer[:,:,:,9:]\n",
    "    print('input_layer shape:', input_layer.shape)\n",
    "    print('img_layer shape:', img_layer.shape)\n",
    "    print('ext_layer shape:', ext_layer.shape)\n",
    "\n",
    "    # 40 x 40 -> 20 x 20\n",
    "    print('img_layer shape:', img_layer.shape)\n",
    "    conv1 = conv_residual(img_layer, start_neurons * 1)\n",
    "    print('conv1 shape:', conv1.shape)\n",
    "    pool1 = MaxPooling2D((2, 2))(conv1)\n",
    "    print('maxpool 1 shape:', pool1.shape)\n",
    "    pool1 = Dropout(0.25)(pool1)\n",
    "\n",
    "    # 20 x 20 -> 10 x 10\n",
    "    conv2 = conv_residual(pool1, start_neurons * 2)\n",
    "    print('conv2 shape:', conv2.shape)\n",
    "    pool2 = MaxPooling2D((2, 2))(conv2)\n",
    "    print('maxpool 2 shape:', pool2.shape)\n",
    "    pool2 = Dropout(0.25)(pool2)\n",
    "\n",
    "    # 10 x 10 \n",
    "    convm = conv_residual(pool2, start_neurons * 4)\n",
    "    print('convm shape:', convm.shape)\n",
    "\n",
    "    # 10 x 10 -> 20 x 20\n",
    "    deconv2 = Conv2DTranspose(start_neurons * 2, (3, 3), strides=(2, 2), padding=\"same\")(convm)\n",
    "    uconv2 = concatenate([deconv2, conv2])\n",
    "    uconv2 = conv_residual(uconv2, start_neurons * 2)\n",
    "    print('upconv2 shape:', uconv2.shape)\n",
    "    uconv2 = Dropout(0.25)(uconv2)\n",
    "\n",
    "    # 20 x 20 -> 40 x 40\n",
    "    deconv1 = Conv2DTranspose(start_neurons * 1, (3, 3), strides=(2, 2), padding=\"same\")(uconv2)\n",
    "    uconv1 = concatenate([deconv1, conv1])\n",
    "    uconv1 = conv_residual(uconv1, start_neurons * 1)\n",
    "    print('upconv1 shape:', uconv1.shape)\n",
    "    uconv1 = Dropout(0.25)(uconv1)\n",
    "    output_layer = Conv2D(1, (1,1), padding=\"same\", activation='relu')(uconv1)\n",
    "    print('output shape:', output_layer.shape)\n",
    "    \n",
    "    return output_layer\n",
    "\n",
    "input_layer = Input((40, 40, 14))\n",
    "output_layer = model_v1(input_layer, 32)\n",
    "model = Model(input_layer, output_layer)"
   ]
  },
  {
   "cell_type": "code",
   "execution_count": 4,
   "metadata": {
    "colab": {},
    "colab_type": "code",
    "id": "bhsrWJaHnMRW"
   },
   "outputs": [],
   "source": [
    "# custom loss fuction (maeOverFscore)\n",
    "def recall_m(y_true, y_pred):\n",
    "    true_positives = tf.dtypes.cast(K.sum(K.round(K.clip(y_true * y_pred, 0, 1))), dtype=tf.float32)\n",
    "    possible_positives = tf.dtypes.cast(K.sum(K.round(K.clip(y_true, 0, 1))), dtype=tf.float32)\n",
    "    recall = true_positives / (possible_positives + K.epsilon())\n",
    "    return recall\n",
    "\n",
    "def precision_m(y_true, y_pred):\n",
    "    true_positives = tf.dtypes.cast(K.sum(K.round(K.clip(y_true * y_pred, 0, 1))), dtype=tf.float32)\n",
    "    predicted_positives = tf.dtypes.cast(K.sum(K.round(K.clip(y_pred, 0, 1))), dtype=tf.float32)\n",
    "    precision = true_positives / (predicted_positives + K.epsilon())\n",
    "    return precision\n",
    "\n",
    "def f1_m(y_true, y_pred):\n",
    "    idx_one_true = tf.greater_equal(y_true, 0.1)\n",
    "    y_true = tf.where(idx_one_true == True, 1, 0)\n",
    "    idx_one_pred = tf.greater_equal(y_pred, 0.1)\n",
    "    y_pred = tf.where(idx_one_pred == True, 1, 0)\n",
    "    precision = precision_m(y_true, y_pred)\n",
    "    recall = recall_m(y_true, y_pred)\n",
    "    return 2*((precision*recall)/(precision+recall+K.epsilon()))\n",
    "\n",
    "def mae(y_true, y_pred):\n",
    "    over_threshold = tf.greater_equal(y_true, 0.1)\n",
    "    return K.mean(math_ops.abs(y_pred - y_true), axis=-1)\n",
    "\n",
    "def maeOverFscore(y_true, y_pred):\n",
    "    y_true = tf.reshape(y_true, [-1])\n",
    "    y_pred = tf.reshape(y_pred, [-1])\n",
    "    return mae(y_true, y_pred) / f1_m(y_true, y_pred)"
   ]
  },
  {
   "cell_type": "markdown",
   "metadata": {
    "colab_type": "text",
    "id": "u8HT3z8nnWxk"
   },
   "source": [
    "## Cross Validation"
   ]
  },
  {
   "cell_type": "code",
   "execution_count": 0,
   "metadata": {
    "colab": {},
    "colab_type": "code",
    "id": "B-OtQvJqnmFw"
   },
   "outputs": [],
   "source": [
    "# cv,ftr 파일에 맞는 input 생성 코드\n",
    "def input_generator_ftr_cv():\n",
    "    # cv feather 파일 로드 및 orbit, subset 조합 생성\n",
    "    CV_FILE = './ftr_data/cv.ftr'\n",
    "    cv = pd.read_feather(CV_FILE)\n",
    "    file_cnt = 0\n",
    "    temp_info = cv[['orbit', 'subset']].drop_duplicates()\n",
    "    orbit = temp_info['orbit'].tolist()\n",
    "    subset = temp_info['subset'].tolist()\n",
    "    del temp_info\n",
    "    size = len(orbit)\n",
    "  \n",
    "  # 하나의 이미지 데이터에 해당하는 것만 3차원 변환 및 피처/라벨 생성\n",
    "    for i in range(size):\n",
    "        one_img = cv.loc[(cv['orbit'] == orbit[i]) & (cv['subset'] == subset[i])].sort_values('pixel')\n",
    "        one_img = np.array(one_img.drop(['orbit', 'subset', 'pixel'], axis=1)).reshape([40,40,15])\n",
    "        target = one_img[:,:,-1].reshape(40,40,1)\n",
    "        cutoff_labels = np.where(target < 0,0, target)\n",
    "        feature = one_img[:,:,:-1]\n",
    "        # if (cutoff_labels > 0).sum() < 50: continue\n",
    "        yield(feature, cutoff_labels)\n",
    "        file_cnt += 1\n",
    "\n",
    "cv_dataset = tf.data.Dataset.from_generator(input_generator_ftr_cv, (tf.float32, tf.float32),\n",
    "                                            (tf.TensorShape([40,40,14]),tf.TensorShape([40,40,1])))\n",
    "cv_dataset = cv_dataset.batch(64)"
   ]
  },
  {
   "cell_type": "code",
   "execution_count": 11,
   "metadata": {
    "colab": {
     "base_uri": "https://localhost:8080/",
     "height": 35
    },
    "colab_type": "code",
    "executionInfo": {
     "elapsed": 1301,
     "status": "ok",
     "timestamp": 1588762501481,
     "user": {
      "displayName": "유영재",
      "photoUrl": "",
      "userId": "15071020987067673937"
     },
     "user_tz": -540
    },
    "id": "9YjeQ2YEnWJD",
    "outputId": "80728197-9e23-4da0-c64a-5677e476a83d"
   },
   "outputs": [
    {
     "name": "stdout",
     "output_type": "stream",
     "text": [
      "./checkpoint/v01_ep01-loss2.46503.ckpt\n"
     ]
    }
   ],
   "source": [
    "WEIGHT_DIR = './checkpoint/'\n",
    "latest = tf.train.latest_checkpoint(WEIGHT_DIR)\n",
    "print(latest)\n",
    "model.load_weights(latest)\n",
    "adam = tf.keras.optimizers.Adam(learning_rate=1.0e-05)\n",
    "model.compile(loss=maeOverFscore, optimizer=adam, metrics=[mae, f1_m])"
   ]
  },
  {
   "cell_type": "code",
   "execution_count": 12,
   "metadata": {
    "colab": {
     "base_uri": "https://localhost:8080/",
     "height": 88
    },
    "colab_type": "code",
    "executionInfo": {
     "elapsed": 305529,
     "status": "ok",
     "timestamp": 1588762814698,
     "user": {
      "displayName": "유영재",
      "photoUrl": "",
      "userId": "15071020987067673937"
     },
     "user_tz": -540
    },
    "id": "3GOrH_SKnwyZ",
    "outputId": "ec8d1086-411f-4ec7-87ee-51b0d264de4a"
   },
   "outputs": [
    {
     "name": "stdout",
     "output_type": "stream",
     "text": [
      "112/112 [==============================] - 280s 3s/step - loss: 0.4758 - mae: 0.2381 - f1_m: 0.4890\n"
     ]
    },
    {
     "data": {
      "text/plain": [
       "{'f1_m': 0.4889864921569824,\n",
       " 'loss': 0.4758166968822479,\n",
       " 'mae': 0.23813003301620483}"
      ]
     },
     "execution_count": 12,
     "metadata": {
      "tags": []
     },
     "output_type": "execute_result"
    }
   ],
   "source": [
    "result = model.evaluate(cv_dataset)\n",
    "dict(zip(model.metrics_names, result))"
   ]
  },
  {
   "cell_type": "markdown",
   "metadata": {
    "colab_type": "text",
    "id": "h3VOGyB9oDIa"
   },
   "source": [
    "# Test"
   ]
  },
  {
   "cell_type": "code",
   "execution_count": 5,
   "metadata": {},
   "outputs": [],
   "source": [
    "# test.ftr 파일에 맞는 input 생성 코드\n",
    "def input_generator_ftr_test():\n",
    "    # test feather 파일 로드 및 orbit, subset 조합 생성\n",
    "    TEST_FILE = './test.ftr'\n",
    "    test = pd.read_feather(TEST_FILE)\n",
    "    file_cnt = 0\n",
    "    temp_info = test[['orbit', 'subset']].drop_duplicates()\n",
    "    orbit = temp_info['orbit'].tolist()\n",
    "    subset = temp_info['subset'].tolist()\n",
    "    del temp_info\n",
    "    size = len(orbit)\n",
    "  \n",
    "  # 하나의 이미지 데이터에 해당하는 것만 3차원 변환 및 피처/라벨 생성\n",
    "    for i in range(size):\n",
    "        one_img = test.loc[(test['orbit'] == orbit[i]) & (test['subset'] == subset[i])].sort_values('pixel')\n",
    "        one_img = np.array(one_img.drop(['orbit', 'subset', 'pixel'], axis=1)).reshape([40,40,14])\n",
    "#         target = one_img[:,:,-1].reshape(40,40,1)\n",
    "#         cutoff_labels = np.where(target < 0,0, target)\n",
    "        feature = one_img[:,:,:]\n",
    "        # if (cutoff_labels > 0).sum() < 50: continue\n",
    "        yield(feature)\n",
    "        file_cnt += 1\n",
    "\n",
    "test_dataset = tf.data.Dataset.from_generator(input_generator_ftr_test, tf.float32,\n",
    "                                               tf.TensorShape([40,40,14]))\n",
    "test_dataset = test_dataset.batch(1024).prefetch(1)"
   ]
  },
  {
   "cell_type": "code",
   "execution_count": 6,
   "metadata": {
    "colab": {
     "base_uri": "https://localhost:8080/",
     "height": 35
    },
    "colab_type": "code",
    "executionInfo": {
     "elapsed": 4111,
     "status": "ok",
     "timestamp": 1588772901118,
     "user": {
      "displayName": "유영재",
      "photoUrl": "",
      "userId": "15071020987067673937"
     },
     "user_tz": -540
    },
    "id": "1kwQIVjXmqrf",
    "outputId": "73817127-1783-4cb5-b66b-39f8c6b3f58f"
   },
   "outputs": [
    {
     "name": "stdout",
     "output_type": "stream",
     "text": [
      "./checkpoint/v01_ep04-loss0.86484.ckpt\n"
     ]
    }
   ],
   "source": [
    "WEIGHT_DIR = './checkpoint/'\n",
    "latest = tf.train.latest_checkpoint(WEIGHT_DIR)\n",
    "print(latest)\n",
    "model.load_weights(latest)\n",
    "adam = tf.keras.optimizers.Adam(learning_rate=1.0e-05)\n",
    "model.compile(loss=maeOverFscore, optimizer=adam, metrics=[mae, f1_m])"
   ]
  },
  {
   "cell_type": "code",
   "execution_count": 7,
   "metadata": {
    "colab": {
     "base_uri": "https://localhost:8080/",
     "height": 88
    },
    "colab_type": "code",
    "executionInfo": {
     "elapsed": 1214867,
     "status": "ok",
     "timestamp": 1588774151306,
     "user": {
      "displayName": "유영재",
      "photoUrl": "",
      "userId": "15071020987067673937"
     },
     "user_tz": -540
    },
    "id": "RIvJVIPcPoCY",
    "outputId": "da0d3254-16f5-4922-8835-7ff0d899acf4"
   },
   "outputs": [
    {
     "data": {
      "text/plain": [
       "(2416, 40, 40, 1)"
      ]
     },
     "execution_count": 7,
     "metadata": {},
     "output_type": "execute_result"
    }
   ],
   "source": [
    "result = model.predict(test_dataset)\n",
    "result.shape"
   ]
  },
  {
   "cell_type": "code",
   "execution_count": 8,
   "metadata": {
    "colab": {},
    "colab_type": "code",
    "id": "MoausV5bPxq3"
   },
   "outputs": [
    {
     "name": "stdout",
     "output_type": "stream",
     "text": [
      "(2416, 1600)\n"
     ]
    },
    {
     "data": {
      "text/html": [
       "<div>\n",
       "<style scoped>\n",
       "    .dataframe tbody tr th:only-of-type {\n",
       "        vertical-align: middle;\n",
       "    }\n",
       "\n",
       "    .dataframe tbody tr th {\n",
       "        vertical-align: top;\n",
       "    }\n",
       "\n",
       "    .dataframe thead th {\n",
       "        text-align: right;\n",
       "    }\n",
       "</style>\n",
       "<table border=\"1\" class=\"dataframe\">\n",
       "  <thead>\n",
       "    <tr style=\"text-align: right;\">\n",
       "      <th></th>\n",
       "      <th>id</th>\n",
       "      <th>px_1</th>\n",
       "      <th>px_2</th>\n",
       "      <th>px_3</th>\n",
       "      <th>px_4</th>\n",
       "      <th>px_5</th>\n",
       "      <th>px_6</th>\n",
       "      <th>px_7</th>\n",
       "      <th>px_8</th>\n",
       "      <th>px_9</th>\n",
       "      <th>...</th>\n",
       "      <th>px_1591</th>\n",
       "      <th>px_1592</th>\n",
       "      <th>px_1593</th>\n",
       "      <th>px_1594</th>\n",
       "      <th>px_1595</th>\n",
       "      <th>px_1596</th>\n",
       "      <th>px_1597</th>\n",
       "      <th>px_1598</th>\n",
       "      <th>px_1599</th>\n",
       "      <th>px_1600</th>\n",
       "    </tr>\n",
       "  </thead>\n",
       "  <tbody>\n",
       "    <tr>\n",
       "      <th>0</th>\n",
       "      <td>029858_01</td>\n",
       "      <td>0.261905</td>\n",
       "      <td>0.000000</td>\n",
       "      <td>0.184648</td>\n",
       "      <td>0.000000</td>\n",
       "      <td>0.000000</td>\n",
       "      <td>0.002708</td>\n",
       "      <td>0.159794</td>\n",
       "      <td>0.000000</td>\n",
       "      <td>0.117761</td>\n",
       "      <td>...</td>\n",
       "      <td>0.000000</td>\n",
       "      <td>0.000000</td>\n",
       "      <td>0.000000</td>\n",
       "      <td>0.000000</td>\n",
       "      <td>0.000000</td>\n",
       "      <td>0.037848</td>\n",
       "      <td>0.0</td>\n",
       "      <td>0.0</td>\n",
       "      <td>0.0</td>\n",
       "      <td>0.0</td>\n",
       "    </tr>\n",
       "    <tr>\n",
       "      <th>1</th>\n",
       "      <td>029858_02</td>\n",
       "      <td>0.081972</td>\n",
       "      <td>0.000000</td>\n",
       "      <td>0.148341</td>\n",
       "      <td>0.000000</td>\n",
       "      <td>0.000000</td>\n",
       "      <td>0.000000</td>\n",
       "      <td>0.000000</td>\n",
       "      <td>0.000000</td>\n",
       "      <td>0.000000</td>\n",
       "      <td>...</td>\n",
       "      <td>0.000000</td>\n",
       "      <td>0.000000</td>\n",
       "      <td>0.000000</td>\n",
       "      <td>0.000000</td>\n",
       "      <td>0.000000</td>\n",
       "      <td>0.000000</td>\n",
       "      <td>0.0</td>\n",
       "      <td>0.0</td>\n",
       "      <td>0.0</td>\n",
       "      <td>0.0</td>\n",
       "    </tr>\n",
       "    <tr>\n",
       "      <th>2</th>\n",
       "      <td>029858_03</td>\n",
       "      <td>0.092854</td>\n",
       "      <td>0.000000</td>\n",
       "      <td>0.000000</td>\n",
       "      <td>0.000000</td>\n",
       "      <td>0.000000</td>\n",
       "      <td>0.000000</td>\n",
       "      <td>0.000000</td>\n",
       "      <td>0.000000</td>\n",
       "      <td>0.000000</td>\n",
       "      <td>...</td>\n",
       "      <td>0.000000</td>\n",
       "      <td>0.000000</td>\n",
       "      <td>0.000000</td>\n",
       "      <td>0.000000</td>\n",
       "      <td>0.000000</td>\n",
       "      <td>0.028662</td>\n",
       "      <td>0.0</td>\n",
       "      <td>0.0</td>\n",
       "      <td>0.0</td>\n",
       "      <td>0.0</td>\n",
       "    </tr>\n",
       "    <tr>\n",
       "      <th>3</th>\n",
       "      <td>029858_05</td>\n",
       "      <td>0.071267</td>\n",
       "      <td>0.000000</td>\n",
       "      <td>0.122222</td>\n",
       "      <td>0.032004</td>\n",
       "      <td>0.000000</td>\n",
       "      <td>0.000000</td>\n",
       "      <td>0.000000</td>\n",
       "      <td>0.000000</td>\n",
       "      <td>0.000000</td>\n",
       "      <td>...</td>\n",
       "      <td>0.000000</td>\n",
       "      <td>0.000000</td>\n",
       "      <td>0.000000</td>\n",
       "      <td>0.000000</td>\n",
       "      <td>0.000000</td>\n",
       "      <td>0.000000</td>\n",
       "      <td>0.0</td>\n",
       "      <td>0.0</td>\n",
       "      <td>0.0</td>\n",
       "      <td>0.0</td>\n",
       "    </tr>\n",
       "    <tr>\n",
       "      <th>4</th>\n",
       "      <td>029858_07</td>\n",
       "      <td>0.076566</td>\n",
       "      <td>0.000000</td>\n",
       "      <td>0.153572</td>\n",
       "      <td>0.000000</td>\n",
       "      <td>0.000000</td>\n",
       "      <td>0.000000</td>\n",
       "      <td>0.000000</td>\n",
       "      <td>0.000000</td>\n",
       "      <td>0.000000</td>\n",
       "      <td>...</td>\n",
       "      <td>0.399176</td>\n",
       "      <td>0.346281</td>\n",
       "      <td>0.345578</td>\n",
       "      <td>0.287870</td>\n",
       "      <td>0.127772</td>\n",
       "      <td>0.300113</td>\n",
       "      <td>0.0</td>\n",
       "      <td>0.0</td>\n",
       "      <td>0.0</td>\n",
       "      <td>0.0</td>\n",
       "    </tr>\n",
       "    <tr>\n",
       "      <th>...</th>\n",
       "      <td>...</td>\n",
       "      <td>...</td>\n",
       "      <td>...</td>\n",
       "      <td>...</td>\n",
       "      <td>...</td>\n",
       "      <td>...</td>\n",
       "      <td>...</td>\n",
       "      <td>...</td>\n",
       "      <td>...</td>\n",
       "      <td>...</td>\n",
       "      <td>...</td>\n",
       "      <td>...</td>\n",
       "      <td>...</td>\n",
       "      <td>...</td>\n",
       "      <td>...</td>\n",
       "      <td>...</td>\n",
       "      <td>...</td>\n",
       "      <td>...</td>\n",
       "      <td>...</td>\n",
       "      <td>...</td>\n",
       "      <td>...</td>\n",
       "    </tr>\n",
       "    <tr>\n",
       "      <th>2411</th>\n",
       "      <td>031287_08</td>\n",
       "      <td>0.148113</td>\n",
       "      <td>0.000000</td>\n",
       "      <td>0.217676</td>\n",
       "      <td>0.129530</td>\n",
       "      <td>0.000000</td>\n",
       "      <td>0.000000</td>\n",
       "      <td>0.000000</td>\n",
       "      <td>0.000000</td>\n",
       "      <td>0.000000</td>\n",
       "      <td>...</td>\n",
       "      <td>0.000000</td>\n",
       "      <td>0.000000</td>\n",
       "      <td>0.000000</td>\n",
       "      <td>0.000000</td>\n",
       "      <td>0.000000</td>\n",
       "      <td>0.049249</td>\n",
       "      <td>0.0</td>\n",
       "      <td>0.0</td>\n",
       "      <td>0.0</td>\n",
       "      <td>0.0</td>\n",
       "    </tr>\n",
       "    <tr>\n",
       "      <th>2412</th>\n",
       "      <td>031288_01</td>\n",
       "      <td>0.000000</td>\n",
       "      <td>0.000000</td>\n",
       "      <td>0.000000</td>\n",
       "      <td>0.000000</td>\n",
       "      <td>0.126975</td>\n",
       "      <td>0.034592</td>\n",
       "      <td>0.000000</td>\n",
       "      <td>0.000000</td>\n",
       "      <td>0.054937</td>\n",
       "      <td>...</td>\n",
       "      <td>0.000000</td>\n",
       "      <td>0.000000</td>\n",
       "      <td>0.000000</td>\n",
       "      <td>0.214048</td>\n",
       "      <td>0.179185</td>\n",
       "      <td>0.005617</td>\n",
       "      <td>0.0</td>\n",
       "      <td>0.0</td>\n",
       "      <td>0.0</td>\n",
       "      <td>0.0</td>\n",
       "    </tr>\n",
       "    <tr>\n",
       "      <th>2413</th>\n",
       "      <td>031288_02</td>\n",
       "      <td>0.195744</td>\n",
       "      <td>0.092026</td>\n",
       "      <td>0.000000</td>\n",
       "      <td>0.000000</td>\n",
       "      <td>0.000000</td>\n",
       "      <td>0.034799</td>\n",
       "      <td>0.000000</td>\n",
       "      <td>0.000000</td>\n",
       "      <td>0.000000</td>\n",
       "      <td>...</td>\n",
       "      <td>0.000000</td>\n",
       "      <td>0.000000</td>\n",
       "      <td>0.000000</td>\n",
       "      <td>0.000000</td>\n",
       "      <td>0.000000</td>\n",
       "      <td>0.040110</td>\n",
       "      <td>0.0</td>\n",
       "      <td>0.0</td>\n",
       "      <td>0.0</td>\n",
       "      <td>0.0</td>\n",
       "    </tr>\n",
       "    <tr>\n",
       "      <th>2414</th>\n",
       "      <td>031288_08</td>\n",
       "      <td>0.000000</td>\n",
       "      <td>0.000000</td>\n",
       "      <td>0.099550</td>\n",
       "      <td>0.064366</td>\n",
       "      <td>0.000000</td>\n",
       "      <td>0.000000</td>\n",
       "      <td>0.000000</td>\n",
       "      <td>0.049474</td>\n",
       "      <td>0.000000</td>\n",
       "      <td>...</td>\n",
       "      <td>0.000000</td>\n",
       "      <td>0.000000</td>\n",
       "      <td>0.000000</td>\n",
       "      <td>0.041534</td>\n",
       "      <td>0.000000</td>\n",
       "      <td>0.000000</td>\n",
       "      <td>0.0</td>\n",
       "      <td>0.0</td>\n",
       "      <td>0.0</td>\n",
       "      <td>0.0</td>\n",
       "    </tr>\n",
       "    <tr>\n",
       "      <th>2415</th>\n",
       "      <td>031288_11</td>\n",
       "      <td>0.103374</td>\n",
       "      <td>0.000000</td>\n",
       "      <td>0.117957</td>\n",
       "      <td>0.000000</td>\n",
       "      <td>0.000000</td>\n",
       "      <td>0.000000</td>\n",
       "      <td>0.000000</td>\n",
       "      <td>0.000000</td>\n",
       "      <td>0.000000</td>\n",
       "      <td>...</td>\n",
       "      <td>0.000000</td>\n",
       "      <td>0.000000</td>\n",
       "      <td>0.000000</td>\n",
       "      <td>0.000000</td>\n",
       "      <td>0.000000</td>\n",
       "      <td>0.176587</td>\n",
       "      <td>0.0</td>\n",
       "      <td>0.0</td>\n",
       "      <td>0.0</td>\n",
       "      <td>0.0</td>\n",
       "    </tr>\n",
       "  </tbody>\n",
       "</table>\n",
       "<p>2416 rows × 1601 columns</p>\n",
       "</div>"
      ],
      "text/plain": [
       "             id      px_1      px_2      px_3      px_4      px_5      px_6  \\\n",
       "0     029858_01  0.261905  0.000000  0.184648  0.000000  0.000000  0.002708   \n",
       "1     029858_02  0.081972  0.000000  0.148341  0.000000  0.000000  0.000000   \n",
       "2     029858_03  0.092854  0.000000  0.000000  0.000000  0.000000  0.000000   \n",
       "3     029858_05  0.071267  0.000000  0.122222  0.032004  0.000000  0.000000   \n",
       "4     029858_07  0.076566  0.000000  0.153572  0.000000  0.000000  0.000000   \n",
       "...         ...       ...       ...       ...       ...       ...       ...   \n",
       "2411  031287_08  0.148113  0.000000  0.217676  0.129530  0.000000  0.000000   \n",
       "2412  031288_01  0.000000  0.000000  0.000000  0.000000  0.126975  0.034592   \n",
       "2413  031288_02  0.195744  0.092026  0.000000  0.000000  0.000000  0.034799   \n",
       "2414  031288_08  0.000000  0.000000  0.099550  0.064366  0.000000  0.000000   \n",
       "2415  031288_11  0.103374  0.000000  0.117957  0.000000  0.000000  0.000000   \n",
       "\n",
       "          px_7      px_8      px_9  ...   px_1591   px_1592   px_1593  \\\n",
       "0     0.159794  0.000000  0.117761  ...  0.000000  0.000000  0.000000   \n",
       "1     0.000000  0.000000  0.000000  ...  0.000000  0.000000  0.000000   \n",
       "2     0.000000  0.000000  0.000000  ...  0.000000  0.000000  0.000000   \n",
       "3     0.000000  0.000000  0.000000  ...  0.000000  0.000000  0.000000   \n",
       "4     0.000000  0.000000  0.000000  ...  0.399176  0.346281  0.345578   \n",
       "...        ...       ...       ...  ...       ...       ...       ...   \n",
       "2411  0.000000  0.000000  0.000000  ...  0.000000  0.000000  0.000000   \n",
       "2412  0.000000  0.000000  0.054937  ...  0.000000  0.000000  0.000000   \n",
       "2413  0.000000  0.000000  0.000000  ...  0.000000  0.000000  0.000000   \n",
       "2414  0.000000  0.049474  0.000000  ...  0.000000  0.000000  0.000000   \n",
       "2415  0.000000  0.000000  0.000000  ...  0.000000  0.000000  0.000000   \n",
       "\n",
       "       px_1594   px_1595   px_1596  px_1597  px_1598  px_1599  px_1600  \n",
       "0     0.000000  0.000000  0.037848      0.0      0.0      0.0      0.0  \n",
       "1     0.000000  0.000000  0.000000      0.0      0.0      0.0      0.0  \n",
       "2     0.000000  0.000000  0.028662      0.0      0.0      0.0      0.0  \n",
       "3     0.000000  0.000000  0.000000      0.0      0.0      0.0      0.0  \n",
       "4     0.287870  0.127772  0.300113      0.0      0.0      0.0      0.0  \n",
       "...        ...       ...       ...      ...      ...      ...      ...  \n",
       "2411  0.000000  0.000000  0.049249      0.0      0.0      0.0      0.0  \n",
       "2412  0.214048  0.179185  0.005617      0.0      0.0      0.0      0.0  \n",
       "2413  0.000000  0.000000  0.040110      0.0      0.0      0.0      0.0  \n",
       "2414  0.041534  0.000000  0.000000      0.0      0.0      0.0      0.0  \n",
       "2415  0.000000  0.000000  0.176587      0.0      0.0      0.0      0.0  \n",
       "\n",
       "[2416 rows x 1601 columns]"
      ]
     },
     "execution_count": 8,
     "metadata": {},
     "output_type": "execute_result"
    }
   ],
   "source": [
    "tmp = pd.read_csv('sample_submission.csv')\n",
    "df = result.reshape([2416, 1600])\n",
    "df = pd.DataFrame(df)\n",
    "print(df.shape)\n",
    "submit = pd.concat([tmp['id'], df], axis=1)\n",
    "submit.columns = tmp.columns\n",
    "submit.to_csv('./result/result_batch1024_2.csv', index=False)\n",
    "submit"
   ]
  },
  {
   "cell_type": "code",
   "execution_count": 0,
   "metadata": {
    "colab": {},
    "colab_type": "code",
    "id": "EzVAL-nQanX2"
   },
   "outputs": [],
   "source": []
  }
 ],
 "metadata": {
  "accelerator": "GPU",
  "colab": {
   "authorship_tag": "ABX9TyPpCC/kED+rOuaH4A0UZV6/",
   "collapsed_sections": [],
   "name": "generate_result.ipynb",
   "provenance": []
  },
  "kernelspec": {
   "display_name": "Python 3",
   "language": "python",
   "name": "python3"
  },
  "language_info": {
   "codemirror_mode": {
    "name": "ipython",
    "version": 3
   },
   "file_extension": ".py",
   "mimetype": "text/x-python",
   "name": "python",
   "nbconvert_exporter": "python",
   "pygments_lexer": "ipython3",
   "version": "3.6.9"
  }
 },
 "nbformat": 4,
 "nbformat_minor": 1
}
